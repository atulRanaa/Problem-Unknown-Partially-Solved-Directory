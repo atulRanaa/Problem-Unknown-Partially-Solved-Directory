{
 "cells": [
  {
   "cell_type": "markdown",
   "metadata": {
    "colab_type": "text",
    "id": "ysN3XAvhYZXj"
   },
   "source": [
    "#Getting the Data"
   ]
  },
  {
   "cell_type": "code",
   "execution_count": 1,
   "metadata": {
    "colab": {
     "base_uri": "https://localhost:8080/",
     "height": 100,
     "resources": {
      "http://localhost:8080/nbextensions/google.colab/files.js": {
       "data": "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",
       "headers": [
        [
         "content-type",
         "application/javascript"
        ]
       ],
       "ok": true,
       "status": 200,
       "status_text": "OK"
      }
     }
    },
    "colab_type": "code",
    "executionInfo": {
     "elapsed": 17558,
     "status": "ok",
     "timestamp": 1554438985929,
     "user": {
      "displayName": "Atul Rana",
      "photoUrl": "https://lh4.googleusercontent.com/-tLVUUtH-AZE/AAAAAAAAAAI/AAAAAAAAMt0/14Rk9-FZ5I4/s64/photo.jpg",
      "userId": "06185900944594624481"
     },
     "user_tz": -330
    },
    "id": "D5vCdTbkWz9X",
    "outputId": "6e6bdfe2-0682-4c6e-fe58-24269a083653"
   },
   "outputs": [
    {
     "data": {
      "text/html": [
       "\n",
       "     <input type=\"file\" id=\"files-f111e988-d260-4635-b969-549ea447ce9a\" name=\"files[]\" multiple disabled />\n",
       "     <output id=\"result-f111e988-d260-4635-b969-549ea447ce9a\">\n",
       "      Upload widget is only available when the cell has been executed in the\n",
       "      current browser session. Please rerun this cell to enable.\n",
       "      </output>\n",
       "      <script src=\"/nbextensions/google.colab/files.js\"></script> "
      ],
      "text/plain": [
       "<IPython.core.display.HTML object>"
      ]
     },
     "metadata": {
      "tags": []
     },
     "output_type": "display_data"
    },
    {
     "name": "stdout",
     "output_type": "stream",
     "text": [
      "Saving kaggle.json to kaggle.json\n"
     ]
    },
    {
     "data": {
      "text/plain": [
       "{'kaggle.json': b'{\"username\":\"ranaatul61\",\"key\":\"***\"}'}"
      ]
     },
     "execution_count": 1,
     "metadata": {
      "tags": []
     },
     "output_type": "execute_result"
    }
   ],
   "source": [
    "from google.colab import files\n",
    "files.upload()"
   ]
  },
  {
   "cell_type": "code",
   "execution_count": 2,
   "metadata": {
    "colab": {
     "base_uri": "https://localhost:8080/",
     "height": 228
    },
    "colab_type": "code",
    "executionInfo": {
     "elapsed": 5829,
     "status": "ok",
     "timestamp": 1554438996013,
     "user": {
      "displayName": "Atul Rana",
      "photoUrl": "https://lh4.googleusercontent.com/-tLVUUtH-AZE/AAAAAAAAAAI/AAAAAAAAMt0/14Rk9-FZ5I4/s64/photo.jpg",
      "userId": "06185900944594624481"
     },
     "user_tz": -330
    },
    "id": "oE63PFTVWPus",
    "outputId": "7b868856-a14d-414a-e559-58dec6fefa3f"
   },
   "outputs": [
    {
     "name": "stdout",
     "output_type": "stream",
     "text": [
      "Requirement already satisfied: kaggle in /usr/local/lib/python3.6/dist-packages (1.5.3)\n",
      "Requirement already satisfied: urllib3<1.25,>=1.21.1 in /usr/local/lib/python3.6/dist-packages (from kaggle) (1.22)\n",
      "Requirement already satisfied: six>=1.10 in /usr/local/lib/python3.6/dist-packages (from kaggle) (1.11.0)\n",
      "Requirement already satisfied: certifi in /usr/local/lib/python3.6/dist-packages (from kaggle) (2019.3.9)\n",
      "Requirement already satisfied: python-dateutil in /usr/local/lib/python3.6/dist-packages (from kaggle) (2.5.3)\n",
      "Requirement already satisfied: requests in /usr/local/lib/python3.6/dist-packages (from kaggle) (2.18.4)\n",
      "Requirement already satisfied: tqdm in /usr/local/lib/python3.6/dist-packages (from kaggle) (4.28.1)\n",
      "Requirement already satisfied: python-slugify in /usr/local/lib/python3.6/dist-packages (from kaggle) (3.0.2)\n",
      "Requirement already satisfied: idna<2.7,>=2.5 in /usr/local/lib/python3.6/dist-packages (from requests->kaggle) (2.6)\n",
      "Requirement already satisfied: chardet<3.1.0,>=3.0.2 in /usr/local/lib/python3.6/dist-packages (from requests->kaggle) (3.0.4)\n",
      "Requirement already satisfied: text-unidecode==1.2 in /usr/local/lib/python3.6/dist-packages (from python-slugify->kaggle) (1.2)\n"
     ]
    }
   ],
   "source": [
    "!pip install kaggle"
   ]
  },
  {
   "cell_type": "code",
   "execution_count": 3,
   "metadata": {
    "colab": {
     "base_uri": "https://localhost:8080/",
     "height": 34
    },
    "colab_type": "code",
    "executionInfo": {
     "elapsed": 3454,
     "status": "ok",
     "timestamp": 1554439001967,
     "user": {
      "displayName": "Atul Rana",
      "photoUrl": "https://lh4.googleusercontent.com/-tLVUUtH-AZE/AAAAAAAAAAI/AAAAAAAAMt0/14Rk9-FZ5I4/s64/photo.jpg",
      "userId": "06185900944594624481"
     },
     "user_tz": -330
    },
    "id": "DGSoBb1xXBXp",
    "outputId": "9d554a9a-4978-4fbc-8bd2-5ba52d40862b"
   },
   "outputs": [
    {
     "name": "stdout",
     "output_type": "stream",
     "text": [
      "-rw-r--r-- 1 root root 66 Apr  5 04:37 kaggle.json\n"
     ]
    }
   ],
   "source": [
    "!ls -lha kaggle.json"
   ]
  },
  {
   "cell_type": "code",
   "execution_count": 0,
   "metadata": {
    "colab": {},
    "colab_type": "code",
    "id": "P3GW6n4tXCKK"
   },
   "outputs": [],
   "source": [
    "!mkdir -p ~/.kaggle\n",
    "!cp kaggle.json ~/.kaggle/\n",
    "\n",
    "# This permissions change avoids a warning on Kaggle tool startup.\n",
    "!chmod 600 ~/.kaggle/kaggle.json"
   ]
  },
  {
   "cell_type": "code",
   "execution_count": 5,
   "metadata": {
    "colab": {
     "base_uri": "https://localhost:8080/",
     "height": 486
    },
    "colab_type": "code",
    "executionInfo": {
     "elapsed": 8858,
     "status": "ok",
     "timestamp": 1554439027060,
     "user": {
      "displayName": "Atul Rana",
      "photoUrl": "https://lh4.googleusercontent.com/-tLVUUtH-AZE/AAAAAAAAAAI/AAAAAAAAMt0/14Rk9-FZ5I4/s64/photo.jpg",
      "userId": "06185900944594624481"
     },
     "user_tz": -330
    },
    "id": "4qG9zaiCXg7S",
    "outputId": "7e35a622-73a3-40c2-8081-d0c887df3571"
   },
   "outputs": [
    {
     "name": "stdout",
     "output_type": "stream",
     "text": [
      "Downloading training_variants.zip to /content\n",
      "\r",
      "  0% 0.00/24.2k [00:00<?, ?B/s]\n",
      "100% 24.2k/24.2k [00:00<00:00, 10.2MB/s]\n",
      "Downloading test_variants.zip to /content\n",
      "  0% 0.00/47.5k [00:00<?, ?B/s]\n",
      "100% 47.5k/47.5k [00:00<00:00, 41.4MB/s]\n",
      "Downloading training_text.zip to /content\n",
      " 67% 41.0M/61.0M [00:00<00:00, 46.9MB/s]\n",
      "100% 61.0M/61.0M [00:00<00:00, 96.0MB/s]\n",
      "Downloading test_text.zip to /content\n",
      " 96% 95.0M/99.0M [00:01<00:00, 67.6MB/s]\n",
      "100% 99.0M/99.0M [00:01<00:00, 89.9MB/s]\n",
      "Downloading stage2_sample_submission.csv.7z to /content\n",
      "  0% 0.00/765 [00:00<?, ?B/s]\n",
      "100% 765/765 [00:00<00:00, 708kB/s]\n",
      "Downloading stage2_test_variants.csv.7z to /content\n",
      "  0% 0.00/7.25k [00:00<?, ?B/s]\n",
      "100% 7.25k/7.25k [00:00<00:00, 7.65MB/s]\n",
      "Downloading stage2_test_text.csv.7z to /content\n",
      "100% 8.88M/8.88M [00:00<00:00, 31.8MB/s]\n",
      "\n",
      "Downloading stage1_solution_filtered.csv.7z to /content\n",
      "  0% 0.00/1.28k [00:00<?, ?B/s]\n",
      "100% 1.28k/1.28k [00:00<00:00, 1.10MB/s]\n",
      "Downloading stage_2_private_solution.csv.7z to /content\n",
      "  0% 0.00/592 [00:00<?, ?B/s]\n",
      "100% 592/592 [00:00<00:00, 475kB/s]\n"
     ]
    }
   ],
   "source": [
    "!kaggle competitions download -c msk-redefining-cancer-treatment"
   ]
  },
  {
   "cell_type": "code",
   "execution_count": 6,
   "metadata": {
    "colab": {
     "base_uri": "https://localhost:8080/",
     "height": 295
    },
    "colab_type": "code",
    "executionInfo": {
     "elapsed": 19703,
     "status": "ok",
     "timestamp": 1554439121812,
     "user": {
      "displayName": "Atul Rana",
      "photoUrl": "https://lh4.googleusercontent.com/-tLVUUtH-AZE/AAAAAAAAAAI/AAAAAAAAMt0/14Rk9-FZ5I4/s64/photo.jpg",
      "userId": "06185900944594624481"
     },
     "user_tz": -330
    },
    "id": "sYhEqeuRXmVm",
    "outputId": "6b77c059-ff8e-4731-8134-b18c92560fc1"
   },
   "outputs": [
    {
     "name": "stdout",
     "output_type": "stream",
     "text": [
      "Archive:  training_variants.zip\n",
      "  inflating: training_variants       \n",
      "Archive:  training_text.zip\n",
      "  inflating: training_text           \n",
      "Archive:  test_variants.zip\n",
      "  inflating: test_variants           \n",
      "Archive:  test_text.zip\n",
      "  inflating: test_text               \n",
      "kaggle.json\t\t\t test_text.zip\n",
      "sample_data\t\t\t test_variants\n",
      "stage1_solution_filtered.csv.7z  test_variants.zip\n",
      "stage_2_private_solution.csv.7z  training_text\n",
      "stage2_sample_submission.csv.7z  training_text.zip\n",
      "stage2_test_text.csv.7z\t\t training_variants\n",
      "stage2_test_variants.csv.7z\t training_variants.zip\n",
      "test_text\n"
     ]
    }
   ],
   "source": [
    "!unzip training_variants.zip\n",
    "!unzip training_text.zip\n",
    "!unzip test_variants.zip\n",
    "!unzip test_text.zip\n",
    "!ls"
   ]
  },
  {
   "cell_type": "markdown",
   "metadata": {
    "colab_type": "text",
    "id": "UuwOrdz5Yhf2"
   },
   "source": [
    "#Importing the Libaries"
   ]
  },
  {
   "cell_type": "code",
   "execution_count": 0,
   "metadata": {
    "colab": {},
    "colab_type": "code",
    "id": "rbR1HxW2ZNo2"
   },
   "outputs": [],
   "source": [
    "import pandas as pd\n",
    "import numpy as np\n",
    "import nltk\n",
    "import re\n",
    "from nltk.corpus import stopwords\n",
    "import matplotlib.pyplot as plt\n",
    "from sklearn.model_selection import train_test_split\n",
    "\n",
    "from sklearn.preprocessing import normalize\n",
    "from scipy.sparse import hstack\n",
    "\n",
    "from sklearn.calibration import CalibratedClassifierCV\n",
    "from sklearn.linear_model import SGDClassifier\n",
    "from sklearn.metrics import confusion_matrix\n",
    "from sklearn.metrics.classification import accuracy_score, log_loss\n",
    "\n",
    "from sklearn.feature_extraction.text import CountVectorizer\n",
    "from sklearn.feature_extraction.text import TfidfVectorizer\n"
   ]
  },
  {
   "cell_type": "code",
   "execution_count": 0,
   "metadata": {
    "colab": {
     "base_uri": "https://localhost:8080/",
     "height": 69
    },
    "colab_type": "code",
    "executionInfo": {
     "elapsed": 1212,
     "status": "ok",
     "timestamp": 1552623681987,
     "user": {
      "displayName": "Atul Rana",
      "photoUrl": "https://lh4.googleusercontent.com/-tLVUUtH-AZE/AAAAAAAAAAI/AAAAAAAAMt0/14Rk9-FZ5I4/s64/photo.jpg",
      "userId": "06185900944594624481"
     },
     "user_tz": -330
    },
    "id": "cG6us1aTbKpg",
    "outputId": "79fcfe2c-fd96-4ff1-f854-d99335f2640a"
   },
   "outputs": [
    {
     "name": "stdout",
     "output_type": "stream",
     "text": [
      "Number of data points :  3321\n",
      "Number of features :  4\n",
      "Features :  ['ID' 'Gene' 'Variation' 'Class']\n"
     ]
    }
   ],
   "source": [
    "data = pd.read_csv('training_variants')\n",
    "print('Number of data points : ', data.shape[0])\n",
    "print('Number of features : ', data.shape[1])\n",
    "print('Features : ', data.columns.values)"
   ]
  },
  {
   "cell_type": "code",
   "execution_count": 0,
   "metadata": {
    "colab": {
     "base_uri": "https://localhost:8080/",
     "height": 258
    },
    "colab_type": "code",
    "executionInfo": {
     "elapsed": 3326,
     "status": "ok",
     "timestamp": 1552623687035,
     "user": {
      "displayName": "Atul Rana",
      "photoUrl": "https://lh4.googleusercontent.com/-tLVUUtH-AZE/AAAAAAAAAAI/AAAAAAAAMt0/14Rk9-FZ5I4/s64/photo.jpg",
      "userId": "06185900944594624481"
     },
     "user_tz": -330
    },
    "id": "oJMYrma8bQDM",
    "outputId": "4e746d2c-82b9-4125-fa1e-308755349b17"
   },
   "outputs": [
    {
     "name": "stdout",
     "output_type": "stream",
     "text": [
      "Number of data points :  3321\n",
      "Number of features :  2\n",
      "Features :  ['ID' 'TEXT']\n"
     ]
    },
    {
     "data": {
      "text/html": [
       "<div>\n",
       "<style scoped>\n",
       "    .dataframe tbody tr th:only-of-type {\n",
       "        vertical-align: middle;\n",
       "    }\n",
       "\n",
       "    .dataframe tbody tr th {\n",
       "        vertical-align: top;\n",
       "    }\n",
       "\n",
       "    .dataframe thead th {\n",
       "        text-align: right;\n",
       "    }\n",
       "</style>\n",
       "<table border=\"1\" class=\"dataframe\">\n",
       "  <thead>\n",
       "    <tr style=\"text-align: right;\">\n",
       "      <th></th>\n",
       "      <th>ID</th>\n",
       "      <th>TEXT</th>\n",
       "    </tr>\n",
       "  </thead>\n",
       "  <tbody>\n",
       "    <tr>\n",
       "      <th>0</th>\n",
       "      <td>0</td>\n",
       "      <td>Cyclin-dependent kinases (CDKs) regulate a var...</td>\n",
       "    </tr>\n",
       "    <tr>\n",
       "      <th>1</th>\n",
       "      <td>1</td>\n",
       "      <td>Abstract Background  Non-small cell lung canc...</td>\n",
       "    </tr>\n",
       "    <tr>\n",
       "      <th>2</th>\n",
       "      <td>2</td>\n",
       "      <td>Abstract Background  Non-small cell lung canc...</td>\n",
       "    </tr>\n",
       "    <tr>\n",
       "      <th>3</th>\n",
       "      <td>3</td>\n",
       "      <td>Recent evidence has demonstrated that acquired...</td>\n",
       "    </tr>\n",
       "    <tr>\n",
       "      <th>4</th>\n",
       "      <td>4</td>\n",
       "      <td>Oncogenic mutations in the monomeric Casitas B...</td>\n",
       "    </tr>\n",
       "  </tbody>\n",
       "</table>\n",
       "</div>"
      ],
      "text/plain": [
       "   ID                                               TEXT\n",
       "0   0  Cyclin-dependent kinases (CDKs) regulate a var...\n",
       "1   1   Abstract Background  Non-small cell lung canc...\n",
       "2   2   Abstract Background  Non-small cell lung canc...\n",
       "3   3  Recent evidence has demonstrated that acquired...\n",
       "4   4  Oncogenic mutations in the monomeric Casitas B..."
      ]
     },
     "execution_count": 10,
     "metadata": {
      "tags": []
     },
     "output_type": "execute_result"
    }
   ],
   "source": [
    "# note the seprator in this file\n",
    "data_text =pd.read_csv(\"training_text\",sep=\"\\|\\|\",engine=\"python\",names=[\"ID\",\"TEXT\"],skiprows=1)\n",
    "print('Number of data points : ', data_text.shape[0])\n",
    "print('Number of features : ', data_text.shape[1])\n",
    "print('Features : ', data_text.columns.values)\n",
    "data_text.head()"
   ]
  },
  {
   "cell_type": "code",
   "execution_count": 0,
   "metadata": {
    "colab": {
     "base_uri": "https://localhost:8080/",
     "height": 54
    },
    "colab_type": "code",
    "executionInfo": {
     "elapsed": 1505,
     "status": "ok",
     "timestamp": 1552623696002,
     "user": {
      "displayName": "Atul Rana",
      "photoUrl": "https://lh4.googleusercontent.com/-tLVUUtH-AZE/AAAAAAAAAAI/AAAAAAAAMt0/14Rk9-FZ5I4/s64/photo.jpg",
      "userId": "06185900944594624481"
     },
     "user_tz": -330
    },
    "id": "blpWH5wV2dgl",
    "outputId": "0fb64b02-cade-4e0e-f11f-ee706266359b"
   },
   "outputs": [
    {
     "name": "stdout",
     "output_type": "stream",
     "text": [
      " Abstract Background  Non-small cell lung cancer (NSCLC) is a heterogeneous group of disorders with a number of genetic and proteomic alterations. c-CBL is an E3 ubiquitin ligase and adaptor molecule important in normal homeostasis and cancer. We determined the genetic variations of c-CBL, relationship to receptor tyrosine kinases (EGFR and MET), and functionality in NSCLC.  Methods and Findings  Using archival formalin-fixed paraffin embedded (FFPE) extracted genomic DNA, we show that c-CBL mutations occur in somatic fashion for lung cancers. c-CBL mutations were not mutually exclusive of MET or EGFR mutations; however they were independent of p53 and KRAS mutations. In normal/tumor pairwise analysis, there was significant loss of heterozygosity (LOH) for the c-CBL locus (22%, n = 8/37) and none of these samples revealed any mutation in the remaining copy of c-CBL. The c-CBL LOH also positively correlated with EGFR and MET mutations observed in the same samples. Using select c-CBL somatic mutations such as S80N/H94Y, Q249E and W802* (obtained from Caucasian, Taiwanese and African-American samples, respectively) transfected in NSCLC cell lines, there was increased cell viability and cell motility.  Conclusions  Taking the overall mutation rate of c-CBL to be a combination as somatic missense mutation and LOH, it is clear that c-CBL is highly mutated in lung cancers and may play an essential role in lung tumorigenesis and metastasis.  Go to: Introduction In the US alone, each year approximately 219,400 people are diagnosed with lung cancers, out of which more than 145,000 of them succumb to the disease [1]. This number is roughly equivalent to the combined mortality rates of cancers of the breast, prostate, colon, liver, kidney and melanoma [1]. In addition the prognosis is usually poor and the five-year survival rate is less than 15%. There are also significant ethnic differences for lung cancer, and the outcome is worse for blacks compared to whites. Gender differences are also striking with women having significantly better prognosis as compared to men. There are a number of genetic alterations that can occur in lung cancer. As an example, in NSCLC, mutations in KRAS, p53, EGFR and MET have been identified. Many of these pathways, especially Receptor Tyrosine Kinases (RTKs) are controlled by c-CBL.  CBL (Casitas B-lineage lymphoma) is a mammalian gene located on human chromosome 11q23.3 [2] and is involved in cell signaling and protein ubiquitination [3]. CBL proteins belong to the RING finger class of ubiquitin ligases (E3) and there are three homologues c-CBL, CBL-b, CBL-3 [4]. The c-CBL and CBL-b genes are ubiquitously expressed with the highest levels in hematopoietic tissues [5]. c-CBL consists of four regions encoding for functionally distinct protein domains: the N-terminal tyrosine kinase binding (TKB) domain, the linker region, the catalytic RING finger domain, the proline-rich region and the c-terminal ubiquitin-associated (UBA) domain that also overlaps with a leucine-zipper (LZ) domain [3]. Both TKB and RING finger domains are essential for ligand-induced ubiquitination of RTKs [6], [7], [8], [9]. The RING finger domain is required for the recruitment of E2 ubiquitin-conjugating enzymes. The TKB domain includes four-helix bundle (4H), a calcium-biding EF hand, and a modified SH2 domain, which binds to phosphotyrosine residues [3], [10], [11], [12]. In addition, the proline-rich region of c-CBL can associate with the SH3 domain of Grb2, which can indirectly recruit c-CBL to RTKs via the GRB2 adaptor protein [7], [13], [14].  c-CBL also binds to EGFR and acts as the E3 that targets EGFR for ubiquitination and degradation. Furthermore, CBL desensitizes EGF signaling and opposes cellular proliferation induced by EGF [15]. EGF activation also appears to activate the tyrosine kinase SRC, which phosphorylates c-CBL and in turn activates the ubiquitination and degradation of EGFR [16], [17], [18]. A recent study shows that defective endocytosis of EGFR is characterized by a deletion mutant and the point mutation L858R, whereby its association with c-CBL and subsequent ubiquitination are impaired [19]. Recently, the first human c-CBL mutations were reported in acute myeloid leukemia (AML) patients [20]. The mutation R420Q inhibits FMS-like tyrosine kinase 3 (FLT3) internalization and ubiquitination [20].  Not only can E3 activity be important in oncogenesis, c-CBL has a dual but separate function as a signal transduction molecule. We have previously shown that c-CBL is important in binding CRKL and BCR/ABL in hematopoietic cells. Also, it can bind and modulate functions of cytoskeleton by binding to proteins like talin and paxillin. The TKB domain is important in binding to a number of molecules, and they then function in signal transduction.  Given the critical role of CBL in normal homeostasis and cancer, we hypothesized that it might be mutated in lung cancers. In this study, we report novel c-CBL somatic mutations S80N/H94Y, Q249E and W802* in Caucasian, Taiwanese and African-American lung cancer patients, respectively. Expressing these mutations in NSCLC cell lines lead to increased proliferation and cell motility. We show that c-CBL mutations occur with or without MET or EGFR mutations but are mutually exclusive of a LOH at the c-CBL locus. Additionally, c-CBL LOH is associated with either MET or EGFR mutations. We thus hypothesize that c-CBL mutations might contribute to the oncogenic potential of MET and EGFR in lung cancer.  Go to: Methods Ethics Statement  Written consent on all research on human subjects has been obtained from the Institutional Review Board, University of Chicago and covers all research performed in the laboratory. The following is their contact information: Institutional Review Board, The University of Chicago, McGiffert Hall, 5751 S. Woodlawn Ave., 2nd floor, Chicago, IL 60637. Written informed consents were received from all patients whose tissue samples were used for this study.  Tissue Samples  Lung cancer tissue and paired adjacent normal lung tissues were obtained from 50 Caucasian, 29 African-Americans and 40 Taiwanese NSCLC patients who were recruited at the University of Chicago Hospital (Chicago, USA) (Caucasian and African-American patients) and Taipei Veterans General Hospital of Taiwan (Taiwanese patients) after obtaining appropriate Institutional Review Board permission and informed consent from the patients. Out of 119 samples, 77 were men, 38 were women and 4 were unknown with age at diagnosis ranging from 47 to 90 years. In terms of tumor types, 53 were adenocarcinoma, 32 were squamous cell carcinoma and 34 were large cell carcinoma. 49 were stage I, 14 were stage II, 34 were stage III, and 13 were stage IV (Table S1).  Cell Culture  Human non-small cell lung carcinoma cells A549 and H358 were maintained in DMEM and RPMI-1640, respectively. Human embryonic kidney 293T cells were cultured in DMEM. Media were supplemented with 10% fetal bovine serum, 100 units/ml of penicillin, and 100 µg/ml of streptomycin (Invitrogen, Carlsbad, CA). Cells were cultured at 37°C in a humidified incubator containing 5% CO2.  c-CBL Gene Mutational Analysis  Exons 2 to 16 of c-CBL gene were individually amplified by polymerase chain reaction (PCR). Primers are listed in Table S2. PCR conditions were 1 cycle of 95°C for 5 minutes; 35 cycles of 94°C for 30 seconds, 58°C for 30 seconds and 72°C for 2 minutes; and one cycle of 72°C for 10 minutes. PCR products were treated with ExoSAP-IT (USB Corporation, Cleveland, OH) and sequenced by Big-Dye Terminator Chemistry (Applied Biosystems, Foster City, CA). Sequencing was performed on the forward coding strand with confirmation of c-CBL alterations performed by sequencing the reverse strand as well. Chromatograms were analyzed for mutations using Mutation Surveyor v2.61 (Softgenetics, State College, PA).  Plasmid Constructs and Site-Directed Mutagenesis  The wild-type c-CBL cDNA insert was subcloned into the pAlterMax expression vector using XhoI and SalI restriction enzyme sites (Promega, Madison, WI). Using this parental plasmid pAlterMax-c-CBL, the TKB domain double mutation (S80N/H94Y), the point mutation (Q249E), and the C-terminal point mutation W802* of c-CBL were created using the following primers: 5′-GCTGGCGCTAAAGAATAACCCACCTTATATCTTAGAC-3′ and 5′-CTACCAGATACCTACCAGTATCTCCGTACTATCTTGTC-3′ for the double mutation S80N/H94Y; 5′-CTTTACCCGACTCTTTGAGCCCTGGTCCTCTTTGC-3′ for Q249E, and 5′-CAGCTCCTCCTTTGGCTGATTGTCTCTGGATGGTGATC-3′ for W802* along with their complementary primers using the QuickChange Site-Directed Mutagenesis XL kit (Stratagene, La Jolla, CA) according to the manufacturer's instructions. The constructs were confirmed for the point mutations by standard DNA sequencing of both strands.  Loss of Heterozygosity (LOH) Analysis  Five microsatellites on chromosome 11 (3 on 11q at or within 200 kb up or downstream of the c-CBL gene and 2 control markers on 11p) were selected for analysis (Table S3). Established microsatellite markers and respective primer sequences were selected from the GeneLoc database (http://genecards.weizmann.ac.il/geneloc/index.shtml, Weizmann Institute of Science, Rehovot, Israel). Primers were custom designed and each forward primer was fluorescently labeled at the 5′ end with FAM, PET, NED, or VIC (Applied Biosystems). Primer annealing temperatures and duplex scores were evaluated with NIST Primer Tools (http://yellow.nist.gov:8444/dnaAnalysis/primerToolsPage.do; National Institute of Standards and Technology, Gaithersburg, MD). Primers were verified by performing PCR with control DNA (isolated from TK6 cells) and resolving the products on agarose gels. Bands were visualized with an UV transilluminator. Genomic DNA was extracted from tumor samples and paired normal lung tissue. Primers were grouped into multiplex combinations shown in Table S4. Marker D11S929 served as an internal control to check for consistency in PCRs and of peaks from capillary electrophoresis. Multiplex PCRs were carried out in a volume of 10 µL that contained 1 µL genomic DNA (20–50 ng), 0.5 µM of each primer (1.0 µM total for each primer pair), 400 µM dNTPs, 1X PCR buffer containing MgCl2, and 0.2 U Taq DNA polymerase. PCR was performed on the ABI GeneAmp 9700 PCR System under the following conditions: 5 min at 94°C; 30 cycles of 30 sec at 94°C, 1 min at 60°C, 1 min at 72°C; and 5 min at 72°C. The PCR products were separated by capillary electrophoresis on an ABI 3130XL DNA Analyzer. Chromatograms were analyzed with Peak Scanner 1.0 and GeneMapper 3.7 software (Applied Biosystems) for allelic alterations. The area of the peaks produced by the DNA PCR products was quantified for each allele. The ratio of the allelic areas was calculated for each tumor and paired normal DNA sample. When the qLOH (allelic ratio for the tumor peaks divided by the allelic ratio of paired normal sample) was ≤0.5 or ≥2.0 for c-CBL and at least one other 11q marker in at least two separate experiments, the sample was considered as having an allelic imbalance and interpreted as LOH. Samples were evaluated in at least two separate experiments and samples showing prospective LOH at c-CBL repeated a third time which included a new control marker at the BAX locus (data not shown) on chromosome 19 to verify integrity of sample DNA.  Transfection of c-Cbl Constructs  The A549 cell line was transfected using the Fugene HD (Roche, Nutley, NJ) reagent according to the manufacturer's instructions. Eight µg of plasmid DNA, containing either no insert (empty vector), wild-type c-CBL, S80N/H94Y c-CBL, Q249E c-CBL or W802* CBL was used for transfection in a 6-well culture plate. Cells were harvested 48 h after transfection and analyzed for expression.  c-CBL Knockdown  c-CBL knockdown was performed using lentiviral transduction using MISSION lentiviral transduction particles (Sigma-Aldrich, St. Louis, MO) as per manufacturer's instructions. Briefly, 1×105 H358 cells/well were seeded in 6-well plates and infected the following day with c-CBL lentiviral shRNA constructs. To generate stable c-CBL knockdown cell lines, cells were selected for 2 days with 1 µg/ml puromycin. c-CBL levels were determined using whole cell lysates by immunoblotting with anti-CBL antibody (Santa Cruz Biotechnologies, Santa Cruz, CA).  Cell Viability Assay  Cells were transfected as described above in the transfection assay. Forty-eight hours after transfection, viability of cells was assessed using Trypan Blue exclusion.  Wound Healing Assay  A549 cells were seeded in 6-well plates and cultured for 48 h until 100% confluent. The medium was then changed and the cells were transfected as described in the transfection assay. Twelve hours after transfection, a straight scratch was made across the cell layer using a 1 ml pipette tip. The cells were then gently washed with 1× PBS to remove cellular debris and the media was replaced. Photographs were taken of the wound region every 12 h until 48 h.  Western Blot Analysis  Forty eight hours after transfection, cells were collected and washed twice in 1X PBS, then lysed in ice-cold lysis buffer (0.5M Tris-HCl with pH 7.4, 1.5 M NaCl, 2.5% deoxycholic acid, 10 mM EDTA, 10% NP-40, 0.5 mM DTT, 1 mM phenylmethylsulfonyl fluoride, 5 µg/mL leupeptin, and 10 µg/mL aprotinin) for 5 minutes. The lysate was centrifuged at 13,000 rpm for 20 minutes at 4°C, and protein content of the supernatant was measured. Total cell lysates (50 µg/well) were separated by SDS-PAGE electrophoresis and the gels transferred onto nitrocellulose membranes (Whatman, Piscataway, NJ). Membranes were blocked with 5% non-fat dry milk in phosphate-buffered saline containing Tween-20 (PBST) (1X PBS, 0.1% Tween-20) for 1 h at room temperature and incubated with the appropriate primary antibody at 4°C overnight. Membranes then were washed three times with PBST and probed with appropriate horseradish peroxidase (HRP)-conjugated secondary antibody for 1 h at room temperature. The membranes were again washed three times in PBST and bands were visualized using Western blot chemiluminescence reagent (BioRad, Valencia, CA) on a Chemidoc Gel documentation system (BioRad, Valencia, CA). Antibodies were obtained from Santa Cruz Biotechnologies and used at the following dilutions (c-CBL, 1∶5000; c-MET, 1∶5000; EGFR, 1∶5000; ubiquitin, 1∶1000; HA, 1∶5000 and β-actin, 1∶10,000).  Flow Cytometry  Cell cycle analysis was carried out by flow cytometry. Approximately 2×106 cells were grown in media containing 10% FBS. Cells were harvested by trypsin/EDTA treatment, washed with 1X PBS three times and fixed with ice-cold 70% ethanol for 2 h. Cells were washed again with cold PBS and stained with a solution containing 25 µg/mL propidium iodide, 200 µg/mL RNase A, and 0.1% Triton X-100 for 30 minutes in the dark. Cell cycle analysis was performed using a Guava PCA-96 flow cytometer (Guava Technologies, Millipore, Billerica, MA).  Ubiquitin Ligase Activity  293T cells were maintained in culture in DMEM supplemented with 10% FBS and 1% penicillin (100 units/mL) and streptomycin (100 µg/mL) were transfected with 0.2 µg EGFR-pcDNA3 and 2 µg HA-tagged c-CBL constructs as indicated using calcium phosphate according to manufacturer's protocol (Profection, Promega, Madison, WI). Twenty-four hours post-transfection, cells were starved overnight in DMEM supplemented with 0.5% FBS, and then treated with or without EGF (100 ng/ml) for 15 min. The cells were collected and washed two times in ice-cold PBS containing 0.2 mM sodium orthovanadate then lysed in ice-cold lysis buffer (10 mM Tris HCl, pH 7.5, 150 mM NaCl, 5 mM EDTA, 1% Triton X100, 10% Glycerol, 2 mM sodium orthovanadate and protease inhibitors). Lysates were cleared of debris by centrifugation at 16,000 g for 10 min at 4°C. EGFR immunoprecipitations were performed on 200 µg of cleared lysate using 250 ng of rabbit-anti-EGFR and Protein A/G Plus Sepharose overnight at 4°C. Precipitations were washed 5 times in lysis buffer before boiling in Laemmli buffer. Elutions were immunoblotted with anti-ubiquitin and EGFR. Twenty micrograms of cleared lysate were immunoblotted for each of the c-CBL constructs using anti-HA.  Statistical Analysis  Mutation rates between different groups were compared using Fisher's exact test. For continuous variables, group comparisons were performed using analysis of variance (ANOVA) followed by Sidak's adjustment for multiple comparisons. Experiments involving repeated measurements over time were analyzed using repeated measures ANOVA with the Greenhouse-Geisser adjustment to the degrees of freedom. Analyses were conducted using STATA (v10.1) software (Stata Corporation, College Station, TX).  Go to: Results c-CBL Gene Mutations in Lung Cancer  To investigate the role of c-CBL in lung cancer, we analyzed its genomic DNA in tumor and paired normal samples drawn from multiple ethnicities. The lung tumor samples represented Caucasians (n = 50), African-Americans (n = 29), and Taiwanese (n = 40) lung cancer patients. We designed 12 pairs of primers to sequence the coding region of c-CBL gene that spans exons 2 to 16 (Table S2). We identified 8 unique somatic mutations in c-CBL exons among 8 different patients. A variation L620F, a known SNP (rs2227988) in exon 11 was also detected. Importantly, the eight novel non-synonymous mutations were confirmed by sequencing both strands of c-CBL genomic DNA obtained from lung tumor samples (Table 1). Moreover, none of the 8 mutations were detected in the corresponding normal tissue, indicating that these were somatic mutations. Four synonymous single nucleotide variations (SNVs) were also identified but were not used further in this study.  Table 1 Table 1 c-CBL mutation analysis in 119 lung cancer patient tumor tissues. Three of the 8 novel non-synonymous mutations were located in the TKB (tyrosine kinase binding) domain (S80N, H94Y, and Q249E), one in the RING finger domain (V391I), one in the proline-rich region (72515_72517 del ATG), and three in the C-terminal region (W802*, R830K, and A848T) of the c-CBL protein (Figure 1A and Figure S1). In Figure 1B, we show model chromatograms of representative samples.  Figure 1 Figure 1 c-CBL mutations and LOH in non-small cell lung cancer. 11q LOH of c-CBL Gene  Paired lung tumor and normal lung tissue samples from Taiwanese patients (n = 37) were investigated for LOH. Eight (21.6%) showed LOH at the c-CBL locus on chromosome 11 while 29 samples (78.4%) revealed normal allelic contribution at the microsatellite markers (Figures 1C and D).  c-CBL Mutations in Different Ethnic Groups  The c-CBL double mutant S80N/H94Y was found in the same patient and the overall mutation rate for c-CBL in lung tumors was 6.7% (8/119). The frequency of c-CBL mutation was highest in large cell carcinoma (14.7%; 5 of 34 patients) followed by squamous carcinoma (6.3%; 2 of 32 patients) and the least was observed in adenocarcinoma (AD) (1.8%; 1 of 53 patients), although these rates were not statistically significant (p = 0.292). Mutation rates were 6.0% among Caucasians (0 of 20 in AD; 0 of 10 in SQ; and 3 of 20 in LC), 13.8% in African-Americans (1 of 10 in AD; 1 of 10 in SQ; and 2 of 9 in LC), and 2.5% (0 of 23 in AD; 1 of 12 in SQ; and 0 of 5 in LC) in the Taiwanese population. Additionally two Taiwanese patients with lung cancer (one squamous and one adenocarcinoma) had the known SNP L620F. Ethnic differences were not statistically significant, however the power to detect differences was low.  Mutations in MET and EGFR Can Be Co-Associated with c-CBL Alterations  Since East Asians with lung cancer have a higher frequency of EGFR and MET mutations in lung tumors [21], [22], we also determined mutations in EGFR and MET in the same Taiwanese cohort samples and compared the results with the observed c-CBL alterations (LOH and/or mutations). In the 37 samples tested, we did not find any overlap between c-CBL mutations and c-CBL LOH (Figure 2). Of the three c-CBL mutants (including the known L620F SNP, rs2227988), one of the samples had a MET mutation (N375S) and the other had an EGFR mutation (L858R). Among the 8 samples that had a LOH at the c-CBL locus 5 had an additional mutation in MET (N375S) and 2 had an EGFR exon 19 deletion. Twenty-six samples had neither c-CBL mutation nor c-CBL LOH (3 patients had a c-CBL mutation but no c-CBL LOH). Among these 26 samples 9 had a MET mutation (8 N375S, 1 L211W), 13 had an EGFR mutation (7 exon 9 deletion, 6 L858R) and 4 had no other MET or EGFR mutation. Thus the rate of MET or EGFR mutations among patients with LOH at the c-CBL locus (7 of 8) was similar to that seen in patients without c-CBL mutation or LOH (22 of 26 patients) (p = 0.99). These 4 patients with no identifiable mutation in c-CBL, MET or EGFR represented 10.8% of the 37 patients analyzed in the Taiwanese patient cohort. Conversely, 89.2% Taiwanese lung cancer patients have an identifiable mutation in either c-CBL, MET or EGFR or a combination of the three genes (Figure 2). Additionally, we determined p53 and KRAS mutations in these Taiwanese cohorts. Two p53 and 1 KRAS mutation were detected. The single KRAS mutation overlapped with one p53 mutation. This patient also had the EGFR exon 19 deletion but had no c-CBL mutation. The other p53 mutation sample had a c-CBL LOH with concurrent MET N375S mutation. Thus, in the Taiwanese samples analyzed, p53/KRAS mutations and c-CBL mutations were mutually exclusive (data not shown).  Figure 2 Figure 2 c-CBL mutations and relationship to MET and EGFR mutations in lung cancer. Cellular Functions of c-CBL Alterations in the Context of Lung Tumorigenesis  A. E3 activity is intact in the mutant c-CBL proteins To investigate whether the different c-CBL mutations affect the E3 activity, EGFR was chosen as a model substrate for c-CBL E3 function. All of the c-CBL mutants tested enhanced ubiquitination of the activated EGFR similar to the wild-type c-CBL protein. This result demonstrates that the catalytic activity of the c-CBL mutants is not impaired when EGFR was the substrate. (Figure 3A).  Figure 3 Figure 3 Ubiquitination, viability, expression and cell cycle analysis of various c-CBL mutants. B. Effect on lung cancer cell viability The effect of a representative c-CBL mutant from each of the three ethnic backgrounds on lung cancer cell viability in cell lines was determined. S80N/H94Y double mutation, Q249E, and W802* were identified in lung tumor samples obtained from a Caucasian, a Taiwanese and an African-American, respectively. As described in methods, the c-CBL wild-type (WT) and the above three mutants were expressed after cloning them into pAlterMax vector in A549 cells. These cells express relatively low basal levels of endogenous c-CBL (data not shown). Transfection efficiency was comparable between different groups and the number of cells transfected with c-CBL wild-type construct was about 70% compared to control cells that were transfected with the empty vector. Cells transfected with S80N/H94Y, Q249E and W802* c-CBL mutant constructs resulted in increased number of viable cells that was 132.3%, 120.8% and 147.9% higher respectively, relative to the empty vector control transfected cells and significantly different from the wild-type construct (p = 0.022, p = 0.049, and p = 0.008, respectively) (Figure 3B). Relative levels of c-CBL protein in whole cell lysates prepared from samples obtained from a parallel experiment was determined. The c-CBL protein levels in samples representing untransfected and empty vector transfected cells were comparable and those representing the c-CBL WT and the three c-CBL mutants were comparable (Figure 3C).  C. Effect on cell cycle To investigate if the increases in cell viability in different c-CBL mutants are due to increased cellular proliferation, a cell cycle analysis was performed. A549 cells were transfected with the c-CBL WT or the three different mutants: S80N/H94Y, Q249E and W802*. The empty vector transfectant was used as a control. Forty-eight hours after transfection cell cycle analysis was performed as described in materials and methods. There was no significant change in the subG1, G1 or the S phase of the cell cycle among the different mutants compared to the WT construct (p = 0.64, p = 0.40, and p = 0.28, respectively). The G2/M phase of the cell cycle showed an increase in cell numbers for the three mutants, S80N/H94Y, Q249E and W802*, when compared to the WT but again the difference was not statistically significant (p = 0.25) (Figure 3D).  D. Effect on cell motility To investigate the effect of the expression of the above three c-CBL mutants on cell migration, we carried out wound healing assay as described in materials and methods. The closing of the scratch or the wound was monitored at 0, 12, 24, 36, and 48 h. (Figure 4A). In all the samples, that represented cells transfected with mutants, the wound gap was much smaller than that seen in the sample that represented cells transfected with c-CBL WT (p<0.001). We also determined the rate of wound closure for all the five groups. At 48 h, wild-type c-CBL transfectants showed 61.1% open wound while the S80N/H94Y, Q249E and W802* mutants showed 18.7%, 23.9% and 34.3% open wound respectively (p<0.001) (Figure 4B).  Figure 4 Figure 4 c-CBL mutations affect wound healing in A549 cells. E. c-CBL knockdown increases cell viability It is hypothesized that the LOH seen in our samples could lead to decreased expression of c-CBL. Thus we tested the effect of c-CBL knockdown in lung cancer cells. Compared to A549, H358 lung cancer cells express relatively high levels of endogenous c-CBL (data not shown). c-CBL expression was knocked down using lentiviral construct that expressed c-CBL specific shRNA and compared the results with those that were transduced with scrambled shRNA and the results are shown in Figure 5. We identified several clones that revealed varying degrees of c-CBL knockdown showing different sets of c-CBL lentiviral shRNA knockdown efficiency (Figure 5A). Of all the clones tested, Clone 27 was chosen for further experiments. Equal amount of cells were seeded in a 6-well plate and the cell proliferation was measured at various times and the results are depicted in Figure 5B. As expected, number of cells increased in a time dependent fashion from 100 to 190% relative to scrambled shRNA as control in a span of 48 h (p = 0.0002) (Figure 5B). The cell cycle phases in H358 cells that were knocked down with c-CBL shRNA were looked at and compared with the scrambled shRNA. There were no discernable differences between these two constructs in the different phases of the cell cycle (data not shown).  Figure 5 Figure 5 Knockdown of c-CBL using an shRNA increases cell proliferation. Go to: Discussion Our results demonstrate that c-CBL is somatically mutated (or has LOH) in lung cancers, and can significantly contribute to enhanced cell viability and motility. There was also a high prevalence of LOH with respect to c-CBL in lung tumors that harbored MET or EGFR mutation.  In the present study, we have demonstrated the occurrence of c-CBL mutations in lung cancer patients, especially with different ancestral variations. Mutations in c-CBL have been recently reported in juvenile myelomonocytic leukemia and myeloid malignancies. In the AML study, the mutation R420Q located in the junction of the RING finger and the linker region inhibited FMS-like tyrosine kinase 3 (FLT3) internalization and ubiquitination [20], thus contributing to the gain-in-function for the RTK. In addition, mutations such as H398Y, C384R, and L380P mapped to the RING finger domain and the linker region of c-CBL that is required for its E3 activity [23], [24], [25], [26], [27]. Additionally, homozygous mutations in the RING finger domain of the c-CBL gene were described as a result of acquired Uniparental Disomy (UPD) [26]. It is important to note that our results indicate LOH at 11q23 locus and these are mutually exclusive from missense mutations of c-CBL. The somatic mutations were all heterozygous. The mutations in AML led to abrogation of the E3 activity leading to prolonged RTK activation. In addition mutants located on the linker region surrounding the RING finger domain exhibited enhanced AKT signaling in response to cytokine stimulation [26]. In addition, it was shown in NH3T3 cells, that neither mutations in the RING finger nor the linker region causes transformation, however while certain mutations perturbs the ubiquitination, others affect receptor recycling and prolong kinase activity [28].  We report here c-CBL mutations that mapped not only to the RING finger domain, but also to the TKB domain, proline-rich domain and the C-terminal region, but none mapped to the linker region as reported in the AML studies described above [23], [24], [25], [26], [29]. In addition, 8 mutants that we detected were found in different ethnic backgrounds. For example, S80N/H94Y, Q249E, W802* were detected in Caucasians, Taiwanese and African-Americans, respectively. The results point out not only the difference between lung cancer and other cancers, but also genetic polymorphism among different races in the same cancer. Interestingly, there is a large disparity between African-American and other ethnic populations with lung cancer [30]. We have previously shown that there was a low frequency of EGFR and MET mutation in African-Americans as compared with Taiwanese and Caucasians [31]. In this study, the number of African-American samples analyzed was relatively fewer and we found 3 mutations that are unique to this ethnicity. It would now behoove us to further study the genetic alterations that can occur and determine the targeted therapeutics for African-Americans. Our results provide evidence of the importance of c-CBL in tumorigenesis and potential signaling. Our prediction, based on the AML data, would be that the V391I RING finger domain mutation would affect the E3 activity. Also, it will be important to determine the binding partners for c-CBL in the TKB domain and proline rich domain mutations. It has previously been shown that the TKB domain can bind to growth factor receptors and it will be important to determine the cross-binding of these mutants to MET and or EGFR. It would also be important in the future to look at fluorescence in situ hybridization/copy number changes in c-CBL in lung cancer.  c-CBL plays an important role in down regulating RTK-mediated signaling through K63 poly-ubiquitination and subsequent downregulation of RTKs followed by lysosomal degredation [3]. Mono-ubiquitination or ubiquitinated with K63-linked chains of substrates by c-CBL may lead to enhancement of biological and biochemical functions (reviewed in Hermann et al, 2007 [32]). The mutations that we analyzed in our studies all point out to the fact that the E3 activity of c-CBL on EGFR is intact; the EGFR levels in the various mutants remain same (Figure S2). Multiple kinases, both RTKs and non-RTKs could be acted upon by c-CBL, including ERBs, PDGFR, FMS, MET, c-Kit, VEGFR, FLT-1, RON, FGFR, IR, as well as SYK, FYN, LCK, FGR, LYN and c-ABL [3]. In lung cancers the relevant substrates of c-CBL in terms of degradation or signal transduction are yet to be identified.  The observation that c-CBL somatic mutations, especially S80N/H94Y, Q249E and W802* showed increased cell viability and cell motility that is in agreement with the physiological role for D-cbl in the regulation of apoptosis and differentiation identified in Drosophila is very significant [33]. It has been previously shown that activating c-CBL mutation downregulates EGFR signaling and decreases cellular proliferation and migration in breast cancer cell lines [34]. Although the role of c-CBL in the negative regulation of RTKs is well substantiated, thereby suggesting that it is a natural tumor suppressor, studies in cancer cells have revealed both tumor suppressor and tumor promoting activities depending on the type of c-CBL mutation and the number of alleles at the c-CBL locus [24]. In agreement with the above, the three c-CBL mutants described here appear to have tumor growth and metastasis promoting properties. Although these mutants are outside of the RING finger or the linker region of c-CBL, their downstream effects are significant so as to cause increased proliferation and migration, but the substrate affected by these mutations are not known yet. This raises the possibility that some of the cellular functions of c-CBL are independent of its ubiquitin-ligase activity, an area that we are currently investigating. The oncogenic nature of RTKs, addiction of cancers to growth signals and given the clustering of c-CBL, EGFR and MET mutations, it is possible that the transforming effect of c-CBL mutations is most likely a combinatorial effect of the three. We also show that LOH for c-CBL was found in a significant number of samples that harbored MET or EGFR mutations. The fact that about 7% of lung tumor samples are likely to have c-CBL mutations and an additional 22% are likely to harbor c-CBL-related LOH, makes c-CBL a highly mutated molecule in lung cancer. Since LOH alone is not enough to cause a transforming event [35], [36], [37], associated mutation in the MET or EGFR locus or yet another RTK discussed above may play a role in carcinogenesis. We predict that this LOH in c-CBL results in haploinsufficiency that downplays RTK ubiquitination leading to hyperactivity of the RTKs. However, whether this is sufficient cause for tumorigenesis remains to be determined. Consistent with our hypothesis is the fact that c-cbl-/- mice have increased kinase activity in lymphocytes, but is not sufficient for tumor formation [35], [36], [37]. c-CBL LOH could also lead to increased expression of c-CBL from the other allele to compensate for a loss of an allele. Alternately, there could be some form of synergy working with reduced c-CBL levels and mutated receptors that exacerbate the phenotype of each alone.  Previous studies from our lab and others have shown that East Asians with lung cancers have relatively high frequencies of gain-of-function of mutations in RTKs such as EGFR and MET [31]. In a cohort of Japanese patients an activating MET mutation was identified in the splice region that deletes the juxtamembrane domain that is involved E3 activity of c-CBL [38]. This study also found that activation of MET is mutually exclusive of EGFR, KRAS and HER2 gene mutations [38]. We failed to detect such mutations in significant numbers in lung tumor samples obtained from African-Americans (n = 29) and Caucasian (n = 50) patients. One MET mutation was identified in each of the groups whereas 1 and 3 EGFR mutations were identified in the African-American and Caucasian cohorts respectively. EGFR mutations have earlier been identified as one of the key mutations affecting lung adenocarcinoma patients in a comprehensive study of 188 patients [39]. Our study encompasses different histologies of NSCLC. However, the published series did not find any mutations in c-CBL or MET unlike our study that encompassed different subtypes of NSCLC. It is important to note, we have recently shown that MET mutations in lung cancer are in majority germline [31]. We have reported earlier c-CBL mutations in a small cohort of Taiwanese lung cancer samples [40]. In our efforts to understand the ethnic differences in the lung oncogenome, we also looked at PAX transcription factors such as PAX5 and PAX8 that are highly expressed in lung cancers; however there was no preferential expression or mutations of the above genes in lung tumor samples of African-Americans. In this study, we show relatively high frequency of c-CBL mutations in lung cancers, especially in the large cell type among Caucasians and particularly among African-Americans. We therefore propose c-CBL as an efficacious target for lung cancers in African-Americans that needs to be further substantiated. This is all the more important because the prognosis for African-Americans with lung cancer, especially for men is much poorer compared to their Caucasian counterparts [41].  In conclusion, the results presented in this study demonstrate that c-CBL is frequently mutated or even lost in lung cancers. Our results support a role for c-CBL mutants that are independent of its ubiquitination activity. Given the relatively high mutation rates in c-CBL as well as RTKs such as MET and EGFR, it is likely that their combined effect could be synergistic in promoting tumorigenesis.\n"
     ]
    }
   ],
   "source": [
    "print(data_text['TEXT'][1])"
   ]
  },
  {
   "cell_type": "markdown",
   "metadata": {
    "colab_type": "text",
    "id": "9nCjCL8qy-29"
   },
   "source": [
    "# Unlabeled Data"
   ]
  },
  {
   "cell_type": "code",
   "execution_count": 8,
   "metadata": {
    "colab": {
     "base_uri": "https://localhost:8080/",
     "height": 363
    },
    "colab_type": "code",
    "executionInfo": {
     "elapsed": 1147,
     "status": "ok",
     "timestamp": 1554439294244,
     "user": {
      "displayName": "Atul Rana",
      "photoUrl": "https://lh4.googleusercontent.com/-tLVUUtH-AZE/AAAAAAAAAAI/AAAAAAAAMt0/14Rk9-FZ5I4/s64/photo.jpg",
      "userId": "06185900944594624481"
     },
     "user_tz": -330
    },
    "id": "ISUwndt0zCOt",
    "outputId": "164d589c-b1f5-4229-835c-76b465e4e9f0"
   },
   "outputs": [
    {
     "data": {
      "text/html": [
       "<div>\n",
       "<style scoped>\n",
       "    .dataframe tbody tr th:only-of-type {\n",
       "        vertical-align: middle;\n",
       "    }\n",
       "\n",
       "    .dataframe tbody tr th {\n",
       "        vertical-align: top;\n",
       "    }\n",
       "\n",
       "    .dataframe thead th {\n",
       "        text-align: right;\n",
       "    }\n",
       "</style>\n",
       "<table border=\"1\" class=\"dataframe\">\n",
       "  <thead>\n",
       "    <tr style=\"text-align: right;\">\n",
       "      <th></th>\n",
       "      <th>ID</th>\n",
       "      <th>Gene</th>\n",
       "      <th>Variation</th>\n",
       "    </tr>\n",
       "  </thead>\n",
       "  <tbody>\n",
       "    <tr>\n",
       "      <th>0</th>\n",
       "      <td>0</td>\n",
       "      <td>ACSL4</td>\n",
       "      <td>R570S</td>\n",
       "    </tr>\n",
       "    <tr>\n",
       "      <th>1</th>\n",
       "      <td>1</td>\n",
       "      <td>NAGLU</td>\n",
       "      <td>P521L</td>\n",
       "    </tr>\n",
       "    <tr>\n",
       "      <th>2</th>\n",
       "      <td>2</td>\n",
       "      <td>PAH</td>\n",
       "      <td>L333F</td>\n",
       "    </tr>\n",
       "    <tr>\n",
       "      <th>3</th>\n",
       "      <td>3</td>\n",
       "      <td>ING1</td>\n",
       "      <td>A148D</td>\n",
       "    </tr>\n",
       "    <tr>\n",
       "      <th>4</th>\n",
       "      <td>4</td>\n",
       "      <td>TMEM216</td>\n",
       "      <td>G77A</td>\n",
       "    </tr>\n",
       "    <tr>\n",
       "      <th>5</th>\n",
       "      <td>5</td>\n",
       "      <td>CD40LG</td>\n",
       "      <td>A123E</td>\n",
       "    </tr>\n",
       "    <tr>\n",
       "      <th>6</th>\n",
       "      <td>6</td>\n",
       "      <td>KLF11</td>\n",
       "      <td>T220M</td>\n",
       "    </tr>\n",
       "    <tr>\n",
       "      <th>7</th>\n",
       "      <td>7</td>\n",
       "      <td>SGCB</td>\n",
       "      <td>T151R</td>\n",
       "    </tr>\n",
       "    <tr>\n",
       "      <th>8</th>\n",
       "      <td>8</td>\n",
       "      <td>CLCF1</td>\n",
       "      <td>R197L</td>\n",
       "    </tr>\n",
       "    <tr>\n",
       "      <th>9</th>\n",
       "      <td>9</td>\n",
       "      <td>SDHAF1</td>\n",
       "      <td>R55P</td>\n",
       "    </tr>\n",
       "  </tbody>\n",
       "</table>\n",
       "</div>"
      ],
      "text/plain": [
       "   ID     Gene Variation\n",
       "0   0    ACSL4     R570S\n",
       "1   1    NAGLU     P521L\n",
       "2   2      PAH     L333F\n",
       "3   3     ING1     A148D\n",
       "4   4  TMEM216      G77A\n",
       "5   5   CD40LG     A123E\n",
       "6   6    KLF11     T220M\n",
       "7   7     SGCB     T151R\n",
       "8   8    CLCF1     R197L\n",
       "9   9   SDHAF1      R55P"
      ]
     },
     "execution_count": 8,
     "metadata": {
      "tags": []
     },
     "output_type": "execute_result"
    }
   ],
   "source": [
    "test_data = pd.read_csv('test_variants')\n",
    "test_data.head(10)"
   ]
  },
  {
   "cell_type": "code",
   "execution_count": 9,
   "metadata": {
    "colab": {
     "base_uri": "https://localhost:8080/",
     "height": 363
    },
    "colab_type": "code",
    "executionInfo": {
     "elapsed": 5045,
     "status": "ok",
     "timestamp": 1554440727714,
     "user": {
      "displayName": "Atul Rana",
      "photoUrl": "https://lh4.googleusercontent.com/-tLVUUtH-AZE/AAAAAAAAAAI/AAAAAAAAMt0/14Rk9-FZ5I4/s64/photo.jpg",
      "userId": "06185900944594624481"
     },
     "user_tz": -330
    },
    "id": "fBREwMGQzWsB",
    "outputId": "0232648e-be2d-4e88-dae2-618261c2a7c8"
   },
   "outputs": [
    {
     "data": {
      "text/html": [
       "<div>\n",
       "<style scoped>\n",
       "    .dataframe tbody tr th:only-of-type {\n",
       "        vertical-align: middle;\n",
       "    }\n",
       "\n",
       "    .dataframe tbody tr th {\n",
       "        vertical-align: top;\n",
       "    }\n",
       "\n",
       "    .dataframe thead th {\n",
       "        text-align: right;\n",
       "    }\n",
       "</style>\n",
       "<table border=\"1\" class=\"dataframe\">\n",
       "  <thead>\n",
       "    <tr style=\"text-align: right;\">\n",
       "      <th></th>\n",
       "      <th>ID</th>\n",
       "      <th>TEXT</th>\n",
       "    </tr>\n",
       "  </thead>\n",
       "  <tbody>\n",
       "    <tr>\n",
       "      <th>0</th>\n",
       "      <td>0</td>\n",
       "      <td>2. This mutation resulted in a myeloproliferat...</td>\n",
       "    </tr>\n",
       "    <tr>\n",
       "      <th>1</th>\n",
       "      <td>1</td>\n",
       "      <td>Abstract The Large Tumor Suppressor 1 (LATS1)...</td>\n",
       "    </tr>\n",
       "    <tr>\n",
       "      <th>2</th>\n",
       "      <td>2</td>\n",
       "      <td>Vascular endothelial growth factor receptor (V...</td>\n",
       "    </tr>\n",
       "    <tr>\n",
       "      <th>3</th>\n",
       "      <td>3</td>\n",
       "      <td>Inflammatory myofibroblastic tumor (IMT) is a ...</td>\n",
       "    </tr>\n",
       "    <tr>\n",
       "      <th>4</th>\n",
       "      <td>4</td>\n",
       "      <td>Abstract Retinoblastoma is a pediatric retina...</td>\n",
       "    </tr>\n",
       "    <tr>\n",
       "      <th>5</th>\n",
       "      <td>5</td>\n",
       "      <td>The accurate determination of perfluoroalkyl s...</td>\n",
       "    </tr>\n",
       "    <tr>\n",
       "      <th>6</th>\n",
       "      <td>6</td>\n",
       "      <td>Aberrations in the mTOR (mechanistic target of...</td>\n",
       "    </tr>\n",
       "    <tr>\n",
       "      <th>7</th>\n",
       "      <td>7</td>\n",
       "      <td>Oncogenic mutations in the monomeric Casitas B...</td>\n",
       "    </tr>\n",
       "    <tr>\n",
       "      <th>8</th>\n",
       "      <td>8</td>\n",
       "      <td>NPM1 gene at chromosome 5q35 is involved in re...</td>\n",
       "    </tr>\n",
       "    <tr>\n",
       "      <th>9</th>\n",
       "      <td>9</td>\n",
       "      <td>Introduction The epidermal growth factor recep...</td>\n",
       "    </tr>\n",
       "  </tbody>\n",
       "</table>\n",
       "</div>"
      ],
      "text/plain": [
       "   ID                                               TEXT\n",
       "0   0  2. This mutation resulted in a myeloproliferat...\n",
       "1   1   Abstract The Large Tumor Suppressor 1 (LATS1)...\n",
       "2   2  Vascular endothelial growth factor receptor (V...\n",
       "3   3  Inflammatory myofibroblastic tumor (IMT) is a ...\n",
       "4   4   Abstract Retinoblastoma is a pediatric retina...\n",
       "5   5  The accurate determination of perfluoroalkyl s...\n",
       "6   6  Aberrations in the mTOR (mechanistic target of...\n",
       "7   7  Oncogenic mutations in the monomeric Casitas B...\n",
       "8   8  NPM1 gene at chromosome 5q35 is involved in re...\n",
       "9   9  Introduction The epidermal growth factor recep..."
      ]
     },
     "execution_count": 9,
     "metadata": {
      "tags": []
     },
     "output_type": "execute_result"
    }
   ],
   "source": [
    "test_text = pd.read_csv(\"test_text\",sep=\"\\|\\|\",engine=\"python\",names=[\"ID\",\"TEXT\"],skiprows=1)\n",
    "test_text.head(10)"
   ]
  },
  {
   "cell_type": "markdown",
   "metadata": {
    "colab_type": "text",
    "id": "7AwL73ybY1vz"
   },
   "source": [
    "##Preprocessing"
   ]
  },
  {
   "cell_type": "code",
   "execution_count": 10,
   "metadata": {
    "colab": {
     "base_uri": "https://localhost:8080/",
     "height": 52
    },
    "colab_type": "code",
    "executionInfo": {
     "elapsed": 1194,
     "status": "ok",
     "timestamp": 1554440742539,
     "user": {
      "displayName": "Atul Rana",
      "photoUrl": "https://lh4.googleusercontent.com/-tLVUUtH-AZE/AAAAAAAAAAI/AAAAAAAAMt0/14Rk9-FZ5I4/s64/photo.jpg",
      "userId": "06185900944594624481"
     },
     "user_tz": -330
    },
    "id": "5bIjbRB3ddqT",
    "outputId": "8a04d117-82fc-4ebe-bf89-019319379f16"
   },
   "outputs": [
    {
     "name": "stdout",
     "output_type": "stream",
     "text": [
      "[nltk_data] Downloading package stopwords to /root/nltk_data...\n",
      "[nltk_data]   Unzipping corpora/stopwords.zip.\n"
     ]
    }
   ],
   "source": [
    "import nltk\n",
    "import re\n",
    "nltk.download('stopwords')\n",
    "from nltk.corpus import stopwords"
   ]
  },
  {
   "cell_type": "code",
   "execution_count": 0,
   "metadata": {
    "colab": {
     "base_uri": "https://localhost:8080/",
     "height": 124
    },
    "colab_type": "code",
    "executionInfo": {
     "elapsed": 262583,
     "status": "ok",
     "timestamp": 1552623965560,
     "user": {
      "displayName": "Atul Rana",
      "photoUrl": "https://lh4.googleusercontent.com/-tLVUUtH-AZE/AAAAAAAAAAI/AAAAAAAAMt0/14Rk9-FZ5I4/s64/photo.jpg",
      "userId": "06185900944594624481"
     },
     "user_tz": -330
    },
    "id": "QbO4d0lebW24",
    "outputId": "9a46723f-721b-4f73-bcc0-6bdedab7cdf7"
   },
   "outputs": [
    {
     "name": "stderr",
     "output_type": "stream",
     "text": [
      "/usr/local/lib/python3.6/dist-packages/ipykernel_launcher.py:14: SettingWithCopyWarning: \n",
      "A value is trying to be set on a copy of a slice from a DataFrame\n",
      "\n",
      "See the caveats in the documentation: http://pandas.pydata.org/pandas-docs/stable/indexing.html#indexing-view-versus-copy\n",
      "  \n"
     ]
    }
   ],
   "source": [
    "# loading stop words from nltk library\n",
    "stop_words = set(stopwords.words('english'))\n",
    "\n",
    "\n",
    "def nlp_preprocessing(total_text, index, column):\n",
    "    if type(total_text) is not int:\n",
    "      \n",
    "        total_text = re.sub(\"[^a-zA-Z0-9-*_\\n]\",\" \", str(total_text))\n",
    "        total_text = re.sub(\"\\s+\",\" \", total_text)\n",
    "        total_text = total_text.lower()\n",
    "        \n",
    "        \n",
    "        string = ' '.join([w for w in total_text.split() if w not in stop_words])\n",
    "        #removing special character, multiple space and stopwords from text\n",
    "        data_text[column][index] = string\n",
    "\n",
    "for index, row in data_text.iterrows():\n",
    "    nlp_preprocessing(row['TEXT'], index, 'TEXT')"
   ]
  },
  {
   "cell_type": "markdown",
   "metadata": {
    "colab_type": "text",
    "id": "aDcZd5hh48PZ"
   },
   "source": [
    "## Test Unlabeled Data"
   ]
  },
  {
   "cell_type": "code",
   "execution_count": 12,
   "metadata": {
    "colab": {
     "base_uri": "https://localhost:8080/",
     "height": 124
    },
    "colab_type": "code",
    "executionInfo": {
     "elapsed": 534774,
     "status": "ok",
     "timestamp": 1554441378669,
     "user": {
      "displayName": "Atul Rana",
      "photoUrl": "https://lh4.googleusercontent.com/-tLVUUtH-AZE/AAAAAAAAAAI/AAAAAAAAMt0/14Rk9-FZ5I4/s64/photo.jpg",
      "userId": "06185900944594624481"
     },
     "user_tz": -330
    },
    "id": "v3tBPvsN469X",
    "outputId": "cf88af14-f921-4c5c-9ee7-4608435ce96f"
   },
   "outputs": [
    {
     "name": "stderr",
     "output_type": "stream",
     "text": [
      "/usr/local/lib/python3.6/dist-packages/ipykernel_launcher.py:14: SettingWithCopyWarning: \n",
      "A value is trying to be set on a copy of a slice from a DataFrame\n",
      "\n",
      "See the caveats in the documentation: http://pandas.pydata.org/pandas-docs/stable/indexing.html#indexing-view-versus-copy\n",
      "  \n"
     ]
    }
   ],
   "source": [
    "# loading stop words from nltk library\n",
    "stop_words = set(stopwords.words('english'))\n",
    "\n",
    "\n",
    "def nlp_preprocessing(total_text, index, column):\n",
    "    if type(total_text) is not int:\n",
    "      \n",
    "        total_text = re.sub(\"[^a-zA-Z0-9-*_\\n]\",\" \", str(total_text))\n",
    "        total_text = re.sub(\"\\s+\",\" \", total_text)\n",
    "        total_text = total_text.lower()\n",
    "        \n",
    "        \n",
    "        string = ' '.join([w for w in total_text.split() if w not in stop_words])\n",
    "        #removing special character, multiple space and stopwords from text\n",
    "        test_text[column][index] = string\n",
    "\n",
    "for index, row in test_text.iterrows():\n",
    "    nlp_preprocessing(row['TEXT'], index, 'TEXT')"
   ]
  },
  {
   "cell_type": "code",
   "execution_count": 13,
   "metadata": {
    "colab": {
     "base_uri": "https://localhost:8080/",
     "height": 363
    },
    "colab_type": "code",
    "executionInfo": {
     "elapsed": 1200,
     "status": "ok",
     "timestamp": 1554441411775,
     "user": {
      "displayName": "Atul Rana",
      "photoUrl": "https://lh4.googleusercontent.com/-tLVUUtH-AZE/AAAAAAAAAAI/AAAAAAAAMt0/14Rk9-FZ5I4/s64/photo.jpg",
      "userId": "06185900944594624481"
     },
     "user_tz": -330
    },
    "id": "-oYkislx7U5E",
    "outputId": "d47b958a-7d72-45f2-b176-1e50305dd44b"
   },
   "outputs": [
    {
     "data": {
      "text/html": [
       "<div>\n",
       "<style scoped>\n",
       "    .dataframe tbody tr th:only-of-type {\n",
       "        vertical-align: middle;\n",
       "    }\n",
       "\n",
       "    .dataframe tbody tr th {\n",
       "        vertical-align: top;\n",
       "    }\n",
       "\n",
       "    .dataframe thead th {\n",
       "        text-align: right;\n",
       "    }\n",
       "</style>\n",
       "<table border=\"1\" class=\"dataframe\">\n",
       "  <thead>\n",
       "    <tr style=\"text-align: right;\">\n",
       "      <th></th>\n",
       "      <th>ID</th>\n",
       "      <th>TEXT</th>\n",
       "    </tr>\n",
       "  </thead>\n",
       "  <tbody>\n",
       "    <tr>\n",
       "      <th>0</th>\n",
       "      <td>0</td>\n",
       "      <td>2 mutation resulted myeloproliferative phenoty...</td>\n",
       "    </tr>\n",
       "    <tr>\n",
       "      <th>1</th>\n",
       "      <td>1</td>\n",
       "      <td>abstract large tumor suppressor 1 lats1 serine...</td>\n",
       "    </tr>\n",
       "    <tr>\n",
       "      <th>2</th>\n",
       "      <td>2</td>\n",
       "      <td>vascular endothelial growth factor receptor ve...</td>\n",
       "    </tr>\n",
       "    <tr>\n",
       "      <th>3</th>\n",
       "      <td>3</td>\n",
       "      <td>inflammatory myofibroblastic tumor imt neoplas...</td>\n",
       "    </tr>\n",
       "    <tr>\n",
       "      <th>4</th>\n",
       "      <td>4</td>\n",
       "      <td>abstract retinoblastoma pediatric retinal tumo...</td>\n",
       "    </tr>\n",
       "    <tr>\n",
       "      <th>5</th>\n",
       "      <td>5</td>\n",
       "      <td>accurate determination perfluoroalkyl substanc...</td>\n",
       "    </tr>\n",
       "    <tr>\n",
       "      <th>6</th>\n",
       "      <td>6</td>\n",
       "      <td>aberrations mtor mechanistic target rapamycin ...</td>\n",
       "    </tr>\n",
       "    <tr>\n",
       "      <th>7</th>\n",
       "      <td>7</td>\n",
       "      <td>oncogenic mutations monomeric casitas b-lineag...</td>\n",
       "    </tr>\n",
       "    <tr>\n",
       "      <th>8</th>\n",
       "      <td>8</td>\n",
       "      <td>npm1 gene chromosome 5q35 involved recurrent t...</td>\n",
       "    </tr>\n",
       "    <tr>\n",
       "      <th>9</th>\n",
       "      <td>9</td>\n",
       "      <td>introduction epidermal growth factor receptor ...</td>\n",
       "    </tr>\n",
       "  </tbody>\n",
       "</table>\n",
       "</div>"
      ],
      "text/plain": [
       "   ID                                               TEXT\n",
       "0   0  2 mutation resulted myeloproliferative phenoty...\n",
       "1   1  abstract large tumor suppressor 1 lats1 serine...\n",
       "2   2  vascular endothelial growth factor receptor ve...\n",
       "3   3  inflammatory myofibroblastic tumor imt neoplas...\n",
       "4   4  abstract retinoblastoma pediatric retinal tumo...\n",
       "5   5  accurate determination perfluoroalkyl substanc...\n",
       "6   6  aberrations mtor mechanistic target rapamycin ...\n",
       "7   7  oncogenic mutations monomeric casitas b-lineag...\n",
       "8   8  npm1 gene chromosome 5q35 involved recurrent t...\n",
       "9   9  introduction epidermal growth factor receptor ..."
      ]
     },
     "execution_count": 13,
     "metadata": {
      "tags": []
     },
     "output_type": "execute_result"
    }
   ],
   "source": [
    "test_text.head(10)"
   ]
  },
  {
   "cell_type": "code",
   "execution_count": 14,
   "metadata": {
    "colab": {
     "base_uri": "https://localhost:8080/",
     "height": 34
    },
    "colab_type": "code",
    "executionInfo": {
     "elapsed": 1206,
     "status": "ok",
     "timestamp": 1554441430309,
     "user": {
      "displayName": "Atul Rana",
      "photoUrl": "https://lh4.googleusercontent.com/-tLVUUtH-AZE/AAAAAAAAAAI/AAAAAAAAMt0/14Rk9-FZ5I4/s64/photo.jpg",
      "userId": "06185900944594624481"
     },
     "user_tz": -330
    },
    "id": "dTUlKGEQ7bWr",
    "outputId": "e2c3f8fd-665f-4f8d-8d69-d35091481218"
   },
   "outputs": [
    {
     "data": {
      "text/plain": [
       "(5668, 2)"
      ]
     },
     "execution_count": 14,
     "metadata": {
      "tags": []
     },
     "output_type": "execute_result"
    }
   ],
   "source": [
    "test_text.shape"
   ]
  },
  {
   "cell_type": "code",
   "execution_count": 0,
   "metadata": {
    "colab": {},
    "colab_type": "code",
    "id": "P9g10bDK7lWf"
   },
   "outputs": [],
   "source": [
    "unlabel = pd.merge(test_data, test_text,on='ID', how='left')"
   ]
  },
  {
   "cell_type": "code",
   "execution_count": 16,
   "metadata": {
    "colab": {
     "base_uri": "https://localhost:8080/",
     "height": 206
    },
    "colab_type": "code",
    "executionInfo": {
     "elapsed": 1230,
     "status": "ok",
     "timestamp": 1554441518518,
     "user": {
      "displayName": "Atul Rana",
      "photoUrl": "https://lh4.googleusercontent.com/-tLVUUtH-AZE/AAAAAAAAAAI/AAAAAAAAMt0/14Rk9-FZ5I4/s64/photo.jpg",
      "userId": "06185900944594624481"
     },
     "user_tz": -330
    },
    "id": "n-66jZiM7vb6",
    "outputId": "86c9ea3f-b79d-49e7-afad-494ba4200fb4"
   },
   "outputs": [
    {
     "data": {
      "text/html": [
       "<div>\n",
       "<style scoped>\n",
       "    .dataframe tbody tr th:only-of-type {\n",
       "        vertical-align: middle;\n",
       "    }\n",
       "\n",
       "    .dataframe tbody tr th {\n",
       "        vertical-align: top;\n",
       "    }\n",
       "\n",
       "    .dataframe thead th {\n",
       "        text-align: right;\n",
       "    }\n",
       "</style>\n",
       "<table border=\"1\" class=\"dataframe\">\n",
       "  <thead>\n",
       "    <tr style=\"text-align: right;\">\n",
       "      <th></th>\n",
       "      <th>ID</th>\n",
       "      <th>Gene</th>\n",
       "      <th>Variation</th>\n",
       "      <th>TEXT</th>\n",
       "    </tr>\n",
       "  </thead>\n",
       "  <tbody>\n",
       "    <tr>\n",
       "      <th>0</th>\n",
       "      <td>0</td>\n",
       "      <td>ACSL4</td>\n",
       "      <td>R570S</td>\n",
       "      <td>2 mutation resulted myeloproliferative phenoty...</td>\n",
       "    </tr>\n",
       "    <tr>\n",
       "      <th>1</th>\n",
       "      <td>1</td>\n",
       "      <td>NAGLU</td>\n",
       "      <td>P521L</td>\n",
       "      <td>abstract large tumor suppressor 1 lats1 serine...</td>\n",
       "    </tr>\n",
       "    <tr>\n",
       "      <th>2</th>\n",
       "      <td>2</td>\n",
       "      <td>PAH</td>\n",
       "      <td>L333F</td>\n",
       "      <td>vascular endothelial growth factor receptor ve...</td>\n",
       "    </tr>\n",
       "    <tr>\n",
       "      <th>3</th>\n",
       "      <td>3</td>\n",
       "      <td>ING1</td>\n",
       "      <td>A148D</td>\n",
       "      <td>inflammatory myofibroblastic tumor imt neoplas...</td>\n",
       "    </tr>\n",
       "    <tr>\n",
       "      <th>4</th>\n",
       "      <td>4</td>\n",
       "      <td>TMEM216</td>\n",
       "      <td>G77A</td>\n",
       "      <td>abstract retinoblastoma pediatric retinal tumo...</td>\n",
       "    </tr>\n",
       "  </tbody>\n",
       "</table>\n",
       "</div>"
      ],
      "text/plain": [
       "   ID     Gene Variation                                               TEXT\n",
       "0   0    ACSL4     R570S  2 mutation resulted myeloproliferative phenoty...\n",
       "1   1    NAGLU     P521L  abstract large tumor suppressor 1 lats1 serine...\n",
       "2   2      PAH     L333F  vascular endothelial growth factor receptor ve...\n",
       "3   3     ING1     A148D  inflammatory myofibroblastic tumor imt neoplas...\n",
       "4   4  TMEM216      G77A  abstract retinoblastoma pediatric retinal tumo..."
      ]
     },
     "execution_count": 16,
     "metadata": {
      "tags": []
     },
     "output_type": "execute_result"
    }
   ],
   "source": [
    "unlabel.head()"
   ]
  },
  {
   "cell_type": "code",
   "execution_count": 0,
   "metadata": {
    "colab": {},
    "colab_type": "code",
    "id": "qDCxegcJ71JR"
   },
   "outputs": [],
   "source": []
  },
  {
   "cell_type": "markdown",
   "metadata": {
    "colab_type": "text",
    "id": "_HPou85NZEY_"
   },
   "source": [
    "##Preparing the Data"
   ]
  },
  {
   "cell_type": "code",
   "execution_count": 0,
   "metadata": {
    "colab": {},
    "colab_type": "code",
    "id": "c1cdd_TTe0o2"
   },
   "outputs": [],
   "source": [
    "result = pd.merge(data, data_text,on='ID', how='left')"
   ]
  },
  {
   "cell_type": "code",
   "execution_count": 0,
   "metadata": {
    "colab": {
     "base_uri": "https://localhost:8080/",
     "height": 206
    },
    "colab_type": "code",
    "executionInfo": {
     "elapsed": 4208,
     "status": "ok",
     "timestamp": 1552623982985,
     "user": {
      "displayName": "Atul Rana",
      "photoUrl": "https://lh4.googleusercontent.com/-tLVUUtH-AZE/AAAAAAAAAAI/AAAAAAAAMt0/14Rk9-FZ5I4/s64/photo.jpg",
      "userId": "06185900944594624481"
     },
     "user_tz": -330
    },
    "id": "ZBS4QA3UhYO3",
    "outputId": "44330808-0e4b-4a3c-a25c-ea28bd0d801f"
   },
   "outputs": [
    {
     "data": {
      "text/html": [
       "<div>\n",
       "<style scoped>\n",
       "    .dataframe tbody tr th:only-of-type {\n",
       "        vertical-align: middle;\n",
       "    }\n",
       "\n",
       "    .dataframe tbody tr th {\n",
       "        vertical-align: top;\n",
       "    }\n",
       "\n",
       "    .dataframe thead th {\n",
       "        text-align: right;\n",
       "    }\n",
       "</style>\n",
       "<table border=\"1\" class=\"dataframe\">\n",
       "  <thead>\n",
       "    <tr style=\"text-align: right;\">\n",
       "      <th></th>\n",
       "      <th>ID</th>\n",
       "      <th>Gene</th>\n",
       "      <th>Variation</th>\n",
       "      <th>Class</th>\n",
       "      <th>TEXT</th>\n",
       "    </tr>\n",
       "  </thead>\n",
       "  <tbody>\n",
       "    <tr>\n",
       "      <th>0</th>\n",
       "      <td>0</td>\n",
       "      <td>FAM58A</td>\n",
       "      <td>Truncating Mutations</td>\n",
       "      <td>1</td>\n",
       "      <td>cyclin-dependent kinases cdks regulate variety...</td>\n",
       "    </tr>\n",
       "    <tr>\n",
       "      <th>7</th>\n",
       "      <td>7</td>\n",
       "      <td>CBL</td>\n",
       "      <td>Deletion</td>\n",
       "      <td>1</td>\n",
       "      <td>cbl negative regulator activated receptor tyro...</td>\n",
       "    </tr>\n",
       "    <tr>\n",
       "      <th>16</th>\n",
       "      <td>16</td>\n",
       "      <td>CBL</td>\n",
       "      <td>Truncating Mutations</td>\n",
       "      <td>1</td>\n",
       "      <td>determine residual cylindrical refractive erro...</td>\n",
       "    </tr>\n",
       "    <tr>\n",
       "      <th>37</th>\n",
       "      <td>37</td>\n",
       "      <td>DICER1</td>\n",
       "      <td>D1709E</td>\n",
       "      <td>1</td>\n",
       "      <td>sex cord stromal tumors germ-cell tumors accou...</td>\n",
       "    </tr>\n",
       "    <tr>\n",
       "      <th>38</th>\n",
       "      <td>38</td>\n",
       "      <td>DICER1</td>\n",
       "      <td>D1709A</td>\n",
       "      <td>1</td>\n",
       "      <td>sex cord stromal tumors germ-cell tumors accou...</td>\n",
       "    </tr>\n",
       "  </tbody>\n",
       "</table>\n",
       "</div>"
      ],
      "text/plain": [
       "    ID    Gene             Variation  Class  \\\n",
       "0    0  FAM58A  Truncating Mutations      1   \n",
       "7    7     CBL              Deletion      1   \n",
       "16  16     CBL  Truncating Mutations      1   \n",
       "37  37  DICER1                D1709E      1   \n",
       "38  38  DICER1                D1709A      1   \n",
       "\n",
       "                                                 TEXT  \n",
       "0   cyclin-dependent kinases cdks regulate variety...  \n",
       "7   cbl negative regulator activated receptor tyro...  \n",
       "16  determine residual cylindrical refractive erro...  \n",
       "37  sex cord stromal tumors germ-cell tumors accou...  \n",
       "38  sex cord stromal tumors germ-cell tumors accou...  "
      ]
     },
     "execution_count": 15,
     "metadata": {
      "tags": []
     },
     "output_type": "execute_result"
    }
   ],
   "source": [
    "result[ result['Class']==1 ].head()"
   ]
  },
  {
   "cell_type": "code",
   "execution_count": 0,
   "metadata": {
    "colab": {
     "base_uri": "https://localhost:8080/",
     "height": 54
    },
    "colab_type": "code",
    "executionInfo": {
     "elapsed": 1748,
     "status": "ok",
     "timestamp": 1552623985915,
     "user": {
      "displayName": "Atul Rana",
      "photoUrl": "https://lh4.googleusercontent.com/-tLVUUtH-AZE/AAAAAAAAAAI/AAAAAAAAMt0/14Rk9-FZ5I4/s64/photo.jpg",
      "userId": "06185900944594624481"
     },
     "user_tz": -330
    },
    "id": "5qxCrpC2DZma",
    "outputId": "94713eed-c454-44bf-cfc7-223b224f8a6e"
   },
   "outputs": [
    {
     "name": "stdout",
     "output_type": "stream",
     "text": [
      "cyclin-dependent kinases cdks regulate variety fundamental cellular processes cdk10 stands one last orphan cdks activating cyclin identified kinase activity revealed previous work shown cdk10 silencing increases ets2 v-ets erythroblastosis virus e26 oncogene homolog 2 -driven activation mapk pathway confers tamoxifen resistance breast cancer cells precise mechanisms cdk10 modulates ets2 activity generally functions cdk10 remain elusive demonstrate cdk10 cyclin-dependent kinase identifying cyclin activating cyclin cyclin orphan cyclin product fam58a whose mutations cause star syndrome human developmental anomaly whose features include toe syndactyly telecanthus anogenital renal malformations show star syndrome-associated cyclin mutants unable interact cdk10 cyclin silencing phenocopies cdk10 silencing increasing c-raf conferring tamoxifen resistance breast cancer cells cdk10 cyclin phosphorylates ets2 vitro cells positively controls ets2 degradation proteasome ets2 protein levels increased cells derived star patient increase attributable decreased cyclin levels altogether results reveal additional regulatory mechanism ets2 plays key roles cancer development also shed light molecular mechanisms underlying star syndrome cyclin-dependent kinases cdks play pivotal role control number fundamental cellular processes 1 human genome contains 21 genes encoding proteins considered members cdk family owing sequence similarity bona fide cdks known activated cyclins 2 although discovered almost 20 ago 3 4 cdk10 remains one two cdks without identified cyclin partner knowledge gap largely impeded exploration biological functions cdk10 act positive cell cycle regulator cells 5 6 tumor suppressor others 7 8 cdk10 interacts ets2 v-ets erythroblastosis virus e26 oncogene homolog 2 transcription factor inhibits transcriptional activity unknown mechanism 9 cdk10 knockdown derepresses ets2 increases expression c-raf protein kinase activates mapk pathway induces resistance mcf7 cells tamoxifen 6 deorphanize cdk10 identifying cyclin product fam58a binding partner mutations gene predict absence truncation cyclin associated star syndrome whose features include toe syndactyly telecanthus anogenital renal malformations heterozygous females 10 however functions cyclin pathogenesis star syndrome remain unknown show recombinant cdk10 cyclin heterodimer active protein kinase phosphorylates ets2 vitro cyclin silencing phenocopies cdk10 silencing increasing c-raf phospho-erk expression levels inducing tamoxifen resistance estrogen receptor er breast cancer cells show cdk10 cyclin positively controls ets2 degradation proteasome phosphorylation two neighboring serines finally detect increased ets2 expression level cells derived star patient demonstrate attributable decreased cyclin expression level observed cells previous sectionnext sectionresultsa yeast two-hybrid y2h screen unveiled interaction signal cdk10 mouse protein whose c-terminal half presents strong sequence homology human fam58a gene product whose proposed name cyclin 11 thus performed y2h mating assays determine whether human cdk10 interacts human cyclin fig 1 c longest cdk10 isoform p1 expressed bait protein produced strong interaction phenotype full-length cyclin expressed prey protein detectable phenotype cyclin d1 p21 cip1 cdi1 kap known binding partners cdks fig 1b cdk1 cdk3 also produced y2h signals cyclin albeit notably weaker observed cdk10 fig 1b interaction phenotype also observed full-length cyclin cdk10 proteins expressed bait prey respectively fig s1a tested different isoforms cdk10 cyclin originating alternative gene splicing two truncated cyclin proteins corresponding hypothetical products two mutated fam58a genes found star syndrome patients 10 none shorter isoforms produced interaction phenotypes fig 1 c fig s1a fig 1 new window download pptfig 1 cdk10 cyclin form interaction complex schematic representation different protein isoforms analyzed y2h assays amino acid numbers indicated black boxes indicate internal deletions red box indicates differing amino acid sequence compared cdk10 p1 b y2h assay set cdk proteins expressed baits fusion lexa dna binding domain cdk interacting proteins expressed preys fusion b42 transcriptional activator peg202 pjg4-5 empty bait prey plasmids expressing lexa b42 respectively lacz used reporter gene blue yeast indicative y2h interaction phenotype c y2h assay different cdk10 cyclin isoforms amino-terminal region ets2 known interact cdk10 9 also assayed western blot analysis myc-cdk10 wt kd cycm-v5-6his expression levels transfected hek293 cells e western blot analysis myc-cdk10 wt kd immunoprecipitates obtained using anti-myc antibody inputs correspond 10 g total lysates obtained hek293 cells coexpressing myc-cdk10 wt kd cycm-v5-6his f western blot analysis immunoprecipitates obtained using anti-cdk10 antibody control goat antibody human breast cancer mcf7 cells input corresponds 30 g mcf7 total cell lysates lower band doublet observed upper panel comigrates exogenously expressed untagged cdk10 thus corresponds endogenous cdk10 upper band doublet corresponds nonspecific signal demonstrated insensitivity either overexpression cdk10 seen left lane silencing cdk10 fig s2b another experiment longer gel migration shown fig s1d next examined ability cdk10 cyclin interact expressed human cells fig 1 e tested wild-type cdk10 wt kinase dead kd mutant bearing d181a amino acid substitution abolishes atp binding 12 expressed cyclin m-v5-6his myc-cdk10 wt kd human embryonic kidney cell line hek293 expression level cyclin m-v5-6his significantly increased upon coexpression myc-cdk10 wt kd lesser extent myc-cdk10 wt kd increased upon coexpression cyclin m-v5-6his fig 1d immunoprecipitated myc-cdk10 proteins detected presence cyclin cdk10 wt kd immunoprecipitates proteins coexpressed pair-wise fig 1e confirmed observations detecting presence myc-cdk10 cyclin m-v5-6his immunoprecipitates fig s1b experiments confirmed lack robust interaction cdk10 p2 isoform cyclin fig s1c detect interaction endogenous proteins performed immunoprecipitations nontransfected mcf7 cells derived human breast cancer cdk10 cyclin antibodies detected cognate endogenous proteins western blotting readily detected cyclin immunoprecipitates obtained cdk10 antibody control antibody fig 1f results confirm physical interaction cdk10 cyclin human cells unveil hypothesized cdk10 cyclin protein kinase activity produced gst-cdk10 strepii-cyclin fusion proteins insect cells either individually combination observed gst-cdk10 strepii-cyclin copurified thus confirming interaction yet another cellular model fig 2a performed vitro kinase assays purified proteins using histone h1 generic substrate histone h1 phosphorylation detected lysates cells coexpressing gst-cdk10 strepii-cyclin phosphorylation detected gst-cdk10 strepii-cyclin expressed alone strepii-cyclin coexpressed gst-cdk10 kd fig 2a next investigated whether ets2 known interact cdk10 9 fig 1c phosphorylation substrate cdk10 cyclin detected strong phosphorylation ets2 gst-cdk10 strepii-cyclin purified heterodimer whereas phosphorylation detected using gst-cdk10 alone gst-cdk10 kd strepii-cyclin heterodimer fig 2b fig 2 new window download pptfig 2 cdk10 cyclin m-dependent protein kinase vitro protein kinase assay histone h1 lysates insect cells expressing different proteins purified glutathione sepharose matrix capture gst-cdk10 wt kd fusion proteins alone complex str-cycm fusion protein purified protein expression levels analyzed western blots top upper middle kinase activity determined autoradiography histone h1 whose added amounts visualized coomassie staining lower middle bottom b using purified recombinant 6his-ets2 substrate cdk10 silencing shown increase ets2-driven c-raf transcription activate mapk pathway 6 investigated whether cyclin also involved regulatory pathway aim highly specific silencing used sirna pools mix four different sirnas low final concentration 10 nm cdk10 cyclin sirna pools silenced expression cognate targets fig 3 c fig s2 interestingly cyclin sirna pool also caused marked decrease cdk10 protein level fig 3a fig s2b results shown fig 1d suggest cyclin binding stabilizes cdk10 cyclin silencing induced increase c-raf protein mrna levels fig 3 b c phosphorylated erk1 erk2 protein levels fig s3b similarly cdk10 silencing expected effects 6 cdk10 cyclin silencing decreased sensitivity er mcf7 cells tamoxifen similar extent combined silencing genes result higher resistance drug fig s3c altogether observations demonstrate functional interaction cyclin cdk10 negatively controls ets2 fig 3 new window download pptfig 3 cyclin silencing up-regulates c-raf expression western blot analysis endogenous cdk10 cyclin expression levels mcf7 cells response sirna-mediated gene silencing b western blot analysis endogenous c-raf expression levels mcf7 cells response cdk10 cyclin silencing quantification shown fig s3a c quantitative rt-pcr analysis cdk10 cyclin c-raf mrna levels response cdk10 upper cyclin lower silencing **p 0 01 ***p 0 001 wished explore mechanism cdk10 cyclin controls ets2 ets2 short-lived protein degraded proteasome 13 straightforward hypothesis cdk10 cyclin positively controls ets2 degradation thus examined impact cdk10 cyclin silencing ets2 expression levels silencing cdk10 cyclin caused increase expression levels exogenously expressed flag-ets2 protein fig s4a well endogenous ets2 protein fig 4a increase attributable increased ets2 mrna levels marginally fluctuated response cdk10 cyclin silencing fig s4b examined expression levels flag-tagged ets2 protein expressed alone combination myc-cdk10 -cdk10 kd without cyclin m-v5-6his flag-ets2 readily detected expressed alone lesser extent coexpressed cdk10 kd however expression level dramatically decreased coexpressed cdk10 alone cdk10 cyclin fig 4b observations suggest endogenous cyclin levels excess compared cdk10 mcf7 cells show major decrease ets2 levels observed upon cdk10 coexpression involves cdk10 kinase activity treatment cells coexpressing flag-ets2 cdk10 cyclin proteasome inhibitor mg132 largely rescued flag-ets2 expression levels fig 4b fig 4 new window download pptfig 4 cdk10 cyclin controls ets2 stability human cancer derived cells western blot analysis endogenous ets2 expression levels mcf7 cells response sirna-mediated cdk10 cyclin silencing quantification shown fig s4b b western blot analysis exogenously expressed flag-ets2 protein levels mcf7 cells cotransfected empty vectors coexpressing myc-cdk10 wt kd myc-cdk10 cycm-v5-6his latter cells treated 16 h mg132 proteasome inhibitor proper expression cdk10 cyclin tagged proteins verified western blot analysis c western blot analysis expression levels exogenously expressed flag-ets2 wild-type mutant proteins mcf7 cells absence c response myc-cdk10 cycm-v5-6his expression quantifications shown fig s4 c mass spectrometry analysis recombinant ets2 phosphorylated cdk10 cyclin vitro revealed existence multiple phosphorylated residues among two neighboring phospho-serines positions 220 225 may form phosphodegron 14 figs s5 s8 confirm finding compared phosphorylation level recombinant ets2wt ets2sasa protein mutant bearing alanine substitutions two serines expected existence multiple phosphorylation sites detected small reproducible significant decrease phosphorylation level ets2sasa compared ets2wt fig s9 thus confirming ser220 ser225 phosphorylated cdk10 cyclin establish direct link ets2 phosphorylation cdk10 cyclin degradation examined expression levels flag-ets2sasa absence cdk10 cyclin coexpression differ significantly flag-ets2 contrary flag-ets2dbm bearing deletion n-terminal destruction d- box previously shown involved apc-cdh1 mediated degradation ets2 13 fig 4c however contrary flag-ets2 wild type expression level flag-ets2sasa remained insensitive cdk10 cyclin coexpression fig 4d altogether results suggest cdk10 cyclin directly controls ets2 degradation phosphorylation two serines finally studied lymphoblastoid cell line derived patient star syndrome bearing fam58a mutation c 555 1g predicted result aberrant splicing 10 accordance incomplete skewing x chromosome inactivation previously found patient detected decreased expression level cyclin protein star cell line compared control lymphoblastoid cell line line preceding observations detected increased expression level ets2 protein star cell line compared control fig 5a fig s10a examined quantitative rt-pcr mrna expression levels corresponding genes star cell line showed decreased expression level cyclin mrna expression level ets2 mrna similar control cell line fig 5b demonstrate increase ets2 protein expression indeed result decreased cyclin expression observed star patient-derived cell line expressed cyclin m-v5-6his cell line expression caused decrease ets2 protein levels fig 5c fig 5 new window download pptfig 5 decreased cyclin expression star patient-derived cells results increased ets2 protein level western blot analysis cyclin ets2 protein levels star patient-derived lymphoblastoid cell line control lymphoblastoid cell line derived healthy individual quantification shown fig s10a b quantitative rt-pcr analysis cyclin ets2 mrna levels cells ***p 0 001 c western blot analysis ets2 protein levels star patient-derived lymphoblastoid cell line transfected empty vector vector directing expression cyclin m-v5-6his another western blot revealing endogenously exogenously expressed cyclin levels shown fig s10b quantification ets2 protein levels shown fig s10c previous sectionnext sectiondiscussionin work unveil interaction cdk10 last orphan cdk discovered pregenomic era 2 cyclin cyclin associated human genetic disease far whose functions remain unknown 10 closest paralogs cdk10 within cdk family cdk11 proteins interact l-type cyclins 15 interestingly closest paralog cyclins within cyclin family cyclin fig s11 fact none shorter cdk10 isoforms interact robustly cyclin suggests alternative splicing cdk10 gene 16 17 plays important role regulating cdk10 functions functional relevance interaction cdk10 cyclin supported different observations proteins seem enhance stability judged increased expression levels partner exogenously coexpressed fig 1d much reduced endogenous cdk10 expression level observed response cyclin silencing fig 3a fig s2b cdk10 subject ubiquitin-mediated degradation 18 observations suggest cyclin protects cdk10 degradation cyclin partner cdk10 least mcf7 cells also suggest cyclin stability enhanced upon binding cdk10 independently kinase activity seen cyclin c cdk8 19 uncover cyclin m-dependent cdk10 protein kinase activity vitro thus demonstrating protein named cdk sole basis amino acid sequence indeed genuine cyclin-dependent kinase y2h assays reveal truncated cyclin proteins corresponding hypothetical products two star syndrome-associated fam58a mutations produce interaction phenotype cdk10 hence regardless whether mutated mrnas undergo nonsense-mediated decay suggested decreased cyclin mrna levels star cells shown fig 5b give rise truncated cyclin proteins females affected star syndrome must exhibit compromised cdk10 cyclin kinase activity least tissues specific developmental stages show ets2 known interactor cdk10 phosphorylation substrate cdk10 cyclin vitro cdk10 cyclin kinase activity positively controls ets2 degradation proteasome control seems exerted fine mechanism judged sensitivity ets2 levels partially decreased cdk10 cyclin levels achieved mcf7 cells observed star cells respectively findings offer straightforward explanation already reported up-regulation ets2-driven transcription c-raf response cdk10 silencing 6 bring evidence cdk10 cyclin directly controls ets2 degradation phosphorylation two neighboring serines may form noncanonical -trcp phosphodegron dsmcpas 14 none two serines precede proline conform usual cdk phosphorylation sites however multiple so-called transcriptional cdks cdk7 -8 -9 -11 cdk10 may belong fig s11 shown phosphorylate variety motifs non proline-directed fashion especially context molecular docking substrate 20 hypothesized high-affinity interaction cdk10 pointed domain ets2 6 9 fig 1c would allow docking-mediated phosphorylation atypical sites control ets2 degradation involves number players including apc-cdh1 13 cullin-ring ligase crl4 21 formal identification ubiquitin ligase involved cdk10 cyclin pathway elucidation concerted action ubiquitin ligases regulate ets2 degradation require studies results present number significant biological medical implications first shed light regulation ets2 plays important role development 22 frequently deregulated many cancers 23 second results contribute understanding molecular mechanisms causing tamoxifen resistance associated reduced cdk10 expression levels suggest like cdk10 6 cyclin could also predictive clinical marker hormone therapy response er -positive breast cancer patients third findings offer interesting hypothesis molecular mechanisms underlying star syndrome ets2 transgenic mice showing less twofold overexpression ets2 present severe cranial abnormalities 24 observed star patients could thus caused least part increased ets2 protein levels another expected consequence enhanced ets2 expression levels would decreased risk develop certain types cancers increased risk develop others studies various mouse models including models syndrome three copies ets2 exist revealed ets2 dosage repress promote tumor growth hence ets2 exerts noncell autonomous functions cancer 25 intringuingly one star patients identified far diagnosed nephroblastoma 26 finally findings facilitate general exploration biological functions cdk10 particular role control cell division previous studies suggested either positive role cell cycle control 5 6 tumor-suppressive activity cancers 7 8 severe growth retardation exhibited star patients strongly suggests cdk10 cyclin plays important role control cell proliferation previous sectionnext sectionmaterials methodscloning cdk10 cyclin cdnas plasmid constructions tamoxifen response analysis quantitative rt-pcr mass spectrometry experiments antibody production detailed si materials methods yeast two-hybrid interaction assays performed yeast interaction mating assays previously described 27 mammalian cell cultures transfections grew human hek293 mcf7 cells dmem supplemented 10 vol vol fbs invitrogen grew lymphoblastoid cells rpmi 1640 glutamax supplemented 15 vol vol fbs transfected hek293 mcf7 cells using lipofectamine 2000 invitrogen plasmids lipofectamine rnaimax invitrogen sirnas jetprime polyplus plasmids sirnas combinations according manufacturers instructions transfected lymphoblastoid cells electroporation neon invitrogen ets2 stability studies treated mcf7 cells 32 h transfection 10 mg132 fisher scientific 16 h coimmunoprecipitation western blot experiments collected cells scraping pbs centrifugation lymphoblastoid cells lysed sonication lysis buffer containing 60 mm -glycerophosphate 15 mm p-nitrophenylphosphate 25 mm 3- n-morpholino propanesulfonic acid mops ph 7 2 15 mm egta 15 mm mgcl2 1 mm na vanadate 1 mm naf 1mm phenylphosphate 0 1 nonidet p-40 protease inhibitor mixture roche spun lysates 15 min 20 000 g 4 c collected supernatants determined protein content using bradford assay performed immunoprecipitation experiments 500 g total proteins lysis buffer precleared lysates 20 l protein g-agarose beads incubated 1 h 4 c rotating wheel added 5 g antibody supernatants incubated 1 h 4 c rotating wheel added 20 l protein g-agarose beads incubated 1 h 4 c rotating wheel collected beads centrifugation 30 18 000 g 4 c washed three times bead buffer containing 50 mm tris ph 7 4 5 mm naf 250 mm nacl 5 mm edta 5 mm egta 0 1 nonidet p-40 protease inhibitor coktail roche directly added sample buffer washed pellets heat-denatured proteins ran samples 10 bis-tris sds page transferred proteins onto hybond nitrocellulose membranes processed blots according standard procedures western blot experiments used following primary antibodies anti-myc abcam ab9106 1 2 000 anti-v5 invitrogen r960 1 5 000 anti-tubulin santa cruz biotechnology b-7 1 500 anti-cdk10 covalab pab0847p 1 500 santa cruz biotechnology c-19 1 500 anti-cycm home-made dilution 1 500 covalab pab0882-p dilution 1 500 anti-raf1 santa cruz biotechnology c-20 1 1 000 anti-ets2 santa cruz biotechnology c-20 1 1 000 anti-flag sigma f7425 1 1 000 anti-actin sigma a5060 1 5 000 used hrp-coupled anti-goat santa cruz biotechnology sc-2033 dilution 1 2 000 anti-mouse bio-rad 170 6516 dilution 1 3 000 anti-rabbit bio-rad 172 1019 1 5 000 secondary antibodies revealed blots enhanced chemiluminescence supersignal west femto thermo scientific production purification recombinant proteins gst-cdk10 kd strepii-cycm generated recombinant bacmids dh10bac escherichia coli baculoviruses sf9 cells using bac-to-bac system described provider invitrogen infected sf9 cells gst-cdk10- gst-cdk10kd -producing viruses coinfected cells strepii-cycm producing viruses collected cells 72 h infection purify gst-fusion proteins spun 250 ml cells resuspended pellet 40 ml lysis buffer pbs 250 mm nacl 0 5 nonidet p-40 50 mm naf 10 mm -glycerophosphate 0 3 mm na-vanadate containing protease inhibitor mixture roche lysed cells sonication spun lysate 30 min 15 000 g collected soluble fraction added 1-ml glutathione-sepharose matrix incubated 1 h 4 c washed four times lysis buffer one time kinase buffer see finally resuspended beads 100 l kinase buffer containing 10 vol vol glycerol storage 6his-ets2 transformed origami2 de3 novagen 6his-ets2 expression vector induced expression 0 2 mm isopropyl- -d-1-thiogalactopyranoside 3 h 22 c purify 6his-ets2 spun 50 ml cells resuspended pellet 2 ml lysis buffer pbs 300 mm nacl 10 mm imidazole 1 mm dtt 0 1 nonidet p-40 containing protease inhibitor mixture without edta roche lysed cells 1 6 bar using cell disruptor spun lysate 10 min 20 000 g collected soluble fraction added 200 l cobalt beads thermo scientific 1 h incubation 4 c rotating wheel washed four times lysis buffer elute incubated beads 30 min elution buffer pbs 250 mm imidazole ph 7 6 containing protease inhibitor mixture spun 30 10 000 g collected eluted protein protein kinase assays mixed glutathione-sepharose beads harboring gst-cdk10 wt kd either monomeric complexed strepii-cycm 22 7 bsa 15 mm dtt 100 atp 5 ci atp -32p 7 75 histone h1 1 6his-ets2 added kinase buffer 25 mm tris hcl 10 mm mgcl2 1 mm egta 1 mm dtt 3 7 heparin ph 7 5 total volume 30 l incubated reactions 30 min 30 c added laemli sample buffer heat-denatured samples ran 10 bis-tris sds page cut gel slices detect gst-cdk10 strepii-cycm western blotting stained gel slices containing substrate coomassie r-250 bio-rad dried detected incorporated radioactivity autoradiography identified four unrelated girls anogenital renal malformations dysmorphic facial features normal intellect syndactyly toes similar combination features reported previously mother daughter pair1 table 1 supplementary note online authors noted clinical overlap townes-brocks syndrome suggested phenotype represented separate autosomal dominant entity mim601446 define cardinal features syndrome characteristic facial appearance apparent telecanthus broad tripartite nasal tip variable syndactyly toes 2 5 hypoplastic labia anal atresia urogenital malformations fig 1a h also observed variety features table 1 figure 1 clinical molecular characterization star syndrome figure 1 clinical molecular characterization star syndrome f facial appearances cases 1 3 apparent telecanthus dysplastic ears thin upper lips c e toe syndactyly 2 5 3 5 4 5 b f cases illustrate recognizable features star syndrome specific parental consent obtained publication photographs anal atresia hypoplastic labia shown g h x-ray films feet case 2 showing four rays left delta-shaped 4th 5th metatarsals right h compare clinical picture array-cgh data log2 ratio represents copy number loss six probes spanning 37 9 50 7 kb one probe positioned within fam58a deletion remove parts functional genes j schematic structure fam58a position mutations fam58a five coding exons boxes cyclin domain green encoded exons 2 4 horizontal arrow indicates deletion extending 5 case 1 includes exons 1 2 whereas horizontal line exon 5 indicates deletion found case 3 removes exon 5 3 sequence pink horizontal bars boxes indicate amplicons used qpcr sequencing one alternative exon 5 amplicon indicated space constraints mutation 201dupt case 4 results immediate stop codon 555 1g 555-1g splice mutations cases 2 5 6 predicted deleterious alter conserved splice donor acceptor site intron 4 respectively full size image 97 kb table 1 clinical features star syndrome cases table 1 - clinical features star syndrome cases full table basis phenotypic overlap townes-brocks okihiro feingold syndromes analyzed sall1 ref 2 sall4 ref 3 mycn4 found mutations genes supplementary methods online next carried genome-wide high-resolution oligonucleotide array comparative genomic hybridization cgh 5 analysis supplementary methods genomic dna severely affected individual case 1 lower lid coloboma epilepsy syringomyelia identified heterozygous deletion 37 9 50 7 kb xq28 removed exons 1 2 fam58a fig 1i j using real-time pcr confirmed deletion child excluded unaffected parents supplementary fig 1a online supplementary methods supplementary table 1 online cgh customized oligonucleotide array enriched probes xq28 followed breakpoint cloning defined exact deletion size 40 068 bp g 152 514 164 152 554 231del chromosome x ncbi build 36 2 fig 1j supplementary figs 2 3 online deletion removes coding regions exons 1 2 well intron 1 2 774 bp 492 bp intron 2 36 608 bp 5 sequence including 5 utr entire krt18p48 pseudogene ncbi gene id 340598 paternity proven using routine methods find deletions overlapping fam58a available copy number variation cnv databases subsequently carried qpcr analysis three affected individuals cases 2 3 4 mother-daughter pair literature cases 5 6 case 3 detected de novo heterozygous deletion 1 1 10 3 kb overlapping exon 5 supplementary fig 1b online using xq28-targeted array cgh breakpoint cloning identified deletion 4 249 bp g 152 504 123 152 508 371del chromosome x ncbi build 36 2 fig 1j supplementary figs 2 3 removed 1 265 bp intron 4 exon 5 including 3 utr 2 454 bp 3 sequence found heterozygous fam58a point mutations remaining cases fig 1j supplementary fig 2 supplementary methods supplementary table 1 case 2 identified mutation 555 1g affecting splice donor site intron 4 case 4 identified frameshift mutation 201dupt immediately results premature stop codon n68xfsx1 cases 5 6 detected mutation 556-1g alters splice acceptor site intron 4 validated point mutations deletions independent rounds pcr sequencing qpcr confirmed paternity de novo status point mutations deletions sporadic cases none mutations seen dna 60 unaffected female controls larger deletions involving fam58a found 93 unrelated array-cgh investigations analyzing x-chromosome inactivation supplementary methods supplementary fig 4 online found complete skewing x inactivation cases 1 3 6 almost complete skewing case 2 suggesting cells carrying mutation active x chromosome growth disadvantage fetal development using rt-pcr rna lymphoblastoid cells case 2 supplementary fig 2 find aberrant splice products additional evidence mutated allele inactivated furthermore fam58a subjected x inactivation6 cases 1 3 parental origin deletions could determined result lack informative snps case 5 mother case 6 gave birth two boys clinically unaffected samples available cannot exclude condition lethal males fetal losses reported families function fam58a unknown gene consists five coding exons 642-bp coding region encodes protein 214 amino acids genbank lists mrna length 1 257 bp reference sequence nm 152274 2 expression gene est data found 27 48 adult tissues including kidney colon cervix uterus heart ncbi expression viewer unigene hs 496943 expression also noted 24 26 listed tumor tissues well embryo fetus genes homologous fam58a ncbi homologene 13362 found x chromosome chimpanzee dog zebrafish similar gene chromosome 23 however mouse rat true homologs species similar intronless genes chromosomes 11 mouse 10 rat likely arising retrotransposon insertion event murine x chromosome flanking genes atp2b3 dusp9 conserved remnants fam58a sequence detected fam58a contains cyclin-box-fold domain protein-binding domain found cyclins role cell cycle transcription control human phenotype resulting cyclin gene mutation yet reported homozygous knockout mice ccnd1 encoding cyclin d1 viable small reduced lifespan also dystrophic changes retina likely result decreased cell proliferation degeneration photoreceptor cells embryogenesis7 8 cyclin d1 colocalizes sall4 nucleus proteins cooperatively mediate transcriptional repression9 phenotype cases overlaps considerably townes-brocks syndrome caused sall1 mutations1 carried co-immunoprecipitation find sall1 sall4 would interact fam58a manner similar observed sall4 cyclin d1 found fam58a interacts sall1 sall4 supplementary fig 5 online supporting hypothesis fam58a sall1 participate developmental pathway fam58a mutations lead star syndrome growth retardation cases table 1 retinal abnormalities three cases reminiscent reduced body size retinal anomalies cyclin d1 knockout mice7 8 therefore proliferation defect might partly responsible star syndrome address question carried knockdown fam58a mrna followed proliferation assay transfection hek293 cells three different fam58a-specific rnai oligonucleotides resulted significant reduction fam58a mrna expression proliferation transfected cells supplementary methods supplementary fig 6 online supporting link fam58a cell proliferation found loss-of-function mutations fam58a result rather homogeneous clinical phenotype additional anomalies case 1 likely result effect 40-kb deletion expression neighboring gene possibly atp2b3 dusp9 however cannot exclude homogeneous phenotype results ascertainment bias fam58a mutations including missense changes could result broader spectrum malformations genes causing overlapping phenotypes star syndrome townes-brocks syndrome seem act pathway note mycn gene mutated feingold syndrome direct regulator cyclin d2 refs 10 11 thus worth exploring whether phenotypic similarities feingold star syndrome might explained direct regulation fam58a mycn fam58a located approximately 0 56 mb centromeric mecp2 xq28 duplications overlapping mecp2 fam58a described associated clinical phenotype females12 deletions overlapping mecp2 fam58a observed date13 although genes fam58a mecp2 implicated brain development fam58a mecp2 genes region known result x-linked dominant phenotypes thus deletion genes allele might lethal males females\n"
     ]
    }
   ],
   "source": [
    "print(result['TEXT'][0])"
   ]
  },
  {
   "cell_type": "code",
   "execution_count": 0,
   "metadata": {
    "colab": {
     "base_uri": "https://localhost:8080/",
     "height": 206
    },
    "colab_type": "code",
    "executionInfo": {
     "elapsed": 1116,
     "status": "ok",
     "timestamp": 1552623989359,
     "user": {
      "displayName": "Atul Rana",
      "photoUrl": "https://lh4.googleusercontent.com/-tLVUUtH-AZE/AAAAAAAAAAI/AAAAAAAAMt0/14Rk9-FZ5I4/s64/photo.jpg",
      "userId": "06185900944594624481"
     },
     "user_tz": -330
    },
    "id": "HQcr5_wiDLMP",
    "outputId": "e101f9f2-d8b6-4290-fe60-4db5e3c2f847"
   },
   "outputs": [
    {
     "data": {
      "text/html": [
       "<div>\n",
       "<style scoped>\n",
       "    .dataframe tbody tr th:only-of-type {\n",
       "        vertical-align: middle;\n",
       "    }\n",
       "\n",
       "    .dataframe tbody tr th {\n",
       "        vertical-align: top;\n",
       "    }\n",
       "\n",
       "    .dataframe thead th {\n",
       "        text-align: right;\n",
       "    }\n",
       "</style>\n",
       "<table border=\"1\" class=\"dataframe\">\n",
       "  <thead>\n",
       "    <tr style=\"text-align: right;\">\n",
       "      <th></th>\n",
       "      <th>ID</th>\n",
       "      <th>Gene</th>\n",
       "      <th>Variation</th>\n",
       "      <th>Class</th>\n",
       "      <th>TEXT</th>\n",
       "    </tr>\n",
       "  </thead>\n",
       "  <tbody>\n",
       "    <tr>\n",
       "      <th>1</th>\n",
       "      <td>1</td>\n",
       "      <td>CBL</td>\n",
       "      <td>W802*</td>\n",
       "      <td>2</td>\n",
       "      <td>abstract background non-small cell lung cancer...</td>\n",
       "    </tr>\n",
       "    <tr>\n",
       "      <th>2</th>\n",
       "      <td>2</td>\n",
       "      <td>CBL</td>\n",
       "      <td>Q249E</td>\n",
       "      <td>2</td>\n",
       "      <td>abstract background non-small cell lung cancer...</td>\n",
       "    </tr>\n",
       "    <tr>\n",
       "      <th>33</th>\n",
       "      <td>33</td>\n",
       "      <td>TERT</td>\n",
       "      <td>Amplification</td>\n",
       "      <td>2</td>\n",
       "      <td>current world health organization classificati...</td>\n",
       "    </tr>\n",
       "    <tr>\n",
       "      <th>71</th>\n",
       "      <td>71</td>\n",
       "      <td>CCND2</td>\n",
       "      <td>Amplification</td>\n",
       "      <td>2</td>\n",
       "      <td>cyclin-dependent protein kinases cdks regulate...</td>\n",
       "    </tr>\n",
       "    <tr>\n",
       "      <th>75</th>\n",
       "      <td>75</td>\n",
       "      <td>CCND3</td>\n",
       "      <td>Amplification</td>\n",
       "      <td>2</td>\n",
       "      <td>cyclin-dependent protein kinases cdks regulate...</td>\n",
       "    </tr>\n",
       "  </tbody>\n",
       "</table>\n",
       "</div>"
      ],
      "text/plain": [
       "    ID   Gene      Variation  Class  \\\n",
       "1    1    CBL          W802*      2   \n",
       "2    2    CBL          Q249E      2   \n",
       "33  33   TERT  Amplification      2   \n",
       "71  71  CCND2  Amplification      2   \n",
       "75  75  CCND3  Amplification      2   \n",
       "\n",
       "                                                 TEXT  \n",
       "1   abstract background non-small cell lung cancer...  \n",
       "2   abstract background non-small cell lung cancer...  \n",
       "33  current world health organization classificati...  \n",
       "71  cyclin-dependent protein kinases cdks regulate...  \n",
       "75  cyclin-dependent protein kinases cdks regulate...  "
      ]
     },
     "execution_count": 17,
     "metadata": {
      "tags": []
     },
     "output_type": "execute_result"
    }
   ],
   "source": [
    "result[ result['Class']==2 ].head()"
   ]
  },
  {
   "cell_type": "code",
   "execution_count": 0,
   "metadata": {
    "colab": {
     "base_uri": "https://localhost:8080/",
     "height": 54
    },
    "colab_type": "code",
    "executionInfo": {
     "elapsed": 1536,
     "status": "ok",
     "timestamp": 1552623994917,
     "user": {
      "displayName": "Atul Rana",
      "photoUrl": "https://lh4.googleusercontent.com/-tLVUUtH-AZE/AAAAAAAAAAI/AAAAAAAAMt0/14Rk9-FZ5I4/s64/photo.jpg",
      "userId": "06185900944594624481"
     },
     "user_tz": -330
    },
    "id": "VvhQOv8QDT8F",
    "outputId": "6bfe7122-4b31-49c6-d755-ea0c211e13ff"
   },
   "outputs": [
    {
     "name": "stdout",
     "output_type": "stream",
     "text": [
      "abstract background non-small cell lung cancer nsclc heterogeneous group disorders number genetic proteomic alterations c-cbl e3 ubiquitin ligase adaptor molecule important normal homeostasis cancer determined genetic variations c-cbl relationship receptor tyrosine kinases egfr met functionality nsclc methods findings using archival formalin-fixed paraffin embedded ffpe extracted genomic dna show c-cbl mutations occur somatic fashion lung cancers c-cbl mutations mutually exclusive met egfr mutations however independent p53 kras mutations normal tumor pairwise analysis significant loss heterozygosity loh c-cbl locus 22 n 8 37 none samples revealed mutation remaining copy c-cbl c-cbl loh also positively correlated egfr met mutations observed samples using select c-cbl somatic mutations s80n h94y q249e w802* obtained caucasian taiwanese african-american samples respectively transfected nsclc cell lines increased cell viability cell motility conclusions taking overall mutation rate c-cbl combination somatic missense mutation loh clear c-cbl highly mutated lung cancers may play essential role lung tumorigenesis metastasis go introduction us alone year approximately 219 400 people diagnosed lung cancers 145 000 succumb disease 1 number roughly equivalent combined mortality rates cancers breast prostate colon liver kidney melanoma 1 addition prognosis usually poor five-year survival rate less 15 also significant ethnic differences lung cancer outcome worse blacks compared whites gender differences also striking women significantly better prognosis compared men number genetic alterations occur lung cancer example nsclc mutations kras p53 egfr met identified many pathways especially receptor tyrosine kinases rtks controlled c-cbl cbl casitas b-lineage lymphoma mammalian gene located human chromosome 11q23 3 2 involved cell signaling protein ubiquitination 3 cbl proteins belong ring finger class ubiquitin ligases e3 three homologues c-cbl cbl-b cbl-3 4 c-cbl cbl-b genes ubiquitously expressed highest levels hematopoietic tissues 5 c-cbl consists four regions encoding functionally distinct protein domains n-terminal tyrosine kinase binding tkb domain linker region catalytic ring finger domain proline-rich region c-terminal ubiquitin-associated uba domain also overlaps leucine-zipper lz domain 3 tkb ring finger domains essential ligand-induced ubiquitination rtks 6 7 8 9 ring finger domain required recruitment e2 ubiquitin-conjugating enzymes tkb domain includes four-helix bundle 4h calcium-biding ef hand modified sh2 domain binds phosphotyrosine residues 3 10 11 12 addition proline-rich region c-cbl associate sh3 domain grb2 indirectly recruit c-cbl rtks via grb2 adaptor protein 7 13 14 c-cbl also binds egfr acts e3 targets egfr ubiquitination degradation furthermore cbl desensitizes egf signaling opposes cellular proliferation induced egf 15 egf activation also appears activate tyrosine kinase src phosphorylates c-cbl turn activates ubiquitination degradation egfr 16 17 18 recent study shows defective endocytosis egfr characterized deletion mutant point mutation l858r whereby association c-cbl subsequent ubiquitination impaired 19 recently first human c-cbl mutations reported acute myeloid leukemia aml patients 20 mutation r420q inhibits fms-like tyrosine kinase 3 flt3 internalization ubiquitination 20 e3 activity important oncogenesis c-cbl dual separate function signal transduction molecule previously shown c-cbl important binding crkl bcr abl hematopoietic cells also bind modulate functions cytoskeleton binding proteins like talin paxillin tkb domain important binding number molecules function signal transduction given critical role cbl normal homeostasis cancer hypothesized might mutated lung cancers study report novel c-cbl somatic mutations s80n h94y q249e w802* caucasian taiwanese african-american lung cancer patients respectively expressing mutations nsclc cell lines lead increased proliferation cell motility show c-cbl mutations occur without met egfr mutations mutually exclusive loh c-cbl locus additionally c-cbl loh associated either met egfr mutations thus hypothesize c-cbl mutations might contribute oncogenic potential met egfr lung cancer go methods ethics statement written consent research human subjects obtained institutional review board university chicago covers research performed laboratory following contact information institutional review board university chicago mcgiffert hall 5751 woodlawn ave 2nd floor chicago il 60637 written informed consents received patients whose tissue samples used study tissue samples lung cancer tissue paired adjacent normal lung tissues obtained 50 caucasian 29 african-americans 40 taiwanese nsclc patients recruited university chicago hospital chicago usa caucasian african-american patients taipei veterans general hospital taiwan taiwanese patients obtaining appropriate institutional review board permission informed consent patients 119 samples 77 men 38 women 4 unknown age diagnosis ranging 47 90 years terms tumor types 53 adenocarcinoma 32 squamous cell carcinoma 34 large cell carcinoma 49 stage 14 stage ii 34 stage iii 13 stage iv table s1 cell culture human non-small cell lung carcinoma cells a549 h358 maintained dmem rpmi-1640 respectively human embryonic kidney 293t cells cultured dmem media supplemented 10 fetal bovine serum 100 units ml penicillin 100 g ml streptomycin invitrogen carlsbad ca cells cultured 37 c humidified incubator containing 5 co2 c-cbl gene mutational analysis exons 2 16 c-cbl gene individually amplified polymerase chain reaction pcr primers listed table s2 pcr conditions 1 cycle 95 c 5 minutes 35 cycles 94 c 30 seconds 58 c 30 seconds 72 c 2 minutes one cycle 72 c 10 minutes pcr products treated exosap-it usb corporation cleveland oh sequenced big-dye terminator chemistry applied biosystems foster city ca sequencing performed forward coding strand confirmation c-cbl alterations performed sequencing reverse strand well chromatograms analyzed mutations using mutation surveyor v2 61 softgenetics state college pa plasmid constructs site-directed mutagenesis wild-type c-cbl cdna insert subcloned paltermax expression vector using xhoi sali restriction enzyme sites promega madison wi using parental plasmid paltermax-c-cbl tkb domain double mutation s80n h94y point mutation q249e c-terminal point mutation w802* c-cbl created using following primers 5 -gctggcgctaaagaataacccaccttatatcttagac-3 5 -ctaccagatacctaccagtatctccgtactatcttgtc-3 double mutation s80n h94y 5 -ctttacccgactctttgagccctggtcctctttgc-3 q249e 5 -cagctcctcctttggctgattgtctctggatggtgatc-3 w802* along complementary primers using quickchange site-directed mutagenesis xl kit stratagene la jolla ca according manufacturer instructions constructs confirmed point mutations standard dna sequencing strands loss heterozygosity loh analysis five microsatellites chromosome 11 3 11q within 200 kb downstream c-cbl gene 2 control markers 11p selected analysis table s3 established microsatellite markers respective primer sequences selected geneloc database http genecards weizmann ac il geneloc index shtml weizmann institute science rehovot israel primers custom designed forward primer fluorescently labeled 5 end fam pet ned vic applied biosystems primer annealing temperatures duplex scores evaluated nist primer tools http yellow nist gov 8444 dnaanalysis primertoolspage national institute standards technology gaithersburg md primers verified performing pcr control dna isolated tk6 cells resolving products agarose gels bands visualized uv transilluminator genomic dna extracted tumor samples paired normal lung tissue primers grouped multiplex combinations shown table s4 marker d11s929 served internal control check consistency pcrs peaks capillary electrophoresis multiplex pcrs carried volume 10 l contained 1 l genomic dna 20 50 ng 0 5 primer 1 0 total primer pair 400 dntps 1x pcr buffer containing mgcl2 0 2 u taq dna polymerase pcr performed abi geneamp 9700 pcr system following conditions 5 min 94 c 30 cycles 30 sec 94 c 1 min 60 c 1 min 72 c 5 min 72 c pcr products separated capillary electrophoresis abi 3130xl dna analyzer chromatograms analyzed peak scanner 1 0 genemapper 3 7 software applied biosystems allelic alterations area peaks produced dna pcr products quantified allele ratio allelic areas calculated tumor paired normal dna sample qloh allelic ratio tumor peaks divided allelic ratio paired normal sample 0 5 2 0 c-cbl least one 11q marker least two separate experiments sample considered allelic imbalance interpreted loh samples evaluated least two separate experiments samples showing prospective loh c-cbl repeated third time included new control marker bax locus data shown chromosome 19 verify integrity sample dna transfection c-cbl constructs a549 cell line transfected using fugene hd roche nutley nj reagent according manufacturer instructions eight g plasmid dna containing either insert empty vector wild-type c-cbl s80n h94y c-cbl q249e c-cbl w802* cbl used transfection 6-well culture plate cells harvested 48 h transfection analyzed expression c-cbl knockdown c-cbl knockdown performed using lentiviral transduction using mission lentiviral transduction particles sigma-aldrich st louis mo per manufacturer instructions briefly 1 105 h358 cells well seeded 6-well plates infected following day c-cbl lentiviral shrna constructs generate stable c-cbl knockdown cell lines cells selected 2 days 1 g ml puromycin c-cbl levels determined using whole cell lysates immunoblotting anti-cbl antibody santa cruz biotechnologies santa cruz ca cell viability assay cells transfected described transfection assay forty-eight hours transfection viability cells assessed using trypan blue exclusion wound healing assay a549 cells seeded 6-well plates cultured 48 h 100 confluent medium changed cells transfected described transfection assay twelve hours transfection straight scratch made across cell layer using 1 ml pipette tip cells gently washed 1 pbs remove cellular debris media replaced photographs taken wound region every 12 h 48 h western blot analysis forty eight hours transfection cells collected washed twice 1x pbs lysed ice-cold lysis buffer 0 5m tris-hcl ph 7 4 1 5 nacl 2 5 deoxycholic acid 10 mm edta 10 np-40 0 5 mm dtt 1 mm phenylmethylsulfonyl fluoride 5 g ml leupeptin 10 g ml aprotinin 5 minutes lysate centrifuged 13 000 rpm 20 minutes 4 c protein content supernatant measured total cell lysates 50 g well separated sds-page electrophoresis gels transferred onto nitrocellulose membranes whatman piscataway nj membranes blocked 5 non-fat dry milk phosphate-buffered saline containing tween-20 pbst 1x pbs 0 1 tween-20 1 h room temperature incubated appropriate primary antibody 4 c overnight membranes washed three times pbst probed appropriate horseradish peroxidase hrp -conjugated secondary antibody 1 h room temperature membranes washed three times pbst bands visualized using western blot chemiluminescence reagent biorad valencia ca chemidoc gel documentation system biorad valencia ca antibodies obtained santa cruz biotechnologies used following dilutions c-cbl 1 5000 c-met 1 5000 egfr 1 5000 ubiquitin 1 1000 ha 1 5000 -actin 1 10 000 flow cytometry cell cycle analysis carried flow cytometry approximately 2 106 cells grown media containing 10 fbs cells harvested trypsin edta treatment washed 1x pbs three times fixed ice-cold 70 ethanol 2 h cells washed cold pbs stained solution containing 25 g ml propidium iodide 200 g ml rnase 0 1 triton x-100 30 minutes dark cell cycle analysis performed using guava pca-96 flow cytometer guava technologies millipore billerica ubiquitin ligase activity 293t cells maintained culture dmem supplemented 10 fbs 1 penicillin 100 units ml streptomycin 100 g ml transfected 0 2 g egfr-pcdna3 2 g ha-tagged c-cbl constructs indicated using calcium phosphate according manufacturer protocol profection promega madison wi twenty-four hours post-transfection cells starved overnight dmem supplemented 0 5 fbs treated without egf 100 ng ml 15 min cells collected washed two times ice-cold pbs containing 0 2 mm sodium orthovanadate lysed ice-cold lysis buffer 10 mm tris hcl ph 7 5 150 mm nacl 5 mm edta 1 triton x100 10 glycerol 2 mm sodium orthovanadate protease inhibitors lysates cleared debris centrifugation 16 000 g 10 min 4 c egfr immunoprecipitations performed 200 g cleared lysate using 250 ng rabbit-anti-egfr protein g plus sepharose overnight 4 c precipitations washed 5 times lysis buffer boiling laemmli buffer elutions immunoblotted anti-ubiquitin egfr twenty micrograms cleared lysate immunoblotted c-cbl constructs using anti-ha statistical analysis mutation rates different groups compared using fisher exact test continuous variables group comparisons performed using analysis variance anova followed sidak adjustment multiple comparisons experiments involving repeated measurements time analyzed using repeated measures anova greenhouse-geisser adjustment degrees freedom analyses conducted using stata v10 1 software stata corporation college station tx go results c-cbl gene mutations lung cancer investigate role c-cbl lung cancer analyzed genomic dna tumor paired normal samples drawn multiple ethnicities lung tumor samples represented caucasians n 50 african-americans n 29 taiwanese n 40 lung cancer patients designed 12 pairs primers sequence coding region c-cbl gene spans exons 2 16 table s2 identified 8 unique somatic mutations c-cbl exons among 8 different patients variation l620f known snp rs2227988 exon 11 also detected importantly eight novel non-synonymous mutations confirmed sequencing strands c-cbl genomic dna obtained lung tumor samples table 1 moreover none 8 mutations detected corresponding normal tissue indicating somatic mutations four synonymous single nucleotide variations snvs also identified used study table 1 table 1 c-cbl mutation analysis 119 lung cancer patient tumor tissues three 8 novel non-synonymous mutations located tkb tyrosine kinase binding domain s80n h94y q249e one ring finger domain v391i one proline-rich region 72515 72517 del atg three c-terminal region w802* r830k a848t c-cbl protein figure 1a figure s1 figure 1b show model chromatograms representative samples figure 1 figure 1 c-cbl mutations loh non-small cell lung cancer 11q loh c-cbl gene paired lung tumor normal lung tissue samples taiwanese patients n 37 investigated loh eight 21 6 showed loh c-cbl locus chromosome 11 29 samples 78 4 revealed normal allelic contribution microsatellite markers figures 1c c-cbl mutations different ethnic groups c-cbl double mutant s80n h94y found patient overall mutation rate c-cbl lung tumors 6 7 8 119 frequency c-cbl mutation highest large cell carcinoma 14 7 5 34 patients followed squamous carcinoma 6 3 2 32 patients least observed adenocarcinoma ad 1 8 1 53 patients although rates statistically significant p 0 292 mutation rates 6 0 among caucasians 0 20 ad 0 10 sq 3 20 lc 13 8 african-americans 1 10 ad 1 10 sq 2 9 lc 2 5 0 23 ad 1 12 sq 0 5 lc taiwanese population additionally two taiwanese patients lung cancer one squamous one adenocarcinoma known snp l620f ethnic differences statistically significant however power detect differences low mutations met egfr co-associated c-cbl alterations since east asians lung cancer higher frequency egfr met mutations lung tumors 21 22 also determined mutations egfr met taiwanese cohort samples compared results observed c-cbl alterations loh mutations 37 samples tested find overlap c-cbl mutations c-cbl loh figure 2 three c-cbl mutants including known l620f snp rs2227988 one samples met mutation n375s egfr mutation l858r among 8 samples loh c-cbl locus 5 additional mutation met n375s 2 egfr exon 19 deletion twenty-six samples neither c-cbl mutation c-cbl loh 3 patients c-cbl mutation c-cbl loh among 26 samples 9 met mutation 8 n375s 1 l211w 13 egfr mutation 7 exon 9 deletion 6 l858r 4 met egfr mutation thus rate met egfr mutations among patients loh c-cbl locus 7 8 similar seen patients without c-cbl mutation loh 22 26 patients p 0 99 4 patients identifiable mutation c-cbl met egfr represented 10 8 37 patients analyzed taiwanese patient cohort conversely 89 2 taiwanese lung cancer patients identifiable mutation either c-cbl met egfr combination three genes figure 2 additionally determined p53 kras mutations taiwanese cohorts two p53 1 kras mutation detected single kras mutation overlapped one p53 mutation patient also egfr exon 19 deletion c-cbl mutation p53 mutation sample c-cbl loh concurrent met n375s mutation thus taiwanese samples analyzed p53 kras mutations c-cbl mutations mutually exclusive data shown figure 2 figure 2 c-cbl mutations relationship met egfr mutations lung cancer cellular functions c-cbl alterations context lung tumorigenesis e3 activity intact mutant c-cbl proteins investigate whether different c-cbl mutations affect e3 activity egfr chosen model substrate c-cbl e3 function c-cbl mutants tested enhanced ubiquitination activated egfr similar wild-type c-cbl protein result demonstrates catalytic activity c-cbl mutants impaired egfr substrate figure 3a figure 3 figure 3 ubiquitination viability expression cell cycle analysis various c-cbl mutants b effect lung cancer cell viability effect representative c-cbl mutant three ethnic backgrounds lung cancer cell viability cell lines determined s80n h94y double mutation q249e w802* identified lung tumor samples obtained caucasian taiwanese african-american respectively described methods c-cbl wild-type wt three mutants expressed cloning paltermax vector a549 cells cells express relatively low basal levels endogenous c-cbl data shown transfection efficiency comparable different groups number cells transfected c-cbl wild-type construct 70 compared control cells transfected empty vector cells transfected s80n h94y q249e w802* c-cbl mutant constructs resulted increased number viable cells 132 3 120 8 147 9 higher respectively relative empty vector control transfected cells significantly different wild-type construct p 0 022 p 0 049 p 0 008 respectively figure 3b relative levels c-cbl protein whole cell lysates prepared samples obtained parallel experiment determined c-cbl protein levels samples representing untransfected empty vector transfected cells comparable representing c-cbl wt three c-cbl mutants comparable figure 3c c effect cell cycle investigate increases cell viability different c-cbl mutants due increased cellular proliferation cell cycle analysis performed a549 cells transfected c-cbl wt three different mutants s80n h94y q249e w802* empty vector transfectant used control forty-eight hours transfection cell cycle analysis performed described materials methods significant change subg1 g1 phase cell cycle among different mutants compared wt construct p 0 64 p 0 40 p 0 28 respectively g2 phase cell cycle showed increase cell numbers three mutants s80n h94y q249e w802* compared wt difference statistically significant p 0 25 figure 3d effect cell motility investigate effect expression three c-cbl mutants cell migration carried wound healing assay described materials methods closing scratch wound monitored 0 12 24 36 48 h figure 4a samples represented cells transfected mutants wound gap much smaller seen sample represented cells transfected c-cbl wt p 0 001 also determined rate wound closure five groups 48 h wild-type c-cbl transfectants showed 61 1 open wound s80n h94y q249e w802* mutants showed 18 7 23 9 34 3 open wound respectively p 0 001 figure 4b figure 4 figure 4 c-cbl mutations affect wound healing a549 cells e c-cbl knockdown increases cell viability hypothesized loh seen samples could lead decreased expression c-cbl thus tested effect c-cbl knockdown lung cancer cells compared a549 h358 lung cancer cells express relatively high levels endogenous c-cbl data shown c-cbl expression knocked using lentiviral construct expressed c-cbl specific shrna compared results transduced scrambled shrna results shown figure 5 identified several clones revealed varying degrees c-cbl knockdown showing different sets c-cbl lentiviral shrna knockdown efficiency figure 5a clones tested clone 27 chosen experiments equal amount cells seeded 6-well plate cell proliferation measured various times results depicted figure 5b expected number cells increased time dependent fashion 100 190 relative scrambled shrna control span 48 h p 0 0002 figure 5b cell cycle phases h358 cells knocked c-cbl shrna looked compared scrambled shrna discernable differences two constructs different phases cell cycle data shown figure 5 figure 5 knockdown c-cbl using shrna increases cell proliferation go discussion results demonstrate c-cbl somatically mutated loh lung cancers significantly contribute enhanced cell viability motility also high prevalence loh respect c-cbl lung tumors harbored met egfr mutation present study demonstrated occurrence c-cbl mutations lung cancer patients especially different ancestral variations mutations c-cbl recently reported juvenile myelomonocytic leukemia myeloid malignancies aml study mutation r420q located junction ring finger linker region inhibited fms-like tyrosine kinase 3 flt3 internalization ubiquitination 20 thus contributing gain-in-function rtk addition mutations h398y c384r l380p mapped ring finger domain linker region c-cbl required e3 activity 23 24 25 26 27 additionally homozygous mutations ring finger domain c-cbl gene described result acquired uniparental disomy upd 26 important note results indicate loh 11q23 locus mutually exclusive missense mutations c-cbl somatic mutations heterozygous mutations aml led abrogation e3 activity leading prolonged rtk activation addition mutants located linker region surrounding ring finger domain exhibited enhanced akt signaling response cytokine stimulation 26 addition shown nh3t3 cells neither mutations ring finger linker region causes transformation however certain mutations perturbs ubiquitination others affect receptor recycling prolong kinase activity 28 report c-cbl mutations mapped ring finger domain also tkb domain proline-rich domain c-terminal region none mapped linker region reported aml studies described 23 24 25 26 29 addition 8 mutants detected found different ethnic backgrounds example s80n h94y q249e w802* detected caucasians taiwanese african-americans respectively results point difference lung cancer cancers also genetic polymorphism among different races cancer interestingly large disparity african-american ethnic populations lung cancer 30 previously shown low frequency egfr met mutation african-americans compared taiwanese caucasians 31 study number african-american samples analyzed relatively fewer found 3 mutations unique ethnicity would behoove us study genetic alterations occur determine targeted therapeutics african-americans results provide evidence importance c-cbl tumorigenesis potential signaling prediction based aml data would v391i ring finger domain mutation would affect e3 activity also important determine binding partners c-cbl tkb domain proline rich domain mutations previously shown tkb domain bind growth factor receptors important determine cross-binding mutants met egfr would also important future look fluorescence situ hybridization copy number changes c-cbl lung cancer c-cbl plays important role regulating rtk-mediated signaling k63 poly-ubiquitination subsequent downregulation rtks followed lysosomal degredation 3 mono-ubiquitination ubiquitinated k63-linked chains substrates c-cbl may lead enhancement biological biochemical functions reviewed hermann et al 2007 32 mutations analyzed studies point fact e3 activity c-cbl egfr intact egfr levels various mutants remain figure s2 multiple kinases rtks non-rtks could acted upon c-cbl including erbs pdgfr fms met c-kit vegfr flt-1 ron fgfr ir well syk fyn lck fgr lyn c-abl 3 lung cancers relevant substrates c-cbl terms degradation signal transduction yet identified observation c-cbl somatic mutations especially s80n h94y q249e w802* showed increased cell viability cell motility agreement physiological role d-cbl regulation apoptosis differentiation identified drosophila significant 33 previously shown activating c-cbl mutation downregulates egfr signaling decreases cellular proliferation migration breast cancer cell lines 34 although role c-cbl negative regulation rtks well substantiated thereby suggesting natural tumor suppressor studies cancer cells revealed tumor suppressor tumor promoting activities depending type c-cbl mutation number alleles c-cbl locus 24 agreement three c-cbl mutants described appear tumor growth metastasis promoting properties although mutants outside ring finger linker region c-cbl downstream effects significant cause increased proliferation migration substrate affected mutations known yet raises possibility cellular functions c-cbl independent ubiquitin-ligase activity area currently investigating oncogenic nature rtks addiction cancers growth signals given clustering c-cbl egfr met mutations possible transforming effect c-cbl mutations likely combinatorial effect three also show loh c-cbl found significant number samples harbored met egfr mutations fact 7 lung tumor samples likely c-cbl mutations additional 22 likely harbor c-cbl-related loh makes c-cbl highly mutated molecule lung cancer since loh alone enough cause transforming event 35 36 37 associated mutation met egfr locus yet another rtk discussed may play role carcinogenesis predict loh c-cbl results haploinsufficiency downplays rtk ubiquitination leading hyperactivity rtks however whether sufficient cause tumorigenesis remains determined consistent hypothesis fact c-cbl- - mice increased kinase activity lymphocytes sufficient tumor formation 35 36 37 c-cbl loh could also lead increased expression c-cbl allele compensate loss allele alternately could form synergy working reduced c-cbl levels mutated receptors exacerbate phenotype alone previous studies lab others shown east asians lung cancers relatively high frequencies gain-of-function mutations rtks egfr met 31 cohort japanese patients activating met mutation identified splice region deletes juxtamembrane domain involved e3 activity c-cbl 38 study also found activation met mutually exclusive egfr kras her2 gene mutations 38 failed detect mutations significant numbers lung tumor samples obtained african-americans n 29 caucasian n 50 patients one met mutation identified groups whereas 1 3 egfr mutations identified african-american caucasian cohorts respectively egfr mutations earlier identified one key mutations affecting lung adenocarcinoma patients comprehensive study 188 patients 39 study encompasses different histologies nsclc however published series find mutations c-cbl met unlike study encompassed different subtypes nsclc important note recently shown met mutations lung cancer majority germline 31 reported earlier c-cbl mutations small cohort taiwanese lung cancer samples 40 efforts understand ethnic differences lung oncogenome also looked pax transcription factors pax5 pax8 highly expressed lung cancers however preferential expression mutations genes lung tumor samples african-americans study show relatively high frequency c-cbl mutations lung cancers especially large cell type among caucasians particularly among african-americans therefore propose c-cbl efficacious target lung cancers african-americans needs substantiated important prognosis african-americans lung cancer especially men much poorer compared caucasian counterparts 41 conclusion results presented study demonstrate c-cbl frequently mutated even lost lung cancers results support role c-cbl mutants independent ubiquitination activity given relatively high mutation rates c-cbl well rtks met egfr likely combined effect could synergistic promoting tumorigenesis\n"
     ]
    }
   ],
   "source": [
    "print(result['TEXT'][1])"
   ]
  },
  {
   "cell_type": "code",
   "execution_count": 0,
   "metadata": {
    "colab": {
     "base_uri": "https://localhost:8080/",
     "height": 206
    },
    "colab_type": "code",
    "executionInfo": {
     "elapsed": 735,
     "status": "ok",
     "timestamp": 1552623996788,
     "user": {
      "displayName": "Atul Rana",
      "photoUrl": "https://lh4.googleusercontent.com/-tLVUUtH-AZE/AAAAAAAAAAI/AAAAAAAAMt0/14Rk9-FZ5I4/s64/photo.jpg",
      "userId": "06185900944594624481"
     },
     "user_tz": -330
    },
    "id": "AoOW-M96E9AR",
    "outputId": "50c43bcc-327b-4f12-d1b1-3d0be5f10ba7"
   },
   "outputs": [
    {
     "data": {
      "text/html": [
       "<div>\n",
       "<style scoped>\n",
       "    .dataframe tbody tr th:only-of-type {\n",
       "        vertical-align: middle;\n",
       "    }\n",
       "\n",
       "    .dataframe tbody tr th {\n",
       "        vertical-align: top;\n",
       "    }\n",
       "\n",
       "    .dataframe thead th {\n",
       "        text-align: right;\n",
       "    }\n",
       "</style>\n",
       "<table border=\"1\" class=\"dataframe\">\n",
       "  <thead>\n",
       "    <tr style=\"text-align: right;\">\n",
       "      <th></th>\n",
       "      <th>ID</th>\n",
       "      <th>Gene</th>\n",
       "      <th>Variation</th>\n",
       "      <th>Class</th>\n",
       "      <th>TEXT</th>\n",
       "    </tr>\n",
       "  </thead>\n",
       "  <tbody>\n",
       "    <tr>\n",
       "      <th>3</th>\n",
       "      <td>3</td>\n",
       "      <td>CBL</td>\n",
       "      <td>N454D</td>\n",
       "      <td>3</td>\n",
       "      <td>recent evidence demonstrated acquired uniparen...</td>\n",
       "    </tr>\n",
       "    <tr>\n",
       "      <th>196</th>\n",
       "      <td>196</td>\n",
       "      <td>EGFR</td>\n",
       "      <td>C628Y</td>\n",
       "      <td>3</td>\n",
       "      <td>feature many gliomas amplification epidermal g...</td>\n",
       "    </tr>\n",
       "    <tr>\n",
       "      <th>295</th>\n",
       "      <td>295</td>\n",
       "      <td>CHEK2</td>\n",
       "      <td>P85L</td>\n",
       "      <td>3</td>\n",
       "      <td>checkpoint kinase 2 chek2 chk2 emerges importa...</td>\n",
       "    </tr>\n",
       "    <tr>\n",
       "      <th>303</th>\n",
       "      <td>303</td>\n",
       "      <td>TMPRSS2</td>\n",
       "      <td>T75M</td>\n",
       "      <td>3</td>\n",
       "      <td>serine protease tmprss2 gene expression studie...</td>\n",
       "    </tr>\n",
       "    <tr>\n",
       "      <th>305</th>\n",
       "      <td>305</td>\n",
       "      <td>TMPRSS2</td>\n",
       "      <td>M160V</td>\n",
       "      <td>3</td>\n",
       "      <td>serine protease tmprss2 gene expression studie...</td>\n",
       "    </tr>\n",
       "  </tbody>\n",
       "</table>\n",
       "</div>"
      ],
      "text/plain": [
       "      ID     Gene Variation  Class  \\\n",
       "3      3      CBL     N454D      3   \n",
       "196  196     EGFR     C628Y      3   \n",
       "295  295    CHEK2      P85L      3   \n",
       "303  303  TMPRSS2      T75M      3   \n",
       "305  305  TMPRSS2     M160V      3   \n",
       "\n",
       "                                                  TEXT  \n",
       "3    recent evidence demonstrated acquired uniparen...  \n",
       "196  feature many gliomas amplification epidermal g...  \n",
       "295  checkpoint kinase 2 chek2 chk2 emerges importa...  \n",
       "303  serine protease tmprss2 gene expression studie...  \n",
       "305  serine protease tmprss2 gene expression studie...  "
      ]
     },
     "execution_count": 19,
     "metadata": {
      "tags": []
     },
     "output_type": "execute_result"
    }
   ],
   "source": [
    "result[ result['Class']==3 ].head()"
   ]
  },
  {
   "cell_type": "code",
   "execution_count": 0,
   "metadata": {
    "colab": {
     "base_uri": "https://localhost:8080/",
     "height": 54
    },
    "colab_type": "code",
    "executionInfo": {
     "elapsed": 1342,
     "status": "ok",
     "timestamp": 1552623999221,
     "user": {
      "displayName": "Atul Rana",
      "photoUrl": "https://lh4.googleusercontent.com/-tLVUUtH-AZE/AAAAAAAAAAI/AAAAAAAAMt0/14Rk9-FZ5I4/s64/photo.jpg",
      "userId": "06185900944594624481"
     },
     "user_tz": -330
    },
    "id": "tIZe5ePQE9yc",
    "outputId": "96758df0-155a-4210-ad2c-fa2e53caecba"
   },
   "outputs": [
    {
     "name": "stdout",
     "output_type": "stream",
     "text": [
      "recent evidence demonstrated acquired uniparental disomy aupd novel mechanism pathogenetic mutations cancer may reduced homozygosity help identify novel mutations myeloproliferative neoplasms mpns performed genome-wide single nucleotide polymorphism snp screen identify aupd 58 patients atypical chronic myeloid leukemia acml n 30 jak2 mutation negative myelofibrosis mf n 18 jak2 mutation negative polycythemia vera pv n 10 stretches homozygous copy neutral snp calls greater 20mb seen 10 33 acml 1 6 mf absent pv total 7 different chromosomes involved 7q 11q affected 10 acml cases cbl mutations identified 3 cases 11q aupd analysis 574 additional mpns revealed total 27 cbl variants 26 patients acml myelofibrosis chronic myelomonocytic leukemia variants missense substitutions ring linker domains abrogated cbl ubiquitin ligase activity conferred proliferative advantage 32d cells overexpressing flt3 conclude acquired transforming cbl mutations novel widespread pathogenetic abnormality morphologically related clinically aggressive mpns introduction myeloproliferative neoplasms mpns clonal hematopoietic stem cell disorders characterized overproliferation one myeloid cell lineages bone marrow increased numbers mature immature myeloid cells peripheral blood excess proliferation frequently associated splenomegaly cardiovascular complications well increased risk transformation acute leukemia mpns categorized subtypes based specific morphologic hematologic laboratory parameters best characterized 4 so-called classic mpns polycythemia vera pv essential thrombocythemia et primary myelofibrosis mf chronic myeloid leukemia cml 1 addition several atypical mpns recognized show dysplastic proliferative features atypical bcr-abl negative cml acml 2 mpns associated acquired activating mutations gene fusions tyrosine kinases abnormalities believed critical drivers excess proliferation result deregulated constitutive signaling 3 2 prominent examples bcr-abl cml4 v617f jak2 mutation pv et mf 5 8 40 variant tyrosine kinase fusions identified mpns well mutations jak2 flt3 2 activating mutations described components signal upstream eg mpl downstream eg nras tyrosine kinases9 10 however molecular pathogenesis majority atypical mpns approximately 50 et mf cases remains obscure v617f jak2 initially identified several different routes one based observation many pv patients show evidence acquired uniparental disomy aupd chromosome 9p 11 12 regions aupd exhibit loss heterozygosity loh compared constitutional dna without change copy number arise mitotic recombination followed selection one products initial observations pv emerged aupd common hematologic epithelial malignancies associated known oncogenic changes variety genes within affected regions 13 study set determine whether aupd characterizes mpns unknown molecular etiology whether could used tool help identify novel driver mutations methods patients peripheral blood bone marrow samples received patients diagnosed mpn hematologic malignancy according standard morphologic hematologic laboratory criteria clinical data available subset cases study approved internal review boards participating institutions informed consent obtained accordance declaration helsinki snp array analysis dna labeling hybridization affymetrix 50k xbai chips performed deutsches ressourcenzentrum f r genomforschung rzpd berlin germany raw data imported affymetrix genechip operating software analyzed using affymetrix high wycombe united kingdom genechip genotyping analysis software gtype 4 1 copy number analysis tool cnat data exported custom-designed spreadsheets display loss heterozygosity copy number changes ideogram format data also analyzed using affymetrix genotyping console version 2 1 overall median 98 2 range 91 5 -99 6 snps gave readable calls mutation analysis detection mutations high resolution melting hrm analysis performed described14 using rotor-gene 6000 corbett life sciences st neots united kingdom direct sequencing polymerase chain reaction pcr products performed standard techniques abi 3130 genetic analyzer applied biosystems warrington united kingdom analyzed using mutation surveyor softgenetics state college pa cbl mutations numbered relative atg 1 ensembl cdna sequence ensg00000110395 dropping factor relative intensity drop wild-type allele peak relative seen concurrently run normal sample 60 considered indicative biallelic mutation whereas dropping factor less 60 considered monoallelic primer sequences cbl exon 8 cbl i7f 5 -tgtggtttcactttaaaccctgga-3 cbl i8r 5 -gccaggccaccccttgtatc-3 cbl exon 9 cbl i8f 5 -ggcctggcttttgggttagg-3 cbl i9r 5 -cacaatggattttgccagtctcc-3 cbl reverse-transcriptase pcr rt-pcr performed random hexamer reverse transcribed rna using primers cble7f 5 -gaatcctgatctgactggcttatg-3 cble10r 5 -gctgcggcagaaggtcaagt-3 primer sequences available request microsatellite analysis dna samples amplified series fluorescently labeled primer pairs flanking highly polymorphic microsatellite markers chromosome 11q described 10 aupd scored 4 consecutive markers encompassing cbl homozygous without change allelic copy number p 05 occurring absence aupd based published rates heterozygosity copy number 11q estimated multiplex ligation probe amplification mlpa using marfan probeset 1 p065 mrc holland amsterdam netherlands kit contains four 11q control probes including one 11q23 3 constructs pmy-wtcbl pmy-cblr420q express wild-type r420q cbl respectively along green fluorescent protein gfp 15 cbl mutant constructs derived pmy-wtcbl using quikchange site-directed mutagenesis kit stratagene la jolla ca pal flt3 pcmv ha ubiquitin also described previously 15 cell lines il-3 dependent murine myeloid cell 32dcl3 32d purchased deutsche sammlung von mikroorganismen und zellkulturen braunschweig germany maintained 90 rpmi 1640 medium 10 fetal bovine serum fbs 10 wehi-3b conditioned medium wehi cells maintained humidified incubator 37 c 5 carbon dioxide 32d cells stably transduced electroporation wt-flt3 pal vector previously described16 maintained 15 ng ml blastocidin invitrogen paisley united kingdom platinum-e plat-e retrovirus packaging cell line17 transfected using calcium phosphate method 5 g cbl construct dna 106 32d wtflt3 cells cocultivated plat-e cells 48 hours volume 2 ml 50 rpmi 50 dmem 10 fbs 5 wehi gfp positive cells flow sorted highest possible purity using bd facsaria cell sorter becton dickinson stanford ca insufficient cells obtained experiments flow sorting cells maintained culture resorted greater 95 purity growth factor withdrawal assays cell growth compared wt-flt3 vector-only transfected cells parental 32d line stably transfected cells cells 105 ml grown 3 days triplicate cbl mutant wt-cbl control 96-well plates cultures analyzed daily proliferation using aqueous one solution cell proliferation assay kit mts assay promega southampton united kingdom experiments performed least 3 times independently results analyzed using graphpad prism 4 software graphpad software san diego ca ubiquitin ligase activity ubiquitin ligase activity cbl mutants comparison wild-type cbl determined transiently transfecting 107 32d wtflt3 cells expressing wild-type cbl mutants electroporation 20 g pcmv-ha ubiquitin cells maintained culture wehi 12 hours transfection washed serum deprived overnight exposed flt3 ligand 10 minutes lysed buffer described 18 lysates incubated flt3-specific polyclonal antibody overnight 4 c protein g agarose beads 100 l added incubated 4 c 4 hours beads washed 4 times ice-cold radioimmunoprecipitation assay ripa lysis buffer supernatant mixed sodium dodecyl sulphate sds sample loading buffer immunoblot analyses antibodies ha-ubiquitin sc-805 santa cruz biotechnology santa cruz ca cbl 2111c3a abcam cambridge united kingdom flt3 sc-479 cell signaling technology danvers results snp array analysis performed genome-wide snp analysis leukocyte dna extracted 58 mpd patients acml n 30 v617f jak2 negative mf n 18 jak2 mutation negative pv idiopathic erythrocytosis n 10 comparators also analyzed cases cml transformation blast crisis n 30 20 myeloid 10 lymphoid chronic lymphocytic leukemia cll n 20 conservatively defined likely regions aupd least 20 mb absent significantly reduced heterozygous snp calls ie 5 snps called heterozygous running telomere without change copy number figure 1a large regions uncommon healthy individuals 19 strikingly found aupd common acml 10 33 cases affected contrast aupd seen single case mf seen patient subgroups total 7 different chromosomes affected abnormalities 7q 11q seen recurrently 10 acml cases affected regions ranged size 29 mb complete copy chromosome 13 table 1 figure 1 download figureopen new tabdownload powerpoint figure 1 single nucleotide polymorphism array results initial mutation analysis array analysis 2 control patients showing copy number cn loss heterozygosity loh outputs x-axis cn plots show copy number 2 determined cnat values approaching exceeding 1 indicating deletions greater 1 indicating amplifications x-axis loh shows log10 p values ie 20 indicates 10 20 2 panels left polycythemia vera pv case homozygous v617f jak2 mutation gross copy number change individual datapoints spread around zero line large block homozygous snp calls 9p indicative aupd 2 panels right chronic myeloid leukemia cml blast crisis case show loh accompanied 20q deletion b case upn 5 large block 11q aupd apparent analysis granulocytes almost completely absent mononuclear cells mncs extracted sample c chromosome 1p aupd case upn 27 associated biallelic g mpl mutation predicted result w515l substitution whole chromosome 13 isodisomy case upn 28 associated homozygous flt3 itd two controls shown acute myeloid leukemia aml patient previously known heterozygous flt3 itd healthy individual view inlineview popup table 1 chromosomal regions cases affected aupd association aupd known acquired oncogenic mutations although constitutional dna formally confirm regions homozygosity acquired 1 individual found marked reduction proportion 11q aupd positive cells comparison mononuclear cells granulocytes consistent acquired abnormality figure 1b affected regions harbor genes known relevant hematologic malignancies therefore assessed mutational status sequencing mpl gene case upn 27 1p aupd revealed homozygous g change figure 1c results previously reported w515l substitution 9 case upn 28 whole chromosome 13 upd homozygous flt3 internal tandem duplication itd figure 1d candidate genes abnormalities 17q 21q include nf1 runx1 respectively however investigated 11q aupd associated cbl mutations next focused analysis 2 recurrent regions aupd 7q 11q strong association mpns aberrant tyrosine kinase signaling analyzed genes encoding tyrosine kinases associated signaling components minimally affected region chromosome 7q contains 3 tyrosine kinases met epha1 ephb6 fully sequenced coding exons genes 3 cases 7q aupd 2 normal controls found abnormalities similarly found sequence changes exons 11 17 braf gene encoding downstream component ras signaling mutated malignant melanoma cancers 20 tyrosine kinase genes chromosome 11q although several genes encoding signal transduction components cbl stood known oncogene negatively regulates tyrosine kinase signaling 21 sequencing cbl three 11q aupd cases revealed upn 2 upn 5 c change nucleotide 1277 exon 8 predicts l380p substitution case upn 3 c g missense change exon 9 nucleotide 1387 predicts p417a change figure 2 consistent array results mutations cases upn 3 upn 5 predominant residual wild-type alleles weakly visible case upn 2 mutation level aupd less prominent presumably due greater background normal cells figure 2 download figureopen new tabdownload powerpoint figure 2 cbl mutations 3 cases 11q aupd genotyping console output indicating homozygous snp calls green copy number state estimated hidden markov model blue smoothed copy number log 2 ratio values red b ideograms showing lack large copy number changes blocks homozygosity 11q abbreviations figure 1 c sequence changes indicated case compared normal controls upn 2 upn 5 c 1139t c l380p mutation whereas upn 3 c 1249c g p417a prevalence nature cbl mutations determine prevalence cbl mutations sequenced exons 8 9 encode amino acids 366 409 410 477 respectively additional 574 mpn cases total 27 sequence variants identified 26 patients 3 mf 10 chronic myelomonocytic leukemia cmml 12 acml 1 hypereosinophilic syndrome chronic eosinophilic leukemia hes cel tables 2 3 ensure missing mutations elsewhere gene analyzed coding exons 70 cbl mutation negative acml unclassified cml-like mpn cases high resolution melt hrm analysis failed detect sequence changes apart known polymorphisms similarly mutations cblb exons 9 10 cblc exons 7 8 exons correspond cbl exons 8 9 identified activity bcr-abl known increase progression cml chronic phase blast crisis22 speculated abrogation cbl activity might least partially responsible increase hrm analysis cbl exons 8 9 blast crisis cases n 31 however failed reveal mutations view inlineview popup table 2 cases analyzed cbl mutations view inlineview popup table 3 list cbl sequence variants 27 cbl variants 21 78 missense substitutions affecting 12 amino acids 15 different substitutions 5 19 candidate splicing abnormalities 1 3 produced stop codon table 3 changes novel although 4 cases r420q previously identified single case aml 15 apart n454d residues affected missense mutations completely conserved cbl orthologues well 2 human cbl family members figure 3 mutation stop codon found patient upn 9 also y371h variant pcr across affected regions sequencing indicated 2 changes different alleles figure 3 download figureopen new tabdownload powerpoint figure 3 location missense mutations top panel schematic representation cbl protein showing tyrosine kinase binding tkb linker ring proline-rich p-rich ubiquitin-associated leucine zipper uba lz domains bottom panel clustalw alignment entire linker ring domains plus part distal sequence ring domain shaded gray defining c h residues shaded pale blue residues affected missense mutations found study indicated cbl mutations acquired rarely seen conjunction known mutations 2 cases upn 5 upn 14 able compare mutational status leukocytes cells buccal epithelia cells cases l380p mutation present leukocytes therefore acquired figure 4a third case upn 15 originally presented v617f jak2 negative et 1989 progressed mf 2004 analysis dna extracted sequential bone marrow slides indicated r420q mutation absent et phase acquired transformation figure 4b 3 cbl-positive mf cases tested negative mpl 515 mutations cbl mutation positive cases negative cytogenetic indicators tyrosine kinase fusions flt3 itd activating nras mutations v617f jak2 exception 1 case upn 14 mf tested positive l380p cbl v617f jak2 analysis retrospective bone marrow slides case indicated presence v617f jak2 low level initially absence l380p cbl cbl mutation detectable 7 years later completely displaced v617f 3 years corresponding significant rise peripheral leukocyte counts figure 4c case upn 21 presented systemic mastocytosis evolving cbl mutation-positive cmml retrospective samples unavailable figure 4 download figureopen new tabdownload powerpoint figure 4 acquisition cbl mutations comparison granulocytes gran buccal epithelial cells bucc cells demonstrates l380p mutations cases upn 5 14 acquired b sequential leukocyte platelet counts case presented 1989 essential thrombocythemia et progressed myelofibrosis mf 2004 homozygous cbl r420q indicated * detected transformation undetectable previous specimens c clinical course case upn 14 presented mf 1998 experienced elevated leukocyte counts 2005 concomitant appearance cbl l380p mutation jak2 v617f mutation present low level since diagnosis still detectable cbl l380p first appeared undetectable 2008 sample cbl mutated clone predominated * sequence trace rt-pcr analysis cases controls show expected product cbl exons 7-10 cases upn 18 upn 20 show smaller bands result complete deletion exon 8 splicing abnormalities rna available 3 5 cases potential splicing mutations patients upn 18 upn 20 exhibited double bands rt-pcr sequencing showed one normal product smaller band result complete deletion exon 8 case figure 4d similar described cell line molm-13 23 patient upn 19 showed single band rt-pcr entirely normal sequence analysis indicating exon 8 4 c change alter splicing seems likely therefore variant identified case upn 6 also consequence pathogenicity intronic variant seen case upn 13 remains unknown association cbl mutations upd examine association cbl mutations aupd detail performed microsatellite analysis mutated cases using 9 polymorphic markers spanning chromosome 11q13-qter 26 cases 11 displayed patterns indicated significant tracts homozygosity including 3 11q aupd detected snp arrays case upn 9 2 mutations heterozygous markers 11 cases biallelic cbl mutations judged sequence analysis 5 showed complete homozygosity microsatellite loci tested 6 least 4 consecutive homozygous calls encompassing location cbl gene 11q23 3 figure 5 performed multiplex ligation probe amplification mlpa analysis determine whether observed homozygosity consequence deletion copy number changes detected data shown therefore likely homozygosity arose aupd number mutated alleles estimated sequencing concordant microsatellite analysis 20 cases figure 5 discordant upn 6 upn 25 significant tracts 11q homozygosity monoallelic cbl mutation whereas upn 10 upn 16 show 11q homozygosity clear biallelic cbl mutations reason discrepant cases unclear possible aupd seen upn 6 upn 25 targeted another gene 11q acquisition cbl mutation homozygosity cbl mutations absence 11q aupd upn 10 upn 16 might explained subcytogenetic deletion 1 allele figure 5 download figureopen new tabdownload powerpoint figure 5 microsatellite analysis cbl mutation positive cases number cbl mutated alleles 1 monoallelic 2 biallelic estimated sequence analysis described experimental procedures microsatellites scored homozygous embedded image heterozygous case positions chromosome 11q indicated correlation cbl mutations clinical features compared clinical hematologic features patients without cbl mutations restricting analysis cases acml mf cmml subgroups cbl mutations commonly found patients cbl mutations shorter overall survival progression-free survival compared mutation negative cases overall survival 33 months vs 39 months progression-free survival 22 months vs 32 months differences significant figure 6 similarly significant difference gender distribution age standard hematologic parameters mutation positive mutation negative cases differences emerged individual disease entities considered figure 6 download figureopen new tabdownload powerpoint figure 6 clinical significance cbl mutations overall survival progression-free survival b atypical chronic myeloid leukemia acml chronic myelomonocytic leukemia cmml mf cases n 19 without n 87 cbl mutations differences mutation positive negative cases significant determined kaplan-meier analysis transforming activities cbl mutants determined whether selected cbl variants oncogenic activity testing whether could transform interleukin-3 il-3 dependent cell line 32d growth factor independence conjunction overexpression wild-type flt3 described previously r420q 15 found s376f h398y p417a r420q alone conferred degree growth factor independence 32d cells effect considerably enhanced 32ds overexpressed wild-type flt3 contrast wild-type cbl conferred growth advantage either without flt3 overexpression n454d change transforming indicating probably rare polymorphism pathogenetically unimportant passenger mutation figure 7 reproducible differences survival different mutants seen illustrated figure 8a figure 7 download figureopen new tabdownload powerpoint figure 7 transforming activity cbl mutants 32d cells 32ds overexpressing wild-type flt3 transfected wild-type mutant cbl constructs assayed il-3 independent growth 3 days results shown mean least 3 independent experiments performed triplicate y-axis shows proliferation arbitrary units determined mts assay promega x-axis time days figure 8 download figureopen new tabdownload powerpoint figure 8 survival abrogation e3 ubiquitin ligase activity relative survival proliferation 32d cells expressing wild-type mutant cbl constructs 48 hours growth factor withdrawal determined mts assay b 32d cells expressing wild-type flt3 cbl constructs indicated transfected ha-tagged ubiquitin stimulated flt3 ligand lysis flt3 immunoprecipitated blotted probed anti-ha total blots flt3 cbl also shown abrogation e3 ubiquitin ligase activity shown flt3 physically associates cbl upon ligand stimulation flt3 rapidly ubiquitinylated wild-type r420q cbl 15 found transforming activity correlated directly ubiquitin ligase activity cbl variants assayed ability transfer ha-tagged ubiquitin flt3 stimulation flt3 ligand s376f h398y p417a r420q mutants showed loss ubiquitin ligase activity whereas n454d comparable wild-type cbl figure 8b discussion initial aim study identify large regions aupd therefore undertook relatively low resolution genome scan using 50k snp arrays constitutional dna available cases able unambiguously determine whether extended blocks homozygosity observed consequence aupd constitutional upd autozygosity due consaguinity however used conservative definition candidate aupd regions least 20 mb homozygous snps calls running telomere therefore expected would acquired found aupd relatively common acml uncommon mpns negative known mutations plus also cml blast crisis cll six distinct regions aupd identified acml indicating substantial genetic heterogeneity genesis disorder however identified 2 recurrent regions aupd 7q 11q seen 10 cases indicating presence common molecular abnormalities mutation screening focused primarily tyrosine kinases associated signal transduction components known association deregulated tyrosine kinase signaling mpns 3 although failed thus far identify abnormality chromosome 7q found missense cbl mutations three 11q aupd cases screening mpns revealed total 27 cbl variants 26 patients diagnosed acml n 12 8 mf n 3 6 cmml n 10 13 hes cel n 1 1 morphologically clinically related diseases generally exhibit poor prognosis unable discern however specific clinical prognostic features specifically associated cbl mutated cases casitas b-lineage lymphoma cbl well characterized protein plays positive negative regulatory roles tyrosine kinase signaling positive role cbl binds activated receptor tyrosine kinases via n-terminal tyrosine kinase binding tkb domain serves adaptor recruiting downstream signal transduction components shp2 p13k however ring domain cbl e3 ligase activity ubiquitinylates activated receptor tyrosine kinases lysine residues signal triggers internalization receptor ligand complex subsequent recycling degradation 21 24 25 cbl originally identified characterization v-cbl transforming component cas ns-1 retrovirus thus association neoplasia well established26 however recently cbl mutations first identified human malignancy specifically occasional cases aml 15 23 27 found cbl mutations much common mpns previous reports 11q aupd mds28 suggest cbl mutations also prove common disease indeed 7 12 mds cases aupd 11q recently shown harbor cbl mutations 29 2 human cbl family members cblb cblc identify aupd regions containing genes detect mutations linker ring domain cblb identified total 15 different cbl missense mutations affecting 12 residues table 2 figure 3 mutations residues eg y371 c381 h398 w408 analyzed previously study concluded loss e3 ubiquitin ligase activity concomitant impairment egfr internalization ring finger mutations insufficient oncogenicity assayed nih3t3 cells however mutations key residues within -helix linker region abolished ubiquitin ligase activity transforming 30 although precise amino acid substitutions identified different studied found mutations ring finger linker regions conferred autonomous growth 32d wt-flt3 cells consistent causal relationship mpn phenotype fact one mutation n454d transforming emphasizes importance functional analysis distinguish driver mutations irrelevant passengers infrequent polymorphisms 31 notably mutation weakly conserved species contrast missense mutations affected highly conserved residues therefore likely functionally significant enhanced autonomous growth presence cbl mutations overexpression wild-type flt3 may simply reflect paucity receptor tyrosine kinase gene expression 32d cells alternatively may indicate mutants weakly transforming require cooperation events give rise clinically manifest disease consistent latter hypothesis identified 2 cases cbl mutations acquired progression preexisting mpn figure 4 cases identity cooperating change unknown although one presented relatively low level v617f jak2 mutation disappeared progression cbl l380p positive disease indicating 2 mutations must arisen independently different clones reminiscent observation leukemic blasts approximately half v617f positive mpns evolve aml negative jak2 mutation 32 33 remains established however cbl mutations usually secondary events whether 2 cases identified exceptional evidence requirement additional cooperating genetic events comes published mouse studies neither complete cbl knockout heterozygous knockin ring finger inactivating mutant c379a mouse c379 equivalent human c381 resulted evidence mpn malignancy 34 35 however closer analysis revealed subtle hemopoietic perturbations clearly relate pathogenesis mpns specifically hemopoietic stem cells hscs animals increased number hyperresponsive thrombopoietin potent wild-type hscs repopulating hemopoietic system effects associated increased stat5 accumulation phosphorylation 34 35 hyperresponsiveness growth factors stem cell involvement 2 cardinal features mpns furthermore association stat5 activation mpns well documented 36 37 possible overt hematologic disease might induced homozygous knockin mutant findings suggest cbl mutations may solely responsible full mpn phenotype nature cooperating abnormalities remains largely obscure results show overexpression tyrosine kinase cooperate cbl mutants promote transformation however failed identify kinase consistently overexpressed mutation positive cases tyrosine kinase expression profiling data shown one cbl mutation positive case however also tested positive 7q upd snp array suggesting 2 abnormalities may complement cbl mutation resulting skipping exon 8 also identified murine model nup98-hoxd13 progression mds aml 38 corroborating theory acute leukemia arises complementary mutations one inhibits differentiation second case cbl enhances proliferation inhibits apoptosis fact many cbl mutations associated aupd strongly suggests clones homozygous mutations selective advantage heterozygous contrasts prevailing view transforming cbl ring finger linker region mutants act dominant negative fashion although conceivable another unknown locus 11q target aupd finding 1 case y371h mutation stop codon opposite alleles strongly suggests homozygous cbl mutations indeed confer direct selective advantage screen entire gene mutations possible cases heterozygous mutations may also functionally homozygous due premature stop codons allele alternatively heterozygosity cases may apparent due variable proportions background normal cells part malignant clone although nontransforming n454d mutant heterozygous 2 cases heterozygous r420q observed thus absence homozygosity cannot used infer presence irrelevant nontransforming sequence variant summary found oncogenic cbl mutations acquired subset hematologically related poor prognosis mpns findings strengthen notion mpns primarily tyrosine kinopathies diseases caused aberrant activation proliferation survival pathways consequence mutations either directly indirectly promote excess tyrosine kinase signaling view fact tyrosine kinases good drug targets possibility cbl-mutated cases might amenable therapeutic inhibition clearly attractive\n"
     ]
    }
   ],
   "source": [
    "print(result['TEXT'][3])"
   ]
  },
  {
   "cell_type": "code",
   "execution_count": 0,
   "metadata": {
    "colab": {
     "base_uri": "https://localhost:8080/",
     "height": 206
    },
    "colab_type": "code",
    "executionInfo": {
     "elapsed": 832,
     "status": "ok",
     "timestamp": 1552624000989,
     "user": {
      "displayName": "Atul Rana",
      "photoUrl": "https://lh4.googleusercontent.com/-tLVUUtH-AZE/AAAAAAAAAAI/AAAAAAAAMt0/14Rk9-FZ5I4/s64/photo.jpg",
      "userId": "06185900944594624481"
     },
     "user_tz": -330
    },
    "id": "rYCCDZcCE-p8",
    "outputId": "93047d38-c2ab-4f96-bdd0-c480e3466e11"
   },
   "outputs": [
    {
     "data": {
      "text/html": [
       "<div>\n",
       "<style scoped>\n",
       "    .dataframe tbody tr th:only-of-type {\n",
       "        vertical-align: middle;\n",
       "    }\n",
       "\n",
       "    .dataframe tbody tr th {\n",
       "        vertical-align: top;\n",
       "    }\n",
       "\n",
       "    .dataframe thead th {\n",
       "        text-align: right;\n",
       "    }\n",
       "</style>\n",
       "<table border=\"1\" class=\"dataframe\">\n",
       "  <thead>\n",
       "    <tr style=\"text-align: right;\">\n",
       "      <th></th>\n",
       "      <th>ID</th>\n",
       "      <th>Gene</th>\n",
       "      <th>Variation</th>\n",
       "      <th>Class</th>\n",
       "      <th>TEXT</th>\n",
       "    </tr>\n",
       "  </thead>\n",
       "  <tbody>\n",
       "    <tr>\n",
       "      <th>4</th>\n",
       "      <td>4</td>\n",
       "      <td>CBL</td>\n",
       "      <td>L399V</td>\n",
       "      <td>4</td>\n",
       "      <td>oncogenic mutations monomeric casitas b-lineag...</td>\n",
       "    </tr>\n",
       "    <tr>\n",
       "      <th>5</th>\n",
       "      <td>5</td>\n",
       "      <td>CBL</td>\n",
       "      <td>V391I</td>\n",
       "      <td>4</td>\n",
       "      <td>oncogenic mutations monomeric casitas b-lineag...</td>\n",
       "    </tr>\n",
       "    <tr>\n",
       "      <th>8</th>\n",
       "      <td>8</td>\n",
       "      <td>CBL</td>\n",
       "      <td>Y371H</td>\n",
       "      <td>4</td>\n",
       "      <td>abstract juvenile myelomonocytic leukemia jmml...</td>\n",
       "    </tr>\n",
       "    <tr>\n",
       "      <th>9</th>\n",
       "      <td>9</td>\n",
       "      <td>CBL</td>\n",
       "      <td>C384R</td>\n",
       "      <td>4</td>\n",
       "      <td>abstract juvenile myelomonocytic leukemia jmml...</td>\n",
       "    </tr>\n",
       "    <tr>\n",
       "      <th>10</th>\n",
       "      <td>10</td>\n",
       "      <td>CBL</td>\n",
       "      <td>P395A</td>\n",
       "      <td>4</td>\n",
       "      <td>oncogenic mutations monomeric casitas b-lineag...</td>\n",
       "    </tr>\n",
       "  </tbody>\n",
       "</table>\n",
       "</div>"
      ],
      "text/plain": [
       "    ID Gene Variation  Class  \\\n",
       "4    4  CBL     L399V      4   \n",
       "5    5  CBL     V391I      4   \n",
       "8    8  CBL     Y371H      4   \n",
       "9    9  CBL     C384R      4   \n",
       "10  10  CBL     P395A      4   \n",
       "\n",
       "                                                 TEXT  \n",
       "4   oncogenic mutations monomeric casitas b-lineag...  \n",
       "5   oncogenic mutations monomeric casitas b-lineag...  \n",
       "8   abstract juvenile myelomonocytic leukemia jmml...  \n",
       "9   abstract juvenile myelomonocytic leukemia jmml...  \n",
       "10  oncogenic mutations monomeric casitas b-lineag...  "
      ]
     },
     "execution_count": 21,
     "metadata": {
      "tags": []
     },
     "output_type": "execute_result"
    }
   ],
   "source": [
    "result[ result['Class']==4 ].head()"
   ]
  },
  {
   "cell_type": "code",
   "execution_count": 0,
   "metadata": {
    "colab": {
     "base_uri": "https://localhost:8080/",
     "height": 54
    },
    "colab_type": "code",
    "executionInfo": {
     "elapsed": 1181,
     "status": "ok",
     "timestamp": 1552624003171,
     "user": {
      "displayName": "Atul Rana",
      "photoUrl": "https://lh4.googleusercontent.com/-tLVUUtH-AZE/AAAAAAAAAAI/AAAAAAAAMt0/14Rk9-FZ5I4/s64/photo.jpg",
      "userId": "06185900944594624481"
     },
     "user_tz": -330
    },
    "id": "5p42ZhdyE_gQ",
    "outputId": "c8ac6945-9af3-4ba5-c533-49acc720fd90"
   },
   "outputs": [
    {
     "name": "stdout",
     "output_type": "stream",
     "text": [
      "oncogenic mutations monomeric casitas b-lineage lymphoma cbl gene found many tumors significance remains largely unknown several human c-cbl cbl structures recently solved depicting protein different stages activation cycle thus provide mechanistic insight underlying stability-activity tradeoffs cancer-related proteins may influence disease onset progression study computationally modeled effects missense cancer mutations structures representing four stages cbl activation cycle identify driver mutations affect cbl stability binding activity found recurrent homozygous leukemia-specific mutations greater destabilizing effects cbl states random non-cancer mutations tested ability computational models assessing changes cbl stability binding ubiquitin conjugating enzyme e2 performing blind cbl-mediated egfr ubiquitination assays cells experimental cbl ubiquitin ligase activity agreement predicted changes cbl stability lesser extent cbl-e2 binding affinity two-thirds experimentally tested mutations affected ubiquitin ligase activity either destabilizing cbl disrupting cbl-e2 binding whereas one-third tested mutations found neutral collectively findings demonstrate computational methods incorporating multiple protein conformations stability binding affinity evaluations successfully predict functional consequences cancer mutations protein activity provide proof concept mutations cbl keywords cbl driver mutations protein interactions go introduction whole exome sequencing cancer patients produced unprecedented amounts data analyze interpret studies report large fraction missense mutations potentially implicated tumorigenensis 1 although missense mutations provide selective growth advantage tumor cells driver mutations large majority considered neutral passenger mutations mechanisms driver variants may affect protein stability interactions function remain largely unknown various computational methods developed estimate impacts disease mutations proteins exclusively use sequence features explicitly utilize protein three-dimensional structures physico-chemical properties dynamics 2 3 many cancers characterized de activation certain proteins may result missense mutations 4 interconversion active inactive states highly regulated proteins well understood regulatory mechanisms disrupted cancer development silico approaches estimate effects disease mutations protein activity stability binding help define likely driver passenger mutations moreover understanding mechanisms actions would allow prioritization potential driver candidates better targeted therapies design drugs might turn compensate reduced enhanced protein stability activity monomeric casitas b-lineage lymphoma cbl ring finger ubiquitin ligase e3 represents exceptionally difficult yet important system study mechanisms cancer mutations 5 6 strikingly proteins family play positive negative regulatory roles tyrosine kinase signaling aberrantly activated many cancers 5 oncogenic mutations c-cbl gene referred cbl thereafter found human myeloid neoplasms tumors 5 significance mutations impacts cbl function studied mutants 7 mechanistic aspects cbl cancer mutations adequately addressed several cbl structures become available represent snapshots different stages cbl activation cycle fig 1 cbl proteins share highly conserved n-terminus includes tyrosine kinase binding domain tkbd linker helix region lhr ring finger domain c-terminus comprises proline-rich region 8 ring domain cbl e3 activity ubiquitinates activated receptor tyrosine kinases subsequently targets degradation 8 time since cbl proteins bind activated receptor tyrosine kinases via tkbd domain serve adaptors recruiting downstream signal transduction components shp2 p13k 9 10 figure 1 figure 1 cbl activation cycle structures representing activation cycle cbl shown inactive closed state ncbl protein exists cytosol upon activation rtk cbl bind phosphorylated rtk orange peptide via tkbd another aspect cbl function accounted modeling effects cancer mutations bind ubiquitin-conjugating enzyme e2 complex ubiquitin ub substrate protein thereby facilitating transfer ub e2 lysine residue substrate 11 crystal structure inactive complex cbl e2 ubch7 solved ten years ago 12 active phosphorylated cbl-e2 ubch5b complex resolved fairly recently 13 according latter study substrate binding tyr371 phosphorylation activates cbl producing large conformational change order place ring domain e2 close proximity substrate confirmed phosphorylation-induced conformational change required positioning ubiquitin effective catalysis 14 present new approach aims assess effects cancer mutations stability binding activity cancer related proteins apply computational models four different stages cbl activation cycle fig 1 perform blind vivo experiments cbl-mediated egfr ubiquitination show rather remarkable agreement experimental egfr ubiquitination cbl mutants computed changes cbl thermodynamic stability lesser extent cbl-e2 binding affinity computational models quantitatively predict magnitude effects mutations also shed light mechanisms action namely find cancer mutations greater destabilizing effects four cbl states random non-cancer mutations recurrent homozygous leukemia mutations damaging cancer mutations happen sites involved zn-coordination formation salt bridges hydrogen bonds within cbl cbl e2 overall cancer driver mutations affect different multiple stages cbl activation cycle either completely abolishing e3 activity partially attenuating computational models based stability binding affinity calculations discriminate experimentally validated driver passenger mutations exception two mutations outperform several state-of-the-art bioinformatics methods aiming predict phenotypic impacts mutations go materials methods computational modeling analysis mapping cbl mutations cosmic database 15 stores data somatic cancer mutations integrates experimental data full-genome sequencing studies extracted 103 missense mutations cbl gene cosmic database 15 could mapped four available cbl structures activation cycle fig 1 cancer mutations classified different classes according frequency observed samples single recurrent mutations zygosity homo- heterozygous mutations types cancer leukemia sarcoma involvement mutations zn-coordination table s1 addition possible single nucleotide substitutions resulting amino-acid changes cbl gene performed obtain random missense mutation reference set excluding mutations observed cosmic mutations occurring residues without known coordinates crystal structures obtained 2 102 random missense mutations table s1 also searched dbsnp database 16 found benign variations cbl gene detailed description provided supplementary materials methods model preparation investigated effects mutations four states cbl activation cycle 1 closed cbl state ncbl 2 partially opened cbl state bound substrate cbl-s 3 unphosphorylated autoinhibitory cbl bound substrate conjugating enzyme ubch5b cbl-e2-s 4 phosphorylated cbl bound substrate ubch5b pcbl-e2-s fig 1 previously noted ubch5b ubch7 bind specifically cbl ubch5b facilitate ubiquitination 17 crystal structures ncbl pdb id 2y1m 13 cbl-s pdb id 2y1n 13 pcbl-e2-s pdb id 4a4c 13 obtained directly protein data bank pdb 18 one crystal structure unphosphorylated inactive state cbl bound e2 ubch7 zap-70 peptide pdb id 1fbv 12 available pdb although sequence identity ubch7 ubch5b proteins 38 structural similarity high root mean square deviation rmsd 1 04 unphosphorylated autoinhibitory structure cbl-ubch5b-s therefore modeled based cbl-ubch7-s pdb id 1fbv using chimera 19 detailed description provided supplementary materials methods minimization procedure applied recently developed optimization protocol minimizing wild-type mutant structures 20 heavy side chain atoms without known coordinates hydrogen atoms added crystal structures using vmd version 1 9 1 program 21 models immersed rectangular boxes water molecules extending 10 protein direction wild-type protein complexes minimized 40 000 steps using explicit tip3p water model final minimized models wild-type protein complexes used produce mutant structures additional 300-step minimization mutant structures performed energy minimization carried namd program version 2 9 22 using charmm27 force field 23 unfolding free energy calculations applied optimization procedure implemented repairpdb module foldx program 24 optimizes side chain configurations provide repaired structure see supplementary materials methods information binding unfolding free energy calculations binding free energy effects mutations binding affinity calculated according approach introduced us earlier 20 energy calculations based modified mm-pbsa method combined molecular mechanics terms poisson boltzmann continuum representation solvent 25 statistical scoring energy functions parameters optimized experimental sets several thousand mutations equation 3 binding free energy calculations performed minimized wild-type mutant structures inactive cbl-e2-s active pcbl-e2-s states binding energy defined difference free energies complex unbound proteins gbind gcbl-e2-s-gcbl-s-ge2 1 change binding energy due mutation calculated gbind gbindmut- gbindwt 2 effect mutations binding affinity calculated work using following energy function gbind evdw gsolv samut gbm gfd 3 evdw change van der waals interaction energy gsolv change polar solvation energy solute water samut represents term proportional interface area mutant complex gbm gfd binding energy changes beatmusic foldx respectively beatmusic 26 estimates effect mutations binding based statistical potentials foldx software program 24 used estimate unfolding free energy model unfolding state foldx calculates effects mutations protein stability using empirical force field buildmodel module used introduce mutation optimize configurations neighboring side chains calculate difference stability unfolding free energy mutant gfoldmut repaired native structure gfoldwt gfold gfoldmut- gfoldwt 4 comparison used three alternative methods predict impacts mutations unfolding free energy eris server 27 rosetta program 28 popmusic server 29 also applied four additional webtools assess impacts amino acid substitutions cbl function provean 30 polyphen-2 31 mutationassessor 32 inca 33 see supplementary methods information go experimental procedures expression constructs human cbl cdna originally obtained wallace langdon subsequently cloned pcefl expression plasmid 34 point mutation constructs described created wild-type cbl using quikchange ii site-directed mutagenesis kit according manufacturer instructions stratagene la jolla ca constructs confirmed dna sequencing cell culture transfections human embryonic kidney cell line hek293t human nonsmall cell lung cancer cell line a549 human cervical cancer cell line hela used study originally obtained atcc maintained culture using dmem gibco grand island ny supplemented 10 fbs 100 u ml penicillin 100 g ml streptomycin sulfate cell lines authenticated short tandem repeat str analysis using either promega powerplex 16 promega madison wi ampfistr identifier kit life technologies carlsbad ca compared atcc dsmz databases hela cells received lab 2013 last authenticated 7-30-15 a549 received lab 2015 last authenticated 8-12-15 hek293t received lab 1995 last authenticated 10-8-15 hek293t cells transfected using calcium phosphate according instructions accompanying reagent profection promega corp madison wi incubated 18 h prior media change grown total 48 h prior harvesting a549 hela cells transfected lipofectamine 2000 invitrogen carlsbad ca transfections allowed incubate 6 h prior media change cells grown additional 48 h harvested cells starved 4 hours treated egf 100 ng ul cell-based experiment repeated least two times immunoblotting immunoprecipitation harvest proteins cells washed twice ice-cold dulbecco pbs-containing 200 sodium orthovanadate fisher chemicals fairlawn nj lysed ice-cold lysis buffer 10 mm tris-hcl ph 7 5 150 mm nacl 5 mm edta 1 triton x-100 10 glycerol 100 mm iodoacetamide sigma-aldrich corp st louis mo 2 mm sodium orthovanadate protease inhibitors complete tabs roche diagnostics corp indianapolis whole cell lysates cleared cellular debris centrifugation 16 000 g 15 4 c supernatant protein concentrations determined using biorad protein assay biorad hercules ca immunoblotting 20 g whole cell lysates boiled 1 1 dilution 2x loading buffer 62 5 mm tris-hcl ph 6 8 10 glycerol 2 sds 1 mg ml bromophenol blue 0 3573 -mercaptoethanol 5 immunoprecipitations 150 g whole cell lysates incubated rabbit anti-egfr ab-3 millipore protein g agarose beads sc-2003 santa cruz biotechnology santa cruz ca immunoprecipitations incubated overnight 4 c tumbling immune complexes washed five times 1 ml cold lysis buffer resuspended 2x loading buffer boiled 5 resolved sds-page transferred nitrocellulose membranes protran ba85 whatman sanford immunoblot detection proteins following antibodies used rabbit anti-egfr 2232l cell signaling rat monoclonal high affinity anti-ha-peroxidase clone 3f10 roche rabbit anti-cbl sc-c-15 santa cruz mouse anti-hsc70 sc-7298 santa cruz horseradish peroxidase linked donkey anti-rabbit igg na934v ge healthcare piscataway nj donkey anti-mouse igg na931 ge healthcare piscataway nj immunoglobulin used supersignal pierce biotechnology inc rockford il visualize protein detection densitometric analysis immunoblots developed hyblot cl autoradiography film denville scientific inc south plainfield nj x-omat automated processor eastman kodak rochester ny protein expression levels recorded using epson perfection v750 pro scanner epson inc long beach ca densitometric analysis performed using adobe photoshop software version 7 0 adobe systems inc u egfr ubiquitination signal intensity determined optical density set area normalized egfr band intensity parallel immunoblots expressed densitometric ratio ubiquitination egfr levels mean densitometric ratio egfr ubiquitination presence cbl mutation assessed relative wild-type cbl ratio set 1 0 go results cancer mutations impact cbl stability estimated thermodynamic stability unfolding free energy changes gfold upon mutation closed ncbl partially opened cbl-s cbl states fig 1 states involve binding e2 examination gfold distribution random non-cancer mutations fig 2a showed similar experimental distributions produced random mutagenesis set different proteins 35 36 namely distribution random non-cancer mutations asymmetrically centered positive energy values 10 random mutations highly damaging effects cbl structures 5 kcal mol 1 fig 2a despite presence highly damaging random mutations recurrent cancer mutations overall produced significantly larger destabilizing effects compared random p-value 0 01 ncbl cbl-s states fig 2a s1 table s2 case single cancer mutations observed one patient table s2 overall form gfold distribution recurrent cancer mutations different gfold distribution random mutations kolmogorov-smirnov test p-value 0 01 whereas distribution single cancer mutations indistinguishable random mutation distribution however mean single cancer mutants considered passenger show later case figure 2 figure 2 distribution unfolding gfold binding gbind free energy changes single recurrent random class mutations ncbl pcbl-e2-s states see si states positive negative values top 25 cancer mutations largest damaging effects presented table s3 many occurred zn-coordinating sites many others involve zn-coordination sites latter mutations g415v g413r g415s introduced large van der waals clashes neighboring residues could accommodated side chain rearrangements whereas mutations s376f y371d l405p affected disulfide hydrogen bonds example l405p located middle -helix affected cbl structure introducing energetically unfavorable kink helix due inability donate amide hydrogen bond effects cancer mutations cbl-e2 binding outcome mutations assessed extent structural changes induce calculated local root mean squared deviation rmsd minimized wild-type mutant structures around mutated site found protein backbone vicinity mutation cbl-e2 complex underwent larger local conformational changes upon recurrent cancer mutations especially mutations occurring zn-coordinating site clusters compared random mutations p-value 0 01 fig s2 s3 previous section analyzed original closed ncbl state partially opened cbl-s state induced substrate binding section study effects cancer mutations two cbl states autoinhibitory cbl state bound substrate conjugating enzyme ubch5b cbl-e2-s phosphorylated active cbl state bound substrate ubch5b pcbl-e2-s fig 1 13 effects mutations binding general linked structural locations therefore examined locations mutations found one third cancer mutations located cbl-e2 interface fig s4 preference found statistically significant p-value 0 01 fig s4 previously experimentally shown binding cbl e2 rather weak micromolar dissociation constant 13 despite fact interface cbl e2 inactive state several residues larger active state consistent experiments found somewhat stronger binding cbl e2 active state cbl table s4 similarly impacts cancer mutations stability recurrent single mutations destabilized cbl-e2 binding significantly fig 2b s1 table s2 importantly cancer mutations reduced cbl-e2 binding active state considerably inactive state p-value 0 002 fig 2b effects cancer mutations cbl-e2 binding active state noticeably larger compared random mutations even excluded mutations zn-coordinating sites table s2 latter observation hold true autoinhibitory cbl-e2-s conformation next cancer mutations ranked respect effects cbl-e2 binding half highly damaging mutations top 25 damaging mutations table s3 impacted stability cbl-e2 binding four cbl states among several mutations occurred zn-coordinating clusters m400 l405 sites another class mutations involving w408 r420 sites mostly influenced cbl-e2 binding example w408s mutation caused largest perturbation cbl-e2 binding active state decreasing binding affinity 3 5 kcal mol 1 moderate effect stability ncbl cbl-s states previously suggested amino acids positions w408 i383 constituted specificity cbl-e2 binding corresponded binding hot spots 10 12 mutations i383 site recorded cosmic database although profound destabilizing effect cbl-e2 binding states see data random mutations ftp site ftp ftp ncbi nih gov pub panch cbl another site affecting binding cbl r420 highly conserved site cbl family strongly interacts q92 w93 s94 residues e2 previously experimentally verified mutations site disrupted cbl activity could associated cytokine-independent growth 37 24 cancer patient samples mutations site r420q r420l r420p found produce strong destabilizing effects active pcbl-e2-s state according zygosity annotation 49 heterozygous hetero 27 homozygous homo mutations table s1 rest cancer mutations zygocity status undetermined overall found destabilizing mutations enriched among homozygous compared heterozygous mutations stages cbl activation cycle p-value 0 021 0 035 prevalent leukemia compared sarcoma patients p-value 0 000 0 003 fig 2b table s2 observation could attributed prevalence homozygous mutations zn-coordinating clusters since clusters almost equal numbers heterozygous homozygous mutations reported earlier many homozygous mutations could connected uniparental disomy germline heterozygosity would lead neoplasia upon reduction homozygosity 6 38 39 patients myeloproliferative neoplasms germline heterozygous mutations cbl lost wild-type cbl allele duplicated mutant allele would possible damaging mutant allele would duplicated cancer cell higher probability indeed human leukemia samples show loss normal cbl allele cbl-mediated egfr ubiquitination comparing experiments computational models next randomly picked fifteen cancer mutations based predicted damaging status trying equally sample highly damaging benign mutations irrespective frequencies cancer samples experimentally tested e3 activity wild-type mutant cbl proteins see methods table 1 seen fig 3a presence wild-type cbl activation egfr induced 10-fold increase ubiquitination egfr compared empty vector endogenous cbl levels hek293t cells compare lane 4 lane 2 top panel fig 3a e3 activity wild-type cbl mirrored decrease levels immunoprecipitated egfr consistent targeting ubiquitinated egfr degradation compare lanes 2 4 second panel fig 3a figure 3 figure 3 egfr ubiquitination hek293t cells transfected plasmids encoding wild-type mutant cbl proteins along egfr hemagglutinin ha -epitope tagged ubiquitin vector control wild-type cbl transfectant cells incubated table 1 table 1 experimental relative densitometry values hek293t cells predicted changes stability gfold kcal mol 1 binding affinity gbind kcal mol 1 comparison methods 15 experimentally classified mutations three groups damaging attenuating benign according experimental relative densitometry data compared experimental data estimates produced computational models first group damaging mutants included c396r h398q y371h k382e c381a completely abolished cbl activity relative densitometry less 10 fig 3b levels total egfr decreased mutants fig 3a two mutants belonged recurrent class mutations table 1 shows predicted experimentally verified effects mutations four cbl states five mutants predicted damaging stability binding affinity calculations mechanisms action different c396r h398q c381a mutations disrupted zn-coordinating clusters damaging consequences according stability model ncbl cbl-s states damaging effects cbl-e2 binding even though none mutations located cbl-e2 interface hand k382e mutation affect zn-coordination destabilized ncbl state turn could explained charge substitution led disruption k382-e373 salt bridge within closed state ncbl figure 4 figure s5a moreover k382e mutation significant impact cbl-e2 binding due disruption salt bridge py371 k382 affecting stability cbl active state figure 4 figure s5d significant changes observed cbl-s cbl-e2-s states figure s5b c k382e mutation previously observed noonan syndrome speculated affect cbl stability binding 40 finally y371h mutation abolished phosphorylation y371 site also profound destabilizing effect four states evident table 1 figure 4 figure 4 structures wild type green k382e mutant tan shown ncbl pcbl-e2-s states salt bridges shown dashed lines cases mutation affects stability disrupting salt bridge second group mutants m374v v430m p428l q249e double mutant s80n h94y maintained cbl activity equivalent greater wild-type cbl relative densitometry 80 higher fig 3b consistent levels activated egfr also decreased samples fig 3a confirm retained e3 activity mutants cell type specific transfected mutants non-small cell lung cancer cell line a549 cervical cancer cell line hela fig s6 s80n h94y q249e mutations previously identified human non-small cell lung cancers making a549 cell line relevant cell type investigate function cbl mutants cancer mutations found cancer types hek293t cells transfection wild-type cbl a549 hela cells resulted significant increase egf stimulated ubiquitination egfr compared cells transfected empty vector fig s6 increase transfected cbl protein compared endogenous cbl protein less hela either a549 hek293t cells consistent fold increase egf stimulated ubiquitination egfr wild-type cbl smaller hela cells three fold compared either a549 hek293t cells 10 fold hek293t cells y371h mutant stimulate ubiquitination compared vector transfected control a549 hela cells fig s6a c cbl mutants fully active hek293t cells fig 3a b maintained cbl e3 activity a549 hela cells fig s6 two cbl mutants resulted ubiquitination egfr compared wild type cbl example q249e mutant showed increased ubiquitination egfr 293t hela cells m374v mutant resulted higher ubiquitination levels a549 hela cells figure 3 s6 v430m mutant borderline densitometry ratio 0 8 mutations second group predicted benign according computational models whereas v430m consistent experimental data borderline destabilizing impact cbl-e2 binding table 1 finally third group constituted mutations l399v g375p p395a v391i attenuated cbl e3 activity according relative densitometry data fig 3b one mutants observed two cancer samples three belonged single mutation class concordant intermediate levels egfr fig 3a g375p p395a mutations predicted partially damaging effects v391i l399v classified benign predictions interestingly mutations third group affected cbl states contrast highly damaging mutations first group damaging impacts almost cbl states next tested reduction cbl ubiquitination activity directly correlated effects mutations stability fig 5a relationship experimental densitometry data gfold better described exponential dependence correlation coefficient r 0 77 0 78 cbl-s ncbl states respectively table s5 indeed change absorption wild-type mutant proteins refers fraction active mutants described boltzmann equation relating probability state energy state mutation may lead damaging effects loss function impacts least one cbl functional states taking consideration calculated correlation densitometry stability changes taking maximum gfold values ncbl cbl-s states shown fig 5a table s5 changes stability indeed explain effects mutations cbl ubiquitination activity high correlation r 0 83 comparison several alternative methods applied predict effect mutations unfolding free energy reported correlation coefficients ranging 0 21 0 52 one method popmusic reporting statistically significant correlation 0 52 table s5 relationship densitometry binding affinity changes borderline significance linear correlation coefficient 0 48 0 62 two highly damaging mutations excluded fig 5b table s5 figure 5 figure 5 comparison experimental densitometry values exponential model maximal predicted changes stability b comparison experimental densitometry values linear model predicted changes binding affinity pcbl-e2-s state various methods predict phenotypic effects mutations 30 33 41 use structural features 31 41 applied four state-of-the-art independent methods predict impacts mutations cbl function provean 30 polyphen-2 31 mutationassessor 32 inca 33 methods outperformed model classifying cancer random mutations since trained distinguish disease neutral variants table s6 however four methods limited accuracy classifying cbl cancer mutations disrupted function evident table 1 table s5 methods except provean over-predicted damaging effects experimentally tested mutations provean method produced significant correlation densitometry data provean score r 0 58 table s5 go discussion stability-activity balance cancer related proteins evolutionary selection maintain structural foldable functional proteins eliminates many mutations protein sequences hand thermodynamic stability compromised evolution ensure certain arrangements catalytic binding sites might energetically optimal 36 42 tumorigenesis protein stability binding may reduced cases increased due cancer mutations consequence lead decreased fitness protein level may confer fitness advantage population tumor cells 43 44 however extent stability-activity tradeoff oncogenes tumor suppressors remains largely unknown using example cbl protein tried elucidate stability-activity balance understand whether loss gain activity cancer-related proteins accompanied compromised stability binding contrast many computational studies attempt link stability activity mostly focusing one protein conformation performed analysis four different stages cbl activation cycle predictions changes stability binding elucidated experimental cbl-mediated egfr ubiquitination assays found strong relationship effects mutations cbl stability experimentally obtained densitometry data quantifying activity relatively weaker correlation observed changes densitometry cbl-e2 binding affinity could explained either less significant impact experimentally tested mutations cbl-e2 binding limited coupling compared cbl stability cbl-e2 binding e3 activity drivers passengers according study two thirds experimentally tested mutations either completely abolished attenuated e3 activity one third neutral trying assess limitations models applied state-of- the-art methods commonly used predict functional effects mutations however methods failed distinguish inactivating neutral mutations accurately computational models solely based accounting effects stability binding different cbl states indeed many methods specifically designed discriminate driver passenger mutations within pool cancer mutations rather perform task distinguishing cancer neutral mutations certainly large majority mutations detected cancer genomics studies likely neutral although collective burden passenger mutations may also alter course tumorigenesis 45 analyzed distribution single cancer missense mutations observed cbl gene average effects stability binding found significantly different pool random mutations mutations either mostly constitute true passenger mutations oncogenic mechanisms directly connected protein destabilization story quite opposite recurrent mutations average significantly higher destabilizing effects random mutations majority drivers interesting group mutations includes highly damaging found one cancer sample 10 single cancer mutations mutations may represent either rare driver latent driver mutations 46 several mutations experimentally tested listed table 1 cbl-e2 binding deciphering mechanisms cancer analysis showed cancer mutations reduce cbl-e2 binding active state considerably inactive state contrast stability-activity tradeoff reported egfr cancer related proteins 47 cancer mutations may disrupt autoinhibitory interactions activate kinase 48 49 importantly mutations experimentally tested high inactivating effects impacts cbl stability cbl-e2 binding table 1 fact correlation gfold gbind cbl cancer mutations cosmic positive r 0 20 0 48 depending cbl state p-value 0 05 might seem counterintuitive residues maintain stability sustaining ring-tkbd autoinhibitory interactions within cbl interface overlaps cbl-e2 interface competes e2 binding 13 one might think disruption ring-tkbd interactions destabilization cbl might facilitate binding e2 therefore lead cbl activation slight activation actually observed two mutants one m374v directly located cbl-e2 interface however showed positive high correlation stability activity changes mechanism rarely observed vast majority mutations disrupt cbl-e3 activity either destabilizing cbl cbl-e2 binding directly affecting phosphorylation critical tyrosine y371 overall results support idea decrease e3 activity ability ubiquitinate receptor tyrosine kinases cbl stability cbl-e2 binding give selective advantage tumor cells however several factors complicate deciphering mechanisms action cbl cancer mutations cbl mutations dominant-negative mutated cbl might change cbl e3 activity also might affect concentration activity wild-type cbl according ratiometric method identify driver genes cancer 1 cbl regarded oncogene since several mutation hot spots hand shown study studies cancer driver mutations inactivate e3 activity cbl also regarded tumor suppressor although latter fact complicates development cbl targeted therapies understanding delicate balance among different cbl-affected pathways may facilitate indirect drug targeting damaged cbl proteins current genetics-based frameworks analyze cancer genome-wide sequence data necessary sufficient understanding processes carcinogenesis developing informed targeted therapies approach applied general different proteins interest emphasizes importance physics binding protein conformational ensembles deducing mechanisms cancer\n"
     ]
    }
   ],
   "source": [
    "print(result['TEXT'][4])"
   ]
  },
  {
   "cell_type": "code",
   "execution_count": 0,
   "metadata": {
    "colab": {
     "base_uri": "https://localhost:8080/",
     "height": 206
    },
    "colab_type": "code",
    "executionInfo": {
     "elapsed": 808,
     "status": "ok",
     "timestamp": 1552624005145,
     "user": {
      "displayName": "Atul Rana",
      "photoUrl": "https://lh4.googleusercontent.com/-tLVUUtH-AZE/AAAAAAAAAAI/AAAAAAAAMt0/14Rk9-FZ5I4/s64/photo.jpg",
      "userId": "06185900944594624481"
     },
     "user_tz": -330
    },
    "id": "YGq05t1lFAJc",
    "outputId": "d1c58121-b6bb-4084-88ea-885a32fc1fe4"
   },
   "outputs": [
    {
     "data": {
      "text/html": [
       "<div>\n",
       "<style scoped>\n",
       "    .dataframe tbody tr th:only-of-type {\n",
       "        vertical-align: middle;\n",
       "    }\n",
       "\n",
       "    .dataframe tbody tr th {\n",
       "        vertical-align: top;\n",
       "    }\n",
       "\n",
       "    .dataframe thead th {\n",
       "        text-align: right;\n",
       "    }\n",
       "</style>\n",
       "<table border=\"1\" class=\"dataframe\">\n",
       "  <thead>\n",
       "    <tr style=\"text-align: right;\">\n",
       "      <th></th>\n",
       "      <th>ID</th>\n",
       "      <th>Gene</th>\n",
       "      <th>Variation</th>\n",
       "      <th>Class</th>\n",
       "      <th>TEXT</th>\n",
       "    </tr>\n",
       "  </thead>\n",
       "  <tbody>\n",
       "    <tr>\n",
       "      <th>6</th>\n",
       "      <td>6</td>\n",
       "      <td>CBL</td>\n",
       "      <td>V430M</td>\n",
       "      <td>5</td>\n",
       "      <td>oncogenic mutations monomeric casitas b-lineag...</td>\n",
       "    </tr>\n",
       "    <tr>\n",
       "      <th>14</th>\n",
       "      <td>14</td>\n",
       "      <td>CBL</td>\n",
       "      <td>P428L</td>\n",
       "      <td>5</td>\n",
       "      <td>oncogenic mutations monomeric casitas b-lineag...</td>\n",
       "    </tr>\n",
       "    <tr>\n",
       "      <th>18</th>\n",
       "      <td>18</td>\n",
       "      <td>CBL</td>\n",
       "      <td>M374V</td>\n",
       "      <td>5</td>\n",
       "      <td>oncogenic mutations monomeric casitas b-lineag...</td>\n",
       "    </tr>\n",
       "    <tr>\n",
       "      <th>106</th>\n",
       "      <td>106</td>\n",
       "      <td>MSH6</td>\n",
       "      <td>G39E</td>\n",
       "      <td>5</td>\n",
       "      <td>identification high-risk disease-causing const...</td>\n",
       "    </tr>\n",
       "    <tr>\n",
       "      <th>109</th>\n",
       "      <td>109</td>\n",
       "      <td>MSH6</td>\n",
       "      <td>R1095H</td>\n",
       "      <td>5</td>\n",
       "      <td>mismatch repair mmr malfunction causes accumul...</td>\n",
       "    </tr>\n",
       "  </tbody>\n",
       "</table>\n",
       "</div>"
      ],
      "text/plain": [
       "      ID  Gene Variation  Class  \\\n",
       "6      6   CBL     V430M      5   \n",
       "14    14   CBL     P428L      5   \n",
       "18    18   CBL     M374V      5   \n",
       "106  106  MSH6      G39E      5   \n",
       "109  109  MSH6    R1095H      5   \n",
       "\n",
       "                                                  TEXT  \n",
       "6    oncogenic mutations monomeric casitas b-lineag...  \n",
       "14   oncogenic mutations monomeric casitas b-lineag...  \n",
       "18   oncogenic mutations monomeric casitas b-lineag...  \n",
       "106  identification high-risk disease-causing const...  \n",
       "109  mismatch repair mmr malfunction causes accumul...  "
      ]
     },
     "execution_count": 23,
     "metadata": {
      "tags": []
     },
     "output_type": "execute_result"
    }
   ],
   "source": [
    "result[ result['Class']==5 ].head()"
   ]
  },
  {
   "cell_type": "code",
   "execution_count": 0,
   "metadata": {
    "colab": {
     "base_uri": "https://localhost:8080/",
     "height": 54
    },
    "colab_type": "code",
    "executionInfo": {
     "elapsed": 1099,
     "status": "ok",
     "timestamp": 1552624007305,
     "user": {
      "displayName": "Atul Rana",
      "photoUrl": "https://lh4.googleusercontent.com/-tLVUUtH-AZE/AAAAAAAAAAI/AAAAAAAAMt0/14Rk9-FZ5I4/s64/photo.jpg",
      "userId": "06185900944594624481"
     },
     "user_tz": -330
    },
    "id": "m-Dcln3OFNhI",
    "outputId": "1e04a6a4-7375-4ad7-b8ad-c70f62468d32"
   },
   "outputs": [
    {
     "name": "stdout",
     "output_type": "stream",
     "text": [
      "identification high-risk disease-causing constitutional mutation cancer patient guides clinical management whole family implications counseling cancer treatment options presymptomatic surveillance considerations risk-reducing surgery medication regimens1 carriers mutations mismatch repair mmr genes mlh1 msh2 msh6 pms2 causing lynch syndrome1 substantially increased risk colorectal endometrial cancers along increased risk ovarian gastric small bowel urothelial brain hepatobiliary pancreatic bladder kidney prostate breast cancers1 2 3 4 5 6 7 8 however intensive management reduces mortality9 sequence variants uncertain functional clinical relevance common genetic test reports although several lines evidence evaluated assess clinical implications variants usually none approaches used obtain clinically useful interpretations many variants comprehensive data lacking laboratories generally conservative designating pathogenic variants defining variants uncertain significance unless overwhelming evidence pathogenicity exists several schemes classification variants genes associated mendelian conditions proposed use clinical setting clinically useful actions currently considered high-penetrance mutations systems aimed differentiating high-penetrance low-penetrance neutral variants consider variants intermediate risk schemes differ range format data used classification number variant classes10 11 12 international agency research cancer iarc classification system endorsed human variome project hvp facilitates standardized categorization defining classes linked validated quantitative measures causality pathogenicity statistical models13 14 15 16 validated interpretation qualitative data17 importantly five-class iarc system linked clinical recommendations classes including clinical testing full high-risk surveillance guidelines class 5 pathogenic class 4 likely pathogenic variants advice treat mutation associated disease detected class 1 pathogenic class 2 likely pathogenic variants acquisition additional data provide robust classification class 2 likely pathogenic class 3 uncertain class 4 likely pathogenic variants locus-specific databases lsdbs important source information clinicians researchers assessing data forming opinions clinical relevance disease-associated gene sequence variants databases fundamental role variant classification owing added value aggregated data consistent normalized data curation critical value derived databases categorizing relationship genetic variation disease especially clinical applications previously recommended iarc working group panel covering range expertise variant classification provide consensus opinion variant pathogenicity publicly accessible display information18 another important component classifications provided lsdbs transparency regarding criteria supporting information used classification allows lsdb users consider information applications research clinical settings18 insight merged multiple gene mutation variant repositories create insight colon cancer gene variant database mmr colon cancer susceptibility genes19 20 21 22 23 hosted leiden open variation database lovd following recommendations lsdb curation18 insight formed international panel researchers clinicians review mmr gene variants submitted database encourage submission unpublished clinical research data facilitate variant classification microattribution approach24 implemented using open researcher contributor identification orcid present results insight variant interpretation committee vic effort develop test apply 5-tiered scheme classify 2 360 unique constitutional mmr gene variants results abstract introduction results discussion methods accession codes references acknowledgments author information supplementary information curation mmr gene variants end december 2012 3 458 alterations standardize nomenclature made 12 635 submissions 2 730 unique mmr gene variants lodged insight database furthermore 370 unique variants 13 6 identified constitutional germline dna see supplementary fig 1 supplementary table 1 details excluded analyses evidence existed occurred constitutional variants ii clinical information available assess potential roles hereditary disease 2 360 constitutional variants included 932 mlh1 39 842 msh2 36 449 msh6 19 137 pms2 6 variants variants 800 34 nonsense frameshift changes predicted cause protein truncation next largest group 746 32 consisting nonsynonymous variants obviously truncating including missense substitutions small in-frame insertion-deletion mutations indels read-through alterations translation termination codon variants originally assigned classification submitters according following classes pathogenic probably pathogenic known pathogenicity probably pathogenicity effect unknown information recorded document rationale classification standards used classify variants considering 1 382 constitutional variants multiple entries insight database discordance classification submitters found 869 variants discordance arose classification based single data points references results single functional assay22 inferences individual publications originally lodged mismatch repair genes variant database23 see example supplementary table 2 development five-tiered system classification insight vic online methods established 2007 address discrepancies classification mmr gene variants lodged insight database since march 2011 vic made concerted effort develop standardized criteria variant classification employing modified delphi consensus process25 evaluate current scientific evidence reach consensus line hvp26 iarc classification system10 variant categorization table 1 adopted insight classification mmr gene variants briefly multiple lines evidence required classification evidence variant include data associating variant clinical functional consequences online methods table 1 insight variant classification scheme accompanying recommendations family management adapted iarc five-tiered classification system full table figures tables index scheme first tested subset 117 mmr gene variants criteria evolved refined consensus accommodate new data inconsistencies multiple classification teleconferences face-to-face meetings final criteria applied retrospectively remaining unique variants listed database supplementary table 3 overview insight classification criteria shown figure 1 see supplementary table 4 supplementary note detailed criteria justifications close vic teleconference meeting consensus classifications noted necessary action items improve clarify classification included calls missing clinical functional information specific variants committee members general insight membership ii requests detailed data data clarification authors original publications iii reassessment classification additional data obtained end process insight database updated final consensus classifications supporting data ensure transparency figure 1 overview five-tiered insight classification guidelines overview five-tiered insight classification guidelines simplified guidelines describing levels types evidence required tier classification full guidelines described supplementary note detailed rationale behind criterion provided supplementary table 3 lynch syndrome molecular phenotype described classes 4 5 includes information msi loss expression relevant protein determined immunohistochemistry study variants resulting introduction premature termination codon large genomic deletions affecting functionally important domains generally considered pathogenic basis dna sequence alone referred class 5a assumed pathogenic variants variants categorized class 5 termed class 5b variants b flowchart used assist interpretation available data functional assays assays reviewed classification shown supplementary table 4 values used define abrogated normal function shown supplementary table 5 cutoffs 25 75 protein expression used previous publications47 48 conservative given abrogated function reported associated decrease mlh1 expression 50 more49 variants normal inconclusive intermediate mmr activity two independent assays deficient protein function two independent assays abrogated function assigned af allele frequency pp posterior probability pathogenicity derived multifactorial likelihood analysis cmmrd constitutional mmr deficiency mim 276300 lr likelihood ratio ls lynch syndrome mss microsatellite stable crc colorectal cancer ihc immunohistochemistry nmd nonsense-mediated decay full size image 421 kb figures tables index next major issues faced committee review process included redundancy across multiple sources resolved discussion authors original publications paucity information incomplete inaccurate data difficulties interpretation results functional assays facilitate interpretation findings functional assays supporting information flowcharts developed fig 1b supplementary tables 5 6 multiple meetings coordinated dedicated review variants apparently discordant results functional assays supplementary table 3 validation insight qualitative classification criteria nonsense frameshift alterations large genomic deletions interrupting functionally important domains generally considered pathogenic basis dna sequence alone variants designated class 5a assumed pathogenic 990 assumed pathogenic variants database 640 private mutations demonstrate robustness qualitative classification criteria 170 assumed pathogenic variants 68 mlh1 75 msh2 13 msh6 14 pms2 reviewed validation set class 5 pathogenic qualitative criteria required assignment variants class 5b online methods supplementary table 7 designation variant class 5b required evidence abrogated protein function least two tumors microsatellite instability msi appropriate loss mmr protein expression segregation likelihood ratio 10 1 incorporating gene-specific cumulative risks27 variant cosegregation disease reported least two amsterdam criteria positive families class 5b attained 60 validation set variants sufficient clinical data assess required criteria 110 validation set variants could assigned class 5b largely family cosegregation tumor data scarce unobtainable presumably variants accepted disease causing routinely used clinical presymptomatic testing families online methods variants 72 assigned class 4 owing lack 1 point evidence 38 variants assigned class 3 owing insufficient data however 2 13 msh6 2 14 pms2 variants fulfilled class 5b criteria reflecting lower penetrance later age onset associated deleterious variants pms2 ref 28 msh6 ref 29 together results indicate criteria classification using qualitative data sufficiently stringent ensure conservative classification classification 2 360 constitutional mmr gene variants 12 006 eligible variant entries insight database submitter final classifications differed 7 935 66 including changes class 1 pathogenic class 5 pathogenic vice versa fig 2a overall breakdown final classifications shown figure 2b addition 990 assumed pathogenic truncating large-deletion variants class 5a consistent medical management also possible remaining 1 370 obviously truncating variants include 167 class 5 pathogenic variants class 5b 12 183 class 4 likely pathogenic variants 14 86 class 2 likely pathogenic variants 6 169 class 1 pathogenic variants 12 figure 2 outcome standardized five-tiered insight classification constitutional mmr gene variants outcome standardized five-tiered insight classification constitutional mmr gene variants graph plots proportion five-tiered classifications documented constitutional variants database original lovd database classifications assigned submitters class 5a subset class 5 containing assumed pathogenic nonsense mutations small frameshift indels large deletions class 5b includes variants obviously truncating considered pathogenic basis combined evidence supplementary note results show standardized classification led altered classifications considerable proportion variant entries including downgrading variants submitted pathogenic 24 upgrading variants unknown pathogenicity likely pathogenic 5 6 pathogenic 48 addition clinically important misclassifications identified unique variants initially submitted pathogenic 54 unique variants reclassified class 5b variants 25 reclassified class 4 variants unique variants submitted pathogenic 28 unique variants reclassified class 1 variants 16 reclassified class 2 variants 218 reclassified class 3 variants b pie chart showing distribution final insight vic consensus classifications full size image 214 kb download excel source data 40 kb previous figures tables index next nonsynonymous variants made majority class 3 variants 524 765 68 newly assigned class 5b variants 91 167 54 fig 3 supplementary fig 2 see supplementary table 8 detailed information supporting classifications substitutions canonical dinucleotide splice sites fell predominantly class 4 owing lack functional rna analyses however experimentally tested variants would likely moved class 5b intronic variants outside conserved splice sites prevalent variant type class 1 figure 3 classifications documented unique variants variant type classifications documented unique variants variant type plot represents proportion different variant types within five classes class 5a subset class 5 containing assumed pathogenic mutations nonsense mutations small frameshift indels large deletions variants placed class 5 termed class 5b variants supplementary note different variant types include following atg utr variants initiation codon 5 3 utr intronic variants outside canonical splice-site dinucleotides synonymous variants ns obviously truncating nonsynonymous variants outside kozak consensus sequence e missense small in-frame indel read-through translation termination codon alterations ss variants canonical splice-site dinucleotides lgdup large genomic duplications lgdel large genomic deletions disrupting inversions ptc variants introduce premature termination codons e nonsense mutations small frameshift indels see supplementary figure 2 details variant types mmr gene full size image 144 kb download excel source data 34 kb previous figures tables index next final categorization online methods obviously truncating variants class 1 2 4 5 achieved applying qualitative criteria 391 variants quantitative multifactorial likelihood analysis methodology based bioinformatic prior probabilities evidence segregation tumor data see thompson et al 16 192 variants either quantitative qualitative criteria 26 variants classifications derived using quantitative criteria differed generated qualitative criteria difference reflected amount data available rather deficiencies classification criteria variants considered fall class 1 2 using one approach class 4 5 using six synonymous variants categorized class 5b owing effects splicing substitutions occurring initiation codons often assumed pathogenic30 31 32 one nine sufficient evidence determine pathogenicity implementing microattribution microattribution means incentivize placement unpublished data public domain assigning scholarly contribution authors similar citation conventions afforded journal articles33 retrospective prospective microattribution implemented acknowledge encourage submission unpublished data insight database including submission additional detailed clinical information authors published reports microattribution assigned initial variant submission segregation family history data pathology diagnostics msi analysis immunohistochemistry information data vitro functional assays mainly rna splicing determination variant frequencies normal individuals july 2013 total 6 015 microattributions conferred including 3 763 variant submission 2 111 family tumor pathology data 97 data vitro assays 25 frequency data notably 19 microattributions clinical functional data contributed additional information critical classification variants class 5a assumed pathogenic validation subset data also highlighted fact clinical testing assumed pathogenic variants mostly undertaken presymptomatic setting contribution microattribution final classification obviously truncating variants shown figure 4 notably classification altered 57 169 34 variants unpublished data obtained moreover implementation microattribution stimulated submission 128 new mmr gene variants yet classified figure 4 contribution microattribution classification variants obviously truncating contribution microattribution classification variants obviously truncating dark shading yes indicates proportion total variants class additional data obtained microattribution contributed final classification full size image 98 kb download excel source data 32 kb previous figures tables index next class 3 variants uncertain relevance missense variants mmr genes abundant among class 3 uncertain variants present considerable clinical problem quantitative multifactorial likelihood analysis effective approach classification missense variants validated bioinformatic predictions34 based amino acid conservation physicochemical properties used surrogate vitro effects variants protein function silico analyses previously shown highly accurate area receiving operator characteristic roc curve 0 93 34 used estimate prior probability pathogenicity 481 class 3 uncertain missense variants fig 5 prioritize requests data facilitate future multifactorial analysis distribution prior probabilities mlh1 msh2 class 3 variants clearly bimodal suggesting 50 mlh1 msh2 missense variants may classified pathogenic investigation total 401 missense variants extreme prior probabilities 20 80 270 probabilities 10 90 indicating classification variant class 1 class 5 could easily performed incorporating segregation tumor information also possible class 3 variants low prior probability pathogenicity based predicted missense alteration would cause splicing aberrations already observed 42 746 obviously truncating nonsynonymous variants incorporation validated bioinformatic splicing prediction tools mmr gene multifactorial model development brca1 brca2 ref 35 assist prioritization variants potential disrupt splicing figure 5 probabilities pathogenicity 481 class 3 missense variants uncertain effect derived silico analysis probabilities pathogenicity 481 class 3 missense variants uncertain effect derived silico analysis e distribution probabilities pathogenicity estimated calibrated algorithm based customized mapp polyphen-2 scores34 mlh1 n 186 msh2 n 169 b msh6 n 145 c pms2 n 24 four mmr genes e showing stratification variants prior probabilities 20 80 prioritize variants investigation classification full size image 69 kb download excel source data 36 kb previous figures tables index investigation potential effects class 3 regulatory variants online methods 15 5 utr variants fell within multiple transcription factor binding sites evidence interruption microrna binding found 6 variants 3 utr data shown multifactorial analyses transcription assays would help elucidate whether variants affect gene function discussion abstract introduction results discussion methods accession codes references acknowledgments author information supplementary information insight vic successfully undertaken collaborative effort establish standardized variant interpretation guidelines encourage data submission provide objective assessment mmr gene variants involved lynch syndrome criteria developed provide basis standardized clinical classification variants inform patient family management genetic counseling10 initiative achieved systematic evaluation 2 360 constitutional variants benefit thousands families internationally notably 605 variants resulting introduction premature termination codon including 217 nonsynonymous substitutions assigned class 5 pathogenic class 4 likely pathogenic class 1 pathogenic class 2 likely pathogenic assigned classes variants also used standards calibration functional assays36 37 clinical relevance 32 variants investigated remains uncertain large proportion 71 private variants occurring one family variants difficult classify owing paucity available clinical information clinicians fundamental role promoting collection segregation information data relevant classification anticipate development interpretation scheme along implementation microattribution incentivize assistance accumulation clinical data value microattribution data accrual previously demonstrated hemoglobinopathies24 insight initiative demonstrates clinical usefulness data collection promotion standardized data formats assist transition fully quantitative unbiased classification eventually incorporating components qualitative guidelines addition difficulties experienced interpreting apparently discordant data functional assays emphasize importance assay validation standardization38 39 experience directly applicable functional analysis deep intronic regulatory variants increasingly detected advancement dna sequencing technologies accommodate lower penetrance reported lower degrees tumor msi associated msh6 pms2 mutations28 29 40 41 42 43 44 gene-specific criteria also considered future iterations classification guidelines example stipulating inclusion segregation odds msh6 pms2 variants classification using modified panels detect msi status another challenging issue contemplate incorporating alleles intermediate risk45 classification schemes including clinical recommendations might linked variants identification subset mmr gene alleles apparently discordant clinical functional features renders resistant classification provide basis future studies define appropriate methodology criteria identify variants studies also required assess whether variants resulting abrogated dna damage response normal mmr46 associated clinical features classical pathogenic mutations mmr genes insight database well-recognized resource clinical research communities receiving 20 000 hits per month development adoption standard templates allows transparency review process database users view relevant information sources relation information guideline interpretation considering classification provided committee guidelines must evolve accommodate additional kinds evidence anticipate clinical issues long variant classifications dated linked dated set guidelines supporting information used derive classifications final classifications also submitted ncbi clinvar database higher exposure expert classifications underlying data rest insight knowledge first large-scale comprehensive classification effort demonstrating value evaluation expert panel curation lsdb providing summary information used assign variant pathogenicity initiative also shows classification may assisted promoting standardized data submission stakeholders clinical research settings thereby allowing access unpublished clinical functional information used facilitate variant classification thus insight initiative provides key model lsdb-centric multidisciplinary collaboration transparent interpretation dna variants methods abstract introduction results discussion methods accession codes references acknowledgments author information supplementary information insight variant interpretation committee expertise insight vic current chair g includes 40 multidisciplinary experts 5 continents see supplementary table 9 disciplines covered vic members committee responsible governance committee turn responsible insight council insight recently joined hvp founding member gene disease specific council insight council specifically considered need responsibility associated classification assignment database took reasonable steps invite highest possible expertise contribute classification process ensure processes legal standing robust insight database curation mutalyzer50 used standardize nomenclature variants present database december 2012 variants multiple submissions originally assigned classification pathogenic probably pathogenic well known pathogenicity probably pathogenicity included group discordant variants used test classification criteria unique variants identified database assigned one following sources constitutional somatic artificial unknown development five-tiered insight classification criteria insight classification criteria developed using delphi method25 five-tiered classification system originally developed consistent classification mmr gene variants identified participants colon cancer family registry16 34 selected baseline insight classification criteria system included option classification basis posterior probabilities arising multifactorial likelihood analysis15 16 51 52 well multiple combinations qualitative data yet calibrated inclusion quantitative analyses often reported literature available clinical sources baseline classification criteria critically reviewed insight vic members attending insight san antonio meeting april 2011 vic members via e-mail response comment rules amended clarity apply stringent interpretation functional assay data consider additional points evidence insight rules used variant classification series 11 meetings 10 teleconferences 1 face-to-face meeting changes incorporated meeting include additional points evidence identified relevant review process committee encountered different combinations useful data published unpublished sources example discussion co-occurrence variant pathogenic mutation gene clinical information regarding constitutional mmr deficiency phenotype53 included vivo test mmr function 1000 genomes project data54 accepted test population frequency consistency accumulative evidence required given class reviewed presentation rules face-to-face meeting committee members supporting documentation developed assist interpretation splicing functional assay results b consultation subset committee members specific expertise field fig 1b supplementary tables 4 5 necessary rule alterations applied retrospectively variants evaluated previous meetings finalized rules shown simplified format fig 1 detailed supplementary note used assess remaining variants lodged insight database classification mmr gene variants literature review data collation variants occurring 1000 genomes project54 allele frequency greater 1 automatically classified class 1 variants committee members invited participate least one classification meeting core group participated meeting attendance invited vic membership make balance meeting participants assigned randomization subset variants assessed attendee provided literature pertaining list variants discussed relevant additional unpublished clinical research information submitted committee members insight curator j -p p meeting attendees requested thoroughly review summarize information pertaining subset variants spreadsheet template provide class assignment based interpretation information accessed reviewer summaries submitted clinical information results causality analysis compiled single file allow comparison data class assignments variant circulated teleconference participants committee meetings variants discussed one time assessing following class assigned reviewer rationale classification according classification guidelines difficulties interpreting specific data sources assessment possible redundancy information due multiple publications including information pertaining variant differences interpretation guidelines provided adjustments required improve clarity consensus view variant class considering preceding discussion action required obtain additional information refining classification variants remained class 2 3 4 close discussion classifications differed using qualitative quantitative criteria differences due differences availability specific data types two approaches extreme classification assigned relevant variants b prioritized variants examination identifying classifying variants rules-based classification could applied variants truncating comprised large deletion nomenclature canonical splice site splicing data frequency 1 control reference group b collated information remaining unique variants including reviewed previously teleconferences determined variants sufficient information allow classification outside class 3 summary information variants circulated independent class assignment least three reviewers vic classification finalized teleconferences e-mail validation qualitative criteria subset truncating variants large genomic deletions selected validate qualitative classification criteria variants selected basis availability data first point evidence qualitative class 5 criterion e vitro functional assay results example protein truncation test genomic mrna confirmation large deletions constitutional mmr deficiency syndrome phenotype different haplotypes across multiple families published unpublished data variants used validate points evidence required classification class 5 pathogenic variant preliminary analysis class 3 uncertain variants silico probabilities pathogenicity estimated class 3 missense variants described elsewhere34 preliminary bioinformatic analysis class 3 regulatory variants undertaken using encyclopedia dna elements encode data55 ucsc genome browser implementation microattribution process variant interpretation process uses published unpublished data published literature pubmed id pmid used reference original work unpublished data recorded insight database study initiation insight members also requested e-mail contribute information important variant classification using standardized submission template data submitters requested provide permanent publicly searchable unique id preferably orcid system facilitate adoption microattribution approach microattribution assigned different types information corresponding points evidence required classification namely submitters allocated one credit microattribution type information received including variant mandatory ii family history pedigree iii msi information iv immunohistochemistry data v vitro functional data vi data rna splicing assays vii population frequency data unpublished data received vic recorded microattribution tables element type microattribution table listing unique researcher id along submitted information microattribution counts submitters publically available insight website additionally data made available nanopublication format statistical analysis multifactorial likelihood analysis performed variants appropriate tumor segregation data available using previously reported methods16 34 51 described briefly follows bayes factor analysis conducted b assess mlh1 msh2 msh6 pms2 variant causality segregation data16 51 published unpublished pedigrees sufficient relevant information cancer variant carrier status penetrance estimates senter et al 28 used bayes segregation analysis27 pms2 variants family relationship status unknown conservative segregation likelihood ratio derived e setting affected carriers first-degree relatives less informative segregation second-degree relatives colorectal tumor msi somatic braf mutation status used assign likelihood ratios according tumor phenotype16 variant individual likelihood ratios cosegregation tumor multiplied calculate odds causality posterior probability calculated combining prior probability silico missense variants34 basis sequence location variants13 odds causality using bayes rule posterior prior odds 1 1 prior prior odds 1 1 prior 1 stata 11 used calculate sample size truncating variant validation set h0 p 0 01 assuming 0 05 one-sided power 0 95 analyses completed using statistical package r graphpad prism 6 meta-analysis population frequency data proportions combined using inverse variance random-effects model account heterogeneity studies\n"
     ]
    }
   ],
   "source": [
    "print(result['TEXT'][106])"
   ]
  },
  {
   "cell_type": "code",
   "execution_count": 0,
   "metadata": {
    "colab": {
     "base_uri": "https://localhost:8080/",
     "height": 206
    },
    "colab_type": "code",
    "executionInfo": {
     "elapsed": 921,
     "status": "ok",
     "timestamp": 1552624009524,
     "user": {
      "displayName": "Atul Rana",
      "photoUrl": "https://lh4.googleusercontent.com/-tLVUUtH-AZE/AAAAAAAAAAI/AAAAAAAAMt0/14Rk9-FZ5I4/s64/photo.jpg",
      "userId": "06185900944594624481"
     },
     "user_tz": -330
    },
    "id": "x0YtxVdQJb04",
    "outputId": "19b66254-f642-4c42-f16a-eed8e947e628"
   },
   "outputs": [
    {
     "data": {
      "text/html": [
       "<div>\n",
       "<style scoped>\n",
       "    .dataframe tbody tr th:only-of-type {\n",
       "        vertical-align: middle;\n",
       "    }\n",
       "\n",
       "    .dataframe tbody tr th {\n",
       "        vertical-align: top;\n",
       "    }\n",
       "\n",
       "    .dataframe thead th {\n",
       "        text-align: right;\n",
       "    }\n",
       "</style>\n",
       "<table border=\"1\" class=\"dataframe\">\n",
       "  <thead>\n",
       "    <tr style=\"text-align: right;\">\n",
       "      <th></th>\n",
       "      <th>ID</th>\n",
       "      <th>Gene</th>\n",
       "      <th>Variation</th>\n",
       "      <th>Class</th>\n",
       "      <th>TEXT</th>\n",
       "    </tr>\n",
       "  </thead>\n",
       "  <tbody>\n",
       "    <tr>\n",
       "      <th>20</th>\n",
       "      <td>20</td>\n",
       "      <td>CBL</td>\n",
       "      <td>H94Y</td>\n",
       "      <td>6</td>\n",
       "      <td>abstract background non-small cell lung cancer...</td>\n",
       "    </tr>\n",
       "    <tr>\n",
       "      <th>191</th>\n",
       "      <td>191</td>\n",
       "      <td>EGFR</td>\n",
       "      <td>S921R</td>\n",
       "      <td>6</td>\n",
       "      <td>assess role various epidermal growth factor re...</td>\n",
       "    </tr>\n",
       "    <tr>\n",
       "      <th>293</th>\n",
       "      <td>293</td>\n",
       "      <td>CHEK2</td>\n",
       "      <td>I157T</td>\n",
       "      <td>6</td>\n",
       "      <td>recently functionally defective chek2 variant ...</td>\n",
       "    </tr>\n",
       "    <tr>\n",
       "      <th>328</th>\n",
       "      <td>328</td>\n",
       "      <td>ROS1</td>\n",
       "      <td>L1951R</td>\n",
       "      <td>6</td>\n",
       "      <td>increasing number genetic alterations aberrant...</td>\n",
       "    </tr>\n",
       "    <tr>\n",
       "      <th>383</th>\n",
       "      <td>383</td>\n",
       "      <td>TP53</td>\n",
       "      <td>H115N</td>\n",
       "      <td>6</td>\n",
       "      <td>sequence-specific dna binding exonuclease acti...</td>\n",
       "    </tr>\n",
       "  </tbody>\n",
       "</table>\n",
       "</div>"
      ],
      "text/plain": [
       "      ID   Gene Variation  Class  \\\n",
       "20    20    CBL      H94Y      6   \n",
       "191  191   EGFR     S921R      6   \n",
       "293  293  CHEK2     I157T      6   \n",
       "328  328   ROS1    L1951R      6   \n",
       "383  383   TP53     H115N      6   \n",
       "\n",
       "                                                  TEXT  \n",
       "20   abstract background non-small cell lung cancer...  \n",
       "191  assess role various epidermal growth factor re...  \n",
       "293  recently functionally defective chek2 variant ...  \n",
       "328  increasing number genetic alterations aberrant...  \n",
       "383  sequence-specific dna binding exonuclease acti...  "
      ]
     },
     "execution_count": 25,
     "metadata": {
      "tags": []
     },
     "output_type": "execute_result"
    }
   ],
   "source": [
    "result[ result['Class']==6 ].head()"
   ]
  },
  {
   "cell_type": "code",
   "execution_count": 0,
   "metadata": {
    "colab": {
     "base_uri": "https://localhost:8080/",
     "height": 54
    },
    "colab_type": "code",
    "executionInfo": {
     "elapsed": 868,
     "status": "ok",
     "timestamp": 1552624011546,
     "user": {
      "displayName": "Atul Rana",
      "photoUrl": "https://lh4.googleusercontent.com/-tLVUUtH-AZE/AAAAAAAAAAI/AAAAAAAAMt0/14Rk9-FZ5I4/s64/photo.jpg",
      "userId": "06185900944594624481"
     },
     "user_tz": -330
    },
    "id": "5PAuaEuHJtLa",
    "outputId": "6cd4f07c-5ab2-460d-ff60-59ef3cc4ed2c"
   },
   "outputs": [
    {
     "name": "stdout",
     "output_type": "stream",
     "text": [
      "assess role various epidermal growth factor receptor egfr mutations her2 3 protein expression predictive markers responsiveness gewtinib therapy chinese patients advanced nonsmall cell lung cancer nsclc methods total 106 chinese nsclc patients failed least one chemotherapy regimen received gewtinib 250 mg daily 106 tumors patients screened mutations egfr exons 18 24 84 tumors studied immunohistochemistry her2 3 expression correlated clinical treatment outcome results patients egfr mutations signiwcantly higher overall response rate orr longer time progression ttp overall survival os compared wild-type receptor diverence orr observed patients exon 19 deletion patients egfr mutations orr her2-positive patients signiwcantly higher her2-negative group irrespective egfr mutational status trend better orr observed her3-positive patients her2 her3 expression levels associated diverence terms ttp os nevertheless considering subgroups non-responders gewtinib median ttp patients mutated egfr signiwcantly longer mutations 8 0 vs 3 0 months p 0 0065 egfr-mutated patients signiwcant diverence orr ttp os according her2 her3 expression conclusions egfr mutations evective predictors gewtinib eycacy chinese patients advanced nsclc her2 her3 expression provide additional information selecting patients likely benewt gewtinib treatment keywords non-small cell lung cancer epidermal growth factor receptor mutation gewtinib her2 her3 introduction non-small cell lung cancer nsclc represents major cause cancer death worldwide jemal et al 2006 platinum-based chemotherapy standard treatment patients advanced disease schiller et al 2002 although new chemotherapy strategies developed prognosis patients inoperable disease remains extremely poor schiller et al 2002 several new molecules interfering speciwc cancer-related pathways studied last years promising results observed agents targeting epidermal j xu han e gao x q liu beijing 307 hospital cancer center 8 dong da street feng tai district 100071 beijing china e-mail jmxu2003 yahoo com h q duan j zhang beijing biotechnology institute beijing china zhang 2nd ayliated hospital cancer center da lian medical university dalian china l toschi policlinico orsola bologna italy galetta azzariti paradiso national cancer institute bari italy 772 j cancer res clin oncol 2009 135 771 782 123 growth factor receptor egfr mendelsohn baselga 2000 egfr family includes four distinct transmembrane receptors egfr erbb-1 her2 erbb-2 her3 erbb- 3 her4 erbb-4 mendelsohn baselga 2000 salomon et al 1995 ligand-induced egfr activation triggers phosphorylation intracellular egfr tyrosine kinase domain ultimately results tumor cell survival proliferation invasion asahina et al 2006 cappuzzo et al 2003 gewtinib zd 1839 iressa astrazeneca uk erlotinib osi 774 tarceva genentech us orally active egfr tyrosine kinase inhibitors tkis extensively studied nsclc arteaga 2002 erlotinib gaining food drug administration approval monotherapy treatment nsclc patients failed least one chemotherapy regimen egfr-tkis demonstrated signiwcant antitumor activity approximately 10 unselected pretreated nsclc patients thatcher et al 2005 shepherd et al 2005 retrospective analyses large phase ii iii trials either gewtinib erlotinib shown signiwcant association response egfr-tkis female gender adenocarcinoma histology asian ethnicity never-smoking history thatcher et al 2005 shepherd et al 2005 biological mechanisms underlying tki sensitivity resistance extensively investigated several reports indicate presence egfr gene mutations particularly exon 19 deletions egfr gene gain associated never-smoking history predict response tkis lynch et al 2004 paez et al 2004 tsao et al 2005 whereas assessment relationship egfr protein expression response generated conxicting reports hirsch et al 2006 cappuzzo et al 2003 pao et al 2005 conversely presence mutations k-ras gene egfr exon 20 linked resistance agents pao et al 2005 kobayashi et al 2005 her2 major partner egfr preclinical studies shown her2-overexpressing cancer cell lines xenografts sensitive inhibitory evects gewtinib lenferink et al 1998 moasser et al 2001 however small retrospective study gewtinib nsclc patients association observed her2 expression assessed immunohistochemistry ihc eycacy drug cappuzzo et al 2003 nevertheless recent italian retrospective study cohort nsclc patients treated gewtinib shown increased her2 gene copy number evaluated xuorescence situ hybridization fish associated higher response rate prolonged time progression ttp trend toward longer survival cappuzzo et al 2005a b c her3 commonly overexpressed together her2 variety cancers naidu et al 1998 krahn et al 2001 found modulate drug resistance her2-overexpressing tumors chen et al 2000 addition anido et al 2003 demonstrated gewtinib inhibits growth her2-overexpressing cancer cells possibly sequestration her2 her3 receptors inactive heterodimer conwguration egfr nevertheless engelman et al 2007 recently highlighted additional mechanism acquired pre-existing resistance gewtinib treatment nsclc involves proto-oncogene c-met ampliwcation loading her3-dependent pi3k akt persistent activation model beyond number c-met copies levels phosphorylated her3 akt following gewtinib treatment would negatively related clinical outcome therefore appears convincing data available her3 protein expression possible predictor tki activity clinical setting based data performed retrospective study aimed identifying role diverent egfr gene mutations her2 her3 expression predictive factors gewtinib sensitivity cohort chinese pretreated nsclc patients patients methods patients treatment advanced nsclc patients two institutions beijing 307 hospital cancer center 2nd ayliated hospital cancer center da lian medical university received gewtinib monotherapy daily dose 250 mg disease progression unacceptable toxicity patients pretreated least one chemotherapy regimen drug provided astrazeneca within expanded access program compassionate use basis patients pathologically conwrmed measurable locally advanced metastatic nsclc normal baseline blood counts renal hepatic functions patients classiwed smokers never-smokers less 100 lifetime cigarettes patients evaluated response according recist criteria therasse et al 2000 tumor response assessed week 4 conwrmatory evaluation repeated non-progressing patients 4 weeks later reevaluated every subsequent 4 weeks study approved ethics committee written informed consent obtained patient dna sequencing primary tumor samples obtained patient systemic treatment consisted parayn-embedded j cancer res clin oncol 2009 135 771 782 773 123 frozen tumor tissue tumor specimens prepared para yn-embedded sections using xylene depara ynization ethanol precipitation hematoxylin eosin stained tissue slides tumor specimen reviewed pathologists specimens 80 tumor component used dna extraction genomic dna extracted wve para yn sections 5 thickness tumor blocks 30 mg frozen tumor tissues using e z n sq tissue dna kit omega usa according manufacturer protocols egfr tyrosine kinase exons 18 24 ampli wed nested pcr table 1 pcr reaction contained 5 ng dna 10 kod plus bu ver 1 mm dntps 0 4 mm mgso 4 0 5 u kod plus enzyme toyobo jap 0 2 forward reverse primers 25 l reaction volume pcr cycling parameters one cycle 94 c 2 min 30 30 cycles 94 c 30 55 c 30 68 c 30 followed one cycle 68 c 7 min pcr products sequenced using abi prism bigdye terminator cycle sequencing ready reaction kit abi prism3100 genetic analyzer pe applied biosystems foster city ca analyzed sense antisense directions sequences pcr amplicons compared cdna sequence egfr obtained genbank accession nm 005228 3 blast2 sequence least three independent experiments performed analyses immunohistochemical analysis her2 her3 expression evaluated tissue specimens collected gewtinib treatment level her2 expression determined ihc using dako herceptest dako copenhagen denmark her3 expression evaluated ihc using c-erbb3 monoclonal antibody clone sgp1 neomarkers staining performed according protocol described manufacturer guide her2 her3 scored widely accepted criteria assess intensity completeness membrane staining dako herceptest package insert 1998 staining assessed area maximum staining intensity follows 0 staining 1 weak incomplete membranous staining 2 moderate complete membranous staining least 10 invasive tumor cells 3 strong membranous staining least 10 invasive tumor cells cases interpreted 0 1 considered negative cases interpreted 2 3 considered positive statistical analyses univariate analysis patient characteristics tumor response performed using 2 test fisher exact test appropriate multivariate analysis table 1 primers egfr tyrosine kinase exons f forward r reverse exon f external r external f nested r nested 18 tccaaatgagctggcaagtg tcccaaacactcagtgaaacaaa aacagctatgaccatggcttgtggagcctcttacac gttttcccagtcacgaccttatacaccgtgccgaacg 19 gtgcatcgctggtaacatcc tgtggagatgagcagggtct aacagctatgaccatgggactctggatcccagaaggtg gttttcccagtcacgacatcgaggatttccttgttggc 20 atcgcattcatgcgtcttca atccccatggcaaactcttg aacagctatgaccatggaagcctacgtgatggccagcg gttttcccagtcacgacctttgcgatctgcacacaccag 21 gctcagagcctggcatgaa catcctcccctgcatgtgt aacagctatgaccatgggcatgaactacttggaggacc gttttcccagtcacgactttgcctccttctgcatggtattc 22 tggctcgtctgtgtgtgtca cgaaagaaaatacttgcatgtcaga aacagctatgaccatgggtgcct atcaagtgga tggc gttttcccagtcacgaccgtagctccagacatcactc 23 tgaagcaaattgcccaagac tgacatttctccagggatgc aacagctatgaccatggggtgactgtttgggagttgatg gttttcccagtcacgacacttgaccatgatcatgtagac 24 aagtgtcgcatcaccaatgc atgcgatctgggacacagg aacagctatgaccatgggctgga tgatagacgc ag gttttcccagtcacgacctgaatgacaaggtagcgctg 774 j cancer res clin oncol 2009 135 771 782 123 performed using logistic regression model median durations overall survival os ttp calculated using kaplan meier method kaplan meier 1985 comparisons diverent groups made using log-rank test multivariate analysis carried using stepwise cox regression model two-sided p values less 0 05 considered signiwcant analyses performed using spss windows version 12 0 spss inc chicago il results patient characteristics may 2002 march 2005 tumor specimens suitable genetic analysis available 106 patients 25 frozen 81 formalin-wxed parayn-embedded tumor samples patient clinical characteristics listed table 2 cohort well balanced according gender 51 9 male vs 48 1 female median age 63 years range 31 78 majority patients adenocarcinoma 73 6 remainder squamous cell carcinoma 22 6 histologies 3 8 importantly patients never-smokers 67 pretreated least two chemotherapy regimens prior gewtinib treatment 88 7 gewtinib administered orally median treatment duration 6 4 months range 1 26 months objective response rate orr 31 1 33 106 95 ci 23 39 median follow-up approximately 8 6 months median ttp entire population 5 0 months 95 ci 4 1 5 9 months median os 11 4 months 95 ci 6 2 16 5 months using univariate analyses objective response p 0 0001 adenocarcinoma histology p 0 003 signiwcantly correlated longer ttp objective response p 0 001 never-smoker status p 0 009 predicted improved os her2 her3 expression clinical characteristics among enrolled 106 patients 84 suycient tumor tissue ihc analysis total 38 patients 45 2 her2 overexpression 17 patients 20 2 her3- positive total 41 patients 48 8 tumors negative her2 her3 co-overexpression markers detected 12 patients 14 2 evaluating association her2 her3 expression status clinical characteristics observed her3 overexpression associated performance status 0 1 28 6 vs 8 6 p 0 024 signiwcant association observed age gender smoking history histology number prior chemotherapy regimens tumor stage her2 expression status associated clinical feature table 3 her2 her3 expression clinical outcome orr including complete responses partial responses pr 36 8 95 ci 31 5 42 1 patients her2 overexpression 17 4 95 ci 9 3 25 5 negative her2 diverence statistically signiwcant p 0 044 contrary signiwcant diverences terms orr observed her3-positive patients 41 2 95 ci 35 8 46 6 compared her3-negative 22 4 95 ci 17 9 26 9 performing kaplan meier survival analyses ttp os diver according her2 her3 expression status combining tests observed marginally signiwcant advantage terms orr her2-positive her3- positive patients compared negative markers 50 0 vs 17 1 p 0 05 however advantage reach statistical signiwcance comparing her2-positive her3-positive tumors table 2 patient characteristics ecog eastern cooperative oncology group lifetime smoking history less 100 cigarettes characteristic n 106 age years median 62 range 31 78 gender male 55 51 9 female 51 48 1 stage iiib 23 21 7 iv 83 78 3 ecog performance status 0 1 62 58 5 2 36 34 3 8 7 5 histology adenocarcinoma 78 73 6 squamous cell carcinoma 24 22 6 others 4 3 8 prior chemotherapy 1 regimen 12 11 3 2 regimens 94 88 7 smoking history never smokersa 71 67 smokers 35 33 j cancer res clin oncol 2009 135 771 782 775 123 negative one marker p 0 071 diverence terms ttp os observed subgroups according combined her2 her3 expression status table 4 egfr mutations clinical characteristics egfr mutational analysis successfully performed 106 patients overall mutation rate 30 2 n 32 egfr mutations mainly involved exons 19 53 1 n 17 21 21 9 n 7 18 18 8 n 6 table 5 exon 23 exon 20 substitutions observed one three patients respectively among egfr-mutated patients 30 carried single mutation two patients double mutation presence egfr mutations signiwcantly associated adenocarcinoma histology association observed smoking status age gender performance status number prior chemotherapy regimens tumor stage table 3 egfr mutations clinical outcome egfr-mutated patients signiwcantly higher orr compared carrying wild-type receptor 71 9 vs 13 5 p 0 0001 accordance wnding mutations present 23 69 7 33 responders 9 12 3 73 non-responders p 0 0001 interestingly none patients egfr mutations progressive disease indicating signiwcant table 3 patient characteristics egfr her2 her3 status ecog eastern cooperative oncology group ade adenocarcinoma 9 p values two-sides calculated using fisher exact test p values two-sides calculated using pearson chi-square test variable egfr her2 her3 mutation n wild-type n positive n negative n positive n negative n cases 32 30 2 74 69 8 38 45 2 46 54 8 17 20 2 67 79 8 sex male 13 23 6 42 76 4 17 38 6 27 61 4 8 18 2 36 81 8 female 19 37 3 32 62 7 21 52 5 19 47 5 9 22 5 31 77 5 p 0 127 0 202 0 707 age 65 18 30 42 70 20 44 4 25 55 6 12 26 7 33 73 3 65 14 30 4 32 69 6 18 46 2 21 53 8 5 12 8 34 87 2 p 0 961 0 875 0 115 ecog 0 1 19 30 6 43 69 4 25 51 0 24 49 0 14 28 6 35 71 4 2 3 13 29 5 31 70 5 13 37 1 22 62 9 3 8 6 32 91 4 p 0 903 0 208 0 024 histology ade 28 35 9 50 64 1 28 45 9 33 54 1 12 19 7 49 80 3 non-ade 4 14 3 24 85 7 10 43 5 13 56 5 5 21 7 18 78 3 p 0 033 0 842 1 0009 smoking history never smokers 25 35 2 46 64 8 26 45 6 31 54 4 7 25 9 20 74 1 smokers 7 20 28 80 12 44 4 15 55 6 10 17 5 47 82 5 p 0 109 0 920 0 372 prior chemotherapy 1 regimen 5 41 7 7 58 3 5 41 7 7 58 3 4 33 3 8 67 7 2 regimens 27 28 7 67 71 3 33 45 8 39 54 2 13 18 1 59 81 9 p 0 358 0 788 0 2519 stage iiib 5 21 7 18 78 3 7 35 0 13 65 0 3 15 0 17 85 0 iv 27 32 5 56 67 5 31 48 4 33 51 6 14 21 9 50 78 1 p 0 319 0 292 0 7519 776 j cancer res clin oncol 2009 135 771 782 123 reduction risk disease progression subgroup patients 2 5 852 p 0 016 median ttp signiwcantly longer patients egfr mutations compared subjects wild-type tumors 15 0 vs 3 0 months p 0 0001 fig 1a reduction risk disease progression apparently remained unchanged overall treatment duration considering subgroup non-responders gewtinib median ttp patients mutated egfr signiwcantly longer mutations 8 0 vs 3 0 months p 0 0065 fig 2 patients mutated egfr experienced improved os comparison subjects without mutations 18 5 vs 6 0 months p 0 0001 seen ttp survival benewt associated egfr mutations maintained throughout overall treatment duration fig 1b consistent ttp os non-responders gewtinib harboring egfr mutations signiwcantly longer wild-type receptor 11 0 vs 5 3 months p 0 0392 attempted determine whether diverent types egfr mutations play diverent role predicting sensitivity gewtinib directly comparing exon 19 deletions l858r substitution neither mutation resulted better predictor gewtinib sensitivity although trend improved ttp favoring exon 19 mutations observed table 6 moreover found signiwcantly longer ttp patients exon 19 deletions seen harboring classes mutations 18 1 vs 10 0 months p 0 032 although diverence translate prolonged survival p 0 415 conversely comparing l858r substitution exon 21 types mutations found diverence patient outcome terms orr ttp os egfr mutations her2 her3 expressions combining mutational ihc data observed egfr-mutated her2-positive patients signiwcantly higher orr higher 1-year survival rate p 0 0001 table 4 association tumor response prognosis according egfr her2 her3 status objective response os overall survival ttp time progression 9 p values two-sides calculated using fisher exact test p values two-sides calculated using log-rank test markers n median ttp months median os months 1-year survival sd her2 her3 12 14 2 6 50 0 4 0 13 0 53 2 her2 her3 5 6 0 1 20 0 7 0 9 3 60 2 her2 her3 26 31 0 8 30 8 5 0 13 5 54 1 her2 her3 41 48 8 7 17 1 3 0 7 0 39 1 negative 72 85 7 16 22 2 4 0 8 0 42 1 p vs 0 0719 0 960 0 636 0 119 egfr mutation her2 13 15 5 11 84 6 18 1 26 0 75 2 egfr mutation her2 8 9 5 3 37 3 15 1 21 2 58 2 egfr mutation her2 25 29 8 3 12 0 3 0 6 4 23 1 egfr mutation her2 38 45 2 5 13 2 3 4 6 0 29 1 negative 71 84 5 11 15 5 3 0 7 0 30 1 p vs 0 00019 0 000 0 000 0 0001 egfr mutation her3 7 8 3 5 71 4 8 5 18 3 85 2 egfr mutation her3 14 16 7 9 64 3 18 1 26 0 79 1 egfr mutation her3 10 11 9 2 20 3 0 5 4 18 2 egfr mutation her3 53 63 1 6 11 3 3 0 6 4 29 1 negative 77 91 7 17 22 1 3 4 15 2 42 1 p vs 0 0129 0 027 0 013 0 0001 egfr mutation her2 her3 4 4 8 4 100 8 0 13 0 75 2 egfr mutation her2 her3 5 6 0 2 40 0 6 4 15 2 80 2 egfr mutation her2 her3 8 9 5 2 25 0 3 0 9 0 23 2 egfr mutation her2 her3 36 42 9 5 13 9 3 0 6 4 31 1 negative 80 95 2 18 22 5 4 0 9 0 44 1 p vs 0 0049 0 325 0 722 0 0001 j cancer res clin oncol 2009 135 771 782 777 123 longer ttp p 0 0001 longer os p 0 0001 patients egfr mutations her2 negative similar wndings observed her3 data combined egfr mutational status however her2 her3 expression inxuence patient outcome terms orr ttp os egfrmutated patients similarly her2 her3 data combined egfr mutation results patients egfr mutations her2-positive her3-positive diver terms orr p 0 167 ttp p 0 795 1-year survival rate p 0 397 os p 0 264 patients egfr mutations her2- negative her3-negative table 4 multivariate analysis clinical outcome order determine variables predictive response ttp os factors statistically signiwcant univariate analysis included multivariate model step-wise logistic regression analysis performed identify signiwcant factors might predict response gewtinib presence egfr mutations table 5 clinical biological characteristics patients egfr mutations male f female sm smoking history h histology objective response squ squamous cell carcinoma ade adenocarcinoma squamous cell carcinoma adenocarcinoma na available cr complete response pr partial response sd stable disease pd progressive disease os overall survival ttp time progression sex sm h her29 her39 nucleotide change amino acid change exon ttp os 1 f n squ 2104g a702s 18 pr 8 5 14 0 2 f n ade 2104g a702s 18 pr 7 0 7 0 3 ade 2123a k708 18 pr 16 3 16 3 4 f n squ 2162g c g721a 18 cr 7 0 11 0 5 n ade na na 2162g c g721a 18 pr 6 0 9 0 6 f n ade na na 2108t c l703p 18 sd 15 0 15 7 7 f n ade 2230a g i744 v 19 pr 5 0 26 0 8 f n ade 2219t c v740a 19 pr 12 0 12 0 9 ade del2236 2250 del e746-a750 19 pr 13 0 13 0 10 f n ade del2235 2249 delk745-a750insk 19 pr 17 4 17 4 11 f n ade 2218g c v740l 19 pr 3 0 28 0 12 f n ade 2219t c v740a 19 pr 8 5 16 7 13 ade del2235 2249 delk745-a750insk 19 pr 8 0 13 0 14 ade na na del2235 2249 delk745-a750insk 19 pr 2 7 2 7 15 n ade na na del2236 2250 del e746-a750 19 pr 8 1 13 9 16 f n ade 2218g c v740l 19 cr 4 6 4 6 17 f ade na na del2236 2250 del e746-a750 19 pr 6 0 6 0 18 f n ade na na 2242a r748 w 19 sd 7 3 7 3 19 n squ del2235 2249 delk745-a750insk 19 sd 11 0 11 0 20 f n ade del2237 2251 dele746-t751insa 19 sd 9 2 9 2 21 f n ade del2235 2246 delk745-e749insk 19 sd 18 1 18 5 22 n ade del2239 2256 dell747-s752 19 sd 26 0 26 0 23 f n ade na na 2350t c s784p 20 pr 13 0 14 0 24 n ade 2495g r832l 21 sd 7 0 7 0 25 f n ade 2573t g l858r 21 cr 20 0 24 0 26 na na 2573t g l858r 21 pr 5 3 5 3 27 f n ade na na 2573t g l858r 21 pr 6 0 6 0 28 f n ade na na 2573t g l858r 21 pr 8 2 15 3 29 ade na na 2573t g l858r 21 sd 10 0 16 0 30 n ade 2763c s921r 23 sd 4 6 4 6 31 f n ade 2404g v802f 20 pr 16 0 16 0 del2236 2250 dele746-a750 19 32 n ade 2404g v802f 20 pr 15 1 15 2 2573t g l858r 21 778 j cancer res clin oncol 2009 135 771 782 123 emerging strongest predictor response rr 13 8 95 ci 4 3 44 4 cox regression model used determine signiwcant factors might inxuence ttp os presence egfr mutations rr 4 7 p 0 0001 adenocarcinoma histology rr 2 1 p 0 005 signiwcantly associated longer ttp mutations rr 5 2 p 0 0001 never-smoker status rr 2 0 p 0 0161 predicted longer survival discussion egfr tkis shown remarkable activity subsets nsclc patients clear benewt observed women adenocarcinomas asian ethnicities never-smokers thatcher et al 2005 shepherd et al 2005 lynch et al 2004 paez et al 2004 molecular mechanisms underlying sensitivity agents extensively investigated particular presence egfr activating mutations associated response either gewtinib erlotinib lynch et al 2004 paez et al 2004 tsao et al 2005 surprisingly incidence mutations signiwcantly higher clinical subgroups likely respond tkis lynch et al 2004 paez et al 2004 tsao et al 2005 study egfr mutations observed one-third cohort unselected nsclc patients within range previously reported asian populations treated tkis exon 19 deletions common subtype lynch et al 2004 paez et al 2004 hirsch et al 2006 found signiwcant association egfr mutations adenocarcinoma histology never-smoking status predict presence egfr genetic alterations observation supported investigators huang et al 2004 data might indicate selected asian populations present high incidence egfr activating mutations regardless smoking status previously reported several authors lynch et al 2004 paez et al 2004 tsao et al 2005 observed signiwcant association egfr mutations higher orr longer ttp os however although available data suggest patients egfr mutations sensitive tkis observations indicate genetic alterations may prognostic rather predictive value retrospective analyses largest trials fig 1 kaplan meier curves time disease progression survival b median time progression 15 0 months 95 ci 6 0 23 9 months egfr mutant patients 3 0 months 95 ci 2 6 3 3 months egfr wild-type patients median survival 18 5 months 95 ci 8 3 28 6 months egfr mutant patients 6 0 months 95 ci 5 0 6 9 months egfr wildtype patients statistical signiwcance diverences groups evaluated log-rank test months 0 5 10 15 20 25 time progression 1 0 8 6 4 2 0 0 months 0 5 10 15 20 25 overall survival 1 0 8 6 4 2 0 0 wild-type wild-type mutant mutant p 0 00001 p 0 00001 b fig 2 kaplan meier curves time progression subgroup non-responders gewtinib median ttp patients mutated egfr signiwcantly longer mutations 8 0 vs 3 0 months p 0 0065 statistical signiwcance diverences groups evaluated log-rank test j cancer res clin oncol 2009 135 771 782 779 123 tkis showed survival benewt patients harboring egfr mutations receiving tki shepherd et al 2005 eberhard et al 2005 addition retrospective analyses intact trials compared chemotherapy plus gewtinib versus chemotherapy alone advanced nsclc patients showed signiwcant survival advantage patients egfr mutations treated chemotherapy alone compared individuals egfr wild-type suggesting possible better natural history tumors harboring egfr mutations indeed shepherd tsao remarked growing evidence egfr mutations favorable prognostic markers survival predictive markers response terms tumor shrinkage therefore subgroup patients mutations clearly appears biologically distinct shepherd tsao 2006 indeed haneda et al showed patients avected adenocarcinoma bronchioloalveolar carcinoma components egfr gene mutation signiwcantly better survival adenocarcinoma wild type haneda et al 2006 study ttp longer patients egfr her1 mutant compared wild type gene also nonresponders gewtinib results appears cast doubts whether egfr mutations prognostic value rather predictive response gewtinib patient clinical characteristics molecular tumor markers may used predict likelihood response egfr tkis therapy fact almost studies mutations seen frequently females lifetime non-smokers patients adenocarcinoma shepherd 2008 nevertheless time molecular selection patients therapy egfr tkis quite ready results prospectively designed randomized trials awaited moreover retrospective studies suggested diverent mutations might play diverent roles patients exposed tkis terms response survival particularly patients deletions reported better response tkis compared mutations jackman et al 2006 riely et al 2006 addition longer ttp os observed patients exon 19 deletions exon 21 substitution jackman et al 2006 riely et al 2006 study diverence terms response survival observed across diverent mutational classes although patients exon 19 deletions signiwcantly longer ttp types mutations trend prolonged ttp favoring exon 19 deletions l858r substitution prospective trials performed dewne prognostic predictive roles diverent egfr mutations existing data indicate signiwcant fraction patients egfr mutations 12 84 respond tkis hirsch et al 2006 cappuzzo et al 2005a moreover dramatic responses achieved patients wild-type receptor shepherd et al 2005 study ten patients wild-type egfr achieved pr observations suggest mechanisms egfr mutations involved sensitivity tkis several studies reported improved outcome patients egfr gene gain regardless methods adopted assessment tsao et al 2005 hirsch et al 2006 cappuzzo et al 2005a cappuzzo 2008 furthermore preclinical data indicate members egfr family play critical role driving sensitivity tkis naidu et al 1998 krahn et al 2001 hirata et al 2005 study observed higher evidence egfr her1 mutation non-smokers 20 vs 35 2 female patients 37 7 vs 23 6 even diverence reach statistical signiwcance probably consequence limited number patients diverently wndings recent paper consistent number patients wu et al 2007 table 6 patient outcome according egfr mutational classes exon 19 del n 11 mutations n 21 p rr 63 6 76 2 0 681 ttp months 95 ci 18 1 3 8 32 3 10 0 7 9 12 0 0 032 os months 95 ci 18 5 11 8 25 1 16 0 7 0 24 9 0 415 l858r n 6 mutations n 26 p rr 83 3 69 2 0 648 ttp months 95 ci 10 0 3 2 16 7 15 0 4 9 25 0 0 913 os months 95 ci 15 3 14 5 16 0 26 0 10 5 41 4 0 286 exon 19 del n 11 l858r n 6 p rr 63 6 83 3 0 600 ttp months 95 ci 18 1 3 8 32 3 10 0 3 2 16 7 0 235 os months 95 ci 18 5 11 8 25 1 15 3 14 5 16 0 0 378 rr response rate ttp time progression os overall survival 780 j cancer res clin oncol 2009 135 771 782 123 overexpression her2 associated increased gewtinib activity preclinical models moasser et al 2001 moreover hirata et al 2005 recently demonstrated evects gewtinib inxuenced her2 levels rather egfr expression one nsclc cell line transfected her2 gene increased her2 gene copy number assessed fish associated signiwcantly better orr prolonged ttp trend toward longer survival cohort nsclc patients exposed gewtinib cappuzzo et al 2005a best knowledge one small italian study investigated her2 protein expression assessed ihc nsclc patients treated gewtinib observing inxuence her2 levels clinical outcome cappuzzo et al 2003 study her2-positive patients signiwcantly better orr negative her2 expression regardless egfr mutational status suggesting possible key role her2 driving tki sensitivity her3 commonly overexpressed together her2 variety malignancies implicated tki sensitivity due ability couple egfr pi3k-akt pathway naidu et al 1998 krahn et al 2001 engelman et al 2005 however increased her3 gene copy number assessed fish predict better response longer survival nsclc patients received gewtinib cappuzzo et al 2005a fujimoto et al 2005 evaluated her3 protein expression ihc 42 nsclc patients treated gewtinib authors reported higher levels her3 patients responded achieved disease stabilization gewtinib compared disease progression similarly present study observed higher orr her3-positive patients compared her3-negative although diverence statistically signiwcant finally combining egfr mutational status her2 her3 expression observed egfr mutated patients better outcome compared patients wildtype egfr regardless her2 her3 protein levels taken together data indicate presence egfr mutations represents powerful biological predictor sensitivity tkis signiwcant fraction patients achieve initial tumor response tkis ultimately develop progressive disease molecular mechanisms involved resistance tkis currently investigation threonine-to-methionine substitution amino acid position 790 t790m exon 20 egfr gene described progressing lesions gewtinib erlotinib treatment kobayashi et al 2005 t790m substitution seems modify structure egfr tyrosine kinase domain thus conferring resistance egfr mutant cell lines usually sensitive tkis kobayashi et al 2005 greulich et al 2005 examined three patients whose primary tumors egfr mutation developed resistance gewtinib exhibiting initial response drug wnd secondary mutation data shown wnding suggests mechanisms acquired resistance gewtinib patients egfr-mutant nsclc requires additional investigation overall data conwrm presence egfr mutations useful marker selecting advanced nsclc patients likely benewt gewtinib regardless subtype wndings emphasized recent results perspective trials asahina et al 2006 inoue et al 2006 paz-ares et al 2006 sutani et al 2006 yoshida et al 2007 cappuzzo et al 2007 sunaga et al 2007 sequist et al 2008 evaluation either her2 her3 expression add signiwcantly predictive power egfr mutation analysis\n"
     ]
    }
   ],
   "source": [
    "print(result['TEXT'][191])"
   ]
  },
  {
   "cell_type": "code",
   "execution_count": 0,
   "metadata": {
    "colab": {
     "base_uri": "https://localhost:8080/",
     "height": 206
    },
    "colab_type": "code",
    "executionInfo": {
     "elapsed": 844,
     "status": "ok",
     "timestamp": 1552624013539,
     "user": {
      "displayName": "Atul Rana",
      "photoUrl": "https://lh4.googleusercontent.com/-tLVUUtH-AZE/AAAAAAAAAAI/AAAAAAAAMt0/14Rk9-FZ5I4/s64/photo.jpg",
      "userId": "06185900944594624481"
     },
     "user_tz": -330
    },
    "id": "ahQ3GzADFO8d",
    "outputId": "fa80a480-f37c-4826-c22f-aaa82795825c"
   },
   "outputs": [
    {
     "data": {
      "text/html": [
       "<div>\n",
       "<style scoped>\n",
       "    .dataframe tbody tr th:only-of-type {\n",
       "        vertical-align: middle;\n",
       "    }\n",
       "\n",
       "    .dataframe tbody tr th {\n",
       "        vertical-align: top;\n",
       "    }\n",
       "\n",
       "    .dataframe thead th {\n",
       "        text-align: right;\n",
       "    }\n",
       "</style>\n",
       "<table border=\"1\" class=\"dataframe\">\n",
       "  <thead>\n",
       "    <tr style=\"text-align: right;\">\n",
       "      <th></th>\n",
       "      <th>ID</th>\n",
       "      <th>Gene</th>\n",
       "      <th>Variation</th>\n",
       "      <th>Class</th>\n",
       "      <th>TEXT</th>\n",
       "    </tr>\n",
       "  </thead>\n",
       "  <tbody>\n",
       "    <tr>\n",
       "      <th>28</th>\n",
       "      <td>28</td>\n",
       "      <td>TERT</td>\n",
       "      <td>C228T</td>\n",
       "      <td>7</td>\n",
       "      <td>sequencing studies identified many recurrent c...</td>\n",
       "    </tr>\n",
       "    <tr>\n",
       "      <th>31</th>\n",
       "      <td>31</td>\n",
       "      <td>TERT</td>\n",
       "      <td>Promoter Mutations</td>\n",
       "      <td>7</td>\n",
       "      <td>sequencing studies identified many recurrent c...</td>\n",
       "    </tr>\n",
       "    <tr>\n",
       "      <th>34</th>\n",
       "      <td>34</td>\n",
       "      <td>TERT</td>\n",
       "      <td>C250T</td>\n",
       "      <td>7</td>\n",
       "      <td>sequencing studies identified many recurrent c...</td>\n",
       "    </tr>\n",
       "    <tr>\n",
       "      <th>67</th>\n",
       "      <td>67</td>\n",
       "      <td>RHEB</td>\n",
       "      <td>Y35C</td>\n",
       "      <td>7</td>\n",
       "      <td>genes encoding components pi3k-akt-mtor signal...</td>\n",
       "    </tr>\n",
       "    <tr>\n",
       "      <th>68</th>\n",
       "      <td>68</td>\n",
       "      <td>RHEB</td>\n",
       "      <td>Y35N</td>\n",
       "      <td>7</td>\n",
       "      <td>genes encoding components pi3k-akt-mtor signal...</td>\n",
       "    </tr>\n",
       "  </tbody>\n",
       "</table>\n",
       "</div>"
      ],
      "text/plain": [
       "    ID  Gene           Variation  Class  \\\n",
       "28  28  TERT               C228T      7   \n",
       "31  31  TERT  Promoter Mutations      7   \n",
       "34  34  TERT               C250T      7   \n",
       "67  67  RHEB                Y35C      7   \n",
       "68  68  RHEB                Y35N      7   \n",
       "\n",
       "                                                 TEXT  \n",
       "28  sequencing studies identified many recurrent c...  \n",
       "31  sequencing studies identified many recurrent c...  \n",
       "34  sequencing studies identified many recurrent c...  \n",
       "67  genes encoding components pi3k-akt-mtor signal...  \n",
       "68  genes encoding components pi3k-akt-mtor signal...  "
      ]
     },
     "execution_count": 27,
     "metadata": {
      "tags": []
     },
     "output_type": "execute_result"
    }
   ],
   "source": [
    "result[ result['Class']==7 ].head()"
   ]
  },
  {
   "cell_type": "code",
   "execution_count": 0,
   "metadata": {
    "colab": {
     "base_uri": "https://localhost:8080/",
     "height": 54
    },
    "colab_type": "code",
    "executionInfo": {
     "elapsed": 888,
     "status": "ok",
     "timestamp": 1552624015502,
     "user": {
      "displayName": "Atul Rana",
      "photoUrl": "https://lh4.googleusercontent.com/-tLVUUtH-AZE/AAAAAAAAAAI/AAAAAAAAMt0/14Rk9-FZ5I4/s64/photo.jpg",
      "userId": "06185900944594624481"
     },
     "user_tz": -330
    },
    "id": "bHTDXJ3mFPvW",
    "outputId": "ab80358b-12fd-4f02-fca7-336ca5fc5a4a"
   },
   "outputs": [
    {
     "name": "stdout",
     "output_type": "stream",
     "text": [
      "sequencing studies identified many recurrent coding mutations human cancer genes however highly recurrent mutations involving regulatory regions rarely observed describe two independent mutations within tert core promoter taken together observed 71 50 70 melanomas generate de novo consensus ets binding motifs reporter assays showed mutations increase transcriptional activity tert promoter 2 4-fold examination cancer cell lines derived diverse tumor types revealed mutations 16 24 150 cases preliminary evidence elevated frequency bladder hepatocellular cancer cells thus somatic mutations regulatory regions genome may represent important tumorigenic mechanism systematic characterization human cancer genomes led discovery wide range mutated genes contribute tumor development progression somatic mutations tumors reside within protein-coding regions genes splice junctions determine whether tumor genomes harbor recurrent mutations outside protein-coding regions systematically queried noncoding somatic mutations using published whole-genome sequencing data analysis whole-genome sequencing data malignant melanomas 1 2 revealed two somatic telomerase reverse transcriptase tert gene promoter mutations 17 19 89 cases examined average sequence coverage tert promoter locus 30-fold normal samples 60-fold tumor samples fig s1a promoter mutations resulted cytidine-to-thymidine transition dipyrimidine motif indicative ultraviolet uv light induced damage chr5 1 295 228 c 1 295 250 c hereafter termed c228t c250t respectively mutations localized within 100 base pairs bp tert transcriptional start site tss mean allelic fraction 0 32 range 0 07 0 55 table s1 validated mutations means polymerase chain reaction sanger sequencing tumor normal sample pairs discovery set fig 1a fig s1 b c extension set 51 additional melanoma tumor normal sample pairs within extension set 33 tumors 65 harbored one mutations moreover mutations mutually exclusive discovery extension sets p 5 4 10 7 fisher one-sided exact test two tumors c228t transition also contained adjacent c transition position chr5 1 295 229 indicative dinucleotide cc tt transition together tert promoter mutations observed 50 70 71 95 confidence interval 59 82 clopper-pearson method melanomas examined fig 1b table s1 fig 1 fig 1 identification tert promoter mutations melanoma cancer cell lines c228t c250t generated identical 11-bp nucleotide stretch 5 -ccccttccggg-3 containing consensus binding site e-twenty-six ets transcription factors ggaa reverse complement within tert promoter region ets transcription factors may become activated dysregulation mitogen-activated protein kinase map kinase signaling hypothesized promoter mutations might augment gene expression test hypothesis used reporter assay system relevant portion mutant wild-type tert core promoter cloned upstream firefly luciferase gene 2 tested core promoter fragment 132 5 relative tss full core promoter 200 73 comparison wild-type tert promoter mutations conferred approximately two- fourfold increased transcriptional activity five distinct cell line contexts fig 1c fig s1d thus mutation capable augmenting transcriptional activity tert promoter investigate whether similar tert promoter mutations occur cancer types examined sequencing data locus 150 cell lines cancer cell line encyclopedia ccle 3 overall 24 ccle lines 16 contained either c228t c250t mean allelic fraction 0 61 range 0 17 1 00 table s1 increased frequency melanoma noted five six lines tested additional evidence suggesting possible heightened prevalence 25 one-sided 95 confidence interval bladder three three lines hepatocellular cancer cell lines four six lines fig 1d several lines evidence support hypothesis promoter mutations may function driver events contribute oncogenesis tert dysregulation undergo positive selection least human melanoma first tert promoter mutations showed combined frequency exceeded braf nras mutations activate known melanoma driver oncogenes 4 5 analysis restricted somatic mutations present allelic fraction 0 2 greater reduce artifacts mutation calling 1 four recurrent melanoma nucleotide substitutions included braf chr7 140 453 136 v600e nras chr1 115 256 529 c q61r tert core promoter mutations c228t c250t second although highly recurrent c228t c250t occurred wholly mutually exclusive fashion suggests possibility mutations might functionally redundant third absence recurrent somatic mutations 3 kb upstream tert transcription start site queried melanomas 1 coupled absence described tert promoter mutations 24 lung adenocarcinomas comparably high somatic mutation rates 6 reduces possibility recurrent tert promoter mutations solely due increased background mutation rate locus although role telomerase tumorigenesis well established details regarding dysregulation cancer cells remain incompletely understood particularly melanoma 7 tert promoter mutations identified may link telomerase gene regulation tumorigenic activation malignancy high prevalence c228t c250t suggests tert promoter mutations may comprise early genetic events genesis melanoma cancer types although tert expression alone sufficient bypass oncogene-induced senescence genomic tert activation may potentiate mechanisms melanocytes achieve immortalization setting oncogenic mutations 8 results therefore suggest renewed efforts develop clinically effective telomerase inhibitors may warranted time promoter mutations likely represent one potential mechanism tert reactivation subset human cancers indeed recurrent chromosomal copy gains spanning tert locus described previously several cancers including melanoma 9 10 highly recurrent somatic mutations within cancer gene promoter region previously described similarly de novo mutational generation transcription factor binding motifs tumor genomes heretofore unknown although ets transcription factor binding motif previously associated single-nucleotide polymorphism insertion mmp-1 locus 11 together findings raise possibility recurrent somatic mutations involving regulatory regions addition coding sequences may represent important driver events cancer tert promoter mutations familial sporadic melanoma susanne horn 1 2 adina figl 1 2 p sivaramakrishna rachakonda 1 christine fischer 3 antje sucker 2 andreas gast 1 2 stephanie kadel 1 2 iris moll 2 eduardo nagore 4 kari hemminki 1 5 dirk schadendorf 2 * rajiv kumar1 * cutaneous melanoma occurs familial sporadic forms investigated melanoma-prone family linkage analysis high-throughput sequencing identified disease-segregating germline mutation promoter telomerase reverse transcriptase tert gene encodes catalytic subunit telomerase mutation creates new binding motif ets transcription factors ternary complex factors tcfs near transcription start reporter gene assays caused twofold increase transcription screened tert promoter sporadic melanoma observed recurrent ultraviolet signature somatic mutations 125 168 74 human cell lines derived metastatic melanomas 45 53 corresponding metastatic tumor tissues 85 25 77 33 primary melanomas majority mutations occurred two positions tert promoter also generated binding motifs ets tcf transcription factors identification germline mutations cosegregate disease cancerprone families often provides genetic mechanistic insights common sporadically arising cancers study cutaneous melanoma malignant skin cancer investigated large pedigree 14 related melanoma patients carriers germline mutations cdkn2a cdk4 two known melanoma genes fig 1 multipoint linkage analysis showed possible 2 2-mb linkage region chromosome 5p maximal logarithm odds ratio linkage scores 2 35 rs1379917 2 45 rs1968011 target-enriched high-throughput sequencing hts region carried constitutional dna four affected four unaffected members family average coverage 55- 108-fold table s1 1 hts data revealed single promoter variant three intronic variants three nongene variants previously unknown unique dna sequences affected individuals table s2 disease segregating variants seven total validated sanger sequencing dna individuals sequenced hts dna additional unaffected members family new variants also detected unaffected member 754 table s3 36 years old carried multiple nevi dna affected individuals sequenced hts available testing seven unique variants identified one variant g located promoter 57 base pairs bp atg translation start site telomerase reverse transcriptase tert gene tert gene encodes catalytic reverse transcriptase subunit telomerase ribonucleoprotein complex maintains telomere length nucleotide change sequence cctgaa ccggaa creates new binding motif ets transcription factors general recognition motif gga beyond general motif ets transcription factors familial mutation also generates binding motif ccggaa ternary complex factors tcfs elk1 elk4 2 3 exclude possibility detected promoter mutation tert common germline variant screened germline dna 140 sporadic melanoma cases 165 healthy controls none carried variant screening dna index cases 34 spanish melanoma families also show mutations carriers found dbsnp 1000 genomes databases data available 18 individuals obtained ensembl familial mutation tert promoter complete allelic linkage common polymorphism rs2853669 g 246 bp upstream atg start site table s3 previous work polymorphism reported disrupt ets binding site associated low telomerase activity patients non small cell lung cancer 4 luciferase reporter gene assays found activity constructs containing mutation 57 bp tert promoter increased 1 5-fold 1 2- fold wild-type construct ma-mel-86a human embryonic kidney hek 293t cells respectively construct tert mutation variant allele rs2853669 polymorphism showed 2 2-fold increase promoter activity ma-mel-86a 1 3-fold increase hek293 cells mean three measurements details supplementary text fig s1 germline occurrence promoter mutation creating ets tcf motif result modification tert expression tissues expressing ets tcf highest staining tcf elk1 protein reported female-specific tissues ovary placenta increased expression tcf elk1 protein female-specific tissues may cause gender-related differences 1 division molecular genetic epidemiology german cancer research center im neuenheimer feld 580 69120 heidelberg germany 2 department dermatology university hospital essen 45122 essen germany 3 institute human genetics university heidelberg 69120 heidelberg germany 4 department dermatology instituto valenciano de oncologia valencia spain 5 center primary health care research lund university malm sweden *to correspondence addressed e-mail r kumar dkfz de r k dirk schadendorf uk-essen de authors contributed equally work www sciencemag org science vol 339 22 february 2013 959 reports june 2 2017 http science sciencemag org downloaded cancer susceptibility among carriers tert mutation 5 supplementary text two affected members family developed several different types cancer marked fig 1 one affected individual presented ovarian cancer age 27 melanoma age 30 another individual diagnosed melanoma age 20 later developed ovarian cancer renal cell carcinoma bladder cancer mammary carcinoma finally bronchial carcinoma leading death age 50 mutation melanoma-prone family prompted us screen melanoma cell lines derived sporadic cases metastatic melanoma none cell lines carried mutation detected family however identified recurrent ultraviolet uv signature mutations tert core promoter 74 125 168 cell lines mutations located within 49-bp region starting 100 bp upstream atg start site table 1 fig 2 fig s2 table s4 two frequent mutations 124 bp g c opposite strand 146 bp g mutations mutually exclusive occurred 27 38 cell lines respectively two tandem gg aa cc tt mutations positions 124 125 bp 138 139 bp observed frequency 9 tandem mutation positions 138 139 bp could also generated single-base mutation 138 bp base change 139 bp reported rare polymorphism rs35550267 two frequent single-base mutations well two tandem mutations also result creation ets tcf binding motifs mutations confirmed 45 53 85 available metastasized tumors corresponding cell lines somatic nature mutations shown absence mutations corresponding dna peripheral blood mononuclear cells available 23 patients somatic mutations tert promoter frequent braf mutations 53 90 169 cdkn2a alterations 50 84 169 nras mutations 23 38 169 fig s3 occurrence concomitant mutations tert promoter braf frequent 47 random chance 40 odds ratio 3 2 95 confidence interval ci 1 3 8 2 concomitant mutations tert braf cdkn2awere observed 30 cell lines compared expected frequency occurrence 9 5 6 95 ci 2 4 13 8 high recurrence specificity tert promoter mutations together preliminary evidence reporter assays functional effect transcription suggest mutations driver rather passenger events extensive functional studies required validate hypothesis tert promoter mutations also detected 25 77 33 paraffin embedded primary melanoma tumors table 1 table s5 124 bp 7 77 9 146 bp 5 77 7 four primary tumors carried gg aa tandem mutations 124 125 bp eight primary tumors carried gg aa tandem mutations 138 139 bp reduced sensitivity detect mutations paraffin-embedded primary tumors contaminating normal cells cannot ruled primary tumors harbored five additional mutations tert promoter present metastases generate ets tcf binding motifs also screened dna extracted 25 melanocytic nevi one carried mutation 101 bp create ets tcf motif primary tumors melanocytic nevi matched normal control dna available testing tert coding region reported somatically mutated 1 cancers 14 cancer types 1271 unique samples 6 mutations creating ets tcf binding motifs tert promoter melanoma described earlier sequencing projects tcfs subfamily ets transcription factors two members subfamily elk1 elk4 downstream targets braf regulate expression many genes 7 11 conceivably tcf may represent link telomerase activity frequent braf activating mutations melanoma fig s4 12 13 lastly whether tert promoter mutations occur cancer types remains determined detect mutations screen 22 esophageal squamous cell c reactivation telomerase implicated human tumorigenesis underlying mechanisms remain poorly understood report presence recurrent somatic mutations tert promoter cancers central nervous system 43 bladder 59 thyroid follicular cell-derived 10 skin melanoma 29 thyroid cancers presence tert promoter mutations occurring together braf mutations significantly associated higher tert mrna expression glioblastoma find trend increased telomerase expression cases harbouring tert promoter mutations thyroid cancers glioblastoma tert promoter mutations significantly associated older age patients results show tert promoter mutations relatively frequent specific types human cancers lead enhanced expression telomerase doi 10 1038 ncomms3185 1 institute molecular pathology immunology university porto ipatimup 4200-465 porto portugal 2 institute biomedical sciences abel salazar university porto 4050-313 porto portugal 3 medical faculty university porto 4200-319 porto portugal 4 portuguese institute oncology coimbra centre ipofg epe 3000-075 coimbra portugal 5 experimental pathology therapeutics group portuguese institute oncology 4200-072 porto portugal 6nucleo de investigac em farma cia centro de investigac oem sau de e ambiente cisa health school polytechnic institute porto 4400-330 vila nova de gaia portugal 7 research department portuguese league cancer norte 4200-177 porto portugal 8department endocrinology diabetes metabolism university hospital coimbra 3000-075 coimbra portugal 9 unit endocrinology medical faculty university coimbra 3000-548 coimbra portugal 10 centre molecular environmental biology cbma department biology university minho campus de gualtar 4710-057 braga portugal 11department pathology hospital joa 4200-319 porto portugal 12department pathology hospital de braga 4710-243 braga portugal 13 life health sciences research institute icvs school health sciences university minho 4710-057 braga portugal 14 molecular oncology research center barretos cancer hospital cep 14784-400 sa paulo brazil 15department pathology clinical university hospital sergas medical faculty university santiago de compostela idis 15706 santiago de compostela spain * authors contributed equally work correspondence requests materials addressed p email psoares ipatimup pt nature communications 4 2185 doi 10 1038 ncomms3185 www nature com naturecommunications 1 2013 macmillan publishers limited rights reserved reactivation re-expression telomerase referred widespread feature human cancers although genetic basis remains poorly understood many cancer types somatic mutations coding region tert human telomerase reverse transcriptase infrequent human tumours germline somatic mutations tert promoter recently found high percentage human melanomas human cancer cell lines1 2 mutations occurred two hotspot positions located 124 146 bp upstream atg start site 124 g4a 146 g4a c4t opposite strand conferred enhanced tert promoter activity1 2 putatively generating consensus binding site ggaa ets transcription factors within tert promoter region1 2 aim investigate whether aforementioned tert promoter mutations present cancer types melanoma matter screened 741 primary tumours thyroid kidney bladder gastrointestinal stromal tumour gist adrenal medulla phaeochromocytomas central nervous system cns besides skin melanoma also included ocular melanoma studied previous reports benign lesions thyroid skin 58 human cancer-derived cell lines results highlight tert promoter mutations frequent events specific types human cancers results tert mutations tumours cell lines overall tert promoter mutations found 142 19 human tumour samples table 1 fig 1a 14 24 human cell lines fig 1b supplementary tables s1 s2 124-bp mutation frequent present 99 cases whereas 146- bp mutation present 43 cases 124 g4a 146 g4a mutations found mutually exclusive fashion two tandem gg4aa mutations positions 124 125 138 139 bp observed one cell line supplementary fig s1 supplementary table s1 tert promoter mutations detected normal thyroid tissue benign lesions nevi thyroiditis goitres adenomas mutations detected 26 kidney cancers 17 phaeochromocytomas 36 gists tert mutations melanoma analysed skin ocular melanomas type melanoma previously studied1 2 tert mutations present 16 56 29 skin melanomas absent 25 ocular melanomas table 1 four skin melanoma-derived cell lines none six ocular melanoma-derived cell lines harboured tert mutations fig 1b supplementary table s1 ten 16 63 skin melanomas tert mutation also harboured brafv600e mutation whereas braf mutation present 9 38 24 melanomas without tert mutation p 0 01 fisher exact test two-sided supplementary fig s2 supplementary table s3 tert mutations cns tumours cns tumours tert promoter mutations found 43 51 118 cases equal prevalence mutations table 1 supplementary table s4 frequency tert mutations different according tumour histology grade fig 1c although pilocytic astrocytomas world health organization grade 1 diffuse astrocytoma grade 2 showed lower frequency mutations 8 15 respectively aggressive form glioblastoma multiforme gbm grade 4 present highest frequency tert mutations 62 oligodendrogliomas grade 2 anaplastic oligodendrogliomas grade 3 also harboured high frequency tert mutations 45 54 respectively presence tert mutations significantly associated higher mean age diagnosis supplementary table s5 cns patients whole po0 0001 mann whitney test twotailed also gbm patients p 0 0247 mann whitney test two-tailed oligodendroglioma patients found trend although statistically significant p 0 0709 mann whitney test two-tailed addition observed subset 14 gbm 8 tert wild-type tumours 6 tert-mutated tumours tumours tert mutations showed trend increased immunohistochemistry ihc expression telomerase although difference statistically significant p 0 4250 mann whitney test two-tailed fig 2 tert mutations thyroid cancer analysed large series follicular cell-derived thyroid samples including normal thyroid n 27 benign n 81 malignant lesions n 263 table 1 supplementary table s6 tert mutations detected malignant tumours 10 fig 1d namely table 1 prevalence tert promoter recurrent mutations human cancers organ tissue number tert mutation n melanocytes nevi 9 0 skin melanoma 56 16 29 ocular melanoma 25 0 cns pilocytic astrocytoma 13 1 8 diffuse astrocytoma 20 3 15 oligodendroglioma 22 10 45 anaplastic oligodendroglioma 24 13 54 glioblastoma 39 24 62 thyroid benign 81 0 ptc 169 13 8 ftc 64 9 14 pdtc 14 3 21 atc 16 2 13 mtc 28 0 bladder low grade 21 14 67 high grade 61 34 56 kidney ccrcc 12 0 cromrcc 4 0 prcc 10 0 adrenal phaeochromocytoma 17 0 gi gist 36 0 total 741 142 19 atc anaplastic thyroid carcinoma ccrcc clear cell renal cell carcinoma cns central nervous system cromrcc chromophobe renal cell carcinoma ftc follicular thyroid carcinoma gi gastrointestinal gist gastrointestinal stromal tumour mtc medullary thyroid carcinoma pdtc poorly differentiated thyroid carcinoma prcc papillary renal cell carcinoma ptc papillary thyroid carcinoma article nature communications doi 10 1038 ncomms3185 2 nature communications 4 2185 doi 10 1038 ncomms3185 www nature com naturecommunications 2013 macmillan publishers limited rights reserved 11 papillary thyroid carcinomas ptcs 14 follicular thyroid carcinomas 21 poorly differentiated thyroid carcinomas 13 anaplastic thyroid carcinomas within group ptc tert mutations detected associated so-called conventional ptc cptc 11 majority tert-mutated thyroid cancers harboured 124 g4a mutation 22 27 cases fig 1d supplementary table s7 thyroid cancer patients tert mutations significantly associated guarded prognosis features larger tumours p 0 008 mann whitney test two-tailed older patients po0 0001 mann whitney test two-tailed male gender p 0 0312 fisher exact test two-sided supplementary table s5 histotype stratification correlations kept group cptc also found significant associations lymph node metastasis p 0 0318 fisher exact test two-sided brafv600e mutation p 0 001 fisher exact test two-sided supplementary fig s2 supplementary table s8 accordingly verified quantitative rt-pcr qpcr tert mrna expressed variable amounts thyroid tumours mutated cases cns n 118 thyroid n 263 bladder n 82 skin melanoma n 56 146 g 124 g b 10 5 0 number cell lines c 80 60 40 20 0 80 60 40 20 0 mutated cases mutated cases mutated cases pa n 13 n 20 n 22 ao n 24 gb n 39 0 5 10 15 20 25 ptc n 169 ftc n 64 pdtc n 14 atc n 16 e 80 60 40 20 0 low grade n 21 high grade n 61 146 g 124 g wt tandem 124 125 gg aa tandem 138 139 gg aa 146 g 124 g cns n 1 lung n 1 peripheral b lymphocytes n 8 leukaemia n 2 kidney n 2 breast n 8 gastric n 8 colorectal n 8 melanoma uveal n 6 melanoma skin n 4 thyroid n 10 figure 1 frequency schematic illustration tert promoter mutations human cancers graphics depict overall frequency tert mutations four tumour types tert mutations detected bar plot showing number cell lines different origin harbour tert mutations b frequency type tert mutations different histological subtypes cns c thyroid bladder e tumours also shown diffuse astrocytoma ao anaplastic oligodendroglioma atc anaplastic thyroid carcinoma gb-glioblastoma ftc follicular thyroid carcinoma oligodendroglioma pa pilocytic astrocytoma pdtc poorly differentiated thyroid carcinoma b c p 0 425 10 8 6 4 2 0 tert wt n 8 tert mutation n 6 tert expression level au figure 2 ihc tert two glioblastomas tumour without tertexpression without tert mutation b tumour positive staining nucleus cytoplasm also harboured tert mutation graph c displays quantification tert nuclear expression level ihc glioblastomas without tert mutation measured extent o25 25 50 50 75 475 intensity absent faint moderate strong tert nuclear staining 14 glioblastomas eight tert wild type six tert mutant scoring performed two independent observers product extent intensity staining methods scale bar 200 mm trend higher tert expression tert-mutated gliomas although difference statistically significant p 0 4250 mann whitney test two-tailed bars represent e nature communications doi 10 1038 ncomms3185 article nature communications 4 2185 doi 10 1038 ncomms3185 www nature com naturecommunications 3 2013 macmillan publishers limited rights reserved ones coexistent tert braf mutations showed highest levels tert mrna expression p 0 0001 unpaired t-test fig 3 tert mutations bladder cancer bladder cancer tert mutations frequently detected 48 82 59 lowgrade tumours 14 21 67 high-grade tumours 34 61 56 table 1 fig 1e supplementary table s9 124 g4a mutation present 30 cases whereas 146 g4a found 18 cases association found presence mutation age patients mutations detected 26 kidney cancers 17 phaeochromocytoma 36 gists supplementary tables s10 s11 s12 respectively discussion recent findings described tert promoter mutations arise novel mechanism telomerase reactivation expression human cancers1 2 work report first time presence mutations different histotypes thyroid cancer results validate findings reported others melanoma bladder gliomas1 3 furthermore present first time evidence showing tert promoter mutations significantly associated increased tert mrna expression thyroid cancers also found trend increased telomerase expression cases gbm harbouring tert promoter mutations thyroid cancers tert mrna particularly high cases harbouring tert braf mutations location mutations tert promoter rather coding region gene creating additional binding sites transcription factors represents also novel mechanism genetic activation cancer frequency tert mutations detected skin melanomas similar reported horn et al 1 primary melanomas 33 lower frequency found authors metastatic melanomas 85 huang et al 2 series 70 melanomas short-term cultures1 2 series analysed metastatic melanomas show significantly higher percentage tert mutations series small allow conclusion remains verified increased frequency tert mutations metastatic melanomas suggested previous reports1 2 confirmed skin melanomas significant association tert braf mutations previously advanced horn et al 1 also demonstrate thyroid cancers interestingly benign nevi frequently harbour braf mutations detect tert mutations finding together high frequency tert mutations metastatic melanomas1 suggests although braf mutations thought early event melanoma genesis tert mutations may occur later stage tert promoter mutations found ocular melanomas variance skin melanomas harbour gnaq mutations instead braf mutations4 5 results support assumption ocular melanomas result different etiopathogenic mechanism skin melanomas5 6 data cns tumours indicate tert promoter mutations frequent events gliomas particularly gbm highest mutation frequency found shown tert mutations conferred enhanced tert promoter activity vitro1 2 findings fit assumption observed gbm tert promoter mutations appear display increased telomerase expression despite limited sensitivity ihc low number cases analysed results also concordance lotsch et al 7 reported 60 gbms positive tert mrna telomerase activity7 interesting assess whether gbm positive telomerase activity described lotsch et al 7 also harbour tert promoter mutations findings also indicate tert mutations associated older patients accordance recent report3 high frequency tert mutations cns tumours particularly intermediate high-grade tumours opens window new approaches therapy cns tumours thyroid cancer tert mutations found follicular cell-derived cancers ptc follicular thyroid carcinoma poorly differentiated thyroid carcinoma anaplastic thyroid carcinoma mutations detected medullary thyroid carcinomas described killela et al 3 normal thyroid benign lesions goitre adenomas thyroiditis finding fits previous studies reported telomerase expression malignant lesions normal tissue hyperplastic lesions8 9 tert mutations associated clinicopathological features older age increased tumour size b 5 4 3 2 1 0 1 ct wt wt n wt wt b n b wt wt wt wt b b wt n wt pod n retr r ret rt bt bt rt bt p 0 0001 4 3 2 1 0 1 ct mean tert wt n 18 tert mutation n 6 figure 3 quantification tert mrna expression level thyroid tumours performed qpcr normal thyroid tissue n pool mrna nine normal thyroids pool n thyroid tumours different genetic backgrounds without known genetic alterations wt braf mutation b ret rearrangement ret ras mutation r tert mutation tert braf mutations bt ras tert mutations rt bar represents tert mrna expression individual tumour measured triplicate tert mrna levels normalized tbp mrna levels b quantification tertmrna mean expression level thyroid tumours without tert mutation error bars represent e difference statistically significant po0 0001 unpaired t-test article nature communications doi 10 1038 ncomms3185 4 nature communications 4 2185 doi 10 1038 ncomms3185 www nature com naturecommunications 2013 macmillan publishers limited rights reserved male gender histotype stratification associations maintained cptc studies larger series necessary clarify associations cptc tert mutations associated braf mutation highlighting coexistence activation braf tert previously reported melanoma1 supplementary fig s2 results reinforce hypothesis link braf activation telomerase expression mediated transcription factors binding newly created consensus binding sites previously advanced horn et al 1 thyroid carcinoma melanoma seems background status activated braf enhances effects tert promoter mutation results tert mrna expression strengthen assumption showing first time increased tert expression tumours harbouring braf tert mutation fig 3 observational mechanistic studies needed clarify points tert alterations seem constitute early frequent event bladder cancer findings fit high prevalence telomerase activity previously described bladder tumours10 recurrent hotspot mutations tert advanced melanomas induced ultraviolet radiation2 bladder target several chemical carcinogens remains found whether tert mutations also result action agents identification tert mutations urine may provide biomarker early diagnosis monitoring bladder cancer tert mutations detected kidney cancers 17 phaeochromocytoma 36 gists underlying reasons tissue specificity tert mutations remain clarified hypothesize tert mutations present two settings described killela et al 3 tert mutations relevant tissues relative low rates self-renewal fits findings follicular cell-derived thyroid cancer gliomas associated older age patients hand mutations also result environmental factors ultraviolet radiation chemical carcinogens suggested high frequency melanoma bladder tongue1 3 summary data identify tert mutations common events human cancers support assumption tert promoter mutations may one mechanisms underlies telomerase reactivation several types human tumours introduction telomere sequences chromosomal ends composed tandem repeats ttaggg protected number molecules constitute capping shelterin complex 1 2 incomplete replication due limitations process called end-replication problem results shortening telomeres successive mitotic cell division eventually leads replicative senescence referred hayflick limit 3 4 5 maintenance telomere repeat length dependent sustained expression telomerase holoenzyme adds de novo repeat units end replication cycle 6 7 progressive attrition telomeres also defined one hallmarks aging organisms 8 9 cancer cells characteristically acquire infinite capability divide maintenance telomeres sustained expression telomerase absence alternative lengthening telomeres alt mechanism 10 11 12 13 14 15 human telomerase reverse transcriptase tert gene encodes catalytic subunit telomerase together rna component terc maintains genomic integrity telomere elongation 16 though tert terc sufficient vitro telomerase activity vivo telomerase functioning requires additional components associate tert terc form holoenzyme 17 18 include dyskerin dkc nop10 ribonucleoprotein nop10 gar1 ribonucleoprotein homolog yeast gar1 nhp2 ribonucleoprotein nhp2 reptin pontin 11 19 20 21 22 deregulation telomerase shown ubiquitous feature human cancers 90 cancers showing upregulation enzyme 11 23 24 telomerase activity dependent number factors regulated various stages include gene transcription mrna splicing maturation modifications tert terc transport localization components assembly active telomerase ribonucleoprotein telomeres 4 5 16 20 21 25 26 27 catalytic component tert acts determinant telomerase activity transcription repressed somatic cells exception proliferative cells self-renewing tissues 28 29 30 increased expression tert consistently demonstrated fundamental requirement cellular transformation 4 31 32 33 34 35 mechanism tert upregulation cancers attributed several mechanisms including epigenetic deregulation well genetic amplification locus containing tert gene 36 37 absence evidence definite mechanism telomerase activity tumor cells attributed assumption stem cells progenitors cancers 38 normal stem cells self-renewing tissues retain telomerase throughout lifetime replication thus abrogating requirement positive selection 6 recently discovered tert promoter mutations add new dimension acquisition telomerase activity human cancers review provide overview possible implications newly discovered mutations promoter tert gene wide range cancers structure regulation tert promoter human tert gene located chromosome 5p15 33 promoter region gene considered important regulatory element telomerase expression tert promoter contains binding motifs several factors regulate gene transcription distinctly lacks tata box similar sequence 39 40 41 42 43 core promoter region consists 260 base pairs several transcription-factor binding sites include e-boxes c-myc confirmed bind activate transcription 44 45 46 47 48 brca1 conjunction n-myc interacting protein nmi forms complex c-myc inhibits tert promoter activity property lost mutant forms brca1 49 sequence elements tert promoter include gc-boxes binding sites zinc finger transcription factor sp1 4 45 transcription tert gene also regulated various hormones cytokines oncogenes 45 several repressors tert transcription also known p53 shown downregulate tert transcription sp1-dependent manner 50 ets transcription factors comprise 30 members prominently associated telomerase activation 42 51 ets2 shown form complex c-myc breast cancer cell line 44 51 ets transcription factors also shown stimulated oncogenes egf her2 nez ras raf 52 53 activation oncogenes inactivation tumor suppressors known account cellular immortalization induction tert transcription 54 high gc content around transcription start site tert promoter confers epigenetic regulation methylation chromatin remodeling 37 55 tert promoter mutations human cancers discovery high-penetrant disease-segregating causal germline mutation melanoma family highly specific recurrent somatic mutations tumors unrelated patients tert promoter likely provided definite mechanism cancer-specific tert activation 56 57 two independent studies using diverse approaches discovered non-coding mutations mainly two residues within core promoter region tert gene one study based identification causal gene mutation large melanoma pedigree affected individuals presented severe form disease early age onset linkage analysis identified 2 2 megabase telomeric region chromosome 5p included tert along 80 genes 56 sequencing entire stretch dna region family resulted identification disease segregating c g single base change 57 bp chr 5 1 295 161 hg19 coordinate atg start site germline mutation present affected absent unaffected individuals family exception one subsequent screening cell lines derived melanoma metastases unrelated patients led detection recurrent mutually exclusive somatic mutations two residues 124 146 atg start site tert promoter 56 serendipitously independent study using whole genome sequencing approach also reported recurrent somatic tert promoter mutations positions 57 mutations detected tert promoter included cc tt tandem mutations 124 125 138 139 bp atg start site germline somatic mutations non-coding part tert gene defined common salient features one underlying features included de novo creation ccggaa general binding motifs e-twenty six ternary complex factors ets tcf transcription factors differed pre-existing ggaa ets binding sites within tert promoter figure 1 somatic mutations positions c additional detection cc tt tandem mutations proportion tumors augmented evidence uv-origin tumor specific nucleotide changes melanoma shown previously studies based whole genome sequencing 58 interestingly mutations detected tert promoter melanoma frequent braf gene schematic representation part tert promoter contains residues figure 1 schematic representation part tert promoter contains residues affected germline mutation melanoma family position 57 bp recurrent somatic mutations positions 124 146 bp atg start site mutations create ccggaa binding motif ets tcf transcription factors results increased tert expression pre-existing binding sites transcriptions factors shown sequence figure options also observed tert promoter mutations tend occur often expected chance tumors either braf mutations odds ratio 3 2 95 confidence interval ci 1 3 8 2 concomitant alterations braf cdkn2a 5 6 95 ci 2 4 13 8 56 braf mutations due occurrence role development melanocytic nevi considered driver genetic lesions melanoma 56 59 60 loss cdkn2a suggested play role escape melanocytes braf induced senescence 61 acquisition tert promoter mutations hypothesized facilitate stabilization transformed genome reversal telomeric loss melanocytic nevi carry braf mutations whereas tert promoter mutations cdkn2a alterations detected primary melanoma beyond 56 62 bonafide newly discovered non-coding mutations tert promoter established detection cancers melanoma 63 frequency mutations seems vary cancer types table 1 highest frequencies tert promoter mutations far reported besides melanoma pleomorphic dermal sarcoma myxoid liposarcoma glioma urothelial cell carcinoma bladder basal squamous cell carcinoma skin liver cancer others 63 64 65 66 67 68 69 70 71 72 73 74 75 76 mutations occur cancer types well albeit low frequencies 63 67 based prevalence different cancer types hypothesized tert promoter mutations mainly occur tumors derived tissues low rates self-renewal 63 77 unlike melanoma skin related malignancies tumor cancers affecting internal organs carried cc tt tandem mutations tert promoter exception positions 138 139 bp atg start site bladder cancer tandem mutation reported far 4 1231 bladder tumors could also generated single-base mutation 138 bp base change 139 bp reported rare polymorphism represented rs35550267 56 65 66 differences mutational pattern cancer types known reflect etiological divergences c base change tumors also attributed apobec cytidine deaminase expression cancer development 78 79 table 1 tert promoter mutations cancers cancer type mutation frequency ref bladder cancer 887 1231 72 1 63 64 65 66 67 80 glioma ependymomas 1 36 2 7 63 astrocytomas 574 1059 54 2 63 64 67 69 73 mixed gliomas 102 188 54 3 63 69 oligodendrogliomas 46 72 63 9 63 67 melanoma cutaneous melanoma 136 256 53 56 57 67 ocular melanoma specified 0 25 67 uveal melanoma 0 47 68 conjunctival melanoma 12 38 32 68 squamous cell carcinoma scc scc head neck 12 70 17 1 63 scc esophagus 5 313 1 6 77 scc cervix 1 22 4 5 63 scc skin 14 31 45 2 63 76 bowen disease 1 11 9 1 76 basal cell carcinoma skin 31 42 73 8 76 thyroidb atc pdtc 73 170 42 9 67 70 71 dtc 41 336 12 2 70 ftc 20 143 14 0 67 70 hcc 4 25 16 0 71 ptc 61 506 12 1 67 70 71 atypical fibroxanthoma 25 27 92 6 75 myxoid liposarcoma 19 24 79 1 63 pleomorphic dermal sarcomas 26 34 76 5 75 liverc 218 531 41 1 63 74 fibrosarcoma 1 3 33 3 63 dysembryoplastic neuroepithelial tumor 1 3 33 3 63 medulloblastoma 19 91 20 8 63 solitary fibrous tumor sft 2 10 20 0 63 ovarian clear cell carcinoma 2 12 16 6 63 ovarian low grade serous 1 8 12 5 63 malignant pleural mesothelioma 8 71 11 3 72 endometrial cancer 2 19 10 5 63 myxofibrosarcoma 1 10 10 0 63 neuroblastoma 2 22 9 1 63 osteosarcoma 1 23 4 3 63 ref 63 mutations found acute myeloid leukemia n 48 alveolar rhabdomyosarcoma n 7 atypical lipomatous tumor n 10 breast carcinoma n 88 cholangiosarcoma n 28 central conventional chondrosarcoma n 9 chronic lymphoid leukemia n 15 chronic myeloid leukemia n 6 colorectal adenocarcinoma n 22 embryonal rhabdomyosarcoma n 8 esthesioneuroblastoma n 11 extraskeletal myxoid chondrosarcoma n 3 fibrolammellar carcinoma liver n 12 gall bladder carcinoma n 10 hepatoblastoma n 3 leiomyosarcoma n 3 conventional lipoma n 8 low grade fibromyxoid sarcoma n 9 malignant peripheral nerve sheath tumor n 3 medullary thyroid carcinoma n 24 meningioma n 20 mesothelioma n 4 pancreatic acinar carcinoma n 25 pancreatic ductal adenocarcinoma n 24 pancreatic neuroendocrine tumor n 68 prostate carcinoma n 34 spinal ependymoma n 9 synovial sarcoma n 16 undifferentiated pleomorphic soft tissue sarcoma n 10 samples ref 67 mutations found phaeochromocytoma n 17 ccrcc cromrcc prcc kidney n 26 refs 63 67 mutations found gastrointestinal stromal tumors n 45 refs 56 67 mutations found melanocytic nevi n 34 refs 67 70 mutations found benign thyroid tumors n 166 medullary thyroid carcinoma n 44 includes reported tert promoter mutations common mutations 124c chr 5 1 295 228 hg19 coordinate 146c 1 295 250 melanoma 146c mutation frequent 124c cancers especially gliomas thyroid cancers bladder cancers latter common mutation additionally melanoma two cc tt tandem mutations affecting 124 125 138 139 residues also detected combined frequency 9 56 b atc anaplastic thyroid carcinoma ftc follicular thyroid carcinoma pdtc poorly differentiated thyroid carcinoma ptc papillary thyroid carcinoma hcc hurthle cell cancers dtc differentiated thyroid cancer c includes hepatocellular carcinoma cirrhotic tissue cirrhotic macronodules hepatocellular adenomas hca hcc foci table options functional aspects tert promoter mutations high recurrence specificity gain function support non-coding tert promoter mutations driver rather passenger events cancer development functional relevance mutations indicated basic reporter assays showed 2 4-fold increased promoter activity 56 57 80 tumors thyroid cancers primary glioma malignant pleural mesothelioma liver cancers tert promoter mutations associated higher gene expression without mutations 67 69 72 74 though limited moment available data indicate tendency tert promoter mutations present specific clinical phenotypic subtypes appear associated adversarial forms disease medulloblastomas tert promoter mutations inversely associated increased otx2 expression primary adult glioma mutations occurred mainly conjunction egfr amplification 69 glioma patients tert promoter mutations showed association poorer survival patients without mutations thyroid cancer mutations reportedly frequent advanced thyroid cancers papillary thyroid cancers 63 70 71 studies bladder cancer consistently showed tert promoter mutations frequent lesions even distribution across stages grades 65 66 80 intriguingly observed interaction raised possibility eventual use tert promoter mutations conjunction common polymorphism within sequence biomarkers bladder cancer data bladder cancer showed variant allele common polymorphism 245 bp atg start site tert promoter acts modifier effect tert promoter mutations patient survival disease recurrence 80 bladder cancer patients tert promoter mutations tumors showed almost two-fold decreased survival increased disease recurrence absence presence variant allele rs2853669 polymorphism 80 mechanistic support observation provided fact mutations result de novo creation ets tcf binding motifs variant allele rs2853669 polymorphism contrary disrupts preexisting non-canonical ets2 binding site proximal region tert promoter adjacent e-box 44 occurrence highly specific tert promoter mutations indicates strong selection pressure gene over-expression path cellular transformation increased telomerase production demonstrated promote cancer progression animal model 81 effect promoter mutations tert expression tenable presence ets tcf transcription factors specifically bind de novo sites created mutations ets tcf transcription factors downstream targets mapk pathway braf prominent intermediate 82 83 84 whether melanoma activated braf driving force selection tert promoter mutations remains determined nevertheless expression ets transcription factors ubiquitous melanoma cancers 85 86 many studies stressed function tert gene beyond role maintenance telomere therefore mutations tert promoter affect non-canonical processes associated tert 87 88 89 90 91 tert acts modulator wnt-b-catenin signaling pathway induces stem cell characteristics glioma tert also regulates expression nf-kb master regulator inflammation 92 93 94 tert shown important proliferation p53-negative cells atr mediated stabilization etv1 binds downstream transcriptional start site 95 non-canonical functions tert include enhanced cell proliferation decreased apoptosis regulation dna damage responses chromatin state increased cellular proliferation life span 96 97 98 effect mutations beyond transcription also remains probability human tert promoter contains g-rich sequence potential g-quadruplex formation potentially targeted regulate gene transcription 99 g-quadruplexes also implicated inhibition telomerase control gene expression 100 conceptual advancement therapeutic possibilities tert promoter mutations thought represent conceptual advancement sense instead altering encoded protein modulate transcriptional regulation represent first evidence driver alterations called dark matter human genome 101 102 host germline variants discovered genome wide association studies contribute susceptibility various diseases transcriptional deregulation 103 tert promoter mutations represent novel findings human cancer alterations components associated telomerase assembly telomere protection telomere recruitment known impact stem cell function lifespan mammals various disorders 104 105 several strategies therapeutic telomerase inhibition including small molecular inhibitors immunotherapy gene therapy telomere telomerase-proteins different cancers entered clinical trial 106 interesting see tert promoter mutations increase gene expression influence current on-going research targeted therapeutics use telomerase inhibitors conjunction kinase inhibitors like vemurafenib similar small molecules melanoma alleviate recurrent resistance 107 malignant cells like actively growing cells must maintain telomeres genetic mechanisms responsible telomere maintenance tumors recently discovered particular mutations telomere binding proteins alpha thalassemia mental retardation syndrome x-linked atrx death-domain associated protein daxx shown underlie telomere maintenance mechanism involving telomerase alternative lengthening telomeres point mutations promoter telomerase reverse transcriptase tert gene increase telomerase expression shown occur melanomas small number tumors define tumor types latter mechanism plays role surveyed 1 230 tumors 60 different types found tumors could divided types low 15 high 15 frequencies tert promoter mutations nine tert-high tumor types almost always originated tissues relatively low rates self renewal including melanomas liposarcomas hepatocellular carcinomas urothelial carcinomas squamous cell carcinomas tongue medulloblastomas subtypes gliomas including 83 primary glioblastoma common brain tumor type tert atrx mutations mutually exclusive suggesting two genetic mechanisms confer equivalent selective growth advantages addition implications understanding relationship telomeres tumorigenesis tert mutations provide biomarker may useful early detection urinary tract liver tumors aid classification prognostication brain tumors telomeres nucleoprotein complexes ends eukaryotic chromosomes required chromosomal integrity several hundred nucleotides telomere repeats cap chromosomal end absence telomerase activity telomeres shorten cell division 1 eventually uncapped telomeres trigger cell death senescence cancer cells seem divide ad infinitum therefore require telomere maintenance mechanism avoid fate telomerase activity generally higher cancer cells normal cells originally believed telomerase somehow activated cancer cells 2 6 however subsequently realized telomerase inactive terminally differentiated cells normal stem cells self-renewing tissues retained telomerase activity 1 7 9 normal stem cells must replicate throughout long lifetimes mammals century humans clear cells must also retain telomerase activity normal stem cells thought progenitors cancers would need specifically activate telomerase cancer cells enzyme already active precursors hundreds enzymes proteins normally required cell proliferation view challenged discovery another mechanism maintaining telomere length e alternative lengthening telomeres alt 10 12 alt occurs absence telomerase activity seems dependent homologous recombination occurs particularly high fraction certain tumor types sarcomas pancreatic neuroendocrine tumors brain tumors rarely common tumor types tumor types colon breast lung prostate pancreas 13 would cancer cells need alt telomerase activity already constitutively active precursors question highlighted discovery many alt cancers harbor mutations alpha thalassemia mental retardation syndrome x-linked atrx death-domain associated protein daxx genes encoding proteins interact telomeres 10 11 presumably absence functional atrx daxx complexes permits homologous recombination resulting alt minimum data compatible ideas could selective advantage genetic alterations results telomere maintenance telomerase indefinitely activated normal stem cell precursors cancers another challenge idea genetic alterations required telomerase activation cancer raised finding mutations telomerase reverse transcriptase tert promoter occurred 70 melanomas small number tumor cell lines derived various tissue types 14 15 importantly 5 110 cell lines derived lung stomach ovary uterus prostate cancers harbored tert promoter mutations whereas 19 mutations found among 37 cell lines derived various tumor types situation analogous situation alt infrequently observed common epithelial cancers observed regularly tumors derived nonepithelial cells particularly sarcomas brain tumors 13 findings prompted us formulate hypothesis mechanisms responsible telomerase activity cancers suggest two ways maintain telomere lengths cells divide epigenetic regulation telomerase activity occurs stem cells tissues rapidly renewing ii somatic mutations maintain telomere lengths mutations tert promoter mutations daxx atrx cancers originate tissues constantly self-renewing cancers epithelia gastrointestinal tract skin bone marrow would unlikely harbor telomere-maintaining mutations telomerase already epigenetically activated precursor cells contrast tumors arising cells constantly self-renewing neurons glial cells fibroblasts hepatocytes islet cells pancreatic ductal epithelial cells might frequently harbor mutations corollary hypothesis tumor types exhibiting high frequencies alt would also exhibit high frequencies tert mutations mutations would distributed mutually exclusive fashion test hypotheses well answer questions related role tert promoter mutations various cancer types determined prevalence tert promoter mutations large number tumors go results attempted evaluate least 20 individual specimens common tumor types fewer specimens rare tumor types depending availability specimens laboratories tumor types pilot studies showed significant number mutations additional tumors evaluated melanomas tumors lung stomach esophagus excluded already adequately evaluated seminal papers cited 14 15 primary tumors rather cell lines used ensured fraction neoplastic cells 50 histopathologic examination frozen sections tissue blocks used dna purification cases neoplastic content 50 microdissected lesions enrich neoplastic content 50 primers designed amplify region containing two tert mutations previously described c228t c250t corresponding positions 124 146 bp respectively upstream tert atg start site 14 15 pcr fragments purified analyzed conventional sanger sequencing evaluated tert promoter mutations 1 230 tumor specimens identified 231 mutations 18 8 table 1 c228t c250t mutations accounted 77 5 20 8 alterations respectively dataset s1 additionally detected four mutations observed previously three c228a mutations one c229a mutation dataset s1 four mutations well representative subset c228t c250t mutations n 59 somatic evidenced absence normal tissues patients containing mutations tumors table 1 table 1 frequency tert promoter mutations 1 230 tumors represented 60 tumor types 26 tumor types least 15 individual tumors evaluated comprising total 1 043 individual tumors fig 1 remaining tumor types small number samples 2 12 available part tumor types generally uncommon western populations table 1 among tumor types least 15 individual tumors available study clear distinction could made eighteen tumor types occasional tert promoter mutations zero three mutations comprising 0 15 tumors type fig 1 classified tumor types tert-low tert-l low frequency tert promoter mutations eight tumor types classified tert-high tert-h relatively high prevalence tert promoter mutations 16 83 tumors type fig 1 fig 1 frequency tert promoter mutations 15 tumors analyzed 26 tumor types gliomas divided primary gbm astrocytoma including astrocytoma grades ii iii well secondary gbm oligodendroglioma tert-l tumor types included prevalent cancers including epithelial tumors breast prostate thyroid pancreas gall bladder uterus colon well tumors lung stomach esophagus based prior studies 14 15 leukemias fact tert mutations identified specimen 30 tumor types studied comprising total 546 tumors table 1 nonepithelial cancers synovial sarcomas chordomas neuroblastomas osteosarcomas ependymomas also tert-l eight tert-h tumor types identified addition previously described melanomas 14 15 tumors included tumors cns transitional cell carcinomas urinary tract hepatocellular carcinomas myxoid liposarcomas oral cavity carcinomas although small number tert-h tumors melanomas examined previous studies 15 mutations gliomas hepatocellular oral cavity carcinomas detected would expected basis high frequency mutation tumors types table 1 clinical molecular correlations tert-h tumors sarcomas one highest frequencies tert promoter mutation found myxoid liposarcoma 19 24 tumors 79 mutation myxoid liposarcomas account one-third liposarcomas 10 adult soft tissue sarcomas 16 patients relatively young peak age range 30 50 genetic level characteristic change 12 16 q13 p11 chromosomal translocation results fusion fus ddit3 genes 16 17 cellular origin tumors unknown preadipocytic progenitor cells mesenchymal stem cells implicated 18 embryogenesis mitotic activity cells thought low sarcomas also thought originate mesenchymal cells self-renew absence damage tert-h table 1 sarcomas included synovial sarcomas 0 16 tumors osteosarcomas 4 3 23 tumors note myxoid liposarcomas previously shown relatively high prevalence alt 24 38 tumors 13 19 data aggregate compatible idea myxoid liposarcomas almost always genetically activate telomere maintenance genes either tert promoter mutations alt hepatocellular carcinomas hepatocellular carcinomas hccs third leading cause cancer mortality worldwide incidence increasing united states 20 hccs united states associated hepatitis b c virus infection whereas others associated alcoholic cirrhosis 44 hcc samples evaluated harbored tert promoter mutations 27 61 finding makes tert commonly mutated gene yet observed tumor type 21 22 mutations seemed occur relatively early tumorigenesis observed 39 stage well-differentiated hccs table s1 tert mutations observed virally associated tumors well cases without underlying liver disease similar frequencies table s1 also difference prevalence tert promoter mutations respect sex age ethnicity table s1 alt observed 7 121 hccs studied previously 13 urinary tract cancers urothelial carcinoma bladder fourth common type cancer american males 2013 73 000 patients diagnosed bladder cancer leading approximately 15 000 deaths us alone 23 two-thirds 21 urothelial carcinomas bladder studied harbored tert promoter mutations also able evaluate 19 urothelial carcinomas upper urinary tract much less common anatomic site histopathologic subtype tumor nine nineteen upper urinary tract urothelial carcinomas harbored tert mutations tert mutations therefore frequently mutated genes yet identified urothelial carcinoma either bladder upper urinary tract 24 prevalence alt bladder cancers low 1 188 cancers 13 head neck cancers head neck cancers almost always squamous cell carcinomas occur throughout oral cavity lining mucous membranes cheek hard soft palate tongue supraglottis etc sixth common cancer world 50 000 cases occurred united states 2012 identified tert promoter mutations 17 70 oral cavity cancers evaluated however anatomic distribution cases tert promoter mutations striking 11 12 cancers tert promoter mutations oral tongue although 23 70 total cases originated oral tongue p 0 0001 fisher exact probability test two-tailed table s2 basis extraordinary selectivity curious given shared characteristics squamous epithelium lining tongue parts head neck including oral cavity moreover evaluated 22 squamous cell carcinomas another site cervix found one tert mutation 4 5 table 1 cervical squamous cell carcinomas subset head neck squamous cell carcinomas caused human papillomavirus activate telomerase expressing e6 e7 viral oncogenes 25 findings raise possibility human papillomavirus infection tert mutation may alternative mechanisms activate telomerase among squamous cell carcinomas unable test correlations tert promoter mutations hpv status clinical parameters small number patients available data table s2 alt cases identified among 70 head neck cancers including 41 oral cavity cancers 13 medulloblastomas medulloblastoma common malignant brain tumor childhood 26 tert mutations occurred 21 91 medulloblastomas evaluated oral cavity cancers tert mutations distributed randomly among medulloblastoma patients although medulloblastomas usually diagnosed young age medulloblastomas tert mutations diagnosed considerably older age median 6 vs 16 p 0 0012 test assuming unequal variances two-tailed fig s1a observation important implications understanding basis selectivity tumor types harboring tert promoter mutations discussion 45 90 patients assessed previously orthodenticle homeobox 2 otx2 gene amplification expression alterations transcription factor known correlate clinically distinct molecular subtypes medulloblastoma 27 otx2 expression 100-fold higher medulloblastoma patients without tert promoter mutations patients tert promoter mutations note log scale fig s1b high levels otx2 expression usually result otx2 gene amplification fig s1c association tert promoter mutations older age diagnosis lack otx2 overexpression raises possibility tert mutations occur specific clinical molecular subtype medulloblastoma likely molecular subtype medulloblastoma may enriched tert mutations noninfant sonic hedgehog subtype characterized older age diagnosis lower expression otx2 28 29 larger studies needed make association definitive alt observed 7 55 medulloblastomas studied previously 13 gliomas gliomas common cns tumor type accounted 14 000 deaths united states last year 30 histopathological clinical criteria established world health organization used characterize tumors several subtypes 30 considered four main subtypes individually table s3 primary glioblastoma primary glioblastomas gbms common malignant brain tumors adults accounting 17 intracranial tumors confer worst survival median 15 mo 31 high-grade grade iv tumors detectable precursor lesions referred de novo tumors prevalence tert promoter mutations remarkably high gbms adults 83 78 tumors table s3 prevalence higher prevalence genetic mutation tumor type 32 findings provide molecular mechanism responsible high levels tert mrna telomerase activity observed gbms 33 51 78 primary gbm tumors data common genetic alterations well clinical data available fig 2a interestingly egfr amplification classic molecular feature primary gbm exclusively occurred tumors tert mutations p 0 0006 fisher exact probability test two-tailed conversely association identified tert mutation either tp53 mutation cdkn2a deletion importantly frequency tert promoter mutations considerably less primary gbms pediatric patients 11 19 tumors adult patients discussion table s3 alt observed 11 105 adult gbm 44 pediatric gbm e reverse pattern observed tert promoter mutations 13 primary gbm patients without tert mutations survived considerably longer average patients mutations median 27 vs 14 mo p 0 01 log rank test fig s3 fig 2 fig 2 mutations selected genes glioma subtypes distribution tert mutations genetic events 51 primary gbms b distribution tert mutations genetic events among 40 astrocytomas including grades ii iii astrocytomas astrocytomas infiltrative astrocytic tumors frequently progress recurrent lesions often higher grade original lesions excised surgery often grade ii iii progress grade iv point often termed secondary gbms astrocytomas stage rarely contained tert promoter mutations 10 40 total samples table s3 instead frequently contained isocitrate dehydrogenase 1 idh1 isocitrate dehydrogenase 2 idh2 mutations 75 40 tumors atrx mutations 70 40 tumors tp53 mutations 73 40 tumors fig 2b alt observed 63 57 astrocytomas consistent high prevalence atrx mutations 13 lack activating tert mutations idh1 mutant tumors also corroborated lack tert mrna telomerase activity observed lesions 33 oligodendrogliomas like astrocytomas oligodendrogliomas often progress frequently contain tert promoter mutations 78 45 tumor samples table s3 oligodendroglioma tumor type studied types including non-cns tumors dataset s1 c250t mutations nearly frequent c228t mutations oligodendrogliomas 43 tumors tert mutations contained c250t substitutions whereas gliomas 10 p 0 001 fisher exact probability test two-tailed interestingly 91 45 oligodendrogliomas evaluated atrx tert sequence alterations contained either atrx coding tert promoter mutation suggesting genetic alterations resulting telomere maintenance required tumorigenesis subtype oligodendrogliomas long known contain characteristic losses chromosome arms 1p 19q losses reflect inactivation cic gene chromosome 19q cases inactivation fubp1 gene chromosome 1p 34 36 accordingly 78 45 oligodendrogliomas contained chromosome arm 1p 19q losses heterozygosity fig 2c 34 36 moreover nearly contained idh1 idh2 mutations 93 oligoastrocytomas name implies tumors mixed histologic features oligodendrogliomas astrocytomas mixture part reflects difficulties distinguishing various glioma subtypes one another basis histopathologic clinical criteria 37 genetic features tumor subtype reflect mixture prevalence tert promoter mutations 25 24 tumors intermediate oligodendrogliomas astrocytomas frequencies chromosome chr 1p 19q losses idh1 2 tp53 atrx mutations fig 2d alt vs tert alt observed tumors cns particularly gliomas frequently tumors tissue type given tert promoter mutations also common gliomas relationship two features could determined high confidence tumors depicted fig 2 previously evaluated alterations atrx nearly perfect surrogate alt phenotype 11 37 data show 50 gliomas atrx mutations 83 gliomas tert mutations 0 83 tumors tert mutations contained atrx mutations p 0 0001 fisher exact probability test two-tailed go discussion results described well results published refs 14 15 provide evidence supports one hypotheses raised introduction refutes others first hypotheses tert mutations would observed tumors derived tissues constantly self-renewing normal circumstances hypothesis supported part vast majority tert promoter mutations occurred tumors derived tissues continually self-renew tert-h tumor types include melanomas certain subtypes glioma medulloblastomas squamous cell cancers tongue liposarcomas hccs urinary tract cancers normal transitional cells urinary tract low proliferative indices 0 64 0 52 much lower indices gastrointestinal tract bone marrow skin 38 normal hepatocytes also turnover often 39 glial cells thought limited capacity self-renewal 40 two observations also support hypothesis pediatric primary gbms rarely contained tert mutations 11 whereas adult primary gbms frequently 83 pediatric gbms presumably derived cells still dividing time tumor initiation therefore selective advantage conferred activating telomerase genetic mutation adult gbms contrast presumably derived postmitotic cells require telomerase activation similarly medulloblastomas embryonal tumors typically arise precursor cells high self-renewal rates usually persist adults finding consistent observation mean age medulloblastoma patients tert mutations considerably older mean age medulloblastoma patients without tert mutations fig s1a however exceptions belie hypothesis tert mutations occur non self-renewing tissues epithelium lines tongue constantly self-renews many squamous carcinomas tongue harbored tert mutations table s2 additionally squamous epithelia tongue certainly would expected self-renew less squamous epithelia oral cavity latter rarely harbored tert mutations table s2 finding may suggest squamous carcinomas tongue originate different cell origin oral cavity squamous carcinomas conversely subset tumor types derived non self-renewing tissues tert-h example tert-h tumors included myxoid liposarcomas synovial sarcomas moreover cells pancreas islets langerhans ductal epithelial cells rarely renew pancreatic tumors types pancreatic neuroendocrine tumors acinar carcinomas pancreatic ductal adenocarcinomas tert-l conclude present non self-renewing cell types major sources tert-h tumors non self-renewal one factors determines whether tumor cells tert promoter mutations selective growth advantage adjoining cells first corollary hypothesis raised introduction tumor types displayed alt would types harbored tert promoter mutations corollary soundly refuted data least general terms although tumor types cns liposarcomas high frequencies alt well high frequencies tert promoter mutations tumor types exceptions rather rule example pancreatic neuroendocrine tumors high frequencies alt evidence tert mutations conversely bladder cancers frequently tert mutations never alt 13 additionally even among gliomas pediatric gbms high frequencies alt low frequencies tert mutations whereas adult gbms reverse pattern second corollary selective advantage afforded tert mutation would equivalent advantage afforded atrx mutation conferring alt hypothesis effectively tested gliomas atrx coding tert promoter mutations common striking mutual exclusivity respect atrx tert mutations p 0 0001 lending strong support idea results also raise many unanswered questions tumor types gliomas imagine tumors genetically activated telomere maintenance programs mutations either tert atrx however tumor types frequent atrx mutations pancreatic neuroendocrine tumors responsible activating telomerase fraction cases exhibiting alt mutation tert promoter similarly responsible activating telomerase tumors derived non self-renewing cell types neither alt tert mutations frequently observed synovial sarcomas osteosarcomas also occasional individual tumors among tert-l types tert promoter mutations e g cervical cancers ovarian cancers ref 15 lung cancers distinguishes occasional cancers others histopathologic subtype whole-genome sequencing studies rather studies limited exome might provide answers questions results recorded practical well basic scientific implications two-thirds bladder cancers tert promoter mutations making commonly mutated gene yet identified invasive urothelial carcinoma bladder given persistently high mortality rate despite multimodality treatment group patients mutations represent ideal urinary biomarkers detect bladder cancers early stage follow patients evidence progression recurrence diagnosed 41 similarly high prevalence tert promoter mutations hccs glioma subtypes provides excellent candidate biomarkers early detection hcc monitoring hcc plasma gliomas cerebrospinal fluid 42 43 another practical implication involves diagnostics conjecture tumors tert promoter atrx mutations derived different precursor cells either type precursor cell different types precursors tumors without mutations distinction could aid classification tumors clinically meaningful ways example fig 2 fig s2 outline major genetic alterations occurring three common types gliomas basis data fig 2 c speculate oligodendrogliomas lack tert mutations contain atrx mutations may behave like astrocytomas oligodendrogliomas vice versa similarly primary gbms without tert mutations 15 total may behave like advanced progressive astrocytomas generally lack tert mutations possibility supported observation primary gbm patients without tert mutations longer survival average primary gbm patients fig s3 go methods clinical information tissue obtained consent institutional review board approval various institutions donating material study obtained accordance health insurance portability accountability act tissue sections reviewed board-certified pathologists ensure 50 cells used dna purification neoplastic confirm histopathological diagnosis oligonucleotides sequences 5 -m13-ggccgattcgacctctct-3 5 -agcacctcgcggtagtgg-3 m13 universal sequencing priming site sequence 5 -tgtaaaacgacggccagt-3 used pcr-amplify proximal tert promoter containing c228 c250 chr5 1 295 228 chr5 1 295 250 respectively hg19 sanger sequencing using standard methods 44 primary gbm copy number data well alt status derived data published refs 37 45 46 otx2 copy number expression derived data published ref 27 brain tumor patients treated tisch brain tumor center duke purposes study secondary gbm designates gbm resected 1 prior diagnosis lower-grade glioma grades iii gbms considered primary gbms pediatric gbm samples defined samples occurring 21 age\n"
     ]
    }
   ],
   "source": [
    "print(result['TEXT'][28])"
   ]
  },
  {
   "cell_type": "code",
   "execution_count": 0,
   "metadata": {
    "colab": {
     "base_uri": "https://localhost:8080/",
     "height": 206
    },
    "colab_type": "code",
    "executionInfo": {
     "elapsed": 834,
     "status": "ok",
     "timestamp": 1552624017389,
     "user": {
      "displayName": "Atul Rana",
      "photoUrl": "https://lh4.googleusercontent.com/-tLVUUtH-AZE/AAAAAAAAAAI/AAAAAAAAMt0/14Rk9-FZ5I4/s64/photo.jpg",
      "userId": "06185900944594624481"
     },
     "user_tz": -330
    },
    "id": "jG7SX_kUFQrE",
    "outputId": "6efa87c5-347a-48bd-8d26-086a4b648f9f"
   },
   "outputs": [
    {
     "data": {
      "text/html": [
       "<div>\n",
       "<style scoped>\n",
       "    .dataframe tbody tr th:only-of-type {\n",
       "        vertical-align: middle;\n",
       "    }\n",
       "\n",
       "    .dataframe tbody tr th {\n",
       "        vertical-align: top;\n",
       "    }\n",
       "\n",
       "    .dataframe thead th {\n",
       "        text-align: right;\n",
       "    }\n",
       "</style>\n",
       "<table border=\"1\" class=\"dataframe\">\n",
       "  <thead>\n",
       "    <tr style=\"text-align: right;\">\n",
       "      <th></th>\n",
       "      <th>ID</th>\n",
       "      <th>Gene</th>\n",
       "      <th>Variation</th>\n",
       "      <th>Class</th>\n",
       "      <th>TEXT</th>\n",
       "    </tr>\n",
       "  </thead>\n",
       "  <tbody>\n",
       "    <tr>\n",
       "      <th>121</th>\n",
       "      <td>121</td>\n",
       "      <td>SF3B1</td>\n",
       "      <td>K700R</td>\n",
       "      <td>8</td>\n",
       "      <td>rna maturation important complex biological pr...</td>\n",
       "    </tr>\n",
       "    <tr>\n",
       "      <th>220</th>\n",
       "      <td>220</td>\n",
       "      <td>EGFR</td>\n",
       "      <td>S492R</td>\n",
       "      <td>8</td>\n",
       "      <td>antibodies epidermal growth factor receptor eg...</td>\n",
       "    </tr>\n",
       "    <tr>\n",
       "      <th>306</th>\n",
       "      <td>306</td>\n",
       "      <td>H3F3A</td>\n",
       "      <td>G35R</td>\n",
       "      <td>8</td>\n",
       "      <td>dna entry exit points nucleosome core regulate...</td>\n",
       "    </tr>\n",
       "    <tr>\n",
       "      <th>307</th>\n",
       "      <td>307</td>\n",
       "      <td>H3F3A</td>\n",
       "      <td>K28M</td>\n",
       "      <td>8</td>\n",
       "      <td>dna entry exit points nucleosome core regulate...</td>\n",
       "    </tr>\n",
       "    <tr>\n",
       "      <th>308</th>\n",
       "      <td>308</td>\n",
       "      <td>H3F3A</td>\n",
       "      <td>G35V</td>\n",
       "      <td>8</td>\n",
       "      <td>dna entry exit points nucleosome core regulate...</td>\n",
       "    </tr>\n",
       "  </tbody>\n",
       "</table>\n",
       "</div>"
      ],
      "text/plain": [
       "      ID   Gene Variation  Class  \\\n",
       "121  121  SF3B1     K700R      8   \n",
       "220  220   EGFR     S492R      8   \n",
       "306  306  H3F3A      G35R      8   \n",
       "307  307  H3F3A      K28M      8   \n",
       "308  308  H3F3A      G35V      8   \n",
       "\n",
       "                                                  TEXT  \n",
       "121  rna maturation important complex biological pr...  \n",
       "220  antibodies epidermal growth factor receptor eg...  \n",
       "306  dna entry exit points nucleosome core regulate...  \n",
       "307  dna entry exit points nucleosome core regulate...  \n",
       "308  dna entry exit points nucleosome core regulate...  "
      ]
     },
     "execution_count": 29,
     "metadata": {
      "tags": []
     },
     "output_type": "execute_result"
    }
   ],
   "source": [
    "result[ result['Class']==8 ].head()"
   ]
  },
  {
   "cell_type": "code",
   "execution_count": 0,
   "metadata": {
    "colab": {
     "base_uri": "https://localhost:8080/",
     "height": 54
    },
    "colab_type": "code",
    "executionInfo": {
     "elapsed": 1173,
     "status": "ok",
     "timestamp": 1552624020905,
     "user": {
      "displayName": "Atul Rana",
      "photoUrl": "https://lh4.googleusercontent.com/-tLVUUtH-AZE/AAAAAAAAAAI/AAAAAAAAMt0/14Rk9-FZ5I4/s64/photo.jpg",
      "userId": "06185900944594624481"
     },
     "user_tz": -330
    },
    "id": "NrTtaUHtFRaR",
    "outputId": "942534f1-f2d6-4021-d074-67713b8367ff"
   },
   "outputs": [
    {
     "name": "stdout",
     "output_type": "stream",
     "text": [
      "antibodies epidermal growth factor receptor egfr cetuximab panitumumab widely used treat colorectal cancer unfortunately patients eventually develop resistance agents describe acquired egfr ectodomain mutation s492r prevents cetuximab binding confers resistance cetuximab cells mutation however retain binding growth inhibited panitumumab two ten subjects studied disease progression cetuximab treatment acquired mutation subject cetuximab resistance harboring s492r mutation responded treatment panitumumab subject terms cancer therapeutic resistance colorectal cancer tumour biomarkers glance figures first 1-2 2 last view figures left cetuximab-resistant cells sensitive egfr tyrosine kinase inhibitor gefitinib monoclonal antibody egfr panitumumab figure 1 cetuximab-resistant cells harbor missense mutation s492r within extracellular domain egfr figure 2 right main main change history references acknowledgments author information supplementary information development antibodies egfr cetuximab panitumumab milestone metastatic colorectal cancer mcrc treatment egfr antibodies prolong survival subjects mcrc standard component therapy individuals kras mutation status predicts individual innate resistance antibodies individuals kras-mutant mcrc excluded treatment antibodies however subjects mcrc respond antibodies egfr ultimately acquire resistance agents1 2 3 4 5 6 identify mechanisms acquired cetuximab resistance established cetuximab-resistant cells highly sensitive human mcrc cell line difi wild-type kras braf pi3k amplification egfr fig 1a supplementary methods continuously treated cells cetuximab five months beginning treatment isolated difi-derived cetuximab-resistant clones dcr dcr 7 dcr 9 dcr 10 fig 1a morphologycally similar parental cells supplementary fig 1 treatment cetuximab affect proliferation apoptosis supplementary fig 2 egfr signaling extracellular-related kinase erk protein kinase b akt fig 1b dcr clones figure 1 cetuximab-resistant cells sensitive egfr tyrosine kinase inhibitor gefitinib monoclonal antibody egfr panitumumab cetuximab-resistant cells sensitive egfr tyrosine kinase inhibitor gefitinib monoclonal antibody egfr panitumumab cells difi human colorectal cancer cell line made resistant cetuximab ctx continuous exposure 1 g ml 1 cetuximab 5 months cell viability measured treating difi parental cells dcr clones increasing concentrations cetuximab 72 h b sensitivity cetuximab correlated effective inhibition egfr downstream effectors akt erk cell lysates difi cells dcrs collected 2 h treatment cetuximab immunoblotting analysis performed using antibodies indicated proteins p-erk1 2 phosphorylated erk1 erk2 erk1 2 erk1 erk2 p-akt phosphorylated akt c parental resistant cells equally sensitive gefitinib parental difi dcr cells treated increasing concentrations gefitinib viable cells measured 72 h sensitivity gefitinib correlated effective inhibition egfr downstream effectors akt erk cells cultured 2 h gefitinib cell lysates subjected western blot analysis using antibodies indicated proteins e parental dcr cells equally sensitive panitumumab pnm parental difi dcr cells treated increasing concentrations panitumumab viable cells measured 72 h f sensitivity panitumumab correlated effective inhibition egfr downtream effectors akt erk cell lysates difi cells dcrs collected treatment 2 h panitumumab immunoblotting analysis performed using antibodies indicated proteins g comparison abilities cetuximab panitumumab disrupt phosphorylation egfr stimulation egf dcr cells difi dcr cells treated cetuximab panitumumab 2 h stimulated egf 15 min immunoblotting performed using antibodies indicated proteins p-egfr phosphorylated egfr full size image 75 kb figures index next phospho-receptor tyrosine kinase rtk array reveal additional activated rtks dcr clones relative parental cells supplementary fig 3 addition detect mutations kras braf pik3ca loss pten expression dcr clones data shown notably parental difi cells dcr clones equally sensitive egfr kinase inhibitor gefitinib fig 1c suggesting dcr clones remained dependent egfr growth survival viability egfr signaling dcr clones effectively decreased treatment antibody panitumumab fig 1e f supplementary fig 4 treatment panitumumab blocked egfr activation egf cetuximab-sensitive parental cetuximab-resistant dcr cells treatment cetuximab effect parental dcr cells hypothesized change egfr cetuximab-binding epitope might occurred dcr clones fig 1g dna sequencing egfr coding region nm 005228 1 revealed cright arrowa substitution nucleotide 1 476 three dcr clones present parental difi cells fig 2a parental dcr cells also harbored previously described single-nucleotide polymorphisms egfr mutations c474t c2709t egfr gene amplification confirming dcr cells arisen contaminating subpopulation c1476a causes substitution serine arginine amino acid 492 within egfr ectodomain bulky side chain position could interfere cetuximab binding fig 2b figure 2 cetuximab-resistant cells harbor missense mutation s492r within extracellular domain egfr cetuximab-resistant cells harbor missense mutation s492r within extracellular domain egfr nucleotide sequence egfr gene difi cells dcr clones heterozygous mutation resulting substitution serine arginine position corresponding amino acid 492 extracellular domain egfr observed dcr clones arrows mutation b structural modeling interaction egfr domain iii cetuximab confirming position egfr ser492 interface egf shown purple c vector p babe containing coding sequence wild-type egfr pbabe egfrwt s492r mutant egfr pbabe egfrs492r retrovirally infected nih 3t3 cells overexpress wt egfr s492r egfr proteins respectively nih 3t3 cells infected empty vector pbabe empty used control nih 3t3 cells used negative control control lysates analyzed immunoblotting revealed similar expression egfr wt egfr s492r egfr mutant cells differing abilities cetuximab panitumumab inhibit phosphorylation egfr stimulation egf s492r mutant cells nih 3t3 cells expressing wt egfr s492r mutant egfr cultured presence cetuximab panitumumab 2 h stimulated egf immunoblotting performed using antibodies indicated proteins e although cetuximab panitumumab able interact 60 cells expressing wt egfr panitumumab able bind cells expressing s492r egfr mutation wt egfr s492r egfr mutant cells incubated cetuximab panitumumab antibody binding analyzed flow cytometry using secondary antibody human igg conjugated phycoerythrin pe nih 3t3 cells expressing empty vector used negative control empty percentage cells binding antibody shown graph f comparison abilities cetuximab panitumumab interact wt egfr s492r egfr mutant vitro determined direct binding assay top competitive binding assay middle bottom ab antibody ecd extracellular domain ctr huigg control human igg fc constant fraction g computed tomographic scan target metastatic lesion liver segment vi subject beginning panitumumab therapy left 2 months treatment panitumumab right arrows highlight large volume lesion panitumumab therapy decrease treatment panitumumab 60 decrease full size image 71 kb previous figures index expressed wild-type s492r mutant egfr nih 3t3 fibroblasts lacking endogenous egfr fig 2c cetuximab panitumumab inhibited wild-type egfr activation whereas cells carrying s492r mutation panitumumab blocked activation egfr fig 2d flow cytometry showed cetuximab panitumumab efficiently bound cells expressing wild-type egfr panitumumab bound s942r mutant cells fig 2e vitro biochemical binding studies confirmed s492r mutant selectively defective binding cetuximab panitumumab fig 2f detect s492r mutation 156 tumors analyzed chemotherapy-naive targeted-agent naive subjects mcrc also examined pre- post-therapy specimens ten individuals mcrc experienced disease progression prior response cetuximab chemotherapy supplementary tables 1 2 study approved local ethics board clinical research ethical committee parc de salut mar ceic-imas2009 3515 informed consent obtained subjects pre-treatment biopsies wild type egfr kras braf pik3ca except biopsy subject 9 whose tumor harbored v600e mutation braf notably among biopsies taken treatment cetuximab post-cetuximab biopsies detected s492r mutation two subjects subjects 3 9 whereas subject 9 harbored nucleotide change saw dcrs mutation subject 3 involved different nucleotide substitution affected codon aright arrowc change nucleotide 1 474 also yielded s492r substitution supplementary fig 5 detected s492r mutation subject 9 deep sequencing frequency 3 well quantitative rt-pcr deep sequencing dna sample subject 3 revealed mutation present frequency 25 deep sequencing normal cells subjects 3 saliva 9 colon revealed wild-type sequence suggesting s492r mutation somatic deep sequencing pre-treatment tumor specimens subjects confirmed mutation detectably present treatment data shown subjects harboring s492r mutation egfr gene amplification pre- post-cetuximab specimens supplementary fig 6 post-cetuximab specimen subject 3 harbor known kras braf pik3ca mutations post-cetuximab tumor sample subject 9 harbored v600e braf mutation also detected pre-cetuximab specimen subject subject 9 exitus time identification s492r mutation specimen subject 3 detection acquired egfr s492r mutation led us offer panitumumab according approved monotherapy schedule 6 mg per kg body weight every 2 weeks 2 months treatment computed tomographic scan showed 50 reduction volume liver lesions fig 2g subject marked decline carcinoembryonic antigen blood tumor marker thereby reinforcing preclinical data month 5 treatment panitumumab subject 3 showed disease progression identified clinically relevant point mutation within egfr extracellular domain arises cetuximab therapy confers resistance agent missense mutation target therapeutic antibody previously reported cause resistance antibody notably s492r egfr mutant cell retains capacity bind panitumumab cetuximab chimeric mouse-human immunoglobulin g1 igg1 whereas panitumumab fully human igg2 clinically difference translates distinct toxicity profiles antibody although antibodies show similar clinical activity1 2 3 4 5 6 medical oncologists generally consider two agents equivalent therapies however present study reveals opposite preclinical clinical response two antibodies presence acquired s492r egfr mutation mutation may provide molecular explanation clinical benefit panitumumab subset subjects mcrc respond treatment cetuximab7 findings substantial immediate clinical implications persons mcrc specificity s492r mutation expected facilitate reliable testing guide clinical use panitumumab cetuximab failure justifies prospective independent validation s492r egfr mutation also interest determine whether mutation contributes acquisition cetuximab resistance tumor types\n"
     ]
    }
   ],
   "source": [
    "print(result['TEXT'][220])"
   ]
  },
  {
   "cell_type": "code",
   "execution_count": 0,
   "metadata": {
    "colab": {
     "base_uri": "https://localhost:8080/",
     "height": 206
    },
    "colab_type": "code",
    "executionInfo": {
     "elapsed": 1162,
     "status": "ok",
     "timestamp": 1552624023870,
     "user": {
      "displayName": "Atul Rana",
      "photoUrl": "https://lh4.googleusercontent.com/-tLVUUtH-AZE/AAAAAAAAAAI/AAAAAAAAMt0/14Rk9-FZ5I4/s64/photo.jpg",
      "userId": "06185900944594624481"
     },
     "user_tz": -330
    },
    "id": "CnXbd53aFStx",
    "outputId": "b0b64464-9549-4667-cbba-c2ea04b840fc"
   },
   "outputs": [
    {
     "data": {
      "text/html": [
       "<div>\n",
       "<style scoped>\n",
       "    .dataframe tbody tr th:only-of-type {\n",
       "        vertical-align: middle;\n",
       "    }\n",
       "\n",
       "    .dataframe tbody tr th {\n",
       "        vertical-align: top;\n",
       "    }\n",
       "\n",
       "    .dataframe thead th {\n",
       "        text-align: right;\n",
       "    }\n",
       "</style>\n",
       "<table border=\"1\" class=\"dataframe\">\n",
       "  <thead>\n",
       "    <tr style=\"text-align: right;\">\n",
       "      <th></th>\n",
       "      <th>ID</th>\n",
       "      <th>Gene</th>\n",
       "      <th>Variation</th>\n",
       "      <th>Class</th>\n",
       "      <th>TEXT</th>\n",
       "    </tr>\n",
       "  </thead>\n",
       "  <tbody>\n",
       "    <tr>\n",
       "      <th>122</th>\n",
       "      <td>122</td>\n",
       "      <td>SF3B1</td>\n",
       "      <td>R625C</td>\n",
       "      <td>9</td>\n",
       "      <td>rna maturation important complex biological pr...</td>\n",
       "    </tr>\n",
       "    <tr>\n",
       "      <th>123</th>\n",
       "      <td>123</td>\n",
       "      <td>SF3B1</td>\n",
       "      <td>E622D</td>\n",
       "      <td>9</td>\n",
       "      <td>splicing factor sf3b1 commonly mutated gene my...</td>\n",
       "    </tr>\n",
       "    <tr>\n",
       "      <th>124</th>\n",
       "      <td>124</td>\n",
       "      <td>SF3B1</td>\n",
       "      <td>H662Q</td>\n",
       "      <td>9</td>\n",
       "      <td>splicing factor sf3b1 commonly mutated gene my...</td>\n",
       "    </tr>\n",
       "    <tr>\n",
       "      <th>125</th>\n",
       "      <td>125</td>\n",
       "      <td>SF3B1</td>\n",
       "      <td>R625D</td>\n",
       "      <td>9</td>\n",
       "      <td>rna maturation important complex biological pr...</td>\n",
       "    </tr>\n",
       "    <tr>\n",
       "      <th>126</th>\n",
       "      <td>126</td>\n",
       "      <td>SF3B1</td>\n",
       "      <td>K666M</td>\n",
       "      <td>9</td>\n",
       "      <td>rna maturation important complex biological pr...</td>\n",
       "    </tr>\n",
       "  </tbody>\n",
       "</table>\n",
       "</div>"
      ],
      "text/plain": [
       "      ID   Gene Variation  Class  \\\n",
       "122  122  SF3B1     R625C      9   \n",
       "123  123  SF3B1     E622D      9   \n",
       "124  124  SF3B1     H662Q      9   \n",
       "125  125  SF3B1     R625D      9   \n",
       "126  126  SF3B1     K666M      9   \n",
       "\n",
       "                                                  TEXT  \n",
       "122  rna maturation important complex biological pr...  \n",
       "123  splicing factor sf3b1 commonly mutated gene my...  \n",
       "124  splicing factor sf3b1 commonly mutated gene my...  \n",
       "125  rna maturation important complex biological pr...  \n",
       "126  rna maturation important complex biological pr...  "
      ]
     },
     "execution_count": 31,
     "metadata": {
      "tags": []
     },
     "output_type": "execute_result"
    }
   ],
   "source": [
    "result[ result['Class']==9 ].head()"
   ]
  },
  {
   "cell_type": "code",
   "execution_count": 0,
   "metadata": {
    "colab": {
     "base_uri": "https://localhost:8080/",
     "height": 54
    },
    "colab_type": "code",
    "executionInfo": {
     "elapsed": 1530,
     "status": "ok",
     "timestamp": 1552624026864,
     "user": {
      "displayName": "Atul Rana",
      "photoUrl": "https://lh4.googleusercontent.com/-tLVUUtH-AZE/AAAAAAAAAAI/AAAAAAAAMt0/14Rk9-FZ5I4/s64/photo.jpg",
      "userId": "06185900944594624481"
     },
     "user_tz": -330
    },
    "id": "yCzM93GeFTnj",
    "outputId": "7b1b9fd8-b604-46d5-dd70-db1752155706"
   },
   "outputs": [
    {
     "name": "stdout",
     "output_type": "stream",
     "text": [
      "splicing factor sf3b1 commonly mutated gene myelodysplastic syndrome mds particularly patients refractory anemia ring sideroblasts rars investigated functional effects sf3b1 disruption myeloid cell lines sf3b1 knockdown resulted growth inhibition cell cycle arrest impaired erythroid differentiation deregulation many genes pathways including cell cycle regulation rna processing mds disorder hematopoietic stem cell thus studied transcriptome cd34 cells mds patients sf3b1 mutations using rna sequencing genes significantly differentially expressed transcript exon level sf3b1 mutant compared wild-type cases include genes involved mds pathogenesis asxl1 cbl iron homeostasis mitochondrial metabolism alas2 abcb7 slc25a37 rna splicing processing prpf8 hnrnpd many genes regulated dna damage-induced brca1 bclaf1 sf3b1 protein complex showed differential expression splicing sf3b1 mutant cases first study determine target genes sf3b1 mutation mds cd34 cells data indicate sf3b1 critical role mds affecting expression splicing genes involved specific cellular processes pathways many relevant known rars pathophysiology suggesting causal link go introduction myelodysplastic syndromes mds heterogeneous group clonal hematopoietic stem cell hsc malignancies characterized blood cell dysplasia peripheral blood cytopenia approximately 30 40 mds patients develop acute myeloid leukemia aml 1 recent discovery somatic splicesomal mutations mds revealed new leukemogenic pathway involving spliceosomal dysfunction 2 3 somatic mutations splicing factor genes sf3b1 u2af1 srsf2 zrsr2 frequent mds patients 4 importantly genes encode proteins involved 3 -splice site recognition pre-messenger rna pre-mrna processing splicing factor gene mutations occur 50 mds patients highly specific disorder occur mutually exclusive manner 5 6 7 sf3b1 encoding core component u2 small nuclear ribonucleoprotein involved recognition branchpoint sequence commonly mutated gene found mds 20 28 patients 2 8 9 others shown mutations splicing factor sf3b1 found high percentage 70 mds patients whose disease characterised presence ring sideroblasts including refractory anemia ring sideroblasts rars refractory cytopenia multilineage dysplasia ring sideroblasts rcmd-rs 2 8 close association sf3b1 mutation presence ring sideroblasts consistent causal relationship makes first gene strongly associated specific morphological feature mds ring sideroblasts characterised excess accumulation iron mitochondria erythroblasts 10 sf3b1 mutant rars cases show altered iron distribution characterised coarse iron deposits compared wild-type rars cases 11 sf3b1 mutations generally prevalent low-risk mds shown independent predictors favorable clinical outcome mds studies 8 11 clinical consequences sf3b1 mutation mds clear functional consequences mutations human cells remain poorly understood altered rna splicing suggested mechanism underlying observed phenotypic changes concomitant splicing factor gene mutations including sf3b1 3 12 13 however target genes hsc mds cases sf3b1 mutations yet defined sf3b1 mutations mds primarily heterozygous point mutations presence hotspots absence nonsense frameshift mutations sf3b1 mds patients suggest sf3b1 mutations likely gain change-of-function neomorphic mutations heterozygous sf3b1 knockout mouse model shown develop ring sideroblasts suggesting haploinsufficiency sf3b1 may lead formation 11 recent similar studies made observation however 14 15 thus yet determined whether sf3b1 mutations found mds loss-of-function mutations gain change-of-function mutations study thus evaluated effects sf3b1 knockdown cell growth gene expression splicing range myeloid cell lines performed rna sequencing rna-seq cd34 cells mds patients harboring sf3b1 mutations go materials methods myeloid cell lines culture k562 hel tf1 skm1 cells cultured roswell park memorial institute medium 1640 sigma-aldrich gillingham uk containing 10 fetal bovine serum 37 c 5 co2 tf1 skm1 cultures supplemented 2 1 ng ml granulocyte-macrophage colony-stimulating factor respectively sf3b1 knockdown three non-overlapping small interfering rnas sirnas targeting sf3b1 two different scramble sequences guanine cytosine content similar sirna sequences stealth select rnai invitrogen used knock sf3b1 myeloid cell lines transfection 30 pmol sirna 2 106 cells electroporated amaxa nucleofector using amaxa cell optimization kit v amaxa gaithersburg md usa evaluation green fluorescent protein-positive cells obtained using pmaxgfp fluorescent expression plasmid confirmed 80 successfully transfected cells 24 h readout data reported mean e statistical analysis performed using student t-test cell growth assay live dead cells assessed trypan blue viability testing counted using hemocytometer cell cycle analysis cells fixed ice cold methanol incubated 40 g ml propidium iodide 10 g ml rnasea previously described 16 data acquired bd lsrii flow cytometer bd bioscience franklin lakes nj usa analyzed using flowjo software 7 6 4 flowjo ashland usa erythroid differentiation induce erythroid differentiation k562 tf1 hel cells cultured hemin 50 72 h erythroid differentiation studied analyzing expression level -globin hbg1 using quantitative real-time pcr qrt-pcr described previously 17 expression erythroid markers cd36 cd71 cd235a evaluated flow cytometry described previously 16 quantitative real-time pcr total rna reverse transcribed using retroscript kit ambion life technologies paisley uk expression levels sf3b1 abcb7 ftmt hbg1 klf1 b2m determined using assays-on-demand applied biosystems foster city ca usa b2m expression levels used normalize differences input complementary dna cdna triplicate samples run lightcycler 480 real-time pcr system roche diagnostics lewes uk expression ratios calculated using ddct method 18 gene expression profiling total rna 100 ng sample amplified labeled 3 ivt express kit affymetrix santa clara ca usa hybridized affymetrix human genome u133 plus 2 0 genechips described previously 19 20 cel files pre-processed using robust multi-chip average data analysis performed using genespring 7 3 1 agilent santa clara ca usa pathway analysis performed using ingenuity pathway analysis ipa 7 5 qiagen manchester uk previously described 19 analysis gene set up- downregulation performed using gene set enrichment analysis 21 previously described false discovery rate 0 1 2 splicing analysis using human genome exon-junction microarray total rna dnase treated invitrogen purified agencourt rna clean xp amplified 100 ng using ambion wt expression kit affymetrix cdna subsequently fragmented labeled using wt terminal labeling kit affymetrix samples hybridized onto affymetrix human genome exon-junction arrays average contain 119 unique probes per gene spanning every exon known exon exon junction cel files analyzed using genosplice technology www genosplice com 22 23 data normalized using quantile normalization analysis exon level performed taking account exon probes analysis splicing variant level performed taking account exon exon junction probes using fast db splicing patterns annotation release fastdb 2012 2 unpaired student t-test used determine exon splicing pattern variation cells sf3b1 knockdown scramble controls genes considered significantly deregulated fold change 1 5 p-value 0 05 gene ontology kegg reactome analyses differentially regulated genes performed using david 24 splicing analysis using qrt-pcr sanger sequencing splicing analysis tp53 performed using sanger sequencing gel-extracted individual bands pcr-amplified cdna primers pcr conditions listed supplementary table s1 splicing analysis cyclins ccna2 stk6 performed using qrt-pcr cdna using primers specific splice junctions corresponding exon inclusion skipping 25 primers listed supplementary table s2 tbp expression levels used normalize differences input cdna rna sequencing bone marrow samples obtained mds patients healthy controls cd34 cells isolated using macs magnetic cell separation columns miltenyi biotec germany described previously 19 20 rna extracted bone marrow cd34 cells obtained 12 mds patients 5 healthy controls used deep rna-seq eight 12 mds cases four rars four rcmd-rs sf3b1 gene mutation whereas four cases rcmd known mutations splicing factor genes sf3b1 srsf2 u2af1 zrsr2 supplementary table s3 determined targeted next-generation sequencing data previous study 7 total rna dnase treated invitrogen purified using xp beads beckman coulter high wycombe uk processed 100 ng using nebnext ultra directional mrna library prep neb hitchin uk per manufacturer protocol illumina two alterations custom indexes designed house additional purification step performed using xp beads beckman coulter rather size selection samples run hiseq2000 illumina sequencing machine illumina san diego ca usa sequencing reads mapped human genome using tophat 26 handle reads spanning exon exon boundaries data analysis performed using edger27 evaluate whole transcript expression false discovery rate 0 05 dexseq28 evaluate differential exon usage false discovery rate 0 05 expression level genes least 10 reads four samples included analysis exon level exons fewer 10 reads excluded gender included additional factor dexseq model testing differential exon usage selected differentially expressed exons validated using qrt-pcr supplemetary figure s1 supplementary information integrative genomics viewer igv v2 3 http www broadinstitute org igv used visualization sequence reads pathway analysis performed using ipa gene set enrichment analysis described data discussed publication deposited ncbi gene expression omnibus accessible geo series accession number gse63569 go results sf3b1 knockdown inhibits cell growth induces cell cycle arrest impairs erythroid differentiation sf3b1 knocked using sirna technology four myeloid cell lines tf1 k562 hel skm1 found wild type sf3b1 supplementary information resulting significant decrease expression ranging 50 60 figure 1a figure 1 figure 1 effects sf3b1 knockdown myeloid cell lines cell line transfected sirna targeting sf3b1 compared corresponding cell line transfected scramble control sf3b1 mrna expression measured 3 days knockdown b cell growth inhibited four cell lines sf3b1 knockdown comparison scramble control figure 1b cell cycle arrest different phases detected different myeloid cell lines sf3b1 knockdown figure 1c k562 cells showed significant g2m cell cycle arrest concomitant reduction percentage cells g1 phase tf1 cells showed significant decrease percentage cells phase hel cells showed significant decrease percentage cells g1 phase significant increase sub-g1 cell population indicating increased apoptosis similarly skm1 cells showed significant decrease percentage cells g2m phase concomitant increase percentage cells sub-g1 g1 phase indicating cell cycle arrest g1 phase increase apoptosis figure 1c three cell lines tf1 k562 hel sf3b1 knockdown cultured hemin induce erythroid differentiation assessed expression erythroid differentiation markers hbg1 klf1 using qrt-pcr significant reduction expression hbg1 klf1 observed tf1 k562 cell lines sf3b1 knockdown figure 1d addition observed reduction percentage cd36 cd71 cd71 cd235a erythroid populations significant cd36 cd71 population k562 cells sf3b1 knockdown compared scramble control figure 1e suggesting normal sf3b1 function required erythroid differentiation 17 rars characterized ftmt accumulation low expression levels iron transporter abcb7 17 29 previously shown sf3b1 knockdown leads decreased abcb7 expression increased ftmt expression k562 cells 17 study extended observations three myeloid cell lines investigated figure 2a addition restoration sf3b1 expression normal levels 10 days culture followed restoration abcb7 expression levels normal supplementary figure s2 figure 2 figure 2 effects sf3b1 knockdown gene expression splicing abcb7 ftmt expression levels tf1 k562 hel skm1 cells sf3b1 knockdown measured qrt-pcr 48 h post transfection cell line transfected sirna targeting taken together data show sf3b1 knockdown results inhibition cell growth induction cell cycle arrest impairment erythroid differentiation myeloid cell lines sf3b1 knockdown alters gene expression evaluate effects sf3b1 knockdown global gene expression gene expression profiling performed four myeloid cell lines cell line compared expression profiles cells treated two different sirnas targeting sf3b1 cells treated scramble control 48 h post transfection identified many genes up- downregulated 2-fold cell line treated sf3b1 sirnas supplementary figure s3a s3b four genes upregulated tfdp1 loc100505759 mkrn1 wrnip1 five genes downregulated zc3h7a crebzf sgk494 wsb1 two probesets sf3b1 four cell lines sf3b1 knockdown pathway analysis performed up- downregulated genes cell line sf3b1 knockdown using ipa significant deregulation pathways related cell cycle regulation observed cell lines mtor signaling ampk signaling pathways three cell lines table 1 performed gene set enrichment analysis identify pathways processes showing coordinated up- downregulation upregulated gene sets include p53 signaling k562 skm1 cells several gene sets associated regulation transcription spliceosome splicing k562 cells supplementary table s4 downregulated gene sets associated mitochondrial function found k562 tf1 cells cell cycle regulation skm1 hel cells supplementary table s4 data show sf3b1 knockdown cell lines studied results deregulation many genes pathways including cell cycle rna processing table 1 table 1 list significant deregulated pathways cell lines obtained using ipa sf3b1 knockdown impact splicing genome-wide effects sf3b1 knockdown splicing investigated two myeloid cell lines k562 tf1 using human genome exon-junction arrays splicing profile cells sf3b1 knockdown using two different sirna per cell line compared cells transfected scramble control observed 2027 differentially expressed exons 1419 genes 507 significant differentially regulated splicing variants including exon skipping intron retention alternative splice sites 384 genes cells sf3b1 knockdown example observed differential exon usage cdc7 srsf11 data cell lines tp53 tf1 cells found significant overrepresentation 3 acceptor splice sites affected alternative splicing events compared 5 donor splice sites 5 1 ratio p 0 0027 2 test yates correction consistent known role sf3b1 recognition 3 splice sites gene ontology analysis performed using david http david abcc ncifcrf gov many themes showed significant enrichment genes affected level exon usage splice variants table 2 cell cycle rna degradation found consistently deregulated levels table 2 investigated tp53 differential exon usage pcr amplification sanger sequencing gel-extracted bands observed exon skipping present sf3b1 knockdown cells figure 2b table 2 table 2 pathway analysis using human genome exon-junction array data two different levels differential exon usage different splicing variant also investigated whether two cell cycle genes ccna2 stk6 previously shown aberrantly spliced hela cells sf3b1 knockdown 25 also aberrantly spliced k562 cells sf3b1 knockdown study consistent finding hela cells observed aberrant splicing genes using qrt-pcr strategy described previously figure 2c 25 rna-seq hspc mds patients sf3b1 mutations gain insight spectrum genes deregulated aberrantly spliced association sf3b1 mutation hematopoietic stem progenitor cells hspc mds patients used deep rna-seq compare transcriptome bone marrow cd34 cells eight mds patients sf3b1 mutation sf3b1 mutants four mds patients known splicing mutation wild type five healthy controls control supplementary table s3 using igv evaluated expression sf3b1 alleles sf3b1 mutant cases observed range 45 52 mutant allele frequency indicating wild-type mutant alleles equally expressed supplementary table s3 supplementary figure s4 used edger perform differential gene expression analysis sf3b1 mutants versus wild type control whole transcript level observed total 526 genes 253 upregulated 273 downregulated significantly differentially expressed sf3b1 mutants comparison wild type supplementary table s5 comparison sf3b1 mutants control found 1823 significantly differentially expressed genes 646 upregulated 1177 downregulated supplementary table s6 genes linked pathogenesis rars rcmd-rs alas2 abcb7 deregulated alas2 upregulated abcb7 downregulated comparisons sf3b1 mutant wild type control also observed upregulation mitochondrial genes slc25a37 comparing sf3b1 mutant control glrx5 comparisons sf3b1 mutant wild type control performed analysis using 121 genes either known expressed erythroid cells30 described erythroid transcription factors literature found 42 differentially expressed genes 37 upregulated 5 downregulated comparing sf3b1 mutant control included heme biosynthetic enzymes example alas2 alad fech urod globin genes example hbq1 hba2 hbb hba1 transcription factors example gata1 gata2 klf1 comparison sf3b1 mutant wild type found total 32 differentially expressed genes 31 upregulated 1 downregulated 28 overlapping differentially expressed genes found comparing sf3b1 mutant control performed pathway analysis significantly differentially expressed genes using ipa many pathways including heme biosynthesis mitotic roles polo-like kinase tnfr2 signaling significantly deregulated comparison sf3b1 mutant wild type table 3 comparing sf3b1 mutant control significantly deregulated pathways included apoptosis signaling p53 signaling cell cycle regulation heme degradation supplementary table s7 next performed gene set enrichment analysisand many gene sets showing significant enrichment identified sf3b1 mutant versus wild type control upregulated gene sets included several related mitochondrial function cell cycle checkpoints mrna splicing comparison sf3b1 mutant control cases downregulated gene sets included several related cell differentiation apoptosis supplementary table s8 many deregulated pathways gene sets relevant known pathophysiology mds particular rars rcmd-rs table 3 table 3 pathway analysis ipa significant differentially expressed genes sf3b1 mutant wild type obtained using edger dexseq used perform differential exon usage analysis rnaseq data evaluate aberrantly spliced genes exon level observed total 3506 exons corresponding 1924 genes significantly differentially expressed sf3b1 mutant compared control table 4 figure 3 supplementary table s9 differential exon usage observed least one exon genes known involved mds pathophysiology tp53 ezh1 erythroid genes alad urod epb42 genes associated cell cycle aurkb crnde rna processing rbm5 rbm25 prpf40a hnrnpd comparing sf3b1 mutant wild type cases found 3097 significantly differentially expressed exons corresponding 2022 genes table 5 figure 4 supplementary table s10 found differential exon usage least one exon genes involved mds pathophysiology cbl asxl1 dnmt3a mitochondrial function alas2 ndufaf6 erythroid differentiation nfe2l2 ppox hmbs mrna processing hnrnpd u2af2 prpf8 interestingly uqcc1 gene involved mitochondrial biogenesis31 showing abnormal splicing sf3b1 mutant cases uveal melanoma 32 showed differential exon usage upregulation sf3b1 mutant cases compared wild type control study figure 3 figure 3 examples genes showing significant differential exon usage mds patients sf3b1 mutation comparison control obtained rna-seq data analysis using dexseq graphs show top ranking genes significant differential figure 4 figure 4 examples genes showing significant differential exon usage mds patients sf3b1 mutation comparison wild type obtained rna-seq data analysis using dexseq graphs show top ranking genes significant differential table 4 table 4 top ranking genes showing differential exon usage sf3b1 mutant control obtained rna sequencing data analysis using dexseq table 5 table 5 top ranking genes showing differential exon usage sf3b1 mutant wild type obtained rna sequencing data analysis using dexseq identify pathways affected differential exon usage performed pathway analysis genes showing significantly differentially expressed exons using ipa comparison sf3b1 mutant wild type control observed many pathways affected including cell cycle heme biosynthesis dna damage response mitochondrial haematopoietic progenitor cells pathway supplementary table s11 s12 using david functional annotation tool observed significant enrichment biological themes including alternative splicing rna binding mitochondrion spliceosome cell cycle recently role sf3b1 maintenance genomic stability also reported functions dna damage-induced mrna splicing complex brca1 bclaf1 33 given deregulation dna damage response pathway highlighted ipa pathway analysis performed analysis using genes regulated brca1 bclaf1 sf3b1 complex several genes regulated complex showed differential exon usage sf3b1 mutant compared control including numa1 rb1 chuk abl1 compared wild type numa1 pias1 smad4 birc2 ptk2 supplementary table s13 overrepresentation genes regulated brca1 bclaf1 sf3b1 complex significant sf3b1 mutant compared control p 0 001 compared wild type p 0 0498 hypergeometric test also found many genes affected transcript level including birc3 bcl2a1 gypb hbb hbbp1 comparing sf3b1 mutant wild type control supplementary table s13 go discussion identification frequent somatic mutations sf3b1 mds patients ring sideroblasts suggests direct correlation presence mutations particular phenotype 2 11 13 however mechanism sf3b1 mutation leads mds ring sideroblasts remains elucidated illuminate role sf3b1 mutation mds pathophysiology determined effects sf3b1 disruption cell growth gene expression human hematological cells first investigated effects sf3b1 knockdown cell function gene expression myeloid cell lines second used rna-seq study global gene expression changes splicing abnormalities associated presence sf3b1 mutations hspc mds patients shown sf3b1 knockdown four myeloid cell lines resulted inhibition cell growth disruption cell cycle recently reported sf3b1 mice showed reduced numbers hsc compromised reconstitution capacity lethally irradiated mice 14 15 thus reduced expression sf3b1 appears result impaired cell growth hematopoietic cells similar observations made following reduced expression splicing factor genes including u2af1 3 4 34 used two different microarray platforms identify genes deregulated transcriptional exon level sf3b1 knockdown myeloid cell lines gene expression profiling identified many deregulated genes four genes consistently upregulated including tfdp1 five genes downregulated including crebzf four cell lines sf3b1 knockdown several role control cell growth tfdp1 involved control transcriptional activity g1 cell cycle checkpoint genes 35 crebzf potent suppressor cell growth effects mediated tumor suppressor p53 36 next employed exon-junction arrays study transcriptome k562 tf1 cells identified many differentially expressed exons differentially regulated splicing variants cells sf3b1 knockdown example observed differential exon usage cdc7 srsf11 genes involved cell cycle regulation splicing respectively tp53 gene several pathways including cell cycle rna processing mitochondrion apoptosis p53 pathway consistently deregulated cell lines sf3b1 knockdown summary data myeloid cell lines suggest phenotype observed cells sf3b1 knockdown mediated aberrant splicing expression target genes involved key biological processes rna-seq method choice comprehensive analysis global gene expression splicing relevant studies published date rna-seq performed unfractionated bone marrow mononuclear cells small number mds patients sf3b1 mutations n 3 per study revealing interesting data 11 37 38 mds arise hsc thus critical importance effects sf3b1 mutation transcriptome studied cell origin study performed rna-seq purified bone marrow cd34 cells 12 mds patients eight ring sideroblasts sf3b1 mutation four without mutation splicing factor genes five healthy controls identified many significantly differentially expressed genes transcript level exon level comparing sf3b1 mutant wild type control cd34 cells rcmd-rs rars patients display particular expression profile mitochondria-related genes 17 20 observed upregulation alas2 heme biosynthesis enzyme downregulation abcb7 involved transport iron mitochondria cytoplasm sf3b1 mutants compared wild type control agreement previous reports 17 20 slc25a37 encoding mitochondrial iron importer glrx5 encoding another mitochondrial protein significantly upregulated cd34 cells sf3b1 mutants compared wild type control recent study showed slc25a37 mrna upregulation sf3b1 mutant bone marrow mononuclear cells three mds patients rars -t 38 evidence thus mounting suggest upregulation iron importer slc25a37 downregulation iron exporter abcb7 may linked increased mitochondrial iron accumulation observed mds patients ring sideroblasts 39 deregulation genes could also consistent impaired ability mitochondrial pathways use iron may result attempt increase iron availability importantly observed many genes associated porphyrin heme biosynthesis showing differential exon usage sf3b1 mutant cases indicating altered splicing include alad urod comparing sf3b1 mutant control alas2 ppox comparing wild type suggest aberrant expression exon usage mitochondrial heme-related genes cd34 cells mds patients sf3b1 mutation role ring sideroblast formation abnormal iron homeostasis observed patient group intriguingly common congenital sideroblastic anemia x-linked sideroblastic anemia results alas2 mutation 40 relative expression levels transcription factors gata1 gata2 differed normal cd34 cells mds patients sf3b1 mutation dynamic strictly regulated change expression gata2 gata1 erythropoiesis crucial role 41 alteration pattern may predicted lead aberrant erythropoiesis suggest aberrant expression splicing erythroid-related genes observed cd34 cells mds patients sf3b1 mutation may role ineffective erythropoiesis found patients previous study rna-seq used compare transcriptome bone marrow mononuclear cells two mds patients sf3b1 mutation one healthy control 11 one hundred thirty genes showed significant differential expression 28 overlap genes differentially expressed sf3b1 mutant control study cd34 cells genes include map3k8 clec5a previously shown downregulated mds 19 42 furthermore 350 genes showed differential exon usage 52 common genes showing differential exon usage study cd34 cells overlapping genes include ezh1 asxl1 cbl1 smad4 mutant forms asxl1 cbl tp53 known important role molecular pathogenesis mds intriguingly genes found alternatively spliced hspc mds patients harboring sf3b1 mutations recent study identified dna damage-induced brca1 protein complex containing bclaf1 sf3b1 brca1 bclaf1 sf3b1 complex 33 response dna damage complex regulates pre-mrna splicing genes involved dna damage signaling repair hence affects transcription pre-mrna maturation 33 importantly found many genes regulated complex differentially expressed show differential exon usage study genes showing differential transcript level changes included birc3 bcl2a1 whereas numa1 showed differential exon usage comparing sf3b1 mutant wild type control comparing sf3b1 mutant wild type also found differential exon usage pias1 gene dna damage response regulator 43 44 demonstrated abrogation members complex including brca1 bclaf1 results genomic instability 33 common feature malignant cells mds patients mutant sf3b1 function complex may impaired possible downstream effects efficiency dna damage repair many genes involved rna splicing processing found show differential transcript levels well differential exon usage study including hnrnpd u2af2 prpf8 rbm25 recent study showed rna processing genes misspliced bone marrow mononuclear cells mds aml patients u2af1 mutation 45 intriguingly limited overlap genes misspliced result u2af1 mutation rna processing splicing genes deregulated aberrantly spliced sf3b1 mutant cases comparisons sf3b1 mutant wild type control suggesting process may affected different splicing mutations even target genes distinct recent study showed defects splicing factor gene prpf8 result missplicing myeloid malignancies associated presence ring sideroblasts advanced mds aml 46 interestingly observed differential exon usage prpf8 sf3b1 mutant cases compared control study indicating link sf3b1 prpf8 ring sideroblast phenotype finding differential exon usage multiple rna processing splicing genes hspc cases sf3b1 mutation points towards exacerbation aberrant splicing wider number downstream target genes affected emerging evidence study sf3b1 study u2af145 thus supports hypothesis mds patients harboring splicing factor mutations widespread disruption splicing machinery consequence downstream effects mutant protein loss-of-function mutations zebrafish prpf8 shown result missplicing tp53 47 found tp53 aberrantly spliced mds patients sf3b1 mutation compared wild type control splicing factor mutations including sf3b1 considered founder mutations must confer selective growth advantage hsc occurs remains mystery identified differential splicing several genes known role mds pathogenesis including tp53 asxl1 well genes involved dna damage repair hspc mds patients harboring sf3b1 mutations suggest aberrant splicing genes may confer oncogenic properties help drive malignant process study determined target genes sf3b1 mutations hspc mds patients ring sideroblasts shedding light mechanisms underlying phenotype myelodysplastic syndromes mds related disorders myelodysplasia comprise group myeloid neoplasms characterized deregulated dysplastic blood cell production predisposition acute myeloid leukaemia aml 1 although prevalence ofmds determined precisely 10 000 people estimated develop myelodysplasia annually united states2 indolent clinical course leukaemic transformation ineffective haematopoiesis evidence myeloid dysplasia indicate pathogenesis distinct involved de novo aml currently number gene mutations cytogenetic changes implicated pathogenesis mds including mutations ras tp53 runx1 recently asxl1 c-cbl dnmt3a idh1 2 tet2 ezh2 ref 3 nevertheless mutations set genes fully explain pathogenesis mds also commonly found myeloid malignancies roughly 20 mds cases known genetic changes ref 4 unpublished data particular genetic alterations responsible dysplastic phenotypes ineffective haematopoiesis myelodysplasia poorly understood meanwhile recent development massively parallel sequencing technologies provided expanded opportunity discover genetic changes across entire genomes protein-coding sequences human cancers single-nucleotide level5 10 could successfully applied genetic analysis myelodysplasia obtain better understanding pathogenesis overview genetic alterations study performed whole-exome sequencing paired tumour control dna 29 patients myelodysplasia supplementary table 1 although incapable detecting non-coding mutations gene rearrangements whole-exome approach well-established strategy obtaining comprehensive registries protein-coding mutations low cost high performance mean coverage 133 8 80 4 target sequences analysed 320 depth average supplementary fig 1 candidates somatic mutations n 5 497 generated data analysis pipeline subjected validation using sanger sequencing supplementary methods supplementary fig 2 finally 268 non-synonymous somatic mutations confirmed overall true positive rate 53 9 supplementary fig 3 including 206 missense 25 nonsense 10 splice site mutations 27 frameshift-causing insertions deletions indels supplementary fig 4 mutation rate 9 2 0 21 per sample significantly lower solid tumours 16 2 302 7 11 12 multiple myeloma 32 4 6 comparable aml 7 3 13 13 15 chronic lymphocytic leukaemia 11 5 16 combined genomic copy number profile obtained single nucleotide polymorphism snp array karyotyping array somatic mutations provided landscape myelodysplasia genomes supplementary fig 5 17 18 1 cancer genomics project graduate school medicine university tokyo 7-3-1 hongo bunkyo-ku tokyo 113-8655 japan 2 laboratory dna information analysis human genome center institute medical science university tokyo 4-6-1 shirokanedai minato-ku tokyo 108-8639 japan 3 department hematology oncology medical faculty manheim university heidelberg 1 3 theodor-kutzer-ufer mannheim 68167 germany 4 division stem cell therapy center stem cell biology regenerative medicine institute medical science university tokyo 4-6-1 shirokanedai minato-ku tokyo 108-8639 japan 5 laboratory functional genomics human genome center institute medical science university tokyo 4-6-1 shirokanedai minato-ku tokyo 108-8639 japan 6 laboratory sequence data analysis human genome center institute medical science university tokyo 4-6-1 shirokanedai minato-ku tokyo 108-8639 japan 7 division systems biomedical technology institute medical science university tokyo 4-6-1 shirokanedai minato-ku tokyo 108-8639 japan 8 nakauchi stem cell organ regeneration project exploratory research advanced technology japan science technology agency 4-6-1 shirokanedai minato-ku tokyo 108-8639 japan 9 department hematology institute clinical medicine university tsukuba 1-1-1 tennodai tsukuba-shi ibaraki 305-8571 japan 10division hematology tokyo metropolitan ohtsuka hospital 2-8-1 minami-ohtsuka toshima-ku tokyo 170-0005 japan 11division hematology internal medicine showa university fujigaoka hospital 1-30 fujigaoka aoba-ku yokohama kanagawa 227-8501 japan 12munich leukemia laboratory max-lebsche-platz 31 munich 81377 germany 13hematology oncology cedars-sinai medical center 8700 beverly blvd los angeles california 90048 usa 14national university singapore cancer science institute singapore 28 medical drive singapore 117456 singapore 15division hematology-oncology department internal medicine chang gung memorial hospital chang gung university 199 tung hwa north rd taipei 105 taiwan *these authors contributed equally work 64 nature vol 478 6 october 2011 2011 macmillan publishers limited rights reserved novel gene targets myelodysplasia list somatic mutations supplementary table 2 included known gene targets myelodysplasia similar mutation frequencies previously reported indicating acceptable sensitivity current study mutations known gene targets however accounted 12 3 detected mutations n 5 33 remaining 235 mutations involved previously unreported genes among recurrently mutated genes multiple cases candidate targets particular interest high mutation rates expected general populations fact 8 12 recurrently mutated genes among well-described gene targets myelodysplasia supplementary table 3 however immediately drew attention recurrent mutations involving u2af35 also known u2af1 zrsr2 srsf2 sc35 belong common pathway known rna splicing including additional three genes mutated single cases sf3a1 sf3b1 prpf40b six components splicing machinery mutated 16 29 cases 55 2 mutually exclusive manner fig 1 supplementary fig 6 supplementary table 2 frequent mutations splicing machinery rna splicing accomplished well-ordered recruitment rearrangement disengagement set small nuclear ribonucleoprotein snrnp complexes u1 u2 either u4 5 6 u11 12 well many protein components onto pre-mrnas notably mutated components spliceosome engaged initial steps rna splicing except prpf40b whose functions rna splicing poorly defined making physical interactions sf1 serine arginine-rich sr protein srsf1 srsf2 u2 auxiliary factor u2af consists u2af65 u2af2 u2af35 heterodimer involved recognition 39 splice site 39ss nearby polypyrimidine tract thought required subsequent recruitment u2 snrnp containing sf3a1 well sf3b1 establish splicing complex fig 1 19 zrsr2 urp another essential component splicing machinery showing close structural similarity u2af35 zrsr2 physically interacts u2af65 well srsf1 srsf2 distinct function homologue u2af35 ref 20 confirm extend initial findings whole-exome sequencing studied mutations six genes together three additional spliceosome-related genes including u2af65 sf1 srsf1 large series myeloid neoplasms n 5 582 using high-throughput mutation screen pooled dna followed confirmation identification candidate mutations refs 21 22 supplementary methods ii total 219 mutations identified 209 582 specimens myeloid neoplasms validating 313 provisional positive events pooled dna screen supplementary tables 4 5 mutations among four genes u2af35 n 5 37 srsf2 n 5 56 zrsr2 n 5 23 sf3b1 n 5 79 explained mutations much lower mutational rates sf3a1 n 5 8 prpf40b n 5 7 u2af65 n 5 4 sf1 n 5 5 fig 2 mutations splicing machinery highly specific diseases showing myelodysplastic features including mds either 84 9 without 43 9 increased ring sideroblasts chronic myelomonocytic leukaemia cmml 54 5 therapy-related aml aml myelodysplasia-related changes 25 8 rare de novo aml 6 6 myeloproliferative neoplasms mpn 9 4 fig 3a mutually exclusive pattern mutations splicing pathway genes confirmed large case series suggesting common impact mutations rna splicing pathogenesis myelodysplasia fig 3b frequencies mutations showed significant differences across disease types surprisingly sf3b1 mutations found majority cases mds characterized increased ring sideroblasts refractory anaemia ring sideroblasts rars 19 23 82 6 refractory cytopenia multilineage dysplasia 15 ring sideroblasts rcmd-rs 38 50 76 much lower mutation frequencies myeloid neoplasms rars rcmd-rs account u1snrnp sf3b1 3 srsf2 ese 5 ss 3 ss 5 yncuray pre-mrna w w w yryyry zn2 zn2 zn2 w zrsr2 sf1 u2af35 uhm domain rs domain zn2 zinc finger domain ese u2af65 sf3b u2snrnp sf3a1 u1snrnp figure 1 components splicing e complex mutated myelodysplasia rna splicing initiated recruitment u1 snrnp 59ss sf1 larger subunit u2 auxiliary factor u2af u2af65 bind branch point sequence bps downstream polypyrimidine tract respectively smaller subunit u2af u2af35 binds ag dinucleotide 39ss interacting u2af65 sr protein srsf2 uhm rs domain comprising earliest splicing complex e complex zrsr2 also interacts u2af sr proteins perform essential functions rna splicing recognition 39ss u2 snrnp together sf3a1 sf3b1 recruited 39ss generate splicing complex mutated components myelodysplasia indicated arrows u2af35 21q22 3 zn uhm rs 240 aa zn s34f 20 s34y 5 q157r 7 q157p 4 zrsr2 xp22 1 zn uhm zn rs i202n n261y c302r h330r n382k* 483 aa i53t* s40x r68sp a96fs e118fs r126x l237fs k257sp w291x g323fs n327fs f239v e148x e362x e133g c326r prpf40b 12q13 12 871 aa sf3a1 surf surf ubql 22q12 2 a57s i141m* y772c 793 aa m117i k166t e373d t374p m667v rrm rs p95h 31 l 14 r 11 srsf2 17q25 1 221 aa y347x a26v p383l ff ff p15h* m58i* p212l* d442n p540s pr ww ww sf3b1 2q33 1 1 304 aa k700e 44 hd k666n 6 3 e 2 r 2 h662q 8 2 e622d 4 y623c r625l 2 c 1 k182e g347v n626d d781g u2af65 19q13 42 rs uhm r18w m144i 475 aa l187v uhm uhm sf1 kh pr 11q13 1 639 aa zn g372v t454m t474a y476c a508g hd hd hd hd hd hd hd hd hd hd figure 2 mutations multiple components splicing machinery mutation eight spliceosome components shown arrowhead confirmed somatic mutations discriminated red arrows known domain structures shown coloured boxes indicated mutations predicted snps mutationtaster http www mutationtaster org indicated asterisks number mutation indicated parenthesis zrsr2 mutations females shown blue article research 6 october 2011 vol 478 nature 65 2011 macmillan publishers limited rights reserved 4 3 12 9 mds cases respectively deregulated iron metabolism implicated development refractory anaemia23 high mutation frequencies specificity sf3b1 mutations thought almost pathognomonic mds subtypes characterized increased ring sideroblasts strongly implicated pathogenesis mds categories less conspicuously significantly srsf2 mutations frequent cmml cases fig 3 supplementary table 4 thus although commonly involving e splicing complexes different mutations may still different impacts cell functions contributing determination discrete disease phenotypes example studies demonstrated srsf2 also involved regulation dna stability depletion srsf2 lead genomic instability24 interest context regardless disease subtypes samples srsf2 mutations shown significantly mutations genes compared u2af35 mutations p 5 0 001 multiple regression analysis supplementary table 6 supplementary fig 7 notably rare exception a26v single case mutations u2af35 exclusively involved two highly conserved amino acid positions s34 q157 within amino- carboxyl-terminal zinc finger motifs flanking u2af homology motif uhm domain srsf2 mutations exclusively occurred p95 within intervening sequence rna recognition motif rrm arginine serine-rich rs domains fig 2 supplementary figs 8 9 similarly sf3b1 mutations predominantly involved k700 lesser extent k666 h662 e622 also conserved across species fig 2 supplementary fig 10 involvement recurrent amino acid positions spliceosome genes strongly indicated gain-of-function nature mutations welldocumented scenario oncogenic mutations25 hand 23 mutations zrsr2 xp22 1 widely distributed along entire coding region fig 2 among 14 mutations nonsense frameshift changes involved splicing donor acceptor sites caused either premature truncation large structural change protein leading loss-of-function combined strong male preference mutation 14 14 cases zrsr2 likely acts tumour suppressor gene x-linked recessive mode genetic action remaining nine zrsr2 mutations missense changes found males six cases females three cases whose somatic origin confirmed two cases however neither dbsnp database build131 132 1000 genomes database may 2011 snp calls contained missense nucleotides suggesting many missense changes likely represent functional somatic changes especially found males interrogation hot spots mutations u2af35 srsf2 found mutations among lymphoid neoplasms including acute lymphoblastic leukaemia n 5 24 non-hodgkin lymphoma n 5 87 data shown rna splicing spliceosome mutations splicing pathway mutations myelodysplasia widely specifically affect major components splicing complexes e mutually exclusive manner common consequence mutations logically impaired recognition 39sss would lead production aberrantly spliced mrna species appreciate also gain insight biological biochemical impact splicing mutations expressed wild-type mutant s34f u2af35 hela cells using retrovirus-mediated gene transfer enhanced green fluorescent protein egfp marking fig 4a supplementary methods iii examined effects gene expression cells using genechip human genome u133 plus 2 0 arrays affymetrix followed gene set enrichment analysis gsea supplementary methods iv 26 intriguingly gsea disclosed significant enrichment genes nonsense-mediated mrna decay nmd pathway among significantly upregulated genes mutant u2af35-transduced hela cells fig 4b supplementary fig 11a supplementary table 7 srsf2 0 7 prpf40b 0 7 sf3a1 0 7 dup 0 7 u2af35 1 9 srsf2 1 9 zrsr2 1 9 prpf40b 1 9 sf1 1 9 mds without rs n 155 rars rcmd-rs n 73 cmml n 88 de novo aml n 151 mpn n 53 b rars rcmd-rs cmml aml mds de novo aml mpn zr aml mds n 62 mut 90 6 u2af35 11 6 srsf2 11 6 zrsr2 7 7 sf3b1 6 5 mut 56 1 sf3b1 75 3 mut 15 1 srsf2 5 5 u2af35 8 0 srsf2 28 4 zrsr2 8 0 sf3b1 4 5 sf3a1 1 3 prpf40b 1 9 u2af65 0 6 sf1 1 3 dup 1 3 dup 2 7 zrsr2 1 4 dup 3 4 u2af65 1 1 sf3a1 1 1 mut 74 2 u2af35 9 7 srsf2 6 5 zrsr2 1 6 sf3b1 4 8 sf3a1 1 6 prpf40b 1 6 mut 93 4 u2af35 1 3 sf3b1 2 6 mut 45 5 mds without rs sf3b1 srsf2 u2af35 zrsr2 sf3a1 prpf40b u2af65 sf1 figure 3 frequencies distribution spliceosome pathway gene mutations myeloid neoplasms frequencies spliceosome pathway mutations among 582 cases various myeloid neoplasms b distribution mutations eight spliceosome genes diagnosis sample shown indicated colours research article 66 nature vol 478 6 october 2011 2011 macmillan publishers limited rights reserved confirmed quantitative polymerase chain reactions qpcr fig 4c supplementary methods 5v similar result also observed gene expression profile mds-derived cell line tf-1 transduced s34f mutant supplementary figs 11b c nmd activation themutant u2af35was suppressed significantly cooverexpression wild-type protein supplementary fig 11d indicating effect mutant protein likely mediated inhibition thefunctions wild-type protein given nmd pathway known mrna surveillance provides post-transcriptional mechanism recognizing eliminating abnormal transcripts prematurely terminate translation27 result gsea analyses indicated mutant u2af35 induced abnormal rna splicing hela tf-1 cells leading generation unspliced rna species premature stop codon induction nmd activity confirm next performed whole transcriptome analysis cells using genechip human exon 1 0 st array affymetrix differentially tracked behaviour two discrete sets probes showing different level evidence exons core authentic exons non-core likely introns sets supplementary methods iv supplementary fig 12 shown fig 4d core non-core set probes differentially enriched among probes showing significant difference expression wild-type mutant-transduced cells false discovery rate fdr 5 0 01 core set probes significantly enriched probes significantly downregulated mutant u2af35-transduced cells compared wild-type u2af35-transduced cells whereas non-core set probes enriched probes significantly upregulated mutant u2af35-transduced cells fig 4e significant differential enrichment also demonstrated even probe sets included fig 4f moreover significantly differentially expressed core set probes tended up- downregulated wild-type mutant u2af35-transduced cells compared mock-transduced cells respectively vice versa differentially expressed non-core set probes fig 4e combined exon array results indicated wild-type u2af35 correctly promoted authentic rna splicing whereas mutant u2af35 inhibited processes rendering non-core therefore likely intronic sequences remain unspliced abnormal splicing mutantu2af35-transduced cells directly demonstrated sequencing mrnas extracted hela cells expression wild-type mutant s34f u2af35 induced doxycycline first adjusting total number mapped reads wild-type u2af35-transduced cells showed increased read counts exon fraction reduced counts fractions compared mutant u2af35-transduced cells fig 4g reads mutant-transduced cells mapped broader genomic regions compared wild-type u2af35-transduced cells largely explained non-exon reads fig 4h finally number reads encompassed authentic exon intron junctions significantly increased mutantu2af35-transduced cells compared withwild-type u2af35-transduced cells fig 4i supplementary methods vi results clearly demonstrated failure splicing ubiquitously occurred mutant u2af35-transduced cells typical example abnormal splicing mutant-transduced cells list significantly unspliced exons shown supplementary fig 13 supplementary table 8 respectively biological consequence u2af35 mutations finally examined biological effects compromised functions e splicing complexes first tf-1 hela cells transduced lentivirus constructs expressing either s34f u2af35 mutant wild-type u2af35 tetracycline-inducible promoter fig 5a supplementary figs 14a 15a cell proliferation examined induction expression unexpectedly induction gene expression doxycycline mutant u2af35-transduced cells wildtype u2af35-transduced cells showed reduced cell proliferation fig 5b supplementary fig 15b marked increase g2 fraction g2 arrest together enhanced apoptosis 0 0 1 0 2 0 1 5 2 5 0 5 smg5 dhx34 upf1 smg1 upf3b btz upf2 smg7 smg6 * * * * * * * * * 3 0 mock s34f u2af35 p 0 01 n 5 b 0 6 0 5 0 4 0 3 0 2 0 1 p 0 0026 0 0 smg5 smg9 dhx34 upf1 smg1 upf3b btz upf2 smg7 magoh smg6 smg8 y14 eif4a3 pym upf3a hnag wt s34f mock s34f wt u2af35 antiu2af35 antiflag anti- actin hela s34f mockwt normalized intensity s34f wt 10 1 10 3 101 100 10 2 s34f mock normalized intensity enrichment score u2af35 hits cnormalized expression e f s34f wt wt mock * wt 10 1 101 100 10 2 10 1 101 100 10 2 10 1 101 100 10 2 u2af35 g h null s34f wt 1 6 1 8 2 0 2 2 u-value 1010 1 0 1 p 2 1 10 5 junction reads u2af35 s34f versus wt frequency 0 97 0 98 0 99 1 00 1 01 1 02 1 03 1 04 0 0 01 0 02 0 03 0 04 0 05 p 0 0001 actual e junctions 1 035 0 0 05 0 10 0 15 0 20 0 25 wt s34f length genome gb u2af35 exon intron intergene 8 6 4 2 0 2 4 106 exon intron intergene e junction difference 108 total reads wt mut mut wt figure 4 altered rna splicing caused u2af35 mutant western blot analyses showing expression transduced wild-type mutant s34f u2af35 hela cells usedfor analyses expression exon microarrays b gsea demonstrating significant enrichment set 17 nmd pathway genes among significantly differentially expressed genes wildtype mutant u2af35-transduced hela cells significance gene set empirically determined 1 000 gene-set permutations c confirmation microarray analysis expression nine genes contributed core enrichment nmd gene set means 6 e provided indicated nmd genes p values determined themann whitney u test significantly upregulated downregulated probe sets fdr 5 0 01 mutant u2af35-transduced cells compared wild-type u2af35-transduced cells triplicate exon array experiments shown heat map origin probe set depicted left lane red green bars indicate core non-core sets respectively e pair-wise scatter plots normalized intensities entire probe sets grey across different experiments core non-core set probes significantly differentially expressed wild-type mutantu2af35-transduced cells plotted red green respectively f distribution core red non-core green probe sets within entire probe sets ordered splicing index supplementary methods iv calculated wild-type mutantu2af35-transduced cells right panel differential enrichment probe sets confirmed mann whitney u test g difference read counts indicated fractions per 108 total reads rna sequencing wild-type mutant u2af35-expressing hela cells analysis increased decreased read counts mutant u2af35-expressing cells plotted upward downward respectively h comparison genome coverage indicated fractions wild-type- mutant-u2af35- expressing cells genome coverage calculated fraction within 108 reads randomly selected total reads averaged ten independent selections odds ratio junction reads within total mapped reads calculated two experiments red circle evaluated 10 000 simulated values null hypothesis histogram blue article research 6 october 2011 vol 478 nature 67 2011 macmillan publishers limited rights reserved indicated increased sub-g1 fraction annexin v-positive cells fig 5c supplementary fig 14b supplementary methods vi confirm growth-suppressive effect u2af35 mutants vitro highly purified haematopoietic stem cell population cd342ckit1scai1lin2 cd342ksl prepared c57bl 6 b6 -ly5 1 mouse bone marrow28 retrovirally transduced either mutant s34f q157p q157r wild-type u2af35 mock constructs harbouring egfp marker gene supplementary fig 16 ability transduced cells reconstitute haematopoietic system tested competitive reconstitution assay transduced cells mixed whole bone marrow cells b6-ly5 1 5 2 f1 mice transplanted lethally irradiated b6-ly5 2 recipients peripheral blood chimaerism derived egfppositive cellswasassessed6 weeks transplantation byflow cytometry confirmed recipient mouse received comparable numbers egfp-positive cells among different retrovirus groups estimating percentage egfp-positive cells overall proliferation transduced cells ex vivo tracking also significant difference observed homing capacity bone marrow assessed transwell migration assays supplementary fig 17 shown fig 5e wild-typeu2af35-transduced cells showed slightly higher reconstitution capacity mock-transduced cells hand recipients cells transduced various u2af35 mutants showed significantly lower egfp-positive cell chimaerism either mock- wild-type u2af35-transduced cells indicating compromised reconstitution capacity haematopoietic stem progenitor cells expressing u2af35 mutants summary mutants lead loss-of-function u2af35 probably acting dominant-negative fashion wild-type protein discussion whole-exome sequencing study unexpectedly unmasked complexity novel pathway mutations found approximately 45 85 myelodysplasia patients depending disease subtypes affected multiple distinctive components splicing machinery demonstrated unquestionable power massively parallel sequencing technologies cancer research rna splicing system comprises essential cellular machinery eukaryotes achieve successful transcription guarantee functional diversity protein species using alternative splicing face limited number genes29 accordingly meticulous regulation machinery indispensable maintenance cellular homeostasis30 deregulation causes severe developmental abnormalities31 32 current discovery frequent mutations splicing pathway myelodysplasia therefore represents another remarkable example illustrates cancer develops targeting critical cellular functions also provides intriguing insight mechanism cancer specific alternative splicing long implicated development cancer including mds haematopoietic neoplasms33 34 myelodysplasia major targets spliceosome mutations seemed largely confined components e splicing complex among others sf3b1 srsf2 u2af35 zrsr2 lesser extent sf3a1 sf1 u2af65 prpf40b broad coverage wide spectrum spliceosome components exome sequencing likely preclude frequent involvement components pathway supplementary fig 18 surprising frequency specificity mutations complex together mutually exclusive manner occurred unequivocally indicate compromised function e complex hallmark unique category myeloid neoplasms playing central role pathogenesis myelodysplasia close relationship mutation types unique disease subtypes also support pivotal roles mds given critical functions e splicing complex precise 39ss recognition logical consequence relevant mutations would impaired splicing involving diverse rna species fact expressed hela cells mutant u2af35 induced global abnormalities rna splicing leading increased production transcripts unspliced intronic sequences hand functional link abnormal splicing rna species phenotype myelodysplasia still unclear mutant u2af35 seemed suppress cell growth proliferation induce apoptosis rather confer growth advantage promote clonal selection zrsr2 knockdown hela cells reported also result reduced viability arguing common consequence pathway mutations35 observations suggested oncogenic actions splicing pathway mutations distinct expected classical oncogenes mutated kinases signal transducers could related cell differentiation note regard commonest clinical presentation mds severe cytopenia multiple cell lineages due ineffective haematopoiesis increased apoptosis rather unlimited cell proliferation1 regard lessons may learned recent findings pathogenesis 5q2 syndrome haploinsufficiency rps14 leads increased apoptosis erythroid progenitors myeloproliferation36 37 lot issues remain answered however establish functional link splicing pathway mutations b 0 0 0 2 0 4 0 6 0 8 1 0 1 2 1 4 1 6 1 8 absorbance 0 24 48 72 time induction h 96 0 10 20 30 40 50 c 60 0 2 4 6 8 10 annv 7aad 0 5 10 15 20 25 30 mock wt s34f q157p q157r u2af35 gfp chimaerism p 0 001 p 0 001 p 0 001 * * wt s34f dox u2af35 e fractions fractions wt dox wt dox s34f dox s34f dox s34f dox s34f dox wt dox wt dox g0 1 g2 p 0 032 n 3 wt dox s34f u2af35 number reads per 106 total reads 0 300 200 100 400 exogenous endogenous u2af35 500 n 3 n 6 figure 5 functional analysis mutant u2af35 expression endogenous exogenous u2af35 transcripts hela cells induction determined rna sequencing u2af35 transcripts differentially enumerated endogenous exogenous species discriminated flag sequence b cell proliferation assays u2af35- transduced hela cells cell numbers measured using cell-counting apparatus plotted mean absorbance6 c flow cytometry analysis propidium iodide pi -stained hela cells transduced different u2af35 constructs mean fractions 6 g0 g1 g2 populations induction u2af35 expression plotted fractions annexin v-positive annv1 populations among 7-amino-actinomycin 7aad -negative population induction u2af35 expression plotted mean 6 indicated samples significance difference determined paired t-test e competitive reconstitution assays cd34-negative ksl cells transduced indicated u2af35 mutants chimaerism peripheral blood 6 weeks transplantation plotted mean egfp-positive ly5 1 cells 6 outliers excluded analysis significance differences evaluated grubbs test bonferroni correction multiple testing *not significant research article 68 nature vol 478 6 october 2011 2011 macmillan publishers limited rights reserved pathogenesis mds broad spectrum rna species affected impaired splicing hampers identification responsible gene targets moreover mutated components splicing machinery distinct function direct regulation rna splicing involved elongation dna stability may important determine specific disease phenotypes clearly studies required answer questions understanding molecular basis oncogenic actions methods summary whole-exome sequencing paired tumour normal dna samples 29 patients performed informed consent obtained snp array-based copy number analysis performed previously described17 18 mutation analysis splicing pathway genes set 582 myeloid neoplasms performed first screening mutations pcr-amplified pooled targets 12 individuals followed validation identification candidate mutations within corresponding 12 individuals sanger sequencing flag-tagged cdnas wild-type mutant u2af35 generated vitro mutagenesis constructed murine stem cell virus-based retroviral vector well tetracycline-inducible lentivirus-based expression vector used gene transfer cd342ksl cells cultured cell lines egfp marking respectively total rna extracted wild-type mutant u2af35-transduced hela tf-1 cells analysed microarrays rna sequencing performed according manufacturer instructions illumina cell proliferation assays mtt assays hela tf-1 cells stably transduced lentivirus u2af35 constructs performed presence absence doxycycline competitive reconstitution assays cd342ksl cells collected c57bl 6 b6 - ly5 1 mice retrovirally transduced various u2af35 constructs egfp marking transplanted competitor cells b6-ly5 1 5 2 f1 mouse origin lethally irradiated b6-ly5 2 mice 48 h gene transduction frequency egfp-positive cells assessed peripheral blood flow cytometry 6 weeks transplantation supplementary methodsvii primer sets used validation gene mutations qpcr nmd gene expression listed supplementary tables 9211 complete description materials methods provided supplementary information study approved ethics boards university tokyo munich leukaemia laboratory university hospital mannheim university tsukuba tokyo metropolitan ohtsuka hospital chang gung memorial hospital animal experiments performed approval animal experiment committee university tokyo\n"
     ]
    }
   ],
   "source": [
    "print(result['TEXT'][123])"
   ]
  },
  {
   "cell_type": "markdown",
   "metadata": {
    "colab_type": "text",
    "id": "P9BWhlKLZa0m"
   },
   "source": [
    "##Operational Data"
   ]
  },
  {
   "cell_type": "code",
   "execution_count": 0,
   "metadata": {
    "colab": {
     "base_uri": "https://localhost:8080/",
     "height": 206
    },
    "colab_type": "code",
    "executionInfo": {
     "elapsed": 1116,
     "status": "ok",
     "timestamp": 1552624035619,
     "user": {
      "displayName": "Atul Rana",
      "photoUrl": "https://lh4.googleusercontent.com/-tLVUUtH-AZE/AAAAAAAAAAI/AAAAAAAAMt0/14Rk9-FZ5I4/s64/photo.jpg",
      "userId": "06185900944594624481"
     },
     "user_tz": -330
    },
    "id": "AWS_FhnWExbe",
    "outputId": "98917d43-1053-4777-f872-039a90868612"
   },
   "outputs": [
    {
     "data": {
      "text/html": [
       "<div>\n",
       "<style scoped>\n",
       "    .dataframe tbody tr th:only-of-type {\n",
       "        vertical-align: middle;\n",
       "    }\n",
       "\n",
       "    .dataframe tbody tr th {\n",
       "        vertical-align: top;\n",
       "    }\n",
       "\n",
       "    .dataframe thead th {\n",
       "        text-align: right;\n",
       "    }\n",
       "</style>\n",
       "<table border=\"1\" class=\"dataframe\">\n",
       "  <thead>\n",
       "    <tr style=\"text-align: right;\">\n",
       "      <th></th>\n",
       "      <th>ID</th>\n",
       "      <th>Gene</th>\n",
       "      <th>Variation</th>\n",
       "      <th>Class</th>\n",
       "      <th>TEXT</th>\n",
       "    </tr>\n",
       "  </thead>\n",
       "  <tbody>\n",
       "    <tr>\n",
       "      <th>0</th>\n",
       "      <td>0</td>\n",
       "      <td>FAM58A</td>\n",
       "      <td>Truncating Mutations</td>\n",
       "      <td>1</td>\n",
       "      <td>cyclin-dependent kinases cdks regulate variety...</td>\n",
       "    </tr>\n",
       "    <tr>\n",
       "      <th>1</th>\n",
       "      <td>1</td>\n",
       "      <td>CBL</td>\n",
       "      <td>W802*</td>\n",
       "      <td>2</td>\n",
       "      <td>abstract background non-small cell lung cancer...</td>\n",
       "    </tr>\n",
       "    <tr>\n",
       "      <th>2</th>\n",
       "      <td>2</td>\n",
       "      <td>CBL</td>\n",
       "      <td>Q249E</td>\n",
       "      <td>2</td>\n",
       "      <td>abstract background non-small cell lung cancer...</td>\n",
       "    </tr>\n",
       "    <tr>\n",
       "      <th>3</th>\n",
       "      <td>3</td>\n",
       "      <td>CBL</td>\n",
       "      <td>N454D</td>\n",
       "      <td>3</td>\n",
       "      <td>recent evidence demonstrated acquired uniparen...</td>\n",
       "    </tr>\n",
       "    <tr>\n",
       "      <th>4</th>\n",
       "      <td>4</td>\n",
       "      <td>CBL</td>\n",
       "      <td>L399V</td>\n",
       "      <td>4</td>\n",
       "      <td>oncogenic mutations monomeric casitas b-lineag...</td>\n",
       "    </tr>\n",
       "  </tbody>\n",
       "</table>\n",
       "</div>"
      ],
      "text/plain": [
       "   ID    Gene             Variation  Class  \\\n",
       "0   0  FAM58A  Truncating Mutations      1   \n",
       "1   1     CBL                 W802*      2   \n",
       "2   2     CBL                 Q249E      2   \n",
       "3   3     CBL                 N454D      3   \n",
       "4   4     CBL                 L399V      4   \n",
       "\n",
       "                                                TEXT  \n",
       "0  cyclin-dependent kinases cdks regulate variety...  \n",
       "1  abstract background non-small cell lung cancer...  \n",
       "2  abstract background non-small cell lung cancer...  \n",
       "3  recent evidence demonstrated acquired uniparen...  \n",
       "4  oncogenic mutations monomeric casitas b-lineag...  "
      ]
     },
     "execution_count": 33,
     "metadata": {
      "tags": []
     },
     "output_type": "execute_result"
    }
   ],
   "source": [
    "result.head()"
   ]
  },
  {
   "cell_type": "code",
   "execution_count": 0,
   "metadata": {
    "colab": {},
    "colab_type": "code",
    "id": "q8NOm17ayck6"
   },
   "outputs": [],
   "source": [
    "result.to_csv(\"DataSet.csv\", index=False)"
   ]
  },
  {
   "cell_type": "code",
   "execution_count": 0,
   "metadata": {
    "colab": {
     "base_uri": "https://localhost:8080/",
     "height": 278
    },
    "colab_type": "code",
    "executionInfo": {
     "elapsed": 4336,
     "status": "ok",
     "timestamp": 1552624058149,
     "user": {
      "displayName": "Atul Rana",
      "photoUrl": "https://lh4.googleusercontent.com/-tLVUUtH-AZE/AAAAAAAAAAI/AAAAAAAAMt0/14Rk9-FZ5I4/s64/photo.jpg",
      "userId": "06185900944594624481"
     },
     "user_tz": -330
    },
    "id": "nvYiXwtfzSyF",
    "outputId": "b441a8c4-9473-4b4b-98a7-0e1ca20feb12"
   },
   "outputs": [
    {
     "name": "stdout",
     "output_type": "stream",
     "text": [
      "total 528MiB\n",
      "-rw-r--r-- 1 root root 157MiB Mar 15 04:27 DataSet.csv\n",
      "-rw-r--r-- 1 root root   1MiB Mar 15 04:19 kaggle.json\n",
      "drwxr-xr-x 1 root root   1MiB Mar  8 17:26 sample_data\n",
      "-rw-r--r-- 1 root root   1MiB Mar 15 04:20 stage1_solution_filtered.csv.7z\n",
      "-rw-r--r-- 1 root root   1MiB Mar 15 04:20 stage_2_private_solution.csv.7z\n",
      "-rw-r--r-- 1 root root   1MiB Mar 15 04:20 stage2_sample_submission.csv.7z\n",
      "-rw-r--r-- 1 root root   9MiB Mar 15 04:20 stage2_test_text.csv.7z\n",
      "-rw-r--r-- 1 root root   1MiB Mar 15 04:20 stage2_test_variants.csv.7z\n",
      "-rw-r--r-- 1 root root  99MiB Mar 15 04:20 test_text.zip\n",
      "-rw-r--r-- 1 root root   1MiB Mar 15 04:20 test_variants.zip\n",
      "-rw-r--r-- 1 root root 203MiB Jun 20  2018 training_text\n",
      "-rw-r--r-- 1 root root  61MiB Mar 15 04:20 training_text.zip\n",
      "-rw-rw-r-- 1 root root   1MiB Jun 22  2017 training_variants\n",
      "-rw-r--r-- 1 root root   1MiB Mar 15 04:20 training_variants.zip\n"
     ]
    }
   ],
   "source": [
    "!ls -l --block-size=MiB"
   ]
  },
  {
   "cell_type": "markdown",
   "metadata": {
    "colab_type": "text",
    "id": "YL0rRw5K43hw"
   },
   "source": [
    "## Uploading and  Files"
   ]
  },
  {
   "cell_type": "code",
   "execution_count": 17,
   "metadata": {
    "colab": {
     "base_uri": "https://localhost:8080/",
     "height": 124
    },
    "colab_type": "code",
    "executionInfo": {
     "elapsed": 29745,
     "status": "ok",
     "timestamp": 1554441575877,
     "user": {
      "displayName": "Atul Rana",
      "photoUrl": "https://lh4.googleusercontent.com/-tLVUUtH-AZE/AAAAAAAAAAI/AAAAAAAAMt0/14Rk9-FZ5I4/s64/photo.jpg",
      "userId": "06185900944594624481"
     },
     "user_tz": -330
    },
    "id": "BgUht3gW0132",
    "outputId": "8e2ecbe9-fda3-4f1a-b5b9-3e0b9f2d3319"
   },
   "outputs": [
    {
     "name": "stdout",
     "output_type": "stream",
     "text": [
      "Go to this URL in a browser: https://accounts.google.com/o/oauth2/auth?client_id=947318989803-6bn6qk8qdgf4n4g3pfee6491hc0brc4i.apps.googleusercontent.com&redirect_uri=urn%3Aietf%3Awg%3Aoauth%3A2.0%3Aoob&scope=email%20https%3A%2F%2Fwww.googleapis.com%2Fauth%2Fdocs.test%20https%3A%2F%2Fwww.googleapis.com%2Fauth%2Fdrive%20https%3A%2F%2Fwww.googleapis.com%2Fauth%2Fdrive.photos.readonly%20https%3A%2F%2Fwww.googleapis.com%2Fauth%2Fpeopleapi.readonly&response_type=code\n",
      "\n",
      "Enter your authorization code:\n",
      "··········\n",
      "Mounted at /content/gdrive\n"
     ]
    }
   ],
   "source": [
    "from google.colab import drive\n",
    "drive.mount('/content/gdrive')"
   ]
  },
  {
   "cell_type": "code",
   "execution_count": 0,
   "metadata": {
    "colab": {},
    "colab_type": "code",
    "id": "Xa2F-W2c6Qtd"
   },
   "outputs": [],
   "source": [
    "unlabel.to_csv('/content/gdrive/My Drive/DataSet_unlabel.csv', index=False)"
   ]
  },
  {
   "cell_type": "markdown",
   "metadata": {
    "colab_type": "text",
    "id": "1dpm95nQmxu9"
   },
   "source": [
    "#Train Test Split"
   ]
  },
  {
   "cell_type": "code",
   "execution_count": 0,
   "metadata": {
    "colab": {},
    "colab_type": "code",
    "id": "aQlYbrli1fxY"
   },
   "outputs": [],
   "source": []
  },
  {
   "cell_type": "code",
   "execution_count": 0,
   "metadata": {
    "colab": {},
    "colab_type": "code",
    "id": "h1r26HD3SUMq"
   },
   "outputs": [],
   "source": [
    "X, x_test,Y, y_test = train_test_split(result, result['Class'], stratify=result['Class'], test_size=0.2)"
   ]
  },
  {
   "cell_type": "code",
   "execution_count": 0,
   "metadata": {
    "colab": {
     "base_uri": "https://localhost:8080/",
     "height": 206
    },
    "colab_type": "code",
    "executionInfo": {
     "elapsed": 1143,
     "status": "ok",
     "timestamp": 1552624094766,
     "user": {
      "displayName": "Atul Rana",
      "photoUrl": "https://lh4.googleusercontent.com/-tLVUUtH-AZE/AAAAAAAAAAI/AAAAAAAAMt0/14Rk9-FZ5I4/s64/photo.jpg",
      "userId": "06185900944594624481"
     },
     "user_tz": -330
    },
    "id": "kKw7WnDRWcm8",
    "outputId": "8e20b4d0-f4d1-4282-8e03-a16ac63c0979"
   },
   "outputs": [
    {
     "data": {
      "text/html": [
       "<div>\n",
       "<style scoped>\n",
       "    .dataframe tbody tr th:only-of-type {\n",
       "        vertical-align: middle;\n",
       "    }\n",
       "\n",
       "    .dataframe tbody tr th {\n",
       "        vertical-align: top;\n",
       "    }\n",
       "\n",
       "    .dataframe thead th {\n",
       "        text-align: right;\n",
       "    }\n",
       "</style>\n",
       "<table border=\"1\" class=\"dataframe\">\n",
       "  <thead>\n",
       "    <tr style=\"text-align: right;\">\n",
       "      <th></th>\n",
       "      <th>ID</th>\n",
       "      <th>Gene</th>\n",
       "      <th>Variation</th>\n",
       "      <th>Class</th>\n",
       "      <th>TEXT</th>\n",
       "    </tr>\n",
       "  </thead>\n",
       "  <tbody>\n",
       "    <tr>\n",
       "      <th>856</th>\n",
       "      <td>856</td>\n",
       "      <td>ABL1</td>\n",
       "      <td>V379I</td>\n",
       "      <td>2</td>\n",
       "      <td>abstract mutations bcr-abl kinase domain may c...</td>\n",
       "    </tr>\n",
       "    <tr>\n",
       "      <th>3274</th>\n",
       "      <td>3274</td>\n",
       "      <td>RET</td>\n",
       "      <td>S765P</td>\n",
       "      <td>4</td>\n",
       "      <td>many missense mutations ret proto-oncogene fou...</td>\n",
       "    </tr>\n",
       "    <tr>\n",
       "      <th>114</th>\n",
       "      <td>114</td>\n",
       "      <td>MSH6</td>\n",
       "      <td>F1088Sfs*2</td>\n",
       "      <td>4</td>\n",
       "      <td>establishedmsh6-null mice present afrequent oc...</td>\n",
       "    </tr>\n",
       "    <tr>\n",
       "      <th>2764</th>\n",
       "      <td>2764</td>\n",
       "      <td>BRAF</td>\n",
       "      <td>E275K</td>\n",
       "      <td>2</td>\n",
       "      <td>noonan leopard cardiofaciocutaneous syndromes ...</td>\n",
       "    </tr>\n",
       "    <tr>\n",
       "      <th>2354</th>\n",
       "      <td>2354</td>\n",
       "      <td>STK11</td>\n",
       "      <td>L67P</td>\n",
       "      <td>4</td>\n",
       "      <td>peutz-jeghers syndrome pjs autosomal dominant ...</td>\n",
       "    </tr>\n",
       "  </tbody>\n",
       "</table>\n",
       "</div>"
      ],
      "text/plain": [
       "        ID   Gene   Variation  Class  \\\n",
       "856    856   ABL1       V379I      2   \n",
       "3274  3274    RET       S765P      4   \n",
       "114    114   MSH6  F1088Sfs*2      4   \n",
       "2764  2764   BRAF       E275K      2   \n",
       "2354  2354  STK11        L67P      4   \n",
       "\n",
       "                                                   TEXT  \n",
       "856   abstract mutations bcr-abl kinase domain may c...  \n",
       "3274  many missense mutations ret proto-oncogene fou...  \n",
       "114   establishedmsh6-null mice present afrequent oc...  \n",
       "2764  noonan leopard cardiofaciocutaneous syndromes ...  \n",
       "2354  peutz-jeghers syndrome pjs autosomal dominant ...  "
      ]
     },
     "execution_count": 37,
     "metadata": {
      "tags": []
     },
     "output_type": "execute_result"
    }
   ],
   "source": [
    "X.head()"
   ]
  },
  {
   "cell_type": "code",
   "execution_count": 0,
   "metadata": {
    "colab": {
     "base_uri": "https://localhost:8080/",
     "height": 121
    },
    "colab_type": "code",
    "executionInfo": {
     "elapsed": 1121,
     "status": "ok",
     "timestamp": 1552624099755,
     "user": {
      "displayName": "Atul Rana",
      "photoUrl": "https://lh4.googleusercontent.com/-tLVUUtH-AZE/AAAAAAAAAAI/AAAAAAAAMt0/14Rk9-FZ5I4/s64/photo.jpg",
      "userId": "06185900944594624481"
     },
     "user_tz": -330
    },
    "id": "K0hEWM3_Wgug",
    "outputId": "ca6aa0da-8da0-4306-93c8-46a4f23faa45"
   },
   "outputs": [
    {
     "data": {
      "text/plain": [
       "856     2\n",
       "3274    4\n",
       "114     4\n",
       "2764    2\n",
       "2354    4\n",
       "Name: Class, dtype: int64"
      ]
     },
     "execution_count": 38,
     "metadata": {
      "tags": []
     },
     "output_type": "execute_result"
    }
   ],
   "source": [
    "Y.head()"
   ]
  },
  {
   "cell_type": "code",
   "execution_count": 0,
   "metadata": {
    "colab": {
     "base_uri": "https://localhost:8080/",
     "height": 727
    },
    "colab_type": "code",
    "executionInfo": {
     "elapsed": 2109,
     "status": "ok",
     "timestamp": 1552624105363,
     "user": {
      "displayName": "Atul Rana",
      "photoUrl": "https://lh4.googleusercontent.com/-tLVUUtH-AZE/AAAAAAAAAAI/AAAAAAAAMt0/14Rk9-FZ5I4/s64/photo.jpg",
      "userId": "06185900944594624481"
     },
     "user_tz": -330
    },
    "id": "-yQegg6jVo5_",
    "outputId": "22928b9a-a8e6-4aa2-ede7-8d235b63917c"
   },
   "outputs": [
    {
     "data": {
      "image/png": "[encoded data removed]",
      "text/plain": [
       "<Figure size 576x396 with 1 Axes>"
      ]
     },
     "metadata": {
      "tags": []
     },
     "output_type": "display_data"
    },
    {
     "data": {
      "image/png": "[encoded data removed]",
      "text/plain": [
       "<Figure size 576x396 with 1 Axes>"
      ]
     },
     "metadata": {
      "tags": []
     },
     "output_type": "display_data"
    }
   ],
   "source": [
    "train_class_dist= X['Class'].value_counts().sort_index()\n",
    "test_class_dist = x_test['Class'].value_counts().sort_index()\n",
    "\n",
    "\n",
    "def print_distribution( VAL, name):\n",
    "  VAL.plot(kind='bar')\n",
    "  plt.xlabel('Class')\n",
    "  plt.ylabel('Data points per Class')\n",
    "  plt.title('Distribution of yi in '+name+' data')\n",
    "  plt.grid()\n",
    "  plt.show()\n",
    "  \n",
    "print_distribution( train_class_dist, 'Training' )\n",
    "print_distribution( test_class_dist, 'Testing' )"
   ]
  },
  {
   "cell_type": "markdown",
   "metadata": {
    "colab_type": "text",
    "id": "Dp0L5cRDZk0t"
   },
   "source": [
    "#One Hot Encoding of Gene and Variations"
   ]
  },
  {
   "cell_type": "code",
   "execution_count": 0,
   "metadata": {
    "colab": {},
    "colab_type": "code",
    "id": "oK3h5GYEWPRr"
   },
   "outputs": [],
   "source": [
    "G_V = CountVectorizer()\n",
    "train_gene = G_V.fit_transform(X['Gene'])\n",
    "test_gene  = G_V.transform(x_test['Gene'])"
   ]
  },
  {
   "cell_type": "code",
   "execution_count": 0,
   "metadata": {
    "colab": {
     "base_uri": "https://localhost:8080/",
     "height": 34
    },
    "colab_type": "code",
    "executionInfo": {
     "elapsed": 814,
     "status": "ok",
     "timestamp": 1552624112686,
     "user": {
      "displayName": "Atul Rana",
      "photoUrl": "https://lh4.googleusercontent.com/-tLVUUtH-AZE/AAAAAAAAAAI/AAAAAAAAMt0/14Rk9-FZ5I4/s64/photo.jpg",
      "userId": "06185900944594624481"
     },
     "user_tz": -330
    },
    "id": "VbkuBEqwaHPv",
    "outputId": "7a707fa7-ecfa-4b9e-fa98-3c1829c447be"
   },
   "outputs": [
    {
     "name": "stdout",
     "output_type": "stream",
     "text": [
      "(2656, 251) (665, 251)\n"
     ]
    }
   ],
   "source": [
    "print( train_gene.shape, test_gene.shape)"
   ]
  },
  {
   "cell_type": "code",
   "execution_count": 0,
   "metadata": {
    "colab": {},
    "colab_type": "code",
    "id": "5Y0P1gWRW2Rt"
   },
   "outputs": [],
   "source": [
    "V_V = CountVectorizer()\n",
    "train_variation = V_V.fit_transform(X['Variation'])\n",
    "test_variation = V_V.transform(x_test['Variation'])"
   ]
  },
  {
   "cell_type": "code",
   "execution_count": 0,
   "metadata": {
    "colab": {
     "base_uri": "https://localhost:8080/",
     "height": 34
    },
    "colab_type": "code",
    "executionInfo": {
     "elapsed": 828,
     "status": "ok",
     "timestamp": 1552624116756,
     "user": {
      "displayName": "Atul Rana",
      "photoUrl": "https://lh4.googleusercontent.com/-tLVUUtH-AZE/AAAAAAAAAAI/AAAAAAAAMt0/14Rk9-FZ5I4/s64/photo.jpg",
      "userId": "06185900944594624481"
     },
     "user_tz": -330
    },
    "id": "6dN2cmUsaWQ5",
    "outputId": "0a27f36b-51b2-4dd2-ab5a-be122743cc26"
   },
   "outputs": [
    {
     "name": "stdout",
     "output_type": "stream",
     "text": [
      "(2656, 2438) (665, 2438)\n"
     ]
    }
   ],
   "source": [
    "print( train_variation.shape, test_variation.shape)"
   ]
  },
  {
   "cell_type": "code",
   "execution_count": 0,
   "metadata": {
    "colab": {},
    "colab_type": "code",
    "id": "p9JtmviBeAJs"
   },
   "outputs": [],
   "source": [
    "train_gene_var_onehotCoding = hstack((train_gene,train_variation))\n",
    "test_gene_var_onehotCoding = hstack((test_gene,test_variation))\n",
    "\n",
    "\n",
    "train_y = np.array(list(X['Class']))\n",
    "test_y = np.array(list(x_test['Class']))\n"
   ]
  },
  {
   "cell_type": "code",
   "execution_count": 0,
   "metadata": {
    "colab": {
     "base_uri": "https://localhost:8080/",
     "height": 34
    },
    "colab_type": "code",
    "executionInfo": {
     "elapsed": 1064,
     "status": "ok",
     "timestamp": 1552624124859,
     "user": {
      "displayName": "Atul Rana",
      "photoUrl": "https://lh4.googleusercontent.com/-tLVUUtH-AZE/AAAAAAAAAAI/AAAAAAAAMt0/14Rk9-FZ5I4/s64/photo.jpg",
      "userId": "06185900944594624481"
     },
     "user_tz": -330
    },
    "id": "AqFgYHRHHOCF",
    "outputId": "f20007ba-0a4f-42f4-dd9f-57b5c4d00aea"
   },
   "outputs": [
    {
     "name": "stdout",
     "output_type": "stream",
     "text": [
      "(2656, 2689) (665, 2689)\n"
     ]
    }
   ],
   "source": [
    "print( train_gene_var_onehotCoding.shape, test_gene_var_onehotCoding.shape)"
   ]
  },
  {
   "cell_type": "markdown",
   "metadata": {
    "colab_type": "text",
    "id": "cjQQHSGXsyY9"
   },
   "source": [
    "#BOW of Text"
   ]
  },
  {
   "cell_type": "code",
   "execution_count": 0,
   "metadata": {
    "colab": {},
    "colab_type": "code",
    "id": "6-UViLiss6Cu"
   },
   "outputs": [],
   "source": [
    "T_V = CountVectorizer()\n",
    "train_text_onehotCoding = T_V.fit_transform(X['TEXT'])\n",
    "train_text_onehotCoding = normalize(train_text_onehotCoding, axis=0)\n",
    "\n",
    "test_text_onehotCoding = T_V.transform(x_test['TEXT'])\n",
    "test_text_onehotCoding = normalize(test_text_onehotCoding, axis=0)"
   ]
  },
  {
   "cell_type": "code",
   "execution_count": 0,
   "metadata": {
    "colab": {
     "base_uri": "https://localhost:8080/",
     "height": 34
    },
    "colab_type": "code",
    "executionInfo": {
     "elapsed": 1178,
     "status": "ok",
     "timestamp": 1552624204492,
     "user": {
      "displayName": "Atul Rana",
      "photoUrl": "https://lh4.googleusercontent.com/-tLVUUtH-AZE/AAAAAAAAAAI/AAAAAAAAMt0/14Rk9-FZ5I4/s64/photo.jpg",
      "userId": "06185900944594624481"
     },
     "user_tz": -330
    },
    "id": "2bqgU1exH7Bt",
    "outputId": "4dcfa2e5-6863-4b24-d480-60b1a79e55e3"
   },
   "outputs": [
    {
     "name": "stdout",
     "output_type": "stream",
     "text": [
      "(2656, 139547) (665, 139547)\n"
     ]
    }
   ],
   "source": [
    "print(train_text_onehotCoding.shape, test_text_onehotCoding.shape)"
   ]
  },
  {
   "cell_type": "markdown",
   "metadata": {
    "colab_type": "text",
    "id": "NtgJ6aFAs7bY"
   },
   "source": [
    "##BOW Stacking with gene and variation"
   ]
  },
  {
   "cell_type": "code",
   "execution_count": 0,
   "metadata": {
    "colab": {},
    "colab_type": "code",
    "id": "WdCKMR1tsJNV"
   },
   "outputs": [],
   "source": [
    "train_x_onehotCoding = hstack((train_gene_var_onehotCoding, train_text_onehotCoding)).tocsr()\n",
    "test_x_onehotCoding = hstack((test_gene_var_onehotCoding, test_text_onehotCoding)).tocsr()"
   ]
  },
  {
   "cell_type": "code",
   "execution_count": 0,
   "metadata": {
    "colab": {
     "base_uri": "https://localhost:8080/",
     "height": 34
    },
    "colab_type": "code",
    "executionInfo": {
     "elapsed": 1079,
     "status": "ok",
     "timestamp": 1552624212586,
     "user": {
      "displayName": "Atul Rana",
      "photoUrl": "https://lh4.googleusercontent.com/-tLVUUtH-AZE/AAAAAAAAAAI/AAAAAAAAMt0/14Rk9-FZ5I4/s64/photo.jpg",
      "userId": "06185900944594624481"
     },
     "user_tz": -330
    },
    "id": "g24SFjQvIMr7",
    "outputId": "c3e47d89-2770-4cd6-c352-9102e7f5496c"
   },
   "outputs": [
    {
     "name": "stdout",
     "output_type": "stream",
     "text": [
      "(2656, 142236) (665, 142236)\n"
     ]
    }
   ],
   "source": [
    "print(train_x_onehotCoding.shape, test_x_onehotCoding.shape)"
   ]
  },
  {
   "cell_type": "markdown",
   "metadata": {
    "colab_type": "text",
    "id": "78Q6qi6PIrDU"
   },
   "source": [
    "#Term Frequency and Invers Document Frequency"
   ]
  },
  {
   "cell_type": "code",
   "execution_count": 0,
   "metadata": {
    "colab": {
     "base_uri": "https://localhost:8080/",
     "height": 34
    },
    "colab_type": "code",
    "executionInfo": {
     "elapsed": 17023,
     "status": "ok",
     "timestamp": 1552624253239,
     "user": {
      "displayName": "Atul Rana",
      "photoUrl": "https://lh4.googleusercontent.com/-tLVUUtH-AZE/AAAAAAAAAAI/AAAAAAAAMt0/14Rk9-FZ5I4/s64/photo.jpg",
      "userId": "06185900944594624481"
     },
     "user_tz": -330
    },
    "id": "EKPo4hxSIkHq",
    "outputId": "aded4e27-89f3-459c-e89f-d78467ebe6ea"
   },
   "outputs": [
    {
     "name": "stdout",
     "output_type": "stream",
     "text": [
      "(2656, 139547) (665, 139547)\n"
     ]
    }
   ],
   "source": [
    "encoding = TfidfVectorizer()\n",
    "train_text_tfidf = encoding.fit_transform(X['TEXT'])\n",
    "train_text_tfidf = normalize(train_text_tfidf, axis=0)\n",
    "\n",
    "test_text_tfidf = encoding.transform(x_test['TEXT'])\n",
    "test_text_tfidf = normalize(test_text_tfidf, axis=0)\n",
    "\n",
    "print(train_text_tfidf.shape, test_text_tfidf.shape)"
   ]
  },
  {
   "cell_type": "markdown",
   "metadata": {
    "colab_type": "text",
    "id": "9mYmy39cZ9Cc"
   },
   "source": [
    "##TFIDF Stacking with gene and variation"
   ]
  },
  {
   "cell_type": "code",
   "execution_count": 0,
   "metadata": {
    "colab": {
     "base_uri": "https://localhost:8080/",
     "height": 34
    },
    "colab_type": "code",
    "executionInfo": {
     "elapsed": 1546,
     "status": "ok",
     "timestamp": 1552464650226,
     "user": {
      "displayName": "Atul Rana",
      "photoUrl": "https://lh4.googleusercontent.com/-tLVUUtH-AZE/AAAAAAAAAAI/AAAAAAAAMt0/14Rk9-FZ5I4/s64/photo.jpg",
      "userId": "06185900944594624481"
     },
     "user_tz": -330
    },
    "id": "DTCsjEGGKaYn",
    "outputId": "3e8da454-2dcc-43ab-a31a-5bfde16131c5"
   },
   "outputs": [
    {
     "name": "stdout",
     "output_type": "stream",
     "text": [
      "(2656, 141626) (665, 141626)\n"
     ]
    }
   ],
   "source": [
    "train_x_tfidf = hstack((train_gene_var_onehotCoding, train_text_tfidf)).tocsr()\n",
    "test_x_tfidf = hstack((test_gene_var_onehotCoding, test_text_tfidf)).tocsr()\n",
    "\n",
    "print(train_x_tfidf.shape, test_x_tfidf.shape)"
   ]
  },
  {
   "cell_type": "markdown",
   "metadata": {
    "colab_type": "text",
    "id": "RFTTQcZaHFTo"
   },
   "source": [
    "#Classifiers"
   ]
  },
  {
   "cell_type": "code",
   "execution_count": 0,
   "metadata": {
    "colab": {},
    "colab_type": "code",
    "id": "KYb5zMG8W4Na"
   },
   "outputs": [],
   "source": [
    "def predict_and_plot_confusion_matrix(train_x, train_y,test_x, test_y, clf):\n",
    "    clf.fit(train_x, train_y)\n",
    "    \n",
    "    sig_clf = CalibratedClassifierCV(clf, method=\"sigmoid\")\n",
    "    sig_clf.fit(train_x, train_y)\n",
    "    pred_y = sig_clf.predict(test_x)\n",
    "\n",
    "    # for calculating log_loss we will provide the array of probabilities belongs to each class\n",
    "    print(\"Log loss :\",log_loss(test_y, sig_clf.predict_proba(test_x)))\n",
    "    print(\"Actual :\", test_y[0])\n",
    "    print(\"Probability :\",np.round(sig_clf.predict_proba(test_x[0]),4))\n",
    "    print(\"Predicted :\", sig_clf.predict(test_x[0]))\n",
    "    # calculating the number of data points that are misclassified\n",
    "    # print(\"Number of mis-classified points :\", np.count_nonzero((pred_y- test_y))/test_y.shape[0], 1-np.count_nonzero((pred_y- test_y))/test_y.shape[0])\n",
    "    print(confusion_matrix(test_y, pred_y))\n",
    "    print(\"Score :\",sig_clf.score(test_x, test_y))"
   ]
  },
  {
   "cell_type": "markdown",
   "metadata": {
    "colab_type": "text",
    "id": "HD1gzlyUc7pg"
   },
   "source": [
    "#TFIDF Testing"
   ]
  },
  {
   "cell_type": "markdown",
   "metadata": {
    "colab_type": "text",
    "id": "ub9vNVPEaJrg"
   },
   "source": [
    "## TFIDF with LR\n",
    "\n"
   ]
  },
  {
   "cell_type": "code",
   "execution_count": 0,
   "metadata": {
    "colab": {
     "base_uri": "https://localhost:8080/",
     "height": 315
    },
    "colab_type": "code",
    "executionInfo": {
     "elapsed": 19454,
     "status": "ok",
     "timestamp": 1552314619437,
     "user": {
      "displayName": "Atul Rana",
      "photoUrl": "https://lh4.googleusercontent.com/-tLVUUtH-AZE/AAAAAAAAAAI/AAAAAAAAMt0/14Rk9-FZ5I4/s64/photo.jpg",
      "userId": "06185900944594624481"
     },
     "user_tz": -330
    },
    "id": "5YQ9gnemf4HQ",
    "outputId": "9d2e65b3-6a6c-48c5-86b0-ff03553ab77c"
   },
   "outputs": [
    {
     "name": "stderr",
     "output_type": "stream",
     "text": [
      "/usr/local/lib/python3.6/dist-packages/sklearn/model_selection/_split.py:2053: FutureWarning: You should specify a value for 'cv' instead of relying on the default value. The default value will change from 3 to 5 in version 0.22.\n",
      "  warnings.warn(CV_WARNING, FutureWarning)\n"
     ]
    },
    {
     "name": "stdout",
     "output_type": "stream",
     "text": [
      "Log loss : 1.0739727856255024\n",
      "Actual : 7\n",
      "Probability : [[0.0126 0.5813 0.0006 0.0121 0.004  0.0007 0.3757 0.0111 0.0019]]\n",
      "Predicted : [2]\n",
      "[[ 74   1   0  20   8   2   9   0   0]\n",
      " [  3  43   0   2   1   1  41   0   0]\n",
      " [  1   0   5   4   0   0   8   0   0]\n",
      " [ 10   2   1  98  11   1  14   0   0]\n",
      " [  9   0   0   8  17   5   9   0   0]\n",
      " [  9   1   1   2   2  33   7   0   0]\n",
      " [  1   9   4   0   3   0 174   0   0]\n",
      " [  0   1   0   0   0   0   3   0   0]\n",
      " [  1   0   0   0   0   0   2   1   3]]\n",
      "Score : 0.6721804511278195\n"
     ]
    }
   ],
   "source": [
    "clf = SGDClassifier(class_weight='balanced', alpha=0.001, penalty='l2', loss='log', random_state=32 ,max_iter=1000, tol=0.0001)\n",
    "predict_and_plot_confusion_matrix(train_x_tfidf, train_y, test_x_tfidf, test_y, clf)"
   ]
  },
  {
   "cell_type": "markdown",
   "metadata": {
    "colab_type": "text",
    "id": "syoLC4KgaYoR"
   },
   "source": [
    "##TFIDF with NB"
   ]
  },
  {
   "cell_type": "markdown",
   "metadata": {
    "colab_type": "text",
    "id": "pNiOMOEUacOw"
   },
   "source": [
    "###Multinomial"
   ]
  },
  {
   "cell_type": "code",
   "execution_count": 0,
   "metadata": {
    "colab": {
     "base_uri": "https://localhost:8080/",
     "height": 315
    },
    "colab_type": "code",
    "executionInfo": {
     "elapsed": 1909,
     "status": "ok",
     "timestamp": 1552464774991,
     "user": {
      "displayName": "Atul Rana",
      "photoUrl": "https://lh4.googleusercontent.com/-tLVUUtH-AZE/AAAAAAAAAAI/AAAAAAAAMt0/14Rk9-FZ5I4/s64/photo.jpg",
      "userId": "06185900944594624481"
     },
     "user_tz": -330
    },
    "id": "DbnTM-pzlyVa",
    "outputId": "d9ca7238-29b1-4d9b-d10c-d042e32b9660"
   },
   "outputs": [
    {
     "name": "stderr",
     "output_type": "stream",
     "text": [
      "/usr/local/lib/python3.6/dist-packages/sklearn/model_selection/_split.py:2053: FutureWarning: You should specify a value for 'cv' instead of relying on the default value. The default value will change from 3 to 5 in version 0.22.\n",
      "  warnings.warn(CV_WARNING, FutureWarning)\n"
     ]
    },
    {
     "name": "stdout",
     "output_type": "stream",
     "text": [
      "Log loss : 1.2311773577246499\n",
      "Actual : 5\n",
      "Probability : [[0.093  0.077  0.024  0.075  0.047  0.0358 0.6406 0.0044 0.0032]]\n",
      "Predicted : [7]\n",
      "[[ 66   1   0  25   9   1  12   0   0]\n",
      " [  4  32   0   3   0   1  51   0   0]\n",
      " [  0   0   0   5   3   1   9   0   0]\n",
      " [ 10   2   0 103   7   1  14   0   0]\n",
      " [ 13   1   0   8  10   7   9   0   0]\n",
      " [  6   0   0   4   3  36   6   0   0]\n",
      " [  0  10   0   3   3   0 175   0   0]\n",
      " [  1   1   0   0   0   0   1   0   1]\n",
      " [  0   0   0   0   0   0   1   0   6]]\n",
      "Score : 0.643609022556391\n"
     ]
    }
   ],
   "source": [
    "from sklearn.naive_bayes import MultinomialNB\n",
    "clf = MultinomialNB()\n",
    "predict_and_plot_confusion_matrix(train_x_tfidf, train_y, test_x_tfidf, test_y, clf)"
   ]
  },
  {
   "cell_type": "markdown",
   "metadata": {
    "colab_type": "text",
    "id": "nFu4aaQmdIzs"
   },
   "source": [
    "##TFTDF with Random Forest"
   ]
  },
  {
   "cell_type": "code",
   "execution_count": 0,
   "metadata": {
    "colab": {
     "base_uri": "https://localhost:8080/",
     "height": 350
    },
    "colab_type": "code",
    "executionInfo": {
     "elapsed": 55336,
     "status": "ok",
     "timestamp": 1552464861372,
     "user": {
      "displayName": "Atul Rana",
      "photoUrl": "https://lh4.googleusercontent.com/-tLVUUtH-AZE/AAAAAAAAAAI/AAAAAAAAMt0/14Rk9-FZ5I4/s64/photo.jpg",
      "userId": "06185900944594624481"
     },
     "user_tz": -330
    },
    "id": "gJA50fWFRREJ",
    "outputId": "3f394b2f-5306-42ca-b726-33fa7898c49a"
   },
   "outputs": [
    {
     "name": "stderr",
     "output_type": "stream",
     "text": [
      "/usr/local/lib/python3.6/dist-packages/sklearn/ensemble/forest.py:246: FutureWarning: The default value of n_estimators will change from 10 in version 0.20 to 100 in 0.22.\n",
      "  \"10 in version 0.20 to 100 in 0.22.\", FutureWarning)\n",
      "/usr/local/lib/python3.6/dist-packages/sklearn/model_selection/_split.py:2053: FutureWarning: You should specify a value for 'cv' instead of relying on the default value. The default value will change from 3 to 5 in version 0.22.\n",
      "  warnings.warn(CV_WARNING, FutureWarning)\n"
     ]
    },
    {
     "name": "stdout",
     "output_type": "stream",
     "text": [
      "Log loss : 1.2768599147258914\n",
      "Actual : 5\n",
      "Probability : [[0.1591 0.288  0.0243 0.0981 0.1293 0.0472 0.2264 0.0184 0.0091]]\n",
      "Predicted : [2]\n",
      "[[ 63   2   0  23   6   1  19   0   0]\n",
      " [  5  37   0   4   0   1  44   0   0]\n",
      " [  1   1   0   4   3   1   8   0   0]\n",
      " [ 14   4   0  91   5   2  21   0   0]\n",
      " [ 11   2   0   9  11   6   9   0   0]\n",
      " [ 10   0   0   4   3  32   6   0   0]\n",
      " [  2  13   1   5   3   1 164   0   2]\n",
      " [  0   1   0   1   0   0   1   1   0]\n",
      " [  0   0   0   2   0   0   2   0   3]]\n",
      "Score : 0.6045112781954888\n"
     ]
    }
   ],
   "source": [
    "from sklearn.ensemble import RandomForestClassifier\n",
    "clf = RandomForestClassifier()\n",
    "predict_and_plot_confusion_matrix(train_x_tfidf, train_y, test_x_tfidf, test_y, clf)"
   ]
  },
  {
   "cell_type": "markdown",
   "metadata": {
    "colab_type": "text",
    "id": "OLO_JC6MdNoI"
   },
   "source": [
    "##TFIDF with SVM"
   ]
  },
  {
   "cell_type": "code",
   "execution_count": 0,
   "metadata": {
    "colab": {
     "base_uri": "https://localhost:8080/",
     "height": 315
    },
    "colab_type": "code",
    "executionInfo": {
     "elapsed": 842393,
     "status": "ok",
     "timestamp": 1552466299245,
     "user": {
      "displayName": "Atul Rana",
      "photoUrl": "https://lh4.googleusercontent.com/-tLVUUtH-AZE/AAAAAAAAAAI/AAAAAAAAMt0/14Rk9-FZ5I4/s64/photo.jpg",
      "userId": "06185900944594624481"
     },
     "user_tz": -330
    },
    "id": "Z5eOe5QLHP-b",
    "outputId": "940e71c1-2229-4af5-ac94-8367ae629ceb"
   },
   "outputs": [
    {
     "name": "stderr",
     "output_type": "stream",
     "text": [
      "/usr/local/lib/python3.6/dist-packages/sklearn/model_selection/_split.py:2053: FutureWarning: You should specify a value for 'cv' instead of relying on the default value. The default value will change from 3 to 5 in version 0.22.\n",
      "  warnings.warn(CV_WARNING, FutureWarning)\n"
     ]
    },
    {
     "name": "stdout",
     "output_type": "stream",
     "text": [
      "Log loss : 1.013468172824631\n",
      "Actual : 5\n",
      "Probability : [[0.0062 0.3679 0.0072 0.0236 0.3907 0.0122 0.1821 0.0051 0.0051]]\n",
      "Predicted : [5]\n",
      "[[ 67   0   0  35   9   1   2   0   0]\n",
      " [  5  50   0   4   0   1  31   0   0]\n",
      " [  0   0   8   5   2   0   3   0   0]\n",
      " [  6   3   0 116   5   1   6   0   0]\n",
      " [ 12   2   0   9  13   6   6   0   0]\n",
      " [  4   0   0   4   2  42   3   0   0]\n",
      " [  1  23   6   6   8   4 141   0   2]\n",
      " [  0   2   0   0   0   0   1   0   1]\n",
      " [  0   0   0   0   0   0   2   0   5]]\n",
      "Score : 0.6646616541353384\n"
     ]
    }
   ],
   "source": [
    "from sklearn.svm import SVC\n",
    "clf =  SVC(kernel=\"linear\", C=1)\n",
    "predict_and_plot_confusion_matrix(train_x_tfidf, train_y, test_x_tfidf, test_y, clf)"
   ]
  },
  {
   "cell_type": "markdown",
   "metadata": {
    "colab_type": "text",
    "id": "Fvhv3EtEdSLX"
   },
   "source": [
    "##Other Model"
   ]
  },
  {
   "cell_type": "code",
   "execution_count": 0,
   "metadata": {
    "colab": {
     "base_uri": "https://localhost:8080/",
     "height": 315
    },
    "colab_type": "code",
    "executionInfo": {
     "elapsed": 135952,
     "status": "ok",
     "timestamp": 1552471530357,
     "user": {
      "displayName": "Atul Rana",
      "photoUrl": "https://lh4.googleusercontent.com/-tLVUUtH-AZE/AAAAAAAAAAI/AAAAAAAAMt0/14Rk9-FZ5I4/s64/photo.jpg",
      "userId": "06185900944594624481"
     },
     "user_tz": -330
    },
    "id": "9SiYOvE6Ju28",
    "outputId": "011d3153-e731-4684-a7b1-3052cfc97540"
   },
   "outputs": [
    {
     "name": "stderr",
     "output_type": "stream",
     "text": [
      "/usr/local/lib/python3.6/dist-packages/sklearn/model_selection/_split.py:2053: FutureWarning: You should specify a value for 'cv' instead of relying on the default value. The default value will change from 3 to 5 in version 0.22.\n",
      "  warnings.warn(CV_WARNING, FutureWarning)\n"
     ]
    },
    {
     "name": "stdout",
     "output_type": "stream",
     "text": [
      "Log loss : 1.7616906287691392\n",
      "Actual : 5\n",
      "Probability : [[0.1401 0.1523 0.0234 0.1802 0.0615 0.1005 0.3323 0.005  0.0047]]\n",
      "Predicted : [7]\n",
      "[[  0   0   0   0   0   0 114   0   0]\n",
      " [  0   0   0   0   0   0  91   0   0]\n",
      " [  0   0   0   0   0   0  18   0   0]\n",
      " [  0   0   0   0   0   0 137   0   0]\n",
      " [  0   0   0   0   0   0  48   0   0]\n",
      " [  0   0   0   0   0   0  55   0   0]\n",
      " [  0   0   0   0   0   0 191   0   0]\n",
      " [  0   0   0   1   0   0   3   0   0]\n",
      " [  0   0   0   2   0   0   3   0   2]]\n",
      "Score : 0.29022556390977444\n"
     ]
    }
   ],
   "source": [
    "from sklearn.ensemble import AdaBoostClassifier\n",
    "clf = AdaBoostClassifier()\n",
    "predict_and_plot_confusion_matrix(train_x_tfidf, train_y, test_x_tfidf, test_y, clf)"
   ]
  },
  {
   "cell_type": "code",
   "execution_count": 0,
   "metadata": {
    "colab": {},
    "colab_type": "code",
    "id": "8vDzeCqjgVMx"
   },
   "outputs": [],
   "source": [
    "tf = TfidfVectorizer()"
   ]
  },
  {
   "cell_type": "code",
   "execution_count": 0,
   "metadata": {
    "colab": {},
    "colab_type": "code",
    "id": "ihgLxl9pkEYo"
   },
   "outputs": [],
   "source": [
    "a = tf.fit_transform(['i am a strong boy', 'i am a lazy boy', 'lazy boys are not strong'])"
   ]
  },
  {
   "cell_type": "code",
   "execution_count": 0,
   "metadata": {
    "colab": {
     "base_uri": "https://localhost:8080/",
     "height": 34
    },
    "colab_type": "code",
    "executionInfo": {
     "elapsed": 1285,
     "status": "ok",
     "timestamp": 1552473297608,
     "user": {
      "displayName": "Atul Rana",
      "photoUrl": "https://lh4.googleusercontent.com/-tLVUUtH-AZE/AAAAAAAAAAI/AAAAAAAAMt0/14Rk9-FZ5I4/s64/photo.jpg",
      "userId": "06185900944594624481"
     },
     "user_tz": -330
    },
    "id": "XpYXl8-nnbry",
    "outputId": "7d15fb44-7888-48dd-dbdd-f9dcf3c29b93"
   },
   "outputs": [
    {
     "name": "stdout",
     "output_type": "stream",
     "text": [
      "['am', 'are', 'boy', 'boys', 'lazy', 'not', 'strong']\n"
     ]
    }
   ],
   "source": [
    "print(tf.get_feature_names())"
   ]
  },
  {
   "cell_type": "code",
   "execution_count": 0,
   "metadata": {
    "colab": {
     "base_uri": "https://localhost:8080/",
     "height": 34
    },
    "colab_type": "code",
    "executionInfo": {
     "elapsed": 1683,
     "status": "ok",
     "timestamp": 1552473340003,
     "user": {
      "displayName": "Atul Rana",
      "photoUrl": "https://lh4.googleusercontent.com/-tLVUUtH-AZE/AAAAAAAAAAI/AAAAAAAAMt0/14Rk9-FZ5I4/s64/photo.jpg",
      "userId": "06185900944594624481"
     },
     "user_tz": -330
    },
    "id": "2LIvA3mckkAk",
    "outputId": "7a2f346d-954a-404a-c3ba-1dd27948569f"
   },
   "outputs": [
    {
     "data": {
      "text/plain": [
       "(3, 7)"
      ]
     },
     "execution_count": 80,
     "metadata": {
      "tags": []
     },
     "output_type": "execute_result"
    }
   ],
   "source": [
    "a.shape"
   ]
  },
  {
   "cell_type": "code",
   "execution_count": 0,
   "metadata": {
    "colab": {
     "base_uri": "https://localhost:8080/",
     "height": 121
    },
    "colab_type": "code",
    "executionInfo": {
     "elapsed": 1372,
     "status": "ok",
     "timestamp": 1552473697708,
     "user": {
      "displayName": "Atul Rana",
      "photoUrl": "https://lh4.googleusercontent.com/-tLVUUtH-AZE/AAAAAAAAAAI/AAAAAAAAMt0/14Rk9-FZ5I4/s64/photo.jpg",
      "userId": "06185900944594624481"
     },
     "user_tz": -330
    },
    "id": "hojGQpT3m_m2",
    "outputId": "850ee8c0-39a9-4774-a457-5dfa150032aa"
   },
   "outputs": [
    {
     "name": "stdout",
     "output_type": "stream",
     "text": [
      "[[0.57735027 0.         0.57735027 0.         0.         0.\n",
      "  0.57735027]\n",
      " [0.57735027 0.         0.57735027 0.         0.57735027 0.\n",
      "  0.        ]\n",
      " [0.         0.49047908 0.         0.49047908 0.37302199 0.49047908\n",
      "  0.37302199]]\n"
     ]
    }
   ],
   "source": [
    "A = a.toarray()\n",
    "print(A)"
   ]
  },
  {
   "cell_type": "code",
   "execution_count": 0,
   "metadata": {
    "colab": {
     "base_uri": "https://localhost:8080/",
     "height": 69
    },
    "colab_type": "code",
    "executionInfo": {
     "elapsed": 1331,
     "status": "ok",
     "timestamp": 1552474028105,
     "user": {
      "displayName": "Atul Rana",
      "photoUrl": "https://lh4.googleusercontent.com/-tLVUUtH-AZE/AAAAAAAAAAI/AAAAAAAAMt0/14Rk9-FZ5I4/s64/photo.jpg",
      "userId": "06185900944594624481"
     },
     "user_tz": -330
    },
    "id": "A5dD8UXFp1an",
    "outputId": "3d3fa1b0-635b-4d4c-fa95-1178f1d53386"
   },
   "outputs": [
    {
     "name": "stdout",
     "output_type": "stream",
     "text": [
      "[0.5774, 0.0, 0.5774, 0.0, 0.0, 0.0, 0.5774]\n",
      "[0.5774, 0.0, 0.5774, 0.0, 0.5774, 0.0, 0.0]\n",
      "[0.0, 0.4905, 0.0, 0.4905, 0.373, 0.4905, 0.373]\n"
     ]
    }
   ],
   "source": [
    "for x in A:\n",
    "  print([round(y,4) for y in x ])"
   ]
  },
  {
   "cell_type": "code",
   "execution_count": 0,
   "metadata": {
    "colab": {
     "base_uri": "https://localhost:8080/",
     "height": 34
    },
    "colab_type": "code",
    "executionInfo": {
     "elapsed": 1982,
     "status": "ok",
     "timestamp": 1552473525222,
     "user": {
      "displayName": "Atul Rana",
      "photoUrl": "https://lh4.googleusercontent.com/-tLVUUtH-AZE/AAAAAAAAAAI/AAAAAAAAMt0/14Rk9-FZ5I4/s64/photo.jpg",
      "userId": "06185900944594624481"
     },
     "user_tz": -330
    },
    "id": "QTKzF1wToBQS",
    "outputId": "4d1e76de-f793-4b07-aa43-369f7b0798ed"
   },
   "outputs": [
    {
     "data": {
      "text/plain": [
       "scipy.sparse.csr.csr_matrix"
      ]
     },
     "execution_count": 84,
     "metadata": {
      "tags": []
     },
     "output_type": "execute_result"
    }
   ],
   "source": [
    "type(a)"
   ]
  },
  {
   "cell_type": "code",
   "execution_count": 0,
   "metadata": {
    "colab": {
     "base_uri": "https://localhost:8080/",
     "height": 208
    },
    "colab_type": "code",
    "executionInfo": {
     "elapsed": 1211,
     "status": "ok",
     "timestamp": 1552472596493,
     "user": {
      "displayName": "Atul Rana",
      "photoUrl": "https://lh4.googleusercontent.com/-tLVUUtH-AZE/AAAAAAAAAAI/AAAAAAAAMt0/14Rk9-FZ5I4/s64/photo.jpg",
      "userId": "06185900944594624481"
     },
     "user_tz": -330
    },
    "id": "PWgeGjVVkmgN",
    "outputId": "9867b39b-5994-44de-9092-f1bb7a24afda"
   },
   "outputs": [
    {
     "name": "stdout",
     "output_type": "stream",
     "text": [
      "  (0, 0)\t0.6677106466949363\n",
      "  (1, 0)\t0.744420910701889\n",
      "  (2, 1)\t1.0\n",
      "  (0, 2)\t0.6677106466949363\n",
      "  (1, 2)\t0.744420910701889\n",
      "  (2, 3)\t1.0\n",
      "  (1, 4)\t0.8515661382418368\n",
      "  (2, 4)\t0.5242471861630588\n",
      "  (2, 5)\t1.0\n",
      "  (0, 6)\t1.0\n",
      "  (2, 7)\t1.0\n"
     ]
    }
   ],
   "source": [
    "print(b)"
   ]
  },
  {
   "cell_type": "markdown",
   "metadata": {
    "colab_type": "text",
    "id": "nRn8lQEJvGnk"
   },
   "source": [
    "#Naive Bayes Variates"
   ]
  },
  {
   "cell_type": "markdown",
   "metadata": {
    "colab_type": "text",
    "id": "yOL2SMiDbpd1"
   },
   "source": [
    "##Multinomial"
   ]
  },
  {
   "cell_type": "code",
   "execution_count": 0,
   "metadata": {
    "colab": {
     "base_uri": "https://localhost:8080/",
     "height": 315
    },
    "colab_type": "code",
    "executionInfo": {
     "elapsed": 2944,
     "status": "ok",
     "timestamp": 1552475964862,
     "user": {
      "displayName": "Atul Rana",
      "photoUrl": "https://lh4.googleusercontent.com/-tLVUUtH-AZE/AAAAAAAAAAI/AAAAAAAAMt0/14Rk9-FZ5I4/s64/photo.jpg",
      "userId": "06185900944594624481"
     },
     "user_tz": -330
    },
    "id": "xgqTBj1Wk9pi",
    "outputId": "9ab63b75-6c97-4a26-9fa5-e5733554d159"
   },
   "outputs": [
    {
     "name": "stderr",
     "output_type": "stream",
     "text": [
      "/usr/local/lib/python3.6/dist-packages/sklearn/model_selection/_split.py:2053: FutureWarning: You should specify a value for 'cv' instead of relying on the default value. The default value will change from 3 to 5 in version 0.22.\n",
      "  warnings.warn(CV_WARNING, FutureWarning)\n"
     ]
    },
    {
     "name": "stdout",
     "output_type": "stream",
     "text": [
      "Log loss : 1.2311773577246499\n",
      "Actual : 5\n",
      "Probability : [[0.093  0.077  0.024  0.075  0.047  0.0358 0.6406 0.0044 0.0032]]\n",
      "Predicted : [7]\n",
      "[[ 66   1   0  25   9   1  12   0   0]\n",
      " [  4  32   0   3   0   1  51   0   0]\n",
      " [  0   0   0   5   3   1   9   0   0]\n",
      " [ 10   2   0 103   7   1  14   0   0]\n",
      " [ 13   1   0   8  10   7   9   0   0]\n",
      " [  6   0   0   4   3  36   6   0   0]\n",
      " [  0  10   0   3   3   0 175   0   0]\n",
      " [  1   1   0   0   0   0   1   0   1]\n",
      " [  0   0   0   0   0   0   1   0   6]]\n",
      "Score : 0.643609022556391\n"
     ]
    }
   ],
   "source": [
    "from sklearn.naive_bayes import MultinomialNB\n",
    "clf = MultinomialNB()\n",
    "predict_and_plot_confusion_matrix(train_x_tfidf, train_y, test_x_tfidf, test_y, clf)"
   ]
  },
  {
   "cell_type": "markdown",
   "metadata": {
    "colab_type": "text",
    "id": "znFmZQW3buS2"
   },
   "source": [
    "##Bernoulli"
   ]
  },
  {
   "cell_type": "code",
   "execution_count": 0,
   "metadata": {
    "colab": {
     "base_uri": "https://localhost:8080/",
     "height": 315
    },
    "colab_type": "code",
    "executionInfo": {
     "elapsed": 3335,
     "status": "ok",
     "timestamp": 1552476987519,
     "user": {
      "displayName": "Atul Rana",
      "photoUrl": "https://lh4.googleusercontent.com/-tLVUUtH-AZE/AAAAAAAAAAI/AAAAAAAAMt0/14Rk9-FZ5I4/s64/photo.jpg",
      "userId": "06185900944594624481"
     },
     "user_tz": -330
    },
    "id": "b7rxO7ArvfCW",
    "outputId": "0569b0c2-84e0-4913-951d-d0fdc248da14"
   },
   "outputs": [
    {
     "name": "stderr",
     "output_type": "stream",
     "text": [
      "/usr/local/lib/python3.6/dist-packages/sklearn/model_selection/_split.py:2053: FutureWarning: You should specify a value for 'cv' instead of relying on the default value. The default value will change from 3 to 5 in version 0.22.\n",
      "  warnings.warn(CV_WARNING, FutureWarning)\n"
     ]
    },
    {
     "name": "stdout",
     "output_type": "stream",
     "text": [
      "Log loss : 1.4446531956485724\n",
      "Actual : 5\n",
      "Probability : [[0.1142 0.1087 0.0261 0.067  0.0595 0.0493 0.5583 0.0058 0.0112]]\n",
      "Predicted : [7]\n",
      "[[ 42   1   0  54   1   1  15   0   0]\n",
      " [  2  21   0  14   0   0  54   0   0]\n",
      " [  0   0   0   7   3   0   8   0   0]\n",
      " [ 12   1   0 107   7   0  10   0   0]\n",
      " [ 14   0   0  16   6   6   6   0   0]\n",
      " [  6   0   0   9   2  29   9   0   0]\n",
      " [  0   2   0  29   0   0 160   0   0]\n",
      " [  0   1   0   2   0   0   1   0   0]\n",
      " [  3   0   0   3   0   0   1   0   0]]\n",
      "Score : 0.5488721804511278\n"
     ]
    }
   ],
   "source": [
    "from sklearn.naive_bayes import BernoulliNB\n",
    "clf = BernoulliNB()\n",
    "predict_and_plot_confusion_matrix(train_x_tfidf, train_y, test_x_tfidf, test_y, clf)"
   ]
  },
  {
   "cell_type": "markdown",
   "metadata": {
    "colab_type": "text",
    "id": "pPVH9CMYbxAD"
   },
   "source": [
    "##Complement"
   ]
  },
  {
   "cell_type": "code",
   "execution_count": 0,
   "metadata": {
    "colab": {
     "base_uri": "https://localhost:8080/",
     "height": 315
    },
    "colab_type": "code",
    "executionInfo": {
     "elapsed": 2456,
     "status": "ok",
     "timestamp": 1552477127637,
     "user": {
      "displayName": "Atul Rana",
      "photoUrl": "https://lh4.googleusercontent.com/-tLVUUtH-AZE/AAAAAAAAAAI/AAAAAAAAMt0/14Rk9-FZ5I4/s64/photo.jpg",
      "userId": "06185900944594624481"
     },
     "user_tz": -330
    },
    "id": "1xDJ-ZR22AIu",
    "outputId": "632050e3-94cb-47f1-bc56-b5db7c7c8eea"
   },
   "outputs": [
    {
     "name": "stderr",
     "output_type": "stream",
     "text": [
      "/usr/local/lib/python3.6/dist-packages/sklearn/model_selection/_split.py:2053: FutureWarning: You should specify a value for 'cv' instead of relying on the default value. The default value will change from 3 to 5 in version 0.22.\n",
      "  warnings.warn(CV_WARNING, FutureWarning)\n"
     ]
    },
    {
     "name": "stdout",
     "output_type": "stream",
     "text": [
      "Log loss : 1.191636374128189\n",
      "Actual : 5\n",
      "Probability : [[0.1052 0.0767 0.0171 0.0912 0.1485 0.0339 0.5231 0.0023 0.0021]]\n",
      "Predicted : [7]\n",
      "[[ 67   1   0  20  15   2   9   0   0]\n",
      " [  5  35   0   5   0   1  45   0   0]\n",
      " [  0   0   2   5   3   1   7   0   0]\n",
      " [ 11   3   0 104  10   1   8   0   0]\n",
      " [ 10   1   0   5  17   7   8   0   0]\n",
      " [  7   0   0   2   4  37   5   0   0]\n",
      " [  1  12   0   6   4   1 167   0   0]\n",
      " [  1   1   0   0   0   0   1   0   1]\n",
      " [  0   0   0   0   0   0   0   0   7]]\n",
      "Score : 0.6556390977443609\n"
     ]
    }
   ],
   "source": [
    "from sklearn.naive_bayes import ComplementNB\n",
    "clf = ComplementNB()\n",
    "predict_and_plot_confusion_matrix(train_x_tfidf, train_y, test_x_tfidf, test_y, clf)"
   ]
  },
  {
   "cell_type": "markdown",
   "metadata": {
    "colab_type": "text",
    "id": "71wI23-0w9v1"
   },
   "source": [
    "#Random Forest"
   ]
  },
  {
   "cell_type": "code",
   "execution_count": 0,
   "metadata": {
    "colab": {
     "base_uri": "https://localhost:8080/",
     "height": 315
    },
    "colab_type": "code",
    "executionInfo": {
     "elapsed": 6312315,
     "status": "ok",
     "timestamp": 1552491697000,
     "user": {
      "displayName": "Atul Rana",
      "photoUrl": "https://lh4.googleusercontent.com/-tLVUUtH-AZE/AAAAAAAAAAI/AAAAAAAAMt0/14Rk9-FZ5I4/s64/photo.jpg",
      "userId": "06185900944594624481"
     },
     "user_tz": -330
    },
    "id": "FlzvmgiE2MvM",
    "outputId": "0f829192-1504-4176-b7ea-b7a8762f3974"
   },
   "outputs": [
    {
     "name": "stderr",
     "output_type": "stream",
     "text": [
      "/usr/local/lib/python3.6/dist-packages/sklearn/model_selection/_split.py:2053: FutureWarning: You should specify a value for 'cv' instead of relying on the default value. The default value will change from 3 to 5 in version 0.22.\n",
      "  warnings.warn(CV_WARNING, FutureWarning)\n"
     ]
    },
    {
     "name": "stdout",
     "output_type": "stream",
     "text": [
      "Log loss : 1.1493690505741228\n",
      "Actual : 5\n",
      "Probability : [[0.0869 0.201  0.0212 0.0918 0.124  0.0481 0.412  0.0064 0.0084]]\n",
      "Predicted : [7]\n",
      "[[ 82   0   0  20   1   1  10   0   0]\n",
      " [  5  41   0   3   0   1  41   0   0]\n",
      " [  1   0   0   4   3   1   9   0   0]\n",
      " [ 13   1   0 103   3   2  15   0   0]\n",
      " [ 16   2   0  10   7   5   8   0   0]\n",
      " [  8   3   0   5   2  33   4   0   0]\n",
      " [  2  16   0   5   3   1 162   0   2]\n",
      " [  0   1   0   1   0   0   2   0   0]\n",
      " [  1   1   0   1   0   0   1   0   3]]\n",
      "Score : 0.6481203007518797\n"
     ]
    }
   ],
   "source": [
    "from sklearn.ensemble import RandomForestClassifier\n",
    "clf = RandomForestClassifier(n_estimators=1000, max_features=1234, oob_score=True)\n",
    "predict_and_plot_confusion_matrix(train_x_tfidf, train_y, test_x_tfidf, test_y, clf)"
   ]
  },
  {
   "cell_type": "markdown",
   "metadata": {
    "colab_type": "text",
    "id": "iy4f5WoMxBZb"
   },
   "source": [
    "#SGD"
   ]
  },
  {
   "cell_type": "markdown",
   "metadata": {
    "colab_type": "text",
    "id": "TYaGHacLbePi"
   },
   "source": [
    "##LR"
   ]
  },
  {
   "cell_type": "code",
   "execution_count": 0,
   "metadata": {
    "colab": {
     "base_uri": "https://localhost:8080/",
     "height": 315
    },
    "colab_type": "code",
    "executionInfo": {
     "elapsed": 140446,
     "status": "ok",
     "timestamp": 1552492761803,
     "user": {
      "displayName": "Atul Rana",
      "photoUrl": "https://lh4.googleusercontent.com/-tLVUUtH-AZE/AAAAAAAAAAI/AAAAAAAAMt0/14Rk9-FZ5I4/s64/photo.jpg",
      "userId": "06185900944594624481"
     },
     "user_tz": -330
    },
    "id": "QAlzmHzgUbCo",
    "outputId": "aa851d5e-dc77-4ade-bc8e-2f347e907151"
   },
   "outputs": [
    {
     "name": "stderr",
     "output_type": "stream",
     "text": [
      "/usr/local/lib/python3.6/dist-packages/sklearn/model_selection/_split.py:2053: FutureWarning: You should specify a value for 'cv' instead of relying on the default value. The default value will change from 3 to 5 in version 0.22.\n",
      "  warnings.warn(CV_WARNING, FutureWarning)\n"
     ]
    },
    {
     "name": "stdout",
     "output_type": "stream",
     "text": [
      "Log loss : 1.1979634954142098\n",
      "Actual : 5\n",
      "Probability : [[0.027  0.2281 0.0277 0.0269 0.0719 0.0648 0.5365 0.0078 0.0093]]\n",
      "Predicted : [7]\n",
      "[[ 49   0   0  25  19   5  16   0   0]\n",
      " [  3  23   0   1   0   0  64   0   0]\n",
      " [  0   0   0   3   5   0  10   0   0]\n",
      " [ 22   0   0  89   8   2  16   0   0]\n",
      " [  2   0   0   8  17   7  14   0   0]\n",
      " [  3   0   0   7   5  25  15   0   0]\n",
      " [  1   8   0   2   0   0 180   0   0]\n",
      " [  0   1   0   2   0   0   1   0   0]\n",
      " [  0   0   0   1   0   0   2   0   4]]\n",
      "Score : 0.5819548872180451\n"
     ]
    }
   ],
   "source": [
    "clf = SGDClassifier(alpha=0.001, penalty='l1', loss='log', random_state=123 ,max_iter=1000, tol=0.00001)\n",
    "predict_and_plot_confusion_matrix(train_x_tfidf, train_y, test_x_tfidf, test_y, clf)"
   ]
  },
  {
   "cell_type": "markdown",
   "metadata": {
    "colab_type": "text",
    "id": "qHBpD1JpbgNV"
   },
   "source": [
    "##SVM"
   ]
  },
  {
   "cell_type": "code",
   "execution_count": 0,
   "metadata": {
    "colab": {
     "base_uri": "https://localhost:8080/",
     "height": 332
    },
    "colab_type": "code",
    "executionInfo": {
     "elapsed": 24230,
     "status": "ok",
     "timestamp": 1552496009681,
     "user": {
      "displayName": "Atul Rana",
      "photoUrl": "https://lh4.googleusercontent.com/-tLVUUtH-AZE/AAAAAAAAAAI/AAAAAAAAMt0/14Rk9-FZ5I4/s64/photo.jpg",
      "userId": "06185900944594624481"
     },
     "user_tz": -330
    },
    "id": "kNwl16l_-G-F",
    "outputId": "71f09a12-4c60-4678-9a89-55abe84614d8"
   },
   "outputs": [
    {
     "name": "stderr",
     "output_type": "stream",
     "text": [
      "/usr/local/lib/python3.6/dist-packages/sklearn/model_selection/_split.py:2053: FutureWarning: You should specify a value for 'cv' instead of relying on the default value. The default value will change from 3 to 5 in version 0.22.\n",
      "  warnings.warn(CV_WARNING, FutureWarning)\n"
     ]
    },
    {
     "name": "stdout",
     "output_type": "stream",
     "text": [
      "Log loss : 1.032214288018732\n",
      "Actual : 5\n",
      "Probability : [[1.410e-02 1.341e-01 4.000e-03 1.820e-02 4.598e-01 6.200e-03 3.628e-01\n",
      "  5.000e-04 3.000e-04]]\n",
      "Predicted : [5]\n",
      "[[ 67   0   0  30  10   0   7   0   0]\n",
      " [  5  42   0   3   0   1  39   1   0]\n",
      " [  0   0   3   6   4   0   5   0   0]\n",
      " [ 10   3   0 110   5   0   9   0   0]\n",
      " [ 14   2   0   7  12   7   6   0   0]\n",
      " [  3   1   0   4   2  42   3   0   0]\n",
      " [  1  17   1   5   7   2 156   0   2]\n",
      " [  0   2   0   0   0   0   1   0   1]\n",
      " [  0   0   0   0   0   0   1   0   6]]\n",
      "Score : 0.6586466165413534\n"
     ]
    }
   ],
   "source": [
    "clf = SGDClassifier(alpha=0.001, penalty='l2', loss='hinge', random_state=123 ,max_iter=1000, tol=0.0001)\n",
    "predict_and_plot_confusion_matrix(train_x_tfidf, train_y, test_x_tfidf, test_y, clf)"
   ]
  },
  {
   "cell_type": "code",
   "execution_count": 0,
   "metadata": {
    "colab": {
     "base_uri": "https://localhost:8080/",
     "height": 332
    },
    "colab_type": "code",
    "executionInfo": {
     "elapsed": 29571,
     "status": "ok",
     "timestamp": 1552496221811,
     "user": {
      "displayName": "Atul Rana",
      "photoUrl": "https://lh4.googleusercontent.com/-tLVUUtH-AZE/AAAAAAAAAAI/AAAAAAAAMt0/14Rk9-FZ5I4/s64/photo.jpg",
      "userId": "06185900944594624481"
     },
     "user_tz": -330
    },
    "id": "B_Sv9Wbg-8xx",
    "outputId": "36901b35-5a48-49c1-fdd1-e182985cc42c"
   },
   "outputs": [
    {
     "name": "stderr",
     "output_type": "stream",
     "text": [
      "/usr/local/lib/python3.6/dist-packages/sklearn/model_selection/_split.py:2053: FutureWarning: You should specify a value for 'cv' instead of relying on the default value. The default value will change from 3 to 5 in version 0.22.\n",
      "  warnings.warn(CV_WARNING, FutureWarning)\n"
     ]
    },
    {
     "name": "stdout",
     "output_type": "stream",
     "text": [
      "Log loss : 1.024542482971732\n",
      "Actual : 5\n",
      "Probability : [[1.450e-02 1.450e-01 4.200e-03 1.840e-02 4.570e-01 6.200e-03 3.542e-01\n",
      "  4.000e-04 2.000e-04]]\n",
      "Predicted : [5]\n",
      "[[ 67   0   0  30  10   0   7   0   0]\n",
      " [  5  41   0   3   0   1  40   1   0]\n",
      " [  0   0   3   6   4   0   5   0   0]\n",
      " [ 10   3   0 110   5   0   9   0   0]\n",
      " [ 14   2   0   7  12   7   6   0   0]\n",
      " [  3   1   0   4   2  42   3   0   0]\n",
      " [  1  16   1   5   7   2 159   0   0]\n",
      " [  0   2   0   0   0   0   1   0   1]\n",
      " [  0   0   0   0   0   0   1   0   6]]\n",
      "Score : 0.6616541353383458\n"
     ]
    }
   ],
   "source": [
    "clf = SGDClassifier(alpha=0.001, penalty='l2', loss='hinge', random_state=123 ,max_iter=10000, tol=0.00001)\n",
    "predict_and_plot_confusion_matrix(train_x_tfidf, train_y, test_x_tfidf, test_y, clf)"
   ]
  },
  {
   "cell_type": "markdown",
   "metadata": {
    "colab_type": "text",
    "id": "m2smsHCe4QJU"
   },
   "source": [
    "#Perceptron"
   ]
  },
  {
   "cell_type": "code",
   "execution_count": 0,
   "metadata": {
    "colab": {
     "base_uri": "https://localhost:8080/",
     "height": 315
    },
    "colab_type": "code",
    "executionInfo": {
     "elapsed": 14020,
     "status": "ok",
     "timestamp": 1552494562650,
     "user": {
      "displayName": "Atul Rana",
      "photoUrl": "https://lh4.googleusercontent.com/-tLVUUtH-AZE/AAAAAAAAAAI/AAAAAAAAMt0/14Rk9-FZ5I4/s64/photo.jpg",
      "userId": "06185900944594624481"
     },
     "user_tz": -330
    },
    "id": "umeMgOeH4UZ9",
    "outputId": "3cb92e38-0208-417f-9a07-bd34308efe17"
   },
   "outputs": [
    {
     "name": "stderr",
     "output_type": "stream",
     "text": [
      "/usr/local/lib/python3.6/dist-packages/sklearn/model_selection/_split.py:2053: FutureWarning: You should specify a value for 'cv' instead of relying on the default value. The default value will change from 3 to 5 in version 0.22.\n",
      "  warnings.warn(CV_WARNING, FutureWarning)\n"
     ]
    },
    {
     "name": "stdout",
     "output_type": "stream",
     "text": [
      "Log loss : 1.2273591150732885\n",
      "Actual : 5\n",
      "Probability : [[0.0735 0.2547 0.0105 0.0531 0.3563 0.0119 0.2302 0.0069 0.003 ]]\n",
      "Predicted : [5]\n",
      "[[ 61   0   0  43   4   1   5   0   0]\n",
      " [  6  39   0   4   0   1  41   0   0]\n",
      " [  1   0   0   9   0   0   8   0   0]\n",
      " [ 13   3   0 110   3   0   8   0   0]\n",
      " [  9   1   0  18   6   5   9   0   0]\n",
      " [  7   0   0   4   0  38   6   0   0]\n",
      " [  0  15   0   5   4   2 165   0   0]\n",
      " [  0   2   0   0   0   0   1   0   1]\n",
      " [  0   0   0   1   0   0   1   0   5]]\n",
      "Score : 0.637593984962406\n"
     ]
    }
   ],
   "source": [
    "from sklearn.linear_model import Perceptron\n",
    "clf = Perceptron(max_iter=10000, tol=0.00001)\n",
    "predict_and_plot_confusion_matrix(train_x_tfidf, train_y, test_x_tfidf, test_y, clf)"
   ]
  },
  {
   "cell_type": "code",
   "execution_count": 0,
   "metadata": {
    "colab": {},
    "colab_type": "code",
    "id": "G-yTW60x2gy2"
   },
   "outputs": [],
   "source": []
  }
 ],
 "metadata": {
  "colab": {
   "collapsed_sections": [],
   "name": "Mutation Classification 8 Sem.ipynb",
   "provenance": [
    {
     "file_id": "1lCtvUbDvusChg0aPzJ9Hm9LvRx0CiPKK",
     "timestamp": 1538514439551
    }
   ],
   "toc_visible": true,
   "version": "0.3.2"
  },
  "kernelspec": {
   "display_name": "Python 3",
   "language": "python",
   "name": "python3"
  },
  "language_info": {
   "codemirror_mode": {
    "name": "ipython",
    "version": 3
   },
   "file_extension": ".py",
   "mimetype": "text/x-python",
   "name": "python",
   "nbconvert_exporter": "python",
   "pygments_lexer": "ipython3",
   "version": "3.5.2"
  }
 },
 "nbformat": 4,
 "nbformat_minor": 1
}
